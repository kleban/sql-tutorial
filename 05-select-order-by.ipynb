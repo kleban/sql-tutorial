{
    "metadata": {
        "kernelspec": {
            "name": "SQL",
            "display_name": "SQL",
            "language": "sql"
        },
        "language_info": {
            "name": "sql",
            "version": ""
        }
    },
    "nbformat_minor": 2,
    "nbformat": 4,
    "cells": [
        {
            "cell_type": "markdown",
            "source": [
                "# ORDER BY"
            ],
            "metadata": {
                "azdata_cell_guid": "d08068f6-69e6-4a3c-93a1-e7a0a32c7c0c"
            },
            "attachments": {}
        },
        {
            "cell_type": "markdown",
            "source": [
                "ORDER BY використовується у парі з SELECT\n",
                "ASC - за зростаннмям, DESC - за спаданняи"
            ],
            "metadata": {
                "azdata_cell_guid": "d0e2f3f0-e4b0-43a9-aa1d-a8f67fb48168"
            }
        },
        {
            "cell_type": "code",
            "source": [
                "SELECT \r\n",
                "    select_list\r\n",
                "FROM\r\n",
                "    table_name\r\n",
                "ORDER BY \r\n",
                "    sort_expression [ASC | DESC];"
            ],
            "metadata": {
                "azdata_cell_guid": "c8780043-2268-404a-98f4-c1cf647d7fdf",
                "language": "sql"
            },
            "outputs": [],
            "execution_count": 1
        },
        {
            "cell_type": "code",
            "source": [
                "SELECT \r\n",
                "    select_list\r\n",
                "FROM\r\n",
                "    table_name\r\n",
                "ORDER BY \r\n",
                "    sort_expression_1 [ASC | DESC],\r\n",
                "    sort_expression_2 [ASC | DESC];"
            ],
            "metadata": {
                "language": "sql",
                "azdata_cell_guid": "6c406513-7b34-4044-92c9-c621a420ef66"
            },
            "outputs": [],
            "execution_count": null
        },
        {
            "cell_type": "markdown",
            "source": [
                "---"
            ],
            "metadata": {
                "language": "sql",
                "azdata_cell_guid": "8eab5b67-f134-4a41-a4eb-d3b6dd0a5aba"
            },
            "attachments": {}
        },
        {
            "cell_type": "code",
            "source": [
                "use hr_db"
            ],
            "metadata": {
                "language": "sql",
                "azdata_cell_guid": "07889f16-3a92-47b6-a3c5-2b9d0589bef4"
            },
            "outputs": [],
            "execution_count": 3
        },
        {
            "cell_type": "code",
            "source": [
                "SELECT\r\n",
                "\temployee_id,\r\n",
                "\tfirst_name,\r\n",
                "\tlast_name,\r\n",
                "\thire_date,\r\n",
                "\tsalary\r\n",
                "FROM\r\n",
                "\temployees\r\n",
                "ORDER BY\r\n",
                "\tfirst_name;"
            ],
            "metadata": {
                "language": "sql",
                "azdata_cell_guid": "0341fdd8-f284-4bb8-a7d0-3ed5e76b9727"
            },
            "outputs": [],
            "execution_count": 4
        },
        {
            "cell_type": "code",
            "source": [
                "SELECT\r\n",
                "\temployee_id,\r\n",
                "\tfirst_name,\r\n",
                "\tlast_name,\r\n",
                "\thire_date,\r\n",
                "\tsalary\r\n",
                "FROM\r\n",
                "\temployees\r\n",
                "ORDER BY\r\n",
                "\tfirst_name,\r\n",
                "\tlast_name DESC;"
            ],
            "metadata": {
                "language": "sql",
                "azdata_cell_guid": "64c322b5-b481-4de7-b10f-da85308bc3b3"
            },
            "outputs": [],
            "execution_count": 5
        },
        {
            "cell_type": "code",
            "source": [
                "SELECT\r\n",
                "\temployee_id,\r\n",
                "\tfirst_name,\r\n",
                "\tlast_name,\r\n",
                "\thire_date,\r\n",
                "\tsalary\r\n",
                "FROM\r\n",
                "\temployees\r\n",
                "ORDER BY\r\n",
                "\tsalary DESC;"
            ],
            "metadata": {
                "language": "sql",
                "azdata_cell_guid": "b2244161-c48a-49fd-912d-5ae8098f4086"
            },
            "outputs": [],
            "execution_count": 6
        },
        {
            "cell_type": "code",
            "source": [
                "SELECT\r\n",
                "\temployee_id,\r\n",
                "\tfirst_name,\r\n",
                "\tlast_name,\r\n",
                "\thire_date,\r\n",
                "\tsalary\r\n",
                "FROM\r\n",
                "\temployees\r\n",
                "ORDER BY\r\n",
                "\thire_date; -- desc"
            ],
            "metadata": {
                "language": "sql",
                "azdata_cell_guid": "3aa9b55b-d1d6-4ad0-8a79-b35a4195bcaa"
            },
            "outputs": [],
            "execution_count": 4
        }
    ]
}