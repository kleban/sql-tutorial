{
    "metadata": {
        "kernelspec": {
            "name": "SQL",
            "display_name": "SQL",
            "language": "sql"
        },
        "language_info": {
            "name": "sql",
            "version": ""
        }
    },
    "nbformat_minor": 2,
    "nbformat": 4,
    "cells": [
        {
            "cell_type": "markdown",
            "source": [
                "# ORDER BY"
            ],
            "metadata": {
                "azdata_cell_guid": "d08068f6-69e6-4a3c-93a1-e7a0a32c7c0c"
            },
            "attachments": {}
        },
        {
            "cell_type": "markdown",
            "source": [
                "ORDER BY використовується у парі з SELECT\n",
                "ASC - за зростаннмям, DESC - за спаданняи"
            ],
            "metadata": {
                "azdata_cell_guid": "d0e2f3f0-e4b0-43a9-aa1d-a8f67fb48168"
            }
        },
        {
            "cell_type": "code",
            "source": [
                "SELECT \r\n",
                "    select_list\r\n",
                "FROM\r\n",
                "    table_name\r\n",
                "ORDER BY \r\n",
                "    sort_expression [ASC | DESC];"
            ],
            "metadata": {
                "azdata_cell_guid": "c8780043-2268-404a-98f4-c1cf647d7fdf",
                "language": "sql"
            },
            "outputs": [
                {
                    "output_type": "error",
                    "ename": "",
                    "evalue": "Msg 102, Level 15, State 1, Line 6\r\nIncorrect syntax near 'ASC | DESC'.",
                    "traceback": []
                },
                {
                    "output_type": "display_data",
                    "data": {
                        "text/html": "Total execution time: 00:00:00.002"
                    },
                    "metadata": {}
                }
            ],
            "execution_count": 1
        },
        {
            "cell_type": "code",
            "source": [
                "SELECT \r\n",
                "    select_list\r\n",
                "FROM\r\n",
                "    table_name\r\n",
                "ORDER BY \r\n",
                "    sort_expression_1 [ASC | DESC],\r\n",
                "    sort_expression_2 [ASC | DESC];"
            ],
            "metadata": {
                "language": "sql",
                "azdata_cell_guid": "6c406513-7b34-4044-92c9-c621a420ef66"
            },
            "outputs": [],
            "execution_count": null
        },
        {
            "cell_type": "markdown",
            "source": [
                "---"
            ],
            "metadata": {
                "language": "sql",
                "azdata_cell_guid": "8eab5b67-f134-4a41-a4eb-d3b6dd0a5aba"
            },
            "attachments": {}
        },
        {
            "cell_type": "code",
            "source": [
                "use hr_db"
            ],
            "metadata": {
                "language": "sql",
                "azdata_cell_guid": "07889f16-3a92-47b6-a3c5-2b9d0589bef4"
            },
            "outputs": [
                {
                    "output_type": "display_data",
                    "data": {
                        "text/html": "Commands completed successfully."
                    },
                    "metadata": {}
                },
                {
                    "output_type": "display_data",
                    "data": {
                        "text/html": "Total execution time: 00:00:00"
                    },
                    "metadata": {}
                }
            ],
            "execution_count": 3
        },
        {
            "cell_type": "code",
            "source": [
                "SELECT\r\n",
                "\temployee_id,\r\n",
                "\tfirst_name,\r\n",
                "\tlast_name,\r\n",
                "\thire_date,\r\n",
                "\tsalary\r\n",
                "FROM\r\n",
                "\temployees\r\n",
                "ORDER BY\r\n",
                "\tfirst_name;"
            ],
            "metadata": {
                "language": "sql",
                "azdata_cell_guid": "0341fdd8-f284-4bb8-a7d0-3ed5e76b9727"
            },
            "outputs": [
                {
                    "output_type": "display_data",
                    "data": {
                        "text/html": "(40 rows affected)"
                    },
                    "metadata": {}
                },
                {
                    "output_type": "display_data",
                    "data": {
                        "text/html": "Total execution time: 00:00:00.020"
                    },
                    "metadata": {}
                },
                {
                    "output_type": "execute_result",
                    "execution_count": 4,
                    "data": {
                        "application/vnd.dataresource+json": {
                            "schema": {
                                "fields": [
                                    {
                                        "name": "employee_id"
                                    },
                                    {
                                        "name": "first_name"
                                    },
                                    {
                                        "name": "last_name"
                                    },
                                    {
                                        "name": "hire_date"
                                    },
                                    {
                                        "name": "salary"
                                    }
                                ]
                            },
                            "data": [
                                {
                                    "0": "121",
                                    "1": "Adam",
                                    "2": "Fripp",
                                    "3": "1997-04-10",
                                    "4": "8200.00"
                                },
                                {
                                    "0": "103",
                                    "1": "Alexander",
                                    "2": "Hunold",
                                    "3": "1990-01-03",
                                    "4": "9000.00"
                                },
                                {
                                    "0": "115",
                                    "1": "Alexander",
                                    "2": "Khoo",
                                    "3": "1995-05-18",
                                    "4": "3100.00"
                                },
                                {
                                    "0": "193",
                                    "1": "Britney",
                                    "2": "Everett",
                                    "3": "1997-03-03",
                                    "4": "3900.00"
                                },
                                {
                                    "0": "104",
                                    "1": "Bruce",
                                    "2": "Ernst",
                                    "3": "1991-05-21",
                                    "4": "6000.00"
                                },
                                {
                                    "0": "179",
                                    "1": "Charles",
                                    "2": "Johnson",
                                    "3": "2000-01-04",
                                    "4": "6200.00"
                                },
                                {
                                    "0": "109",
                                    "1": "Daniel",
                                    "2": "Faviet",
                                    "3": "1994-08-16",
                                    "4": "9000.00"
                                },
                                {
                                    "0": "105",
                                    "1": "David",
                                    "2": "Austin",
                                    "3": "1997-06-25",
                                    "4": "4800.00"
                                },
                                {
                                    "0": "114",
                                    "1": "Den",
                                    "2": "Raphaely",
                                    "3": "1994-12-07",
                                    "4": "11000.00"
                                },
                                {
                                    "0": "107",
                                    "1": "Diana",
                                    "2": "Lorentz",
                                    "3": "1999-02-07",
                                    "4": "4200.00"
                                },
                                {
                                    "0": "118",
                                    "1": "Guy",
                                    "2": "Himuro",
                                    "3": "1998-11-15",
                                    "4": "2600.00"
                                },
                                {
                                    "0": "204",
                                    "1": "Hermann",
                                    "2": "Baer",
                                    "3": "1994-06-07",
                                    "4": "10000.00"
                                },
                                {
                                    "0": "126",
                                    "1": "Irene",
                                    "2": "Mikkilineni",
                                    "3": "1998-09-28",
                                    "4": "2700.00"
                                },
                                {
                                    "0": "111",
                                    "1": "Ismael",
                                    "2": "Sciarra",
                                    "3": "1997-09-30",
                                    "4": "7700.00"
                                },
                                {
                                    "0": "177",
                                    "1": "Jack",
                                    "2": "Livingston",
                                    "3": "1998-04-23",
                                    "4": "8400.00"
                                },
                                {
                                    "0": "200",
                                    "1": "Jennifer",
                                    "2": "Whalen",
                                    "3": "1987-09-17",
                                    "4": "4400.00"
                                },
                                {
                                    "0": "145",
                                    "1": "John",
                                    "2": "Russell",
                                    "3": "1996-10-01",
                                    "4": "14000.00"
                                },
                                {
                                    "0": "110",
                                    "1": "John",
                                    "2": "Chen",
                                    "3": "1997-09-28",
                                    "4": "8200.00"
                                },
                                {
                                    "0": "176",
                                    "1": "Jonathon",
                                    "2": "Taylor",
                                    "3": "1998-03-24",
                                    "4": "8600.00"
                                },
                                {
                                    "0": "112",
                                    "1": "Jose Manuel",
                                    "2": "Urman",
                                    "3": "1998-03-07",
                                    "4": "7800.00"
                                },
                                {
                                    "0": "146",
                                    "1": "Karen",
                                    "2": "Partners",
                                    "3": "1997-01-05",
                                    "4": "13500.00"
                                },
                                {
                                    "0": "119",
                                    "1": "Karen",
                                    "2": "Colmenares",
                                    "3": "1999-08-10",
                                    "4": "2500.00"
                                },
                                {
                                    "0": "178",
                                    "1": "Kimberely",
                                    "2": "Grant",
                                    "3": "1999-05-24",
                                    "4": "7000.00"
                                },
                                {
                                    "0": "102",
                                    "1": "Lex",
                                    "2": "De Haan",
                                    "3": "1993-01-13",
                                    "4": "17000.00"
                                },
                                {
                                    "0": "113",
                                    "1": "Luis",
                                    "2": "Popp",
                                    "3": "1999-12-07",
                                    "4": "6900.00"
                                },
                                {
                                    "0": "120",
                                    "1": "Matthew",
                                    "2": "Weiss",
                                    "3": "1996-07-18",
                                    "4": "8000.00"
                                },
                                {
                                    "0": "201",
                                    "1": "Michael",
                                    "2": "Hartstein",
                                    "3": "1996-02-17",
                                    "4": "13000.00"
                                },
                                {
                                    "0": "108",
                                    "1": "Nancy",
                                    "2": "Greenberg",
                                    "3": "1994-08-17",
                                    "4": "12000.00"
                                },
                                {
                                    "0": "101",
                                    "1": "Neena",
                                    "2": "Kochhar",
                                    "3": "1989-09-21",
                                    "4": "17000.00"
                                },
                                {
                                    "0": "202",
                                    "1": "Pat",
                                    "2": "Fay",
                                    "3": "1997-08-17",
                                    "4": "6000.00"
                                },
                                {
                                    "0": "122",
                                    "1": "Payam",
                                    "2": "Kaufling",
                                    "3": "1995-05-01",
                                    "4": "7900.00"
                                },
                                {
                                    "0": "192",
                                    "1": "Sarah",
                                    "2": "Bell",
                                    "3": "1996-02-04",
                                    "4": "4000.00"
                                },
                                {
                                    "0": "123",
                                    "1": "Shanta",
                                    "2": "Vollman",
                                    "3": "1997-10-10",
                                    "4": "6500.00"
                                },
                                {
                                    "0": "205",
                                    "1": "Shelley",
                                    "2": "Higgins",
                                    "3": "1994-06-07",
                                    "4": "12000.00"
                                },
                                {
                                    "0": "116",
                                    "1": "Shelli",
                                    "2": "Baida",
                                    "3": "1997-12-24",
                                    "4": "2900.00"
                                },
                                {
                                    "0": "117",
                                    "1": "Sigal",
                                    "2": "Tobias",
                                    "3": "1997-07-24",
                                    "4": "2800.00"
                                },
                                {
                                    "0": "100",
                                    "1": "Steven",
                                    "2": "King",
                                    "3": "1987-06-17",
                                    "4": "24000.00"
                                },
                                {
                                    "0": "203",
                                    "1": "Susan",
                                    "2": "Mavris",
                                    "3": "1994-06-07",
                                    "4": "6500.00"
                                },
                                {
                                    "0": "106",
                                    "1": "Valli",
                                    "2": "Pataballa",
                                    "3": "1998-02-05",
                                    "4": "4800.00"
                                },
                                {
                                    "0": "206",
                                    "1": "William",
                                    "2": "Gietz",
                                    "3": "1994-06-07",
                                    "4": "8300.00"
                                }
                            ]
                        },
                        "text/html": "<table><tr><th>employee_id</th><th>first_name</th><th>last_name</th><th>hire_date</th><th>salary</th></tr><tr><td>121</td><td>Adam</td><td>Fripp</td><td>1997-04-10</td><td>8200.00</td></tr><tr><td>103</td><td>Alexander</td><td>Hunold</td><td>1990-01-03</td><td>9000.00</td></tr><tr><td>115</td><td>Alexander</td><td>Khoo</td><td>1995-05-18</td><td>3100.00</td></tr><tr><td>193</td><td>Britney</td><td>Everett</td><td>1997-03-03</td><td>3900.00</td></tr><tr><td>104</td><td>Bruce</td><td>Ernst</td><td>1991-05-21</td><td>6000.00</td></tr><tr><td>179</td><td>Charles</td><td>Johnson</td><td>2000-01-04</td><td>6200.00</td></tr><tr><td>109</td><td>Daniel</td><td>Faviet</td><td>1994-08-16</td><td>9000.00</td></tr><tr><td>105</td><td>David</td><td>Austin</td><td>1997-06-25</td><td>4800.00</td></tr><tr><td>114</td><td>Den</td><td>Raphaely</td><td>1994-12-07</td><td>11000.00</td></tr><tr><td>107</td><td>Diana</td><td>Lorentz</td><td>1999-02-07</td><td>4200.00</td></tr><tr><td>118</td><td>Guy</td><td>Himuro</td><td>1998-11-15</td><td>2600.00</td></tr><tr><td>204</td><td>Hermann</td><td>Baer</td><td>1994-06-07</td><td>10000.00</td></tr><tr><td>126</td><td>Irene</td><td>Mikkilineni</td><td>1998-09-28</td><td>2700.00</td></tr><tr><td>111</td><td>Ismael</td><td>Sciarra</td><td>1997-09-30</td><td>7700.00</td></tr><tr><td>177</td><td>Jack</td><td>Livingston</td><td>1998-04-23</td><td>8400.00</td></tr><tr><td>200</td><td>Jennifer</td><td>Whalen</td><td>1987-09-17</td><td>4400.00</td></tr><tr><td>145</td><td>John</td><td>Russell</td><td>1996-10-01</td><td>14000.00</td></tr><tr><td>110</td><td>John</td><td>Chen</td><td>1997-09-28</td><td>8200.00</td></tr><tr><td>176</td><td>Jonathon</td><td>Taylor</td><td>1998-03-24</td><td>8600.00</td></tr><tr><td>112</td><td>Jose Manuel</td><td>Urman</td><td>1998-03-07</td><td>7800.00</td></tr><tr><td>146</td><td>Karen</td><td>Partners</td><td>1997-01-05</td><td>13500.00</td></tr><tr><td>119</td><td>Karen</td><td>Colmenares</td><td>1999-08-10</td><td>2500.00</td></tr><tr><td>178</td><td>Kimberely</td><td>Grant</td><td>1999-05-24</td><td>7000.00</td></tr><tr><td>102</td><td>Lex</td><td>De Haan</td><td>1993-01-13</td><td>17000.00</td></tr><tr><td>113</td><td>Luis</td><td>Popp</td><td>1999-12-07</td><td>6900.00</td></tr><tr><td>120</td><td>Matthew</td><td>Weiss</td><td>1996-07-18</td><td>8000.00</td></tr><tr><td>201</td><td>Michael</td><td>Hartstein</td><td>1996-02-17</td><td>13000.00</td></tr><tr><td>108</td><td>Nancy</td><td>Greenberg</td><td>1994-08-17</td><td>12000.00</td></tr><tr><td>101</td><td>Neena</td><td>Kochhar</td><td>1989-09-21</td><td>17000.00</td></tr><tr><td>202</td><td>Pat</td><td>Fay</td><td>1997-08-17</td><td>6000.00</td></tr><tr><td>122</td><td>Payam</td><td>Kaufling</td><td>1995-05-01</td><td>7900.00</td></tr><tr><td>192</td><td>Sarah</td><td>Bell</td><td>1996-02-04</td><td>4000.00</td></tr><tr><td>123</td><td>Shanta</td><td>Vollman</td><td>1997-10-10</td><td>6500.00</td></tr><tr><td>205</td><td>Shelley</td><td>Higgins</td><td>1994-06-07</td><td>12000.00</td></tr><tr><td>116</td><td>Shelli</td><td>Baida</td><td>1997-12-24</td><td>2900.00</td></tr><tr><td>117</td><td>Sigal</td><td>Tobias</td><td>1997-07-24</td><td>2800.00</td></tr><tr><td>100</td><td>Steven</td><td>King</td><td>1987-06-17</td><td>24000.00</td></tr><tr><td>203</td><td>Susan</td><td>Mavris</td><td>1994-06-07</td><td>6500.00</td></tr><tr><td>106</td><td>Valli</td><td>Pataballa</td><td>1998-02-05</td><td>4800.00</td></tr><tr><td>206</td><td>William</td><td>Gietz</td><td>1994-06-07</td><td>8300.00</td></tr></table>"
                    },
                    "metadata": {}
                }
            ],
            "execution_count": 4
        },
        {
            "cell_type": "code",
            "source": [
                "SELECT\r\n",
                "\temployee_id,\r\n",
                "\tfirst_name,\r\n",
                "\tlast_name,\r\n",
                "\thire_date,\r\n",
                "\tsalary\r\n",
                "FROM\r\n",
                "\temployees\r\n",
                "ORDER BY\r\n",
                "\tfirst_name,\r\n",
                "\tlast_name DESC;"
            ],
            "metadata": {
                "language": "sql",
                "azdata_cell_guid": "64c322b5-b481-4de7-b10f-da85308bc3b3"
            },
            "outputs": [
                {
                    "output_type": "display_data",
                    "data": {
                        "text/html": "(40 rows affected)"
                    },
                    "metadata": {}
                },
                {
                    "output_type": "display_data",
                    "data": {
                        "text/html": "Total execution time: 00:00:00.040"
                    },
                    "metadata": {}
                },
                {
                    "output_type": "execute_result",
                    "execution_count": 5,
                    "data": {
                        "application/vnd.dataresource+json": {
                            "schema": {
                                "fields": [
                                    {
                                        "name": "employee_id"
                                    },
                                    {
                                        "name": "first_name"
                                    },
                                    {
                                        "name": "last_name"
                                    },
                                    {
                                        "name": "hire_date"
                                    },
                                    {
                                        "name": "salary"
                                    }
                                ]
                            },
                            "data": [
                                {
                                    "0": "121",
                                    "1": "Adam",
                                    "2": "Fripp",
                                    "3": "1997-04-10",
                                    "4": "8200.00"
                                },
                                {
                                    "0": "115",
                                    "1": "Alexander",
                                    "2": "Khoo",
                                    "3": "1995-05-18",
                                    "4": "3100.00"
                                },
                                {
                                    "0": "103",
                                    "1": "Alexander",
                                    "2": "Hunold",
                                    "3": "1990-01-03",
                                    "4": "9000.00"
                                },
                                {
                                    "0": "193",
                                    "1": "Britney",
                                    "2": "Everett",
                                    "3": "1997-03-03",
                                    "4": "3900.00"
                                },
                                {
                                    "0": "104",
                                    "1": "Bruce",
                                    "2": "Ernst",
                                    "3": "1991-05-21",
                                    "4": "6000.00"
                                },
                                {
                                    "0": "179",
                                    "1": "Charles",
                                    "2": "Johnson",
                                    "3": "2000-01-04",
                                    "4": "6200.00"
                                },
                                {
                                    "0": "109",
                                    "1": "Daniel",
                                    "2": "Faviet",
                                    "3": "1994-08-16",
                                    "4": "9000.00"
                                },
                                {
                                    "0": "105",
                                    "1": "David",
                                    "2": "Austin",
                                    "3": "1997-06-25",
                                    "4": "4800.00"
                                },
                                {
                                    "0": "114",
                                    "1": "Den",
                                    "2": "Raphaely",
                                    "3": "1994-12-07",
                                    "4": "11000.00"
                                },
                                {
                                    "0": "107",
                                    "1": "Diana",
                                    "2": "Lorentz",
                                    "3": "1999-02-07",
                                    "4": "4200.00"
                                },
                                {
                                    "0": "118",
                                    "1": "Guy",
                                    "2": "Himuro",
                                    "3": "1998-11-15",
                                    "4": "2600.00"
                                },
                                {
                                    "0": "204",
                                    "1": "Hermann",
                                    "2": "Baer",
                                    "3": "1994-06-07",
                                    "4": "10000.00"
                                },
                                {
                                    "0": "126",
                                    "1": "Irene",
                                    "2": "Mikkilineni",
                                    "3": "1998-09-28",
                                    "4": "2700.00"
                                },
                                {
                                    "0": "111",
                                    "1": "Ismael",
                                    "2": "Sciarra",
                                    "3": "1997-09-30",
                                    "4": "7700.00"
                                },
                                {
                                    "0": "177",
                                    "1": "Jack",
                                    "2": "Livingston",
                                    "3": "1998-04-23",
                                    "4": "8400.00"
                                },
                                {
                                    "0": "200",
                                    "1": "Jennifer",
                                    "2": "Whalen",
                                    "3": "1987-09-17",
                                    "4": "4400.00"
                                },
                                {
                                    "0": "145",
                                    "1": "John",
                                    "2": "Russell",
                                    "3": "1996-10-01",
                                    "4": "14000.00"
                                },
                                {
                                    "0": "110",
                                    "1": "John",
                                    "2": "Chen",
                                    "3": "1997-09-28",
                                    "4": "8200.00"
                                },
                                {
                                    "0": "176",
                                    "1": "Jonathon",
                                    "2": "Taylor",
                                    "3": "1998-03-24",
                                    "4": "8600.00"
                                },
                                {
                                    "0": "112",
                                    "1": "Jose Manuel",
                                    "2": "Urman",
                                    "3": "1998-03-07",
                                    "4": "7800.00"
                                },
                                {
                                    "0": "146",
                                    "1": "Karen",
                                    "2": "Partners",
                                    "3": "1997-01-05",
                                    "4": "13500.00"
                                },
                                {
                                    "0": "119",
                                    "1": "Karen",
                                    "2": "Colmenares",
                                    "3": "1999-08-10",
                                    "4": "2500.00"
                                },
                                {
                                    "0": "178",
                                    "1": "Kimberely",
                                    "2": "Grant",
                                    "3": "1999-05-24",
                                    "4": "7000.00"
                                },
                                {
                                    "0": "102",
                                    "1": "Lex",
                                    "2": "De Haan",
                                    "3": "1993-01-13",
                                    "4": "17000.00"
                                },
                                {
                                    "0": "113",
                                    "1": "Luis",
                                    "2": "Popp",
                                    "3": "1999-12-07",
                                    "4": "6900.00"
                                },
                                {
                                    "0": "120",
                                    "1": "Matthew",
                                    "2": "Weiss",
                                    "3": "1996-07-18",
                                    "4": "8000.00"
                                },
                                {
                                    "0": "201",
                                    "1": "Michael",
                                    "2": "Hartstein",
                                    "3": "1996-02-17",
                                    "4": "13000.00"
                                },
                                {
                                    "0": "108",
                                    "1": "Nancy",
                                    "2": "Greenberg",
                                    "3": "1994-08-17",
                                    "4": "12000.00"
                                },
                                {
                                    "0": "101",
                                    "1": "Neena",
                                    "2": "Kochhar",
                                    "3": "1989-09-21",
                                    "4": "17000.00"
                                },
                                {
                                    "0": "202",
                                    "1": "Pat",
                                    "2": "Fay",
                                    "3": "1997-08-17",
                                    "4": "6000.00"
                                },
                                {
                                    "0": "122",
                                    "1": "Payam",
                                    "2": "Kaufling",
                                    "3": "1995-05-01",
                                    "4": "7900.00"
                                },
                                {
                                    "0": "192",
                                    "1": "Sarah",
                                    "2": "Bell",
                                    "3": "1996-02-04",
                                    "4": "4000.00"
                                },
                                {
                                    "0": "123",
                                    "1": "Shanta",
                                    "2": "Vollman",
                                    "3": "1997-10-10",
                                    "4": "6500.00"
                                },
                                {
                                    "0": "205",
                                    "1": "Shelley",
                                    "2": "Higgins",
                                    "3": "1994-06-07",
                                    "4": "12000.00"
                                },
                                {
                                    "0": "116",
                                    "1": "Shelli",
                                    "2": "Baida",
                                    "3": "1997-12-24",
                                    "4": "2900.00"
                                },
                                {
                                    "0": "117",
                                    "1": "Sigal",
                                    "2": "Tobias",
                                    "3": "1997-07-24",
                                    "4": "2800.00"
                                },
                                {
                                    "0": "100",
                                    "1": "Steven",
                                    "2": "King",
                                    "3": "1987-06-17",
                                    "4": "24000.00"
                                },
                                {
                                    "0": "203",
                                    "1": "Susan",
                                    "2": "Mavris",
                                    "3": "1994-06-07",
                                    "4": "6500.00"
                                },
                                {
                                    "0": "106",
                                    "1": "Valli",
                                    "2": "Pataballa",
                                    "3": "1998-02-05",
                                    "4": "4800.00"
                                },
                                {
                                    "0": "206",
                                    "1": "William",
                                    "2": "Gietz",
                                    "3": "1994-06-07",
                                    "4": "8300.00"
                                }
                            ]
                        },
                        "text/html": "<table><tr><th>employee_id</th><th>first_name</th><th>last_name</th><th>hire_date</th><th>salary</th></tr><tr><td>121</td><td>Adam</td><td>Fripp</td><td>1997-04-10</td><td>8200.00</td></tr><tr><td>115</td><td>Alexander</td><td>Khoo</td><td>1995-05-18</td><td>3100.00</td></tr><tr><td>103</td><td>Alexander</td><td>Hunold</td><td>1990-01-03</td><td>9000.00</td></tr><tr><td>193</td><td>Britney</td><td>Everett</td><td>1997-03-03</td><td>3900.00</td></tr><tr><td>104</td><td>Bruce</td><td>Ernst</td><td>1991-05-21</td><td>6000.00</td></tr><tr><td>179</td><td>Charles</td><td>Johnson</td><td>2000-01-04</td><td>6200.00</td></tr><tr><td>109</td><td>Daniel</td><td>Faviet</td><td>1994-08-16</td><td>9000.00</td></tr><tr><td>105</td><td>David</td><td>Austin</td><td>1997-06-25</td><td>4800.00</td></tr><tr><td>114</td><td>Den</td><td>Raphaely</td><td>1994-12-07</td><td>11000.00</td></tr><tr><td>107</td><td>Diana</td><td>Lorentz</td><td>1999-02-07</td><td>4200.00</td></tr><tr><td>118</td><td>Guy</td><td>Himuro</td><td>1998-11-15</td><td>2600.00</td></tr><tr><td>204</td><td>Hermann</td><td>Baer</td><td>1994-06-07</td><td>10000.00</td></tr><tr><td>126</td><td>Irene</td><td>Mikkilineni</td><td>1998-09-28</td><td>2700.00</td></tr><tr><td>111</td><td>Ismael</td><td>Sciarra</td><td>1997-09-30</td><td>7700.00</td></tr><tr><td>177</td><td>Jack</td><td>Livingston</td><td>1998-04-23</td><td>8400.00</td></tr><tr><td>200</td><td>Jennifer</td><td>Whalen</td><td>1987-09-17</td><td>4400.00</td></tr><tr><td>145</td><td>John</td><td>Russell</td><td>1996-10-01</td><td>14000.00</td></tr><tr><td>110</td><td>John</td><td>Chen</td><td>1997-09-28</td><td>8200.00</td></tr><tr><td>176</td><td>Jonathon</td><td>Taylor</td><td>1998-03-24</td><td>8600.00</td></tr><tr><td>112</td><td>Jose Manuel</td><td>Urman</td><td>1998-03-07</td><td>7800.00</td></tr><tr><td>146</td><td>Karen</td><td>Partners</td><td>1997-01-05</td><td>13500.00</td></tr><tr><td>119</td><td>Karen</td><td>Colmenares</td><td>1999-08-10</td><td>2500.00</td></tr><tr><td>178</td><td>Kimberely</td><td>Grant</td><td>1999-05-24</td><td>7000.00</td></tr><tr><td>102</td><td>Lex</td><td>De Haan</td><td>1993-01-13</td><td>17000.00</td></tr><tr><td>113</td><td>Luis</td><td>Popp</td><td>1999-12-07</td><td>6900.00</td></tr><tr><td>120</td><td>Matthew</td><td>Weiss</td><td>1996-07-18</td><td>8000.00</td></tr><tr><td>201</td><td>Michael</td><td>Hartstein</td><td>1996-02-17</td><td>13000.00</td></tr><tr><td>108</td><td>Nancy</td><td>Greenberg</td><td>1994-08-17</td><td>12000.00</td></tr><tr><td>101</td><td>Neena</td><td>Kochhar</td><td>1989-09-21</td><td>17000.00</td></tr><tr><td>202</td><td>Pat</td><td>Fay</td><td>1997-08-17</td><td>6000.00</td></tr><tr><td>122</td><td>Payam</td><td>Kaufling</td><td>1995-05-01</td><td>7900.00</td></tr><tr><td>192</td><td>Sarah</td><td>Bell</td><td>1996-02-04</td><td>4000.00</td></tr><tr><td>123</td><td>Shanta</td><td>Vollman</td><td>1997-10-10</td><td>6500.00</td></tr><tr><td>205</td><td>Shelley</td><td>Higgins</td><td>1994-06-07</td><td>12000.00</td></tr><tr><td>116</td><td>Shelli</td><td>Baida</td><td>1997-12-24</td><td>2900.00</td></tr><tr><td>117</td><td>Sigal</td><td>Tobias</td><td>1997-07-24</td><td>2800.00</td></tr><tr><td>100</td><td>Steven</td><td>King</td><td>1987-06-17</td><td>24000.00</td></tr><tr><td>203</td><td>Susan</td><td>Mavris</td><td>1994-06-07</td><td>6500.00</td></tr><tr><td>106</td><td>Valli</td><td>Pataballa</td><td>1998-02-05</td><td>4800.00</td></tr><tr><td>206</td><td>William</td><td>Gietz</td><td>1994-06-07</td><td>8300.00</td></tr></table>"
                    },
                    "metadata": {}
                }
            ],
            "execution_count": 5
        },
        {
            "cell_type": "code",
            "source": [
                "SELECT\r\n",
                "\temployee_id,\r\n",
                "\tfirst_name,\r\n",
                "\tlast_name,\r\n",
                "\thire_date,\r\n",
                "\tsalary\r\n",
                "FROM\r\n",
                "\temployees\r\n",
                "ORDER BY\r\n",
                "\tsalary DESC;"
            ],
            "metadata": {
                "language": "sql",
                "azdata_cell_guid": "b2244161-c48a-49fd-912d-5ae8098f4086"
            },
            "outputs": [
                {
                    "output_type": "display_data",
                    "data": {
                        "text/html": "(40 rows affected)"
                    },
                    "metadata": {}
                },
                {
                    "output_type": "display_data",
                    "data": {
                        "text/html": "Total execution time: 00:00:00.013"
                    },
                    "metadata": {}
                },
                {
                    "output_type": "execute_result",
                    "execution_count": 6,
                    "data": {
                        "application/vnd.dataresource+json": {
                            "schema": {
                                "fields": [
                                    {
                                        "name": "employee_id"
                                    },
                                    {
                                        "name": "first_name"
                                    },
                                    {
                                        "name": "last_name"
                                    },
                                    {
                                        "name": "hire_date"
                                    },
                                    {
                                        "name": "salary"
                                    }
                                ]
                            },
                            "data": [
                                {
                                    "0": "100",
                                    "1": "Steven",
                                    "2": "King",
                                    "3": "1987-06-17",
                                    "4": "24000.00"
                                },
                                {
                                    "0": "101",
                                    "1": "Neena",
                                    "2": "Kochhar",
                                    "3": "1989-09-21",
                                    "4": "17000.00"
                                },
                                {
                                    "0": "102",
                                    "1": "Lex",
                                    "2": "De Haan",
                                    "3": "1993-01-13",
                                    "4": "17000.00"
                                },
                                {
                                    "0": "145",
                                    "1": "John",
                                    "2": "Russell",
                                    "3": "1996-10-01",
                                    "4": "14000.00"
                                },
                                {
                                    "0": "146",
                                    "1": "Karen",
                                    "2": "Partners",
                                    "3": "1997-01-05",
                                    "4": "13500.00"
                                },
                                {
                                    "0": "201",
                                    "1": "Michael",
                                    "2": "Hartstein",
                                    "3": "1996-02-17",
                                    "4": "13000.00"
                                },
                                {
                                    "0": "205",
                                    "1": "Shelley",
                                    "2": "Higgins",
                                    "3": "1994-06-07",
                                    "4": "12000.00"
                                },
                                {
                                    "0": "108",
                                    "1": "Nancy",
                                    "2": "Greenberg",
                                    "3": "1994-08-17",
                                    "4": "12000.00"
                                },
                                {
                                    "0": "114",
                                    "1": "Den",
                                    "2": "Raphaely",
                                    "3": "1994-12-07",
                                    "4": "11000.00"
                                },
                                {
                                    "0": "204",
                                    "1": "Hermann",
                                    "2": "Baer",
                                    "3": "1994-06-07",
                                    "4": "10000.00"
                                },
                                {
                                    "0": "109",
                                    "1": "Daniel",
                                    "2": "Faviet",
                                    "3": "1994-08-16",
                                    "4": "9000.00"
                                },
                                {
                                    "0": "103",
                                    "1": "Alexander",
                                    "2": "Hunold",
                                    "3": "1990-01-03",
                                    "4": "9000.00"
                                },
                                {
                                    "0": "176",
                                    "1": "Jonathon",
                                    "2": "Taylor",
                                    "3": "1998-03-24",
                                    "4": "8600.00"
                                },
                                {
                                    "0": "177",
                                    "1": "Jack",
                                    "2": "Livingston",
                                    "3": "1998-04-23",
                                    "4": "8400.00"
                                },
                                {
                                    "0": "206",
                                    "1": "William",
                                    "2": "Gietz",
                                    "3": "1994-06-07",
                                    "4": "8300.00"
                                },
                                {
                                    "0": "121",
                                    "1": "Adam",
                                    "2": "Fripp",
                                    "3": "1997-04-10",
                                    "4": "8200.00"
                                },
                                {
                                    "0": "110",
                                    "1": "John",
                                    "2": "Chen",
                                    "3": "1997-09-28",
                                    "4": "8200.00"
                                },
                                {
                                    "0": "120",
                                    "1": "Matthew",
                                    "2": "Weiss",
                                    "3": "1996-07-18",
                                    "4": "8000.00"
                                },
                                {
                                    "0": "122",
                                    "1": "Payam",
                                    "2": "Kaufling",
                                    "3": "1995-05-01",
                                    "4": "7900.00"
                                },
                                {
                                    "0": "112",
                                    "1": "Jose Manuel",
                                    "2": "Urman",
                                    "3": "1998-03-07",
                                    "4": "7800.00"
                                },
                                {
                                    "0": "111",
                                    "1": "Ismael",
                                    "2": "Sciarra",
                                    "3": "1997-09-30",
                                    "4": "7700.00"
                                },
                                {
                                    "0": "178",
                                    "1": "Kimberely",
                                    "2": "Grant",
                                    "3": "1999-05-24",
                                    "4": "7000.00"
                                },
                                {
                                    "0": "113",
                                    "1": "Luis",
                                    "2": "Popp",
                                    "3": "1999-12-07",
                                    "4": "6900.00"
                                },
                                {
                                    "0": "123",
                                    "1": "Shanta",
                                    "2": "Vollman",
                                    "3": "1997-10-10",
                                    "4": "6500.00"
                                },
                                {
                                    "0": "203",
                                    "1": "Susan",
                                    "2": "Mavris",
                                    "3": "1994-06-07",
                                    "4": "6500.00"
                                },
                                {
                                    "0": "179",
                                    "1": "Charles",
                                    "2": "Johnson",
                                    "3": "2000-01-04",
                                    "4": "6200.00"
                                },
                                {
                                    "0": "104",
                                    "1": "Bruce",
                                    "2": "Ernst",
                                    "3": "1991-05-21",
                                    "4": "6000.00"
                                },
                                {
                                    "0": "202",
                                    "1": "Pat",
                                    "2": "Fay",
                                    "3": "1997-08-17",
                                    "4": "6000.00"
                                },
                                {
                                    "0": "105",
                                    "1": "David",
                                    "2": "Austin",
                                    "3": "1997-06-25",
                                    "4": "4800.00"
                                },
                                {
                                    "0": "106",
                                    "1": "Valli",
                                    "2": "Pataballa",
                                    "3": "1998-02-05",
                                    "4": "4800.00"
                                },
                                {
                                    "0": "200",
                                    "1": "Jennifer",
                                    "2": "Whalen",
                                    "3": "1987-09-17",
                                    "4": "4400.00"
                                },
                                {
                                    "0": "107",
                                    "1": "Diana",
                                    "2": "Lorentz",
                                    "3": "1999-02-07",
                                    "4": "4200.00"
                                },
                                {
                                    "0": "192",
                                    "1": "Sarah",
                                    "2": "Bell",
                                    "3": "1996-02-04",
                                    "4": "4000.00"
                                },
                                {
                                    "0": "193",
                                    "1": "Britney",
                                    "2": "Everett",
                                    "3": "1997-03-03",
                                    "4": "3900.00"
                                },
                                {
                                    "0": "115",
                                    "1": "Alexander",
                                    "2": "Khoo",
                                    "3": "1995-05-18",
                                    "4": "3100.00"
                                },
                                {
                                    "0": "116",
                                    "1": "Shelli",
                                    "2": "Baida",
                                    "3": "1997-12-24",
                                    "4": "2900.00"
                                },
                                {
                                    "0": "117",
                                    "1": "Sigal",
                                    "2": "Tobias",
                                    "3": "1997-07-24",
                                    "4": "2800.00"
                                },
                                {
                                    "0": "126",
                                    "1": "Irene",
                                    "2": "Mikkilineni",
                                    "3": "1998-09-28",
                                    "4": "2700.00"
                                },
                                {
                                    "0": "118",
                                    "1": "Guy",
                                    "2": "Himuro",
                                    "3": "1998-11-15",
                                    "4": "2600.00"
                                },
                                {
                                    "0": "119",
                                    "1": "Karen",
                                    "2": "Colmenares",
                                    "3": "1999-08-10",
                                    "4": "2500.00"
                                }
                            ]
                        },
                        "text/html": "<table><tr><th>employee_id</th><th>first_name</th><th>last_name</th><th>hire_date</th><th>salary</th></tr><tr><td>100</td><td>Steven</td><td>King</td><td>1987-06-17</td><td>24000.00</td></tr><tr><td>101</td><td>Neena</td><td>Kochhar</td><td>1989-09-21</td><td>17000.00</td></tr><tr><td>102</td><td>Lex</td><td>De Haan</td><td>1993-01-13</td><td>17000.00</td></tr><tr><td>145</td><td>John</td><td>Russell</td><td>1996-10-01</td><td>14000.00</td></tr><tr><td>146</td><td>Karen</td><td>Partners</td><td>1997-01-05</td><td>13500.00</td></tr><tr><td>201</td><td>Michael</td><td>Hartstein</td><td>1996-02-17</td><td>13000.00</td></tr><tr><td>205</td><td>Shelley</td><td>Higgins</td><td>1994-06-07</td><td>12000.00</td></tr><tr><td>108</td><td>Nancy</td><td>Greenberg</td><td>1994-08-17</td><td>12000.00</td></tr><tr><td>114</td><td>Den</td><td>Raphaely</td><td>1994-12-07</td><td>11000.00</td></tr><tr><td>204</td><td>Hermann</td><td>Baer</td><td>1994-06-07</td><td>10000.00</td></tr><tr><td>109</td><td>Daniel</td><td>Faviet</td><td>1994-08-16</td><td>9000.00</td></tr><tr><td>103</td><td>Alexander</td><td>Hunold</td><td>1990-01-03</td><td>9000.00</td></tr><tr><td>176</td><td>Jonathon</td><td>Taylor</td><td>1998-03-24</td><td>8600.00</td></tr><tr><td>177</td><td>Jack</td><td>Livingston</td><td>1998-04-23</td><td>8400.00</td></tr><tr><td>206</td><td>William</td><td>Gietz</td><td>1994-06-07</td><td>8300.00</td></tr><tr><td>121</td><td>Adam</td><td>Fripp</td><td>1997-04-10</td><td>8200.00</td></tr><tr><td>110</td><td>John</td><td>Chen</td><td>1997-09-28</td><td>8200.00</td></tr><tr><td>120</td><td>Matthew</td><td>Weiss</td><td>1996-07-18</td><td>8000.00</td></tr><tr><td>122</td><td>Payam</td><td>Kaufling</td><td>1995-05-01</td><td>7900.00</td></tr><tr><td>112</td><td>Jose Manuel</td><td>Urman</td><td>1998-03-07</td><td>7800.00</td></tr><tr><td>111</td><td>Ismael</td><td>Sciarra</td><td>1997-09-30</td><td>7700.00</td></tr><tr><td>178</td><td>Kimberely</td><td>Grant</td><td>1999-05-24</td><td>7000.00</td></tr><tr><td>113</td><td>Luis</td><td>Popp</td><td>1999-12-07</td><td>6900.00</td></tr><tr><td>123</td><td>Shanta</td><td>Vollman</td><td>1997-10-10</td><td>6500.00</td></tr><tr><td>203</td><td>Susan</td><td>Mavris</td><td>1994-06-07</td><td>6500.00</td></tr><tr><td>179</td><td>Charles</td><td>Johnson</td><td>2000-01-04</td><td>6200.00</td></tr><tr><td>104</td><td>Bruce</td><td>Ernst</td><td>1991-05-21</td><td>6000.00</td></tr><tr><td>202</td><td>Pat</td><td>Fay</td><td>1997-08-17</td><td>6000.00</td></tr><tr><td>105</td><td>David</td><td>Austin</td><td>1997-06-25</td><td>4800.00</td></tr><tr><td>106</td><td>Valli</td><td>Pataballa</td><td>1998-02-05</td><td>4800.00</td></tr><tr><td>200</td><td>Jennifer</td><td>Whalen</td><td>1987-09-17</td><td>4400.00</td></tr><tr><td>107</td><td>Diana</td><td>Lorentz</td><td>1999-02-07</td><td>4200.00</td></tr><tr><td>192</td><td>Sarah</td><td>Bell</td><td>1996-02-04</td><td>4000.00</td></tr><tr><td>193</td><td>Britney</td><td>Everett</td><td>1997-03-03</td><td>3900.00</td></tr><tr><td>115</td><td>Alexander</td><td>Khoo</td><td>1995-05-18</td><td>3100.00</td></tr><tr><td>116</td><td>Shelli</td><td>Baida</td><td>1997-12-24</td><td>2900.00</td></tr><tr><td>117</td><td>Sigal</td><td>Tobias</td><td>1997-07-24</td><td>2800.00</td></tr><tr><td>126</td><td>Irene</td><td>Mikkilineni</td><td>1998-09-28</td><td>2700.00</td></tr><tr><td>118</td><td>Guy</td><td>Himuro</td><td>1998-11-15</td><td>2600.00</td></tr><tr><td>119</td><td>Karen</td><td>Colmenares</td><td>1999-08-10</td><td>2500.00</td></tr></table>"
                    },
                    "metadata": {}
                }
            ],
            "execution_count": 6
        },
        {
            "cell_type": "code",
            "source": [
                "SELECT\r\n",
                "\temployee_id,\r\n",
                "\tfirst_name,\r\n",
                "\tlast_name,\r\n",
                "\thire_date,\r\n",
                "\tsalary\r\n",
                "FROM\r\n",
                "\temployees\r\n",
                "ORDER BY\r\n",
                "\thire_date; -- desc"
            ],
            "metadata": {
                "language": "sql",
                "azdata_cell_guid": "3aa9b55b-d1d6-4ad0-8a79-b35a4195bcaa"
            },
            "outputs": [
                {
                    "output_type": "display_data",
                    "data": {
                        "text/html": "(40 rows affected)"
                    },
                    "metadata": {}
                },
                {
                    "output_type": "display_data",
                    "data": {
                        "text/html": "Total execution time: 00:00:00.018"
                    },
                    "metadata": {}
                },
                {
                    "output_type": "execute_result",
                    "metadata": {},
                    "execution_count": 4,
                    "data": {
                        "application/vnd.dataresource+json": {
                            "schema": {
                                "fields": [
                                    {
                                        "name": "employee_id"
                                    },
                                    {
                                        "name": "first_name"
                                    },
                                    {
                                        "name": "last_name"
                                    },
                                    {
                                        "name": "hire_date"
                                    },
                                    {
                                        "name": "salary"
                                    }
                                ]
                            },
                            "data": [
                                {
                                    "0": "100",
                                    "1": "Steven",
                                    "2": "King",
                                    "3": "1987-06-17",
                                    "4": "24000.00"
                                },
                                {
                                    "0": "200",
                                    "1": "Jennifer",
                                    "2": "Whalen",
                                    "3": "1987-09-17",
                                    "4": "4400.00"
                                },
                                {
                                    "0": "101",
                                    "1": "Neena",
                                    "2": "Kochhar",
                                    "3": "1989-09-21",
                                    "4": "17000.00"
                                },
                                {
                                    "0": "103",
                                    "1": "Alexander",
                                    "2": "Hunold",
                                    "3": "1990-01-03",
                                    "4": "9000.00"
                                },
                                {
                                    "0": "104",
                                    "1": "Bruce",
                                    "2": "Ernst",
                                    "3": "1991-05-21",
                                    "4": "6000.00"
                                },
                                {
                                    "0": "102",
                                    "1": "Lex",
                                    "2": "De Haan",
                                    "3": "1993-01-13",
                                    "4": "17000.00"
                                },
                                {
                                    "0": "203",
                                    "1": "Susan",
                                    "2": "Mavris",
                                    "3": "1994-06-07",
                                    "4": "6500.00"
                                },
                                {
                                    "0": "204",
                                    "1": "Hermann",
                                    "2": "Baer",
                                    "3": "1994-06-07",
                                    "4": "10000.00"
                                },
                                {
                                    "0": "205",
                                    "1": "Shelley",
                                    "2": "Higgins",
                                    "3": "1994-06-07",
                                    "4": "12000.00"
                                },
                                {
                                    "0": "206",
                                    "1": "William",
                                    "2": "Gietz",
                                    "3": "1994-06-07",
                                    "4": "8300.00"
                                },
                                {
                                    "0": "109",
                                    "1": "Daniel",
                                    "2": "Faviet",
                                    "3": "1994-08-16",
                                    "4": "9000.00"
                                },
                                {
                                    "0": "108",
                                    "1": "Nancy",
                                    "2": "Greenberg",
                                    "3": "1994-08-17",
                                    "4": "12000.00"
                                },
                                {
                                    "0": "114",
                                    "1": "Den",
                                    "2": "Raphaely",
                                    "3": "1994-12-07",
                                    "4": "11000.00"
                                },
                                {
                                    "0": "122",
                                    "1": "Payam",
                                    "2": "Kaufling",
                                    "3": "1995-05-01",
                                    "4": "7900.00"
                                },
                                {
                                    "0": "115",
                                    "1": "Alexander",
                                    "2": "Khoo",
                                    "3": "1995-05-18",
                                    "4": "3100.00"
                                },
                                {
                                    "0": "192",
                                    "1": "Sarah",
                                    "2": "Bell",
                                    "3": "1996-02-04",
                                    "4": "4000.00"
                                },
                                {
                                    "0": "201",
                                    "1": "Michael",
                                    "2": "Hartstein",
                                    "3": "1996-02-17",
                                    "4": "13000.00"
                                },
                                {
                                    "0": "120",
                                    "1": "Matthew",
                                    "2": "Weiss",
                                    "3": "1996-07-18",
                                    "4": "8000.00"
                                },
                                {
                                    "0": "145",
                                    "1": "John",
                                    "2": "Russell",
                                    "3": "1996-10-01",
                                    "4": "14000.00"
                                },
                                {
                                    "0": "146",
                                    "1": "Karen",
                                    "2": "Partners",
                                    "3": "1997-01-05",
                                    "4": "13500.00"
                                },
                                {
                                    "0": "193",
                                    "1": "Britney",
                                    "2": "Everett",
                                    "3": "1997-03-03",
                                    "4": "3900.00"
                                },
                                {
                                    "0": "121",
                                    "1": "Adam",
                                    "2": "Fripp",
                                    "3": "1997-04-10",
                                    "4": "8200.00"
                                },
                                {
                                    "0": "105",
                                    "1": "David",
                                    "2": "Austin",
                                    "3": "1997-06-25",
                                    "4": "4800.00"
                                },
                                {
                                    "0": "117",
                                    "1": "Sigal",
                                    "2": "Tobias",
                                    "3": "1997-07-24",
                                    "4": "2800.00"
                                },
                                {
                                    "0": "202",
                                    "1": "Pat",
                                    "2": "Fay",
                                    "3": "1997-08-17",
                                    "4": "6000.00"
                                },
                                {
                                    "0": "110",
                                    "1": "John",
                                    "2": "Chen",
                                    "3": "1997-09-28",
                                    "4": "8200.00"
                                },
                                {
                                    "0": "111",
                                    "1": "Ismael",
                                    "2": "Sciarra",
                                    "3": "1997-09-30",
                                    "4": "7700.00"
                                },
                                {
                                    "0": "123",
                                    "1": "Shanta",
                                    "2": "Vollman",
                                    "3": "1997-10-10",
                                    "4": "6500.00"
                                },
                                {
                                    "0": "116",
                                    "1": "Shelli",
                                    "2": "Baida",
                                    "3": "1997-12-24",
                                    "4": "2900.00"
                                },
                                {
                                    "0": "106",
                                    "1": "Valli",
                                    "2": "Pataballa",
                                    "3": "1998-02-05",
                                    "4": "4800.00"
                                },
                                {
                                    "0": "112",
                                    "1": "Jose Manuel",
                                    "2": "Urman",
                                    "3": "1998-03-07",
                                    "4": "7800.00"
                                },
                                {
                                    "0": "176",
                                    "1": "Jonathon",
                                    "2": "Taylor",
                                    "3": "1998-03-24",
                                    "4": "8600.00"
                                },
                                {
                                    "0": "177",
                                    "1": "Jack",
                                    "2": "Livingston",
                                    "3": "1998-04-23",
                                    "4": "8400.00"
                                },
                                {
                                    "0": "126",
                                    "1": "Irene",
                                    "2": "Mikkilineni",
                                    "3": "1998-09-28",
                                    "4": "2700.00"
                                },
                                {
                                    "0": "118",
                                    "1": "Guy",
                                    "2": "Himuro",
                                    "3": "1998-11-15",
                                    "4": "2600.00"
                                },
                                {
                                    "0": "107",
                                    "1": "Diana",
                                    "2": "Lorentz",
                                    "3": "1999-02-07",
                                    "4": "4200.00"
                                },
                                {
                                    "0": "178",
                                    "1": "Kimberely",
                                    "2": "Grant",
                                    "3": "1999-05-24",
                                    "4": "7000.00"
                                },
                                {
                                    "0": "119",
                                    "1": "Karen",
                                    "2": "Colmenares",
                                    "3": "1999-08-10",
                                    "4": "2500.00"
                                },
                                {
                                    "0": "113",
                                    "1": "Luis",
                                    "2": "Popp",
                                    "3": "1999-12-07",
                                    "4": "6900.00"
                                },
                                {
                                    "0": "179",
                                    "1": "Charles",
                                    "2": "Johnson",
                                    "3": "2000-01-04",
                                    "4": "6200.00"
                                }
                            ]
                        },
                        "text/html": [
                            "<table>",
                            "<tr><th>employee_id</th><th>first_name</th><th>last_name</th><th>hire_date</th><th>salary</th></tr>",
                            "<tr><td>100</td><td>Steven</td><td>King</td><td>1987-06-17</td><td>24000.00</td></tr>",
                            "<tr><td>200</td><td>Jennifer</td><td>Whalen</td><td>1987-09-17</td><td>4400.00</td></tr>",
                            "<tr><td>101</td><td>Neena</td><td>Kochhar</td><td>1989-09-21</td><td>17000.00</td></tr>",
                            "<tr><td>103</td><td>Alexander</td><td>Hunold</td><td>1990-01-03</td><td>9000.00</td></tr>",
                            "<tr><td>104</td><td>Bruce</td><td>Ernst</td><td>1991-05-21</td><td>6000.00</td></tr>",
                            "<tr><td>102</td><td>Lex</td><td>De Haan</td><td>1993-01-13</td><td>17000.00</td></tr>",
                            "<tr><td>203</td><td>Susan</td><td>Mavris</td><td>1994-06-07</td><td>6500.00</td></tr>",
                            "<tr><td>204</td><td>Hermann</td><td>Baer</td><td>1994-06-07</td><td>10000.00</td></tr>",
                            "<tr><td>205</td><td>Shelley</td><td>Higgins</td><td>1994-06-07</td><td>12000.00</td></tr>",
                            "<tr><td>206</td><td>William</td><td>Gietz</td><td>1994-06-07</td><td>8300.00</td></tr>",
                            "<tr><td>109</td><td>Daniel</td><td>Faviet</td><td>1994-08-16</td><td>9000.00</td></tr>",
                            "<tr><td>108</td><td>Nancy</td><td>Greenberg</td><td>1994-08-17</td><td>12000.00</td></tr>",
                            "<tr><td>114</td><td>Den</td><td>Raphaely</td><td>1994-12-07</td><td>11000.00</td></tr>",
                            "<tr><td>122</td><td>Payam</td><td>Kaufling</td><td>1995-05-01</td><td>7900.00</td></tr>",
                            "<tr><td>115</td><td>Alexander</td><td>Khoo</td><td>1995-05-18</td><td>3100.00</td></tr>",
                            "<tr><td>192</td><td>Sarah</td><td>Bell</td><td>1996-02-04</td><td>4000.00</td></tr>",
                            "<tr><td>201</td><td>Michael</td><td>Hartstein</td><td>1996-02-17</td><td>13000.00</td></tr>",
                            "<tr><td>120</td><td>Matthew</td><td>Weiss</td><td>1996-07-18</td><td>8000.00</td></tr>",
                            "<tr><td>145</td><td>John</td><td>Russell</td><td>1996-10-01</td><td>14000.00</td></tr>",
                            "<tr><td>146</td><td>Karen</td><td>Partners</td><td>1997-01-05</td><td>13500.00</td></tr>",
                            "<tr><td>193</td><td>Britney</td><td>Everett</td><td>1997-03-03</td><td>3900.00</td></tr>",
                            "<tr><td>121</td><td>Adam</td><td>Fripp</td><td>1997-04-10</td><td>8200.00</td></tr>",
                            "<tr><td>105</td><td>David</td><td>Austin</td><td>1997-06-25</td><td>4800.00</td></tr>",
                            "<tr><td>117</td><td>Sigal</td><td>Tobias</td><td>1997-07-24</td><td>2800.00</td></tr>",
                            "<tr><td>202</td><td>Pat</td><td>Fay</td><td>1997-08-17</td><td>6000.00</td></tr>",
                            "<tr><td>110</td><td>John</td><td>Chen</td><td>1997-09-28</td><td>8200.00</td></tr>",
                            "<tr><td>111</td><td>Ismael</td><td>Sciarra</td><td>1997-09-30</td><td>7700.00</td></tr>",
                            "<tr><td>123</td><td>Shanta</td><td>Vollman</td><td>1997-10-10</td><td>6500.00</td></tr>",
                            "<tr><td>116</td><td>Shelli</td><td>Baida</td><td>1997-12-24</td><td>2900.00</td></tr>",
                            "<tr><td>106</td><td>Valli</td><td>Pataballa</td><td>1998-02-05</td><td>4800.00</td></tr>",
                            "<tr><td>112</td><td>Jose Manuel</td><td>Urman</td><td>1998-03-07</td><td>7800.00</td></tr>",
                            "<tr><td>176</td><td>Jonathon</td><td>Taylor</td><td>1998-03-24</td><td>8600.00</td></tr>",
                            "<tr><td>177</td><td>Jack</td><td>Livingston</td><td>1998-04-23</td><td>8400.00</td></tr>",
                            "<tr><td>126</td><td>Irene</td><td>Mikkilineni</td><td>1998-09-28</td><td>2700.00</td></tr>",
                            "<tr><td>118</td><td>Guy</td><td>Himuro</td><td>1998-11-15</td><td>2600.00</td></tr>",
                            "<tr><td>107</td><td>Diana</td><td>Lorentz</td><td>1999-02-07</td><td>4200.00</td></tr>",
                            "<tr><td>178</td><td>Kimberely</td><td>Grant</td><td>1999-05-24</td><td>7000.00</td></tr>",
                            "<tr><td>119</td><td>Karen</td><td>Colmenares</td><td>1999-08-10</td><td>2500.00</td></tr>",
                            "<tr><td>113</td><td>Luis</td><td>Popp</td><td>1999-12-07</td><td>6900.00</td></tr>",
                            "<tr><td>179</td><td>Charles</td><td>Johnson</td><td>2000-01-04</td><td>6200.00</td></tr>",
                            "</table>"
                        ]
                    }
                }
            ],
            "execution_count": 4
        }
    ]
}