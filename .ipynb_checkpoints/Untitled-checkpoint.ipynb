{
 "cells": [
  {
   "cell_type": "code",
   "execution_count": 63,
   "id": "f5753027-2290-47ff-be54-f876bc017182",
   "metadata": {},
   "outputs": [],
   "source": [
    "library(jsonlite)\n",
    "library(dplyr)\n",
    "library(lubridate)"
   ]
  },
  {
   "cell_type": "code",
   "execution_count": null,
   "id": "84c7c846-f994-43c4-a3ec-0b01f21cf2e6",
   "metadata": {},
   "outputs": [],
   "source": [
    "market = 'ETHUSDT'\n",
    "interval = '1m'\n",
    "limit = 1500\n",
    "times = 2\n",
    "startTime = round(as.numeric(Sys.time()))\n",
    "\n",
    "readData <- function() {\n",
    "    dt <- NULL\n",
    "    url <- paste0(url = \"https://api.binance.com/api/v3/klines?symbol=\", market ,\"&interval=\", interval,\"&limit=\", limit, \"&startTime=\", startTime)\n",
    "    \n",
    "    for(i in 1:times) {\n",
    "        \n",
    "        data <- fromJSON(url) |> select(1:7)\n",
    "        data <- as.data.frame(sapply(as.data.frame(data), as.numeric))\n",
    "        colnames(data) <- c(\"Open_time\", \"Open\", \"High\", \"Low\", \"Close\", \"Volume\", \"Close_time\")\n",
    "        data <- data |>\n",
    "            mutate(Open_time <- ymd_hms(as.POSIXct(Open_time/1e3, origin = '1970-01-01')),\n",
    "                   Close_time <- ymd_hms(as.POSIXct(Close_time/1e3, origin = '1970-01-01'))) \n",
    "                        \n",
    "        if(is.null(dt))\n",
    "            dt <- data\n",
    "        else {\n",
    "            dt <- dt |> bind_rows(data)\n",
    "        }\n",
    "        \n",
    "        startTime = max(data$Close_time) + seconds(1)\n",
    "        \n",
    "        print(nrow(dt))\n",
    "    }\n",
    "    \n",
    "    dt\n",
    "    \n",
    "}"
   ]
  },
  {
   "cell_type": "code",
   "execution_count": 57,
   "id": "5723f575-e573-483a-8052-754e01b4af5d",
   "metadata": {},
   "outputs": [
    {
     "name": "stdout",
     "output_type": "stream",
     "text": [
      "[1] \"https://api.binance.com/api/v3/klines?symbol=ETHUSDT&interval=1m&limit=1000&startTime=1680614197\"\n"
     ]
    }
   ],
   "source": [
    "\n",
    "\n",
    "\n",
    "print(url) # complete request URL"
   ]
  },
  {
   "cell_type": "code",
   "execution_count": 60,
   "id": "96b0f864-f7f5-41b0-add9-24683dcf2865",
   "metadata": {},
   "outputs": [
    {
     "data": {
      "text/html": [
       "<table class=\"dataframe\">\n",
       "<caption>A data.frame: 6 × 7</caption>\n",
       "<thead>\n",
       "\t<tr><th></th><th scope=col>Open_time</th><th scope=col>Open</th><th scope=col>High</th><th scope=col>Low</th><th scope=col>Close</th><th scope=col>Volume</th><th scope=col>Close_time</th></tr>\n",
       "\t<tr><th></th><th scope=col>&lt;dttm&gt;</th><th scope=col>&lt;dbl&gt;</th><th scope=col>&lt;dbl&gt;</th><th scope=col>&lt;dbl&gt;</th><th scope=col>&lt;dbl&gt;</th><th scope=col>&lt;dbl&gt;</th><th scope=col>&lt;dttm&gt;</th></tr>\n",
       "</thead>\n",
       "<tbody>\n",
       "\t<tr><th scope=row>1</th><td>2017-08-17 07:00:00</td><td>301.13</td><td>301.13</td><td>301.13</td><td>301.13</td><td>0.42643</td><td>2017-08-17 07:00:59</td></tr>\n",
       "\t<tr><th scope=row>2</th><td>2017-08-17 07:01:00</td><td>301.13</td><td>301.13</td><td>301.13</td><td>301.13</td><td>2.75787</td><td>2017-08-17 07:01:59</td></tr>\n",
       "\t<tr><th scope=row>3</th><td>2017-08-17 07:02:00</td><td>300.00</td><td>300.00</td><td>300.00</td><td>300.00</td><td>0.09930</td><td>2017-08-17 07:02:59</td></tr>\n",
       "\t<tr><th scope=row>4</th><td>2017-08-17 07:03:00</td><td>300.00</td><td>300.00</td><td>300.00</td><td>300.00</td><td>0.31389</td><td>2017-08-17 07:03:59</td></tr>\n",
       "\t<tr><th scope=row>5</th><td>2017-08-17 07:04:00</td><td>301.13</td><td>301.13</td><td>301.13</td><td>301.13</td><td>0.23202</td><td>2017-08-17 07:04:59</td></tr>\n",
       "\t<tr><th scope=row>6</th><td>2017-08-17 07:05:00</td><td>300.00</td><td>301.13</td><td>300.00</td><td>301.13</td><td>0.75705</td><td>2017-08-17 07:05:59</td></tr>\n",
       "</tbody>\n",
       "</table>\n"
      ],
      "text/latex": [
       "A data.frame: 6 × 7\n",
       "\\begin{tabular}{r|lllllll}\n",
       "  & Open\\_time & Open & High & Low & Close & Volume & Close\\_time\\\\\n",
       "  & <dttm> & <dbl> & <dbl> & <dbl> & <dbl> & <dbl> & <dttm>\\\\\n",
       "\\hline\n",
       "\t1 & 2017-08-17 07:00:00 & 301.13 & 301.13 & 301.13 & 301.13 & 0.42643 & 2017-08-17 07:00:59\\\\\n",
       "\t2 & 2017-08-17 07:01:00 & 301.13 & 301.13 & 301.13 & 301.13 & 2.75787 & 2017-08-17 07:01:59\\\\\n",
       "\t3 & 2017-08-17 07:02:00 & 300.00 & 300.00 & 300.00 & 300.00 & 0.09930 & 2017-08-17 07:02:59\\\\\n",
       "\t4 & 2017-08-17 07:03:00 & 300.00 & 300.00 & 300.00 & 300.00 & 0.31389 & 2017-08-17 07:03:59\\\\\n",
       "\t5 & 2017-08-17 07:04:00 & 301.13 & 301.13 & 301.13 & 301.13 & 0.23202 & 2017-08-17 07:04:59\\\\\n",
       "\t6 & 2017-08-17 07:05:00 & 300.00 & 301.13 & 300.00 & 301.13 & 0.75705 & 2017-08-17 07:05:59\\\\\n",
       "\\end{tabular}\n"
      ],
      "text/markdown": [
       "\n",
       "A data.frame: 6 × 7\n",
       "\n",
       "| <!--/--> | Open_time &lt;dttm&gt; | Open &lt;dbl&gt; | High &lt;dbl&gt; | Low &lt;dbl&gt; | Close &lt;dbl&gt; | Volume &lt;dbl&gt; | Close_time &lt;dttm&gt; |\n",
       "|---|---|---|---|---|---|---|---|\n",
       "| 1 | 2017-08-17 07:00:00 | 301.13 | 301.13 | 301.13 | 301.13 | 0.42643 | 2017-08-17 07:00:59 |\n",
       "| 2 | 2017-08-17 07:01:00 | 301.13 | 301.13 | 301.13 | 301.13 | 2.75787 | 2017-08-17 07:01:59 |\n",
       "| 3 | 2017-08-17 07:02:00 | 300.00 | 300.00 | 300.00 | 300.00 | 0.09930 | 2017-08-17 07:02:59 |\n",
       "| 4 | 2017-08-17 07:03:00 | 300.00 | 300.00 | 300.00 | 300.00 | 0.31389 | 2017-08-17 07:03:59 |\n",
       "| 5 | 2017-08-17 07:04:00 | 301.13 | 301.13 | 301.13 | 301.13 | 0.23202 | 2017-08-17 07:04:59 |\n",
       "| 6 | 2017-08-17 07:05:00 | 300.00 | 301.13 | 300.00 | 301.13 | 0.75705 | 2017-08-17 07:05:59 |\n",
       "\n"
      ],
      "text/plain": [
       "  Open_time           Open   High   Low    Close  Volume  Close_time         \n",
       "1 2017-08-17 07:00:00 301.13 301.13 301.13 301.13 0.42643 2017-08-17 07:00:59\n",
       "2 2017-08-17 07:01:00 301.13 301.13 301.13 301.13 2.75787 2017-08-17 07:01:59\n",
       "3 2017-08-17 07:02:00 300.00 300.00 300.00 300.00 0.09930 2017-08-17 07:02:59\n",
       "4 2017-08-17 07:03:00 300.00 300.00 300.00 300.00 0.31389 2017-08-17 07:03:59\n",
       "5 2017-08-17 07:04:00 301.13 301.13 301.13 301.13 0.23202 2017-08-17 07:04:59\n",
       "6 2017-08-17 07:05:00 300.00 301.13 300.00 301.13 0.75705 2017-08-17 07:05:59"
      ]
     },
     "metadata": {},
     "output_type": "display_data"
    }
   ],
   "source": [
    "\n",
    "\n",
    "head(data)"
   ]
  },
  {
   "cell_type": "code",
   "execution_count": 61,
   "id": "3dfc2859-1c3c-4323-a64d-3c1a09305cb1",
   "metadata": {},
   "outputs": [
    {
     "data": {
      "text/plain": [
       "[1] \"2017-08-17 23:40:00 UTC\""
      ]
     },
     "metadata": {},
     "output_type": "display_data"
    }
   ],
   "source": [
    "next_close_time = \n",
    "next_close_time"
   ]
  },
  {
   "cell_type": "code",
   "execution_count": 62,
   "id": "f61018d8-2e22-4438-a666-f4aa69859c66",
   "metadata": {},
   "outputs": [
    {
     "data": {
      "image/png": "[encoded data removed]",
      "text/plain": [
       "plot without title"
      ]
     },
     "metadata": {
      "image/png": {
       "height": 420,
       "width": 420
      }
     },
     "output_type": "display_data"
    }
   ],
   "source": [
    "plot(data$Close)"
   ]
  }
 ],
 "metadata": {
  "kernelspec": {
   "display_name": "R",
   "language": "R",
   "name": "ir"
  },
  "language_info": {
   "codemirror_mode": "r",
   "file_extension": ".r",
   "mimetype": "text/x-r-source",
   "name": "R",
   "pygments_lexer": "r",
   "version": "4.1.3"
  }
 },
 "nbformat": 4,
 "nbformat_minor": 5
}
