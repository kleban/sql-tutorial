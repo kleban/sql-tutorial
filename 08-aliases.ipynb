{
    "metadata": {
        "kernelspec": {
            "name": "SQL",
            "display_name": "SQL",
            "language": "sql"
        },
        "language_info": {
            "name": "sql",
            "version": ""
        }
    },
    "nbformat_minor": 2,
    "nbformat": 4,
    "cells": [
        {
            "cell_type": "markdown",
            "source": [
                "# Іменування результатів вибірки"
            ],
            "metadata": {
                "azdata_cell_guid": "0105c632-bc68-45f5-8625-c26a15936937"
            },
            "attachments": {}
        },
        {
            "cell_type": "markdown",
            "source": [
                "Аліаси бувать для таблиць та для полів"
            ],
            "metadata": {
                "azdata_cell_guid": "23f17014-2802-45d0-a035-a5d61f7bd766"
            },
            "attachments": {}
        },
        {
            "cell_type": "code",
            "source": [
                "use hr_db"
            ],
            "metadata": {
                "azdata_cell_guid": "09bf16e9-500b-4573-a9ed-119ccca0e2ff",
                "language": "sql"
            },
            "outputs": [
                {
                    "output_type": "display_data",
                    "data": {
                        "text/html": "Commands completed successfully."
                    },
                    "metadata": {}
                },
                {
                    "output_type": "display_data",
                    "data": {
                        "text/html": "Total execution time: 00:00:00.001"
                    },
                    "metadata": {}
                }
            ],
            "execution_count": 3
        },
        {
            "cell_type": "code",
            "source": [
                "-- not working sample :\r\n",
                "SELECT\r\n",
                "\tinv_no AS invoice_no,\r\n",
                "\tamount,\r\n",
                "\tdue_date AS 'Due date',\r\n",
                "\tcust_no 'Customer No'\r\n",
                "FROM\r\n",
                "\tinvoices;"
            ],
            "metadata": {
                "language": "sql",
                "azdata_cell_guid": "bb037293-7bb0-40bd-a939-b56661b6ca77"
            },
            "outputs": [
                {
                    "output_type": "error",
                    "evalue": "Msg 208, Level 16, State 1, Line 1\r\nInvalid object name 'invoices'.",
                    "ename": "",
                    "traceback": []
                },
                {
                    "output_type": "display_data",
                    "data": {
                        "text/html": "Total execution time: 00:00:00.001"
                    },
                    "metadata": {}
                }
            ],
            "execution_count": 2
        },
        {
            "cell_type": "code",
            "source": [
                "SELECT \r\n",
                "    first_name, \r\n",
                "    last_name, \r\n",
                "    salary * 1.1 AS new_salary\r\n",
                "FROM\r\n",
                "    employees;"
            ],
            "metadata": {
                "language": "sql",
                "azdata_cell_guid": "b300d46d-3428-443e-a395-393855d30e2e"
            },
            "outputs": [
                {
                    "output_type": "display_data",
                    "data": {
                        "text/html": "(40 rows affected)"
                    },
                    "metadata": {}
                },
                {
                    "output_type": "display_data",
                    "data": {
                        "text/html": "Total execution time: 00:00:00.027"
                    },
                    "metadata": {}
                },
                {
                    "output_type": "execute_result",
                    "metadata": {},
                    "execution_count": 4,
                    "data": {
                        "application/vnd.dataresource+json": {
                            "schema": {
                                "fields": [
                                    {
                                        "name": "first_name"
                                    },
                                    {
                                        "name": "last_name"
                                    },
                                    {
                                        "name": "new_salary"
                                    }
                                ]
                            },
                            "data": [
                                {
                                    "0": "Steven",
                                    "1": "King",
                                    "2": "26400.000"
                                },
                                {
                                    "0": "Neena",
                                    "1": "Kochhar",
                                    "2": "18700.000"
                                },
                                {
                                    "0": "Lex",
                                    "1": "De Haan",
                                    "2": "18700.000"
                                },
                                {
                                    "0": "Alexander",
                                    "1": "Hunold",
                                    "2": "9900.000"
                                },
                                {
                                    "0": "Bruce",
                                    "1": "Ernst",
                                    "2": "6600.000"
                                },
                                {
                                    "0": "David",
                                    "1": "Austin",
                                    "2": "5280.000"
                                },
                                {
                                    "0": "Valli",
                                    "1": "Pataballa",
                                    "2": "5280.000"
                                },
                                {
                                    "0": "Diana",
                                    "1": "Lorentz",
                                    "2": "4620.000"
                                },
                                {
                                    "0": "Nancy",
                                    "1": "Greenberg",
                                    "2": "13200.000"
                                },
                                {
                                    "0": "Daniel",
                                    "1": "Faviet",
                                    "2": "9900.000"
                                },
                                {
                                    "0": "John",
                                    "1": "Chen",
                                    "2": "9020.000"
                                },
                                {
                                    "0": "Ismael",
                                    "1": "Sciarra",
                                    "2": "8470.000"
                                },
                                {
                                    "0": "Jose Manuel",
                                    "1": "Urman",
                                    "2": "8580.000"
                                },
                                {
                                    "0": "Luis",
                                    "1": "Popp",
                                    "2": "7590.000"
                                },
                                {
                                    "0": "Den",
                                    "1": "Raphaely",
                                    "2": "12100.000"
                                },
                                {
                                    "0": "Alexander",
                                    "1": "Khoo",
                                    "2": "3410.000"
                                },
                                {
                                    "0": "Shelli",
                                    "1": "Baida",
                                    "2": "3190.000"
                                },
                                {
                                    "0": "Sigal",
                                    "1": "Tobias",
                                    "2": "3080.000"
                                },
                                {
                                    "0": "Guy",
                                    "1": "Himuro",
                                    "2": "2860.000"
                                },
                                {
                                    "0": "Karen",
                                    "1": "Colmenares",
                                    "2": "2750.000"
                                },
                                {
                                    "0": "Matthew",
                                    "1": "Weiss",
                                    "2": "8800.000"
                                },
                                {
                                    "0": "Adam",
                                    "1": "Fripp",
                                    "2": "9020.000"
                                },
                                {
                                    "0": "Payam",
                                    "1": "Kaufling",
                                    "2": "8690.000"
                                },
                                {
                                    "0": "Shanta",
                                    "1": "Vollman",
                                    "2": "7150.000"
                                },
                                {
                                    "0": "Irene",
                                    "1": "Mikkilineni",
                                    "2": "2970.000"
                                },
                                {
                                    "0": "John",
                                    "1": "Russell",
                                    "2": "15400.000"
                                },
                                {
                                    "0": "Karen",
                                    "1": "Partners",
                                    "2": "14850.000"
                                },
                                {
                                    "0": "Jonathon",
                                    "1": "Taylor",
                                    "2": "9460.000"
                                },
                                {
                                    "0": "Jack",
                                    "1": "Livingston",
                                    "2": "9240.000"
                                },
                                {
                                    "0": "Kimberely",
                                    "1": "Grant",
                                    "2": "7700.000"
                                },
                                {
                                    "0": "Charles",
                                    "1": "Johnson",
                                    "2": "6820.000"
                                },
                                {
                                    "0": "Sarah",
                                    "1": "Bell",
                                    "2": "4400.000"
                                },
                                {
                                    "0": "Britney",
                                    "1": "Everett",
                                    "2": "4290.000"
                                },
                                {
                                    "0": "Jennifer",
                                    "1": "Whalen",
                                    "2": "4840.000"
                                },
                                {
                                    "0": "Michael",
                                    "1": "Hartstein",
                                    "2": "14300.000"
                                },
                                {
                                    "0": "Pat",
                                    "1": "Fay",
                                    "2": "6600.000"
                                },
                                {
                                    "0": "Susan",
                                    "1": "Mavris",
                                    "2": "7150.000"
                                },
                                {
                                    "0": "Hermann",
                                    "1": "Baer",
                                    "2": "11000.000"
                                },
                                {
                                    "0": "Shelley",
                                    "1": "Higgins",
                                    "2": "13200.000"
                                },
                                {
                                    "0": "William",
                                    "1": "Gietz",
                                    "2": "9130.000"
                                }
                            ]
                        },
                        "text/html": [
                            "<table>",
                            "<tr><th>first_name</th><th>last_name</th><th>new_salary</th></tr>",
                            "<tr><td>Steven</td><td>King</td><td>26400.000</td></tr>",
                            "<tr><td>Neena</td><td>Kochhar</td><td>18700.000</td></tr>",
                            "<tr><td>Lex</td><td>De Haan</td><td>18700.000</td></tr>",
                            "<tr><td>Alexander</td><td>Hunold</td><td>9900.000</td></tr>",
                            "<tr><td>Bruce</td><td>Ernst</td><td>6600.000</td></tr>",
                            "<tr><td>David</td><td>Austin</td><td>5280.000</td></tr>",
                            "<tr><td>Valli</td><td>Pataballa</td><td>5280.000</td></tr>",
                            "<tr><td>Diana</td><td>Lorentz</td><td>4620.000</td></tr>",
                            "<tr><td>Nancy</td><td>Greenberg</td><td>13200.000</td></tr>",
                            "<tr><td>Daniel</td><td>Faviet</td><td>9900.000</td></tr>",
                            "<tr><td>John</td><td>Chen</td><td>9020.000</td></tr>",
                            "<tr><td>Ismael</td><td>Sciarra</td><td>8470.000</td></tr>",
                            "<tr><td>Jose Manuel</td><td>Urman</td><td>8580.000</td></tr>",
                            "<tr><td>Luis</td><td>Popp</td><td>7590.000</td></tr>",
                            "<tr><td>Den</td><td>Raphaely</td><td>12100.000</td></tr>",
                            "<tr><td>Alexander</td><td>Khoo</td><td>3410.000</td></tr>",
                            "<tr><td>Shelli</td><td>Baida</td><td>3190.000</td></tr>",
                            "<tr><td>Sigal</td><td>Tobias</td><td>3080.000</td></tr>",
                            "<tr><td>Guy</td><td>Himuro</td><td>2860.000</td></tr>",
                            "<tr><td>Karen</td><td>Colmenares</td><td>2750.000</td></tr>",
                            "<tr><td>Matthew</td><td>Weiss</td><td>8800.000</td></tr>",
                            "<tr><td>Adam</td><td>Fripp</td><td>9020.000</td></tr>",
                            "<tr><td>Payam</td><td>Kaufling</td><td>8690.000</td></tr>",
                            "<tr><td>Shanta</td><td>Vollman</td><td>7150.000</td></tr>",
                            "<tr><td>Irene</td><td>Mikkilineni</td><td>2970.000</td></tr>",
                            "<tr><td>John</td><td>Russell</td><td>15400.000</td></tr>",
                            "<tr><td>Karen</td><td>Partners</td><td>14850.000</td></tr>",
                            "<tr><td>Jonathon</td><td>Taylor</td><td>9460.000</td></tr>",
                            "<tr><td>Jack</td><td>Livingston</td><td>9240.000</td></tr>",
                            "<tr><td>Kimberely</td><td>Grant</td><td>7700.000</td></tr>",
                            "<tr><td>Charles</td><td>Johnson</td><td>6820.000</td></tr>",
                            "<tr><td>Sarah</td><td>Bell</td><td>4400.000</td></tr>",
                            "<tr><td>Britney</td><td>Everett</td><td>4290.000</td></tr>",
                            "<tr><td>Jennifer</td><td>Whalen</td><td>4840.000</td></tr>",
                            "<tr><td>Michael</td><td>Hartstein</td><td>14300.000</td></tr>",
                            "<tr><td>Pat</td><td>Fay</td><td>6600.000</td></tr>",
                            "<tr><td>Susan</td><td>Mavris</td><td>7150.000</td></tr>",
                            "<tr><td>Hermann</td><td>Baer</td><td>11000.000</td></tr>",
                            "<tr><td>Shelley</td><td>Higgins</td><td>13200.000</td></tr>",
                            "<tr><td>William</td><td>Gietz</td><td>9130.000</td></tr>",
                            "</table>"
                        ]
                    }
                }
            ],
            "execution_count": 4
        },
        {
            "cell_type": "code",
            "source": [
                "SELECT \r\n",
                "    first_name, \r\n",
                "    last_name, \r\n",
                "    salary * 1.1 AS new_salary\r\n",
                "FROM\r\n",
                "    employees\r\n",
                "WHERE new_salary > 5000\r\n",
                "\r\n",
                "-- ERROR, ORDER OF RUN IS: FROM > WHERE > SELECT"
            ],
            "metadata": {
                "language": "sql",
                "azdata_cell_guid": "4169bbbe-365b-4383-885f-be2730924f04"
            },
            "outputs": [],
            "execution_count": null
        },
        {
            "cell_type": "code",
            "source": [
                "SELECT \r\n",
                "    first_name, \r\n",
                "    last_name, \r\n",
                "    salary * 1.1 AS new_salary\r\n",
                "FROM\r\n",
                "    employees\r\n",
                "ORDER BY new_salary;\r\n",
                "\r\n",
                "-- WORKS FINE: FROM > SELECT > ORDER BY"
            ],
            "metadata": {
                "language": "sql",
                "azdata_cell_guid": "f07bec51-d9fa-48fa-a01e-781efb25caa7"
            },
            "outputs": [
                {
                    "output_type": "display_data",
                    "data": {
                        "text/html": "(40 rows affected)"
                    },
                    "metadata": {}
                },
                {
                    "output_type": "display_data",
                    "data": {
                        "text/html": "Total execution time: 00:00:00.013"
                    },
                    "metadata": {}
                },
                {
                    "output_type": "execute_result",
                    "metadata": {},
                    "execution_count": 5,
                    "data": {
                        "application/vnd.dataresource+json": {
                            "schema": {
                                "fields": [
                                    {
                                        "name": "first_name"
                                    },
                                    {
                                        "name": "last_name"
                                    },
                                    {
                                        "name": "new_salary"
                                    }
                                ]
                            },
                            "data": [
                                {
                                    "0": "Karen",
                                    "1": "Colmenares",
                                    "2": "2750.000"
                                },
                                {
                                    "0": "Guy",
                                    "1": "Himuro",
                                    "2": "2860.000"
                                },
                                {
                                    "0": "Irene",
                                    "1": "Mikkilineni",
                                    "2": "2970.000"
                                },
                                {
                                    "0": "Sigal",
                                    "1": "Tobias",
                                    "2": "3080.000"
                                },
                                {
                                    "0": "Shelli",
                                    "1": "Baida",
                                    "2": "3190.000"
                                },
                                {
                                    "0": "Alexander",
                                    "1": "Khoo",
                                    "2": "3410.000"
                                },
                                {
                                    "0": "Britney",
                                    "1": "Everett",
                                    "2": "4290.000"
                                },
                                {
                                    "0": "Sarah",
                                    "1": "Bell",
                                    "2": "4400.000"
                                },
                                {
                                    "0": "Diana",
                                    "1": "Lorentz",
                                    "2": "4620.000"
                                },
                                {
                                    "0": "Jennifer",
                                    "1": "Whalen",
                                    "2": "4840.000"
                                },
                                {
                                    "0": "David",
                                    "1": "Austin",
                                    "2": "5280.000"
                                },
                                {
                                    "0": "Valli",
                                    "1": "Pataballa",
                                    "2": "5280.000"
                                },
                                {
                                    "0": "Bruce",
                                    "1": "Ernst",
                                    "2": "6600.000"
                                },
                                {
                                    "0": "Pat",
                                    "1": "Fay",
                                    "2": "6600.000"
                                },
                                {
                                    "0": "Charles",
                                    "1": "Johnson",
                                    "2": "6820.000"
                                },
                                {
                                    "0": "Shanta",
                                    "1": "Vollman",
                                    "2": "7150.000"
                                },
                                {
                                    "0": "Susan",
                                    "1": "Mavris",
                                    "2": "7150.000"
                                },
                                {
                                    "0": "Luis",
                                    "1": "Popp",
                                    "2": "7590.000"
                                },
                                {
                                    "0": "Kimberely",
                                    "1": "Grant",
                                    "2": "7700.000"
                                },
                                {
                                    "0": "Ismael",
                                    "1": "Sciarra",
                                    "2": "8470.000"
                                },
                                {
                                    "0": "Jose Manuel",
                                    "1": "Urman",
                                    "2": "8580.000"
                                },
                                {
                                    "0": "Payam",
                                    "1": "Kaufling",
                                    "2": "8690.000"
                                },
                                {
                                    "0": "Matthew",
                                    "1": "Weiss",
                                    "2": "8800.000"
                                },
                                {
                                    "0": "Adam",
                                    "1": "Fripp",
                                    "2": "9020.000"
                                },
                                {
                                    "0": "John",
                                    "1": "Chen",
                                    "2": "9020.000"
                                },
                                {
                                    "0": "William",
                                    "1": "Gietz",
                                    "2": "9130.000"
                                },
                                {
                                    "0": "Jack",
                                    "1": "Livingston",
                                    "2": "9240.000"
                                },
                                {
                                    "0": "Jonathon",
                                    "1": "Taylor",
                                    "2": "9460.000"
                                },
                                {
                                    "0": "Daniel",
                                    "1": "Faviet",
                                    "2": "9900.000"
                                },
                                {
                                    "0": "Alexander",
                                    "1": "Hunold",
                                    "2": "9900.000"
                                },
                                {
                                    "0": "Hermann",
                                    "1": "Baer",
                                    "2": "11000.000"
                                },
                                {
                                    "0": "Den",
                                    "1": "Raphaely",
                                    "2": "12100.000"
                                },
                                {
                                    "0": "Nancy",
                                    "1": "Greenberg",
                                    "2": "13200.000"
                                },
                                {
                                    "0": "Shelley",
                                    "1": "Higgins",
                                    "2": "13200.000"
                                },
                                {
                                    "0": "Michael",
                                    "1": "Hartstein",
                                    "2": "14300.000"
                                },
                                {
                                    "0": "Karen",
                                    "1": "Partners",
                                    "2": "14850.000"
                                },
                                {
                                    "0": "John",
                                    "1": "Russell",
                                    "2": "15400.000"
                                },
                                {
                                    "0": "Neena",
                                    "1": "Kochhar",
                                    "2": "18700.000"
                                },
                                {
                                    "0": "Lex",
                                    "1": "De Haan",
                                    "2": "18700.000"
                                },
                                {
                                    "0": "Steven",
                                    "1": "King",
                                    "2": "26400.000"
                                }
                            ]
                        },
                        "text/html": [
                            "<table>",
                            "<tr><th>first_name</th><th>last_name</th><th>new_salary</th></tr>",
                            "<tr><td>Karen</td><td>Colmenares</td><td>2750.000</td></tr>",
                            "<tr><td>Guy</td><td>Himuro</td><td>2860.000</td></tr>",
                            "<tr><td>Irene</td><td>Mikkilineni</td><td>2970.000</td></tr>",
                            "<tr><td>Sigal</td><td>Tobias</td><td>3080.000</td></tr>",
                            "<tr><td>Shelli</td><td>Baida</td><td>3190.000</td></tr>",
                            "<tr><td>Alexander</td><td>Khoo</td><td>3410.000</td></tr>",
                            "<tr><td>Britney</td><td>Everett</td><td>4290.000</td></tr>",
                            "<tr><td>Sarah</td><td>Bell</td><td>4400.000</td></tr>",
                            "<tr><td>Diana</td><td>Lorentz</td><td>4620.000</td></tr>",
                            "<tr><td>Jennifer</td><td>Whalen</td><td>4840.000</td></tr>",
                            "<tr><td>David</td><td>Austin</td><td>5280.000</td></tr>",
                            "<tr><td>Valli</td><td>Pataballa</td><td>5280.000</td></tr>",
                            "<tr><td>Bruce</td><td>Ernst</td><td>6600.000</td></tr>",
                            "<tr><td>Pat</td><td>Fay</td><td>6600.000</td></tr>",
                            "<tr><td>Charles</td><td>Johnson</td><td>6820.000</td></tr>",
                            "<tr><td>Shanta</td><td>Vollman</td><td>7150.000</td></tr>",
                            "<tr><td>Susan</td><td>Mavris</td><td>7150.000</td></tr>",
                            "<tr><td>Luis</td><td>Popp</td><td>7590.000</td></tr>",
                            "<tr><td>Kimberely</td><td>Grant</td><td>7700.000</td></tr>",
                            "<tr><td>Ismael</td><td>Sciarra</td><td>8470.000</td></tr>",
                            "<tr><td>Jose Manuel</td><td>Urman</td><td>8580.000</td></tr>",
                            "<tr><td>Payam</td><td>Kaufling</td><td>8690.000</td></tr>",
                            "<tr><td>Matthew</td><td>Weiss</td><td>8800.000</td></tr>",
                            "<tr><td>Adam</td><td>Fripp</td><td>9020.000</td></tr>",
                            "<tr><td>John</td><td>Chen</td><td>9020.000</td></tr>",
                            "<tr><td>William</td><td>Gietz</td><td>9130.000</td></tr>",
                            "<tr><td>Jack</td><td>Livingston</td><td>9240.000</td></tr>",
                            "<tr><td>Jonathon</td><td>Taylor</td><td>9460.000</td></tr>",
                            "<tr><td>Daniel</td><td>Faviet</td><td>9900.000</td></tr>",
                            "<tr><td>Alexander</td><td>Hunold</td><td>9900.000</td></tr>",
                            "<tr><td>Hermann</td><td>Baer</td><td>11000.000</td></tr>",
                            "<tr><td>Den</td><td>Raphaely</td><td>12100.000</td></tr>",
                            "<tr><td>Nancy</td><td>Greenberg</td><td>13200.000</td></tr>",
                            "<tr><td>Shelley</td><td>Higgins</td><td>13200.000</td></tr>",
                            "<tr><td>Michael</td><td>Hartstein</td><td>14300.000</td></tr>",
                            "<tr><td>Karen</td><td>Partners</td><td>14850.000</td></tr>",
                            "<tr><td>John</td><td>Russell</td><td>15400.000</td></tr>",
                            "<tr><td>Neena</td><td>Kochhar</td><td>18700.000</td></tr>",
                            "<tr><td>Lex</td><td>De Haan</td><td>18700.000</td></tr>",
                            "<tr><td>Steven</td><td>King</td><td>26400.000</td></tr>",
                            "</table>"
                        ]
                    }
                }
            ],
            "execution_count": 5
        },
        {
            "cell_type": "code",
            "source": [
                "SELECT \r\n",
                "    employees.first_name, \r\n",
                "    employees.last_name\r\n",
                "FROM\r\n",
                "    employees;"
            ],
            "metadata": {
                "language": "sql",
                "azdata_cell_guid": "d003e7b4-b27a-4307-ab5a-dbdc842279bd"
            },
            "outputs": [
                {
                    "output_type": "display_data",
                    "data": {
                        "text/html": "(40 rows affected)"
                    },
                    "metadata": {}
                },
                {
                    "output_type": "display_data",
                    "data": {
                        "text/html": "Total execution time: 00:00:00.011"
                    },
                    "metadata": {}
                },
                {
                    "output_type": "execute_result",
                    "metadata": {},
                    "execution_count": 6,
                    "data": {
                        "application/vnd.dataresource+json": {
                            "schema": {
                                "fields": [
                                    {
                                        "name": "first_name"
                                    },
                                    {
                                        "name": "last_name"
                                    }
                                ]
                            },
                            "data": [
                                {
                                    "0": "Steven",
                                    "1": "King"
                                },
                                {
                                    "0": "Neena",
                                    "1": "Kochhar"
                                },
                                {
                                    "0": "Lex",
                                    "1": "De Haan"
                                },
                                {
                                    "0": "Alexander",
                                    "1": "Hunold"
                                },
                                {
                                    "0": "Bruce",
                                    "1": "Ernst"
                                },
                                {
                                    "0": "David",
                                    "1": "Austin"
                                },
                                {
                                    "0": "Valli",
                                    "1": "Pataballa"
                                },
                                {
                                    "0": "Diana",
                                    "1": "Lorentz"
                                },
                                {
                                    "0": "Nancy",
                                    "1": "Greenberg"
                                },
                                {
                                    "0": "Daniel",
                                    "1": "Faviet"
                                },
                                {
                                    "0": "John",
                                    "1": "Chen"
                                },
                                {
                                    "0": "Ismael",
                                    "1": "Sciarra"
                                },
                                {
                                    "0": "Jose Manuel",
                                    "1": "Urman"
                                },
                                {
                                    "0": "Luis",
                                    "1": "Popp"
                                },
                                {
                                    "0": "Den",
                                    "1": "Raphaely"
                                },
                                {
                                    "0": "Alexander",
                                    "1": "Khoo"
                                },
                                {
                                    "0": "Shelli",
                                    "1": "Baida"
                                },
                                {
                                    "0": "Sigal",
                                    "1": "Tobias"
                                },
                                {
                                    "0": "Guy",
                                    "1": "Himuro"
                                },
                                {
                                    "0": "Karen",
                                    "1": "Colmenares"
                                },
                                {
                                    "0": "Matthew",
                                    "1": "Weiss"
                                },
                                {
                                    "0": "Adam",
                                    "1": "Fripp"
                                },
                                {
                                    "0": "Payam",
                                    "1": "Kaufling"
                                },
                                {
                                    "0": "Shanta",
                                    "1": "Vollman"
                                },
                                {
                                    "0": "Irene",
                                    "1": "Mikkilineni"
                                },
                                {
                                    "0": "John",
                                    "1": "Russell"
                                },
                                {
                                    "0": "Karen",
                                    "1": "Partners"
                                },
                                {
                                    "0": "Jonathon",
                                    "1": "Taylor"
                                },
                                {
                                    "0": "Jack",
                                    "1": "Livingston"
                                },
                                {
                                    "0": "Kimberely",
                                    "1": "Grant"
                                },
                                {
                                    "0": "Charles",
                                    "1": "Johnson"
                                },
                                {
                                    "0": "Sarah",
                                    "1": "Bell"
                                },
                                {
                                    "0": "Britney",
                                    "1": "Everett"
                                },
                                {
                                    "0": "Jennifer",
                                    "1": "Whalen"
                                },
                                {
                                    "0": "Michael",
                                    "1": "Hartstein"
                                },
                                {
                                    "0": "Pat",
                                    "1": "Fay"
                                },
                                {
                                    "0": "Susan",
                                    "1": "Mavris"
                                },
                                {
                                    "0": "Hermann",
                                    "1": "Baer"
                                },
                                {
                                    "0": "Shelley",
                                    "1": "Higgins"
                                },
                                {
                                    "0": "William",
                                    "1": "Gietz"
                                }
                            ]
                        },
                        "text/html": [
                            "<table>",
                            "<tr><th>first_name</th><th>last_name</th></tr>",
                            "<tr><td>Steven</td><td>King</td></tr>",
                            "<tr><td>Neena</td><td>Kochhar</td></tr>",
                            "<tr><td>Lex</td><td>De Haan</td></tr>",
                            "<tr><td>Alexander</td><td>Hunold</td></tr>",
                            "<tr><td>Bruce</td><td>Ernst</td></tr>",
                            "<tr><td>David</td><td>Austin</td></tr>",
                            "<tr><td>Valli</td><td>Pataballa</td></tr>",
                            "<tr><td>Diana</td><td>Lorentz</td></tr>",
                            "<tr><td>Nancy</td><td>Greenberg</td></tr>",
                            "<tr><td>Daniel</td><td>Faviet</td></tr>",
                            "<tr><td>John</td><td>Chen</td></tr>",
                            "<tr><td>Ismael</td><td>Sciarra</td></tr>",
                            "<tr><td>Jose Manuel</td><td>Urman</td></tr>",
                            "<tr><td>Luis</td><td>Popp</td></tr>",
                            "<tr><td>Den</td><td>Raphaely</td></tr>",
                            "<tr><td>Alexander</td><td>Khoo</td></tr>",
                            "<tr><td>Shelli</td><td>Baida</td></tr>",
                            "<tr><td>Sigal</td><td>Tobias</td></tr>",
                            "<tr><td>Guy</td><td>Himuro</td></tr>",
                            "<tr><td>Karen</td><td>Colmenares</td></tr>",
                            "<tr><td>Matthew</td><td>Weiss</td></tr>",
                            "<tr><td>Adam</td><td>Fripp</td></tr>",
                            "<tr><td>Payam</td><td>Kaufling</td></tr>",
                            "<tr><td>Shanta</td><td>Vollman</td></tr>",
                            "<tr><td>Irene</td><td>Mikkilineni</td></tr>",
                            "<tr><td>John</td><td>Russell</td></tr>",
                            "<tr><td>Karen</td><td>Partners</td></tr>",
                            "<tr><td>Jonathon</td><td>Taylor</td></tr>",
                            "<tr><td>Jack</td><td>Livingston</td></tr>",
                            "<tr><td>Kimberely</td><td>Grant</td></tr>",
                            "<tr><td>Charles</td><td>Johnson</td></tr>",
                            "<tr><td>Sarah</td><td>Bell</td></tr>",
                            "<tr><td>Britney</td><td>Everett</td></tr>",
                            "<tr><td>Jennifer</td><td>Whalen</td></tr>",
                            "<tr><td>Michael</td><td>Hartstein</td></tr>",
                            "<tr><td>Pat</td><td>Fay</td></tr>",
                            "<tr><td>Susan</td><td>Mavris</td></tr>",
                            "<tr><td>Hermann</td><td>Baer</td></tr>",
                            "<tr><td>Shelley</td><td>Higgins</td></tr>",
                            "<tr><td>William</td><td>Gietz</td></tr>",
                            "</table>"
                        ]
                    }
                }
            ],
            "execution_count": 6
        },
        {
            "cell_type": "code",
            "source": [
                "SELECT \r\n",
                "    e.first_name, \r\n",
                "    e.last_name\r\n",
                "FROM\r\n",
                "    employees AS e;"
            ],
            "metadata": {
                "language": "sql",
                "azdata_cell_guid": "8b187ce7-b853-4492-9aba-ff8a84580e52"
            },
            "outputs": [
                {
                    "output_type": "display_data",
                    "data": {
                        "text/html": "(40 rows affected)"
                    },
                    "metadata": {}
                },
                {
                    "output_type": "display_data",
                    "data": {
                        "text/html": "Total execution time: 00:00:00.006"
                    },
                    "metadata": {}
                },
                {
                    "output_type": "execute_result",
                    "metadata": {},
                    "execution_count": 7,
                    "data": {
                        "application/vnd.dataresource+json": {
                            "schema": {
                                "fields": [
                                    {
                                        "name": "first_name"
                                    },
                                    {
                                        "name": "last_name"
                                    }
                                ]
                            },
                            "data": [
                                {
                                    "0": "Steven",
                                    "1": "King"
                                },
                                {
                                    "0": "Neena",
                                    "1": "Kochhar"
                                },
                                {
                                    "0": "Lex",
                                    "1": "De Haan"
                                },
                                {
                                    "0": "Alexander",
                                    "1": "Hunold"
                                },
                                {
                                    "0": "Bruce",
                                    "1": "Ernst"
                                },
                                {
                                    "0": "David",
                                    "1": "Austin"
                                },
                                {
                                    "0": "Valli",
                                    "1": "Pataballa"
                                },
                                {
                                    "0": "Diana",
                                    "1": "Lorentz"
                                },
                                {
                                    "0": "Nancy",
                                    "1": "Greenberg"
                                },
                                {
                                    "0": "Daniel",
                                    "1": "Faviet"
                                },
                                {
                                    "0": "John",
                                    "1": "Chen"
                                },
                                {
                                    "0": "Ismael",
                                    "1": "Sciarra"
                                },
                                {
                                    "0": "Jose Manuel",
                                    "1": "Urman"
                                },
                                {
                                    "0": "Luis",
                                    "1": "Popp"
                                },
                                {
                                    "0": "Den",
                                    "1": "Raphaely"
                                },
                                {
                                    "0": "Alexander",
                                    "1": "Khoo"
                                },
                                {
                                    "0": "Shelli",
                                    "1": "Baida"
                                },
                                {
                                    "0": "Sigal",
                                    "1": "Tobias"
                                },
                                {
                                    "0": "Guy",
                                    "1": "Himuro"
                                },
                                {
                                    "0": "Karen",
                                    "1": "Colmenares"
                                },
                                {
                                    "0": "Matthew",
                                    "1": "Weiss"
                                },
                                {
                                    "0": "Adam",
                                    "1": "Fripp"
                                },
                                {
                                    "0": "Payam",
                                    "1": "Kaufling"
                                },
                                {
                                    "0": "Shanta",
                                    "1": "Vollman"
                                },
                                {
                                    "0": "Irene",
                                    "1": "Mikkilineni"
                                },
                                {
                                    "0": "John",
                                    "1": "Russell"
                                },
                                {
                                    "0": "Karen",
                                    "1": "Partners"
                                },
                                {
                                    "0": "Jonathon",
                                    "1": "Taylor"
                                },
                                {
                                    "0": "Jack",
                                    "1": "Livingston"
                                },
                                {
                                    "0": "Kimberely",
                                    "1": "Grant"
                                },
                                {
                                    "0": "Charles",
                                    "1": "Johnson"
                                },
                                {
                                    "0": "Sarah",
                                    "1": "Bell"
                                },
                                {
                                    "0": "Britney",
                                    "1": "Everett"
                                },
                                {
                                    "0": "Jennifer",
                                    "1": "Whalen"
                                },
                                {
                                    "0": "Michael",
                                    "1": "Hartstein"
                                },
                                {
                                    "0": "Pat",
                                    "1": "Fay"
                                },
                                {
                                    "0": "Susan",
                                    "1": "Mavris"
                                },
                                {
                                    "0": "Hermann",
                                    "1": "Baer"
                                },
                                {
                                    "0": "Shelley",
                                    "1": "Higgins"
                                },
                                {
                                    "0": "William",
                                    "1": "Gietz"
                                }
                            ]
                        },
                        "text/html": [
                            "<table>",
                            "<tr><th>first_name</th><th>last_name</th></tr>",
                            "<tr><td>Steven</td><td>King</td></tr>",
                            "<tr><td>Neena</td><td>Kochhar</td></tr>",
                            "<tr><td>Lex</td><td>De Haan</td></tr>",
                            "<tr><td>Alexander</td><td>Hunold</td></tr>",
                            "<tr><td>Bruce</td><td>Ernst</td></tr>",
                            "<tr><td>David</td><td>Austin</td></tr>",
                            "<tr><td>Valli</td><td>Pataballa</td></tr>",
                            "<tr><td>Diana</td><td>Lorentz</td></tr>",
                            "<tr><td>Nancy</td><td>Greenberg</td></tr>",
                            "<tr><td>Daniel</td><td>Faviet</td></tr>",
                            "<tr><td>John</td><td>Chen</td></tr>",
                            "<tr><td>Ismael</td><td>Sciarra</td></tr>",
                            "<tr><td>Jose Manuel</td><td>Urman</td></tr>",
                            "<tr><td>Luis</td><td>Popp</td></tr>",
                            "<tr><td>Den</td><td>Raphaely</td></tr>",
                            "<tr><td>Alexander</td><td>Khoo</td></tr>",
                            "<tr><td>Shelli</td><td>Baida</td></tr>",
                            "<tr><td>Sigal</td><td>Tobias</td></tr>",
                            "<tr><td>Guy</td><td>Himuro</td></tr>",
                            "<tr><td>Karen</td><td>Colmenares</td></tr>",
                            "<tr><td>Matthew</td><td>Weiss</td></tr>",
                            "<tr><td>Adam</td><td>Fripp</td></tr>",
                            "<tr><td>Payam</td><td>Kaufling</td></tr>",
                            "<tr><td>Shanta</td><td>Vollman</td></tr>",
                            "<tr><td>Irene</td><td>Mikkilineni</td></tr>",
                            "<tr><td>John</td><td>Russell</td></tr>",
                            "<tr><td>Karen</td><td>Partners</td></tr>",
                            "<tr><td>Jonathon</td><td>Taylor</td></tr>",
                            "<tr><td>Jack</td><td>Livingston</td></tr>",
                            "<tr><td>Kimberely</td><td>Grant</td></tr>",
                            "<tr><td>Charles</td><td>Johnson</td></tr>",
                            "<tr><td>Sarah</td><td>Bell</td></tr>",
                            "<tr><td>Britney</td><td>Everett</td></tr>",
                            "<tr><td>Jennifer</td><td>Whalen</td></tr>",
                            "<tr><td>Michael</td><td>Hartstein</td></tr>",
                            "<tr><td>Pat</td><td>Fay</td></tr>",
                            "<tr><td>Susan</td><td>Mavris</td></tr>",
                            "<tr><td>Hermann</td><td>Baer</td></tr>",
                            "<tr><td>Shelley</td><td>Higgins</td></tr>",
                            "<tr><td>William</td><td>Gietz</td></tr>",
                            "</table>"
                        ]
                    }
                }
            ],
            "execution_count": 7
        },
        {
            "cell_type": "markdown",
            "source": [
                "Як витягнути інформацію про працівників та відділи (з назвами), у яких вони працюють?\n",
                "\n",
                "![](data:image/png;base64,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)"
            ],
            "metadata": {
                "azdata_cell_guid": "9350a02e-8f38-48d6-8e71-dca7142911cf"
            },
            "attachments": {}
        },
        {
            "cell_type": "code",
            "source": [
                "SELECT \r\n",
                "    e.first_name, \r\n",
                "    e.last_name,\r\n",
                "    d.department_name\r\n",
                "FROM\r\n",
                "    employees AS e,\r\n",
                "    departments AS d\r\n",
                "WHERE\r\n",
                "    e.department_id = d.department_id"
            ],
            "metadata": {
                "azdata_cell_guid": "73bd62df-eede-4953-a850-de3ec7181206",
                "language": "sql",
                "tags": []
            },
            "outputs": [
                {
                    "output_type": "display_data",
                    "data": {
                        "text/html": "(40 rows affected)"
                    },
                    "metadata": {}
                },
                {
                    "output_type": "display_data",
                    "data": {
                        "text/html": "Total execution time: 00:00:00.015"
                    },
                    "metadata": {}
                },
                {
                    "output_type": "execute_result",
                    "metadata": {},
                    "execution_count": 8,
                    "data": {
                        "application/vnd.dataresource+json": {
                            "schema": {
                                "fields": [
                                    {
                                        "name": "first_name"
                                    },
                                    {
                                        "name": "last_name"
                                    },
                                    {
                                        "name": "department_name"
                                    }
                                ]
                            },
                            "data": [
                                {
                                    "0": "Steven",
                                    "1": "King",
                                    "2": "Executive"
                                },
                                {
                                    "0": "Neena",
                                    "1": "Kochhar",
                                    "2": "Executive"
                                },
                                {
                                    "0": "Lex",
                                    "1": "De Haan",
                                    "2": "Executive"
                                },
                                {
                                    "0": "Alexander",
                                    "1": "Hunold",
                                    "2": "IT"
                                },
                                {
                                    "0": "Bruce",
                                    "1": "Ernst",
                                    "2": "IT"
                                },
                                {
                                    "0": "David",
                                    "1": "Austin",
                                    "2": "IT"
                                },
                                {
                                    "0": "Valli",
                                    "1": "Pataballa",
                                    "2": "IT"
                                },
                                {
                                    "0": "Diana",
                                    "1": "Lorentz",
                                    "2": "IT"
                                },
                                {
                                    "0": "Nancy",
                                    "1": "Greenberg",
                                    "2": "Finance"
                                },
                                {
                                    "0": "Daniel",
                                    "1": "Faviet",
                                    "2": "Finance"
                                },
                                {
                                    "0": "John",
                                    "1": "Chen",
                                    "2": "Finance"
                                },
                                {
                                    "0": "Ismael",
                                    "1": "Sciarra",
                                    "2": "Finance"
                                },
                                {
                                    "0": "Jose Manuel",
                                    "1": "Urman",
                                    "2": "Finance"
                                },
                                {
                                    "0": "Luis",
                                    "1": "Popp",
                                    "2": "Finance"
                                },
                                {
                                    "0": "Den",
                                    "1": "Raphaely",
                                    "2": "Purchasing"
                                },
                                {
                                    "0": "Alexander",
                                    "1": "Khoo",
                                    "2": "Purchasing"
                                },
                                {
                                    "0": "Shelli",
                                    "1": "Baida",
                                    "2": "Purchasing"
                                },
                                {
                                    "0": "Sigal",
                                    "1": "Tobias",
                                    "2": "Purchasing"
                                },
                                {
                                    "0": "Guy",
                                    "1": "Himuro",
                                    "2": "Purchasing"
                                },
                                {
                                    "0": "Karen",
                                    "1": "Colmenares",
                                    "2": "Purchasing"
                                },
                                {
                                    "0": "Matthew",
                                    "1": "Weiss",
                                    "2": "Shipping"
                                },
                                {
                                    "0": "Adam",
                                    "1": "Fripp",
                                    "2": "Shipping"
                                },
                                {
                                    "0": "Payam",
                                    "1": "Kaufling",
                                    "2": "Shipping"
                                },
                                {
                                    "0": "Shanta",
                                    "1": "Vollman",
                                    "2": "Shipping"
                                },
                                {
                                    "0": "Irene",
                                    "1": "Mikkilineni",
                                    "2": "Shipping"
                                },
                                {
                                    "0": "John",
                                    "1": "Russell",
                                    "2": "Sales"
                                },
                                {
                                    "0": "Karen",
                                    "1": "Partners",
                                    "2": "Sales"
                                },
                                {
                                    "0": "Jonathon",
                                    "1": "Taylor",
                                    "2": "Sales"
                                },
                                {
                                    "0": "Jack",
                                    "1": "Livingston",
                                    "2": "Sales"
                                },
                                {
                                    "0": "Kimberely",
                                    "1": "Grant",
                                    "2": "Sales"
                                },
                                {
                                    "0": "Charles",
                                    "1": "Johnson",
                                    "2": "Sales"
                                },
                                {
                                    "0": "Sarah",
                                    "1": "Bell",
                                    "2": "Shipping"
                                },
                                {
                                    "0": "Britney",
                                    "1": "Everett",
                                    "2": "Shipping"
                                },
                                {
                                    "0": "Jennifer",
                                    "1": "Whalen",
                                    "2": "Administration"
                                },
                                {
                                    "0": "Michael",
                                    "1": "Hartstein",
                                    "2": "Marketing"
                                },
                                {
                                    "0": "Pat",
                                    "1": "Fay",
                                    "2": "Marketing"
                                },
                                {
                                    "0": "Susan",
                                    "1": "Mavris",
                                    "2": "Human Resources"
                                },
                                {
                                    "0": "Hermann",
                                    "1": "Baer",
                                    "2": "Public Relations"
                                },
                                {
                                    "0": "Shelley",
                                    "1": "Higgins",
                                    "2": "Accounting"
                                },
                                {
                                    "0": "William",
                                    "1": "Gietz",
                                    "2": "Accounting"
                                }
                            ]
                        },
                        "text/html": [
                            "<table>",
                            "<tr><th>first_name</th><th>last_name</th><th>department_name</th></tr>",
                            "<tr><td>Steven</td><td>King</td><td>Executive</td></tr>",
                            "<tr><td>Neena</td><td>Kochhar</td><td>Executive</td></tr>",
                            "<tr><td>Lex</td><td>De Haan</td><td>Executive</td></tr>",
                            "<tr><td>Alexander</td><td>Hunold</td><td>IT</td></tr>",
                            "<tr><td>Bruce</td><td>Ernst</td><td>IT</td></tr>",
                            "<tr><td>David</td><td>Austin</td><td>IT</td></tr>",
                            "<tr><td>Valli</td><td>Pataballa</td><td>IT</td></tr>",
                            "<tr><td>Diana</td><td>Lorentz</td><td>IT</td></tr>",
                            "<tr><td>Nancy</td><td>Greenberg</td><td>Finance</td></tr>",
                            "<tr><td>Daniel</td><td>Faviet</td><td>Finance</td></tr>",
                            "<tr><td>John</td><td>Chen</td><td>Finance</td></tr>",
                            "<tr><td>Ismael</td><td>Sciarra</td><td>Finance</td></tr>",
                            "<tr><td>Jose Manuel</td><td>Urman</td><td>Finance</td></tr>",
                            "<tr><td>Luis</td><td>Popp</td><td>Finance</td></tr>",
                            "<tr><td>Den</td><td>Raphaely</td><td>Purchasing</td></tr>",
                            "<tr><td>Alexander</td><td>Khoo</td><td>Purchasing</td></tr>",
                            "<tr><td>Shelli</td><td>Baida</td><td>Purchasing</td></tr>",
                            "<tr><td>Sigal</td><td>Tobias</td><td>Purchasing</td></tr>",
                            "<tr><td>Guy</td><td>Himuro</td><td>Purchasing</td></tr>",
                            "<tr><td>Karen</td><td>Colmenares</td><td>Purchasing</td></tr>",
                            "<tr><td>Matthew</td><td>Weiss</td><td>Shipping</td></tr>",
                            "<tr><td>Adam</td><td>Fripp</td><td>Shipping</td></tr>",
                            "<tr><td>Payam</td><td>Kaufling</td><td>Shipping</td></tr>",
                            "<tr><td>Shanta</td><td>Vollman</td><td>Shipping</td></tr>",
                            "<tr><td>Irene</td><td>Mikkilineni</td><td>Shipping</td></tr>",
                            "<tr><td>John</td><td>Russell</td><td>Sales</td></tr>",
                            "<tr><td>Karen</td><td>Partners</td><td>Sales</td></tr>",
                            "<tr><td>Jonathon</td><td>Taylor</td><td>Sales</td></tr>",
                            "<tr><td>Jack</td><td>Livingston</td><td>Sales</td></tr>",
                            "<tr><td>Kimberely</td><td>Grant</td><td>Sales</td></tr>",
                            "<tr><td>Charles</td><td>Johnson</td><td>Sales</td></tr>",
                            "<tr><td>Sarah</td><td>Bell</td><td>Shipping</td></tr>",
                            "<tr><td>Britney</td><td>Everett</td><td>Shipping</td></tr>",
                            "<tr><td>Jennifer</td><td>Whalen</td><td>Administration</td></tr>",
                            "<tr><td>Michael</td><td>Hartstein</td><td>Marketing</td></tr>",
                            "<tr><td>Pat</td><td>Fay</td><td>Marketing</td></tr>",
                            "<tr><td>Susan</td><td>Mavris</td><td>Human Resources</td></tr>",
                            "<tr><td>Hermann</td><td>Baer</td><td>Public Relations</td></tr>",
                            "<tr><td>Shelley</td><td>Higgins</td><td>Accounting</td></tr>",
                            "<tr><td>William</td><td>Gietz</td><td>Accounting</td></tr>",
                            "</table>"
                        ]
                    }
                }
            ],
            "execution_count": 8
        }
    ]
}