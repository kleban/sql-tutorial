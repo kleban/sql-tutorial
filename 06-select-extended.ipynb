{
    "metadata": {
        "kernelspec": {
            "name": "SQL",
            "display_name": "SQL",
            "language": "sql"
        },
        "language_info": {
            "name": "sql",
            "version": ""
        }
    },
    "nbformat_minor": 2,
    "nbformat": 4,
    "cells": [
        {
            "cell_type": "markdown",
            "source": [
                "# SELECT +"
            ],
            "metadata": {
                "azdata_cell_guid": "5e53f735-8164-4b15-8566-cec464ced1a9"
            },
            "attachments": {}
        },
        {
            "cell_type": "code",
            "source": [
                "use hr_db"
            ],
            "metadata": {
                "azdata_cell_guid": "f58e05c7-bde1-4785-abd9-8575e74736c1",
                "language": "sql"
            },
            "outputs": [],
            "execution_count": 1
        },
        {
            "cell_type": "markdown",
            "source": [
                "## DISTINCT"
            ],
            "metadata": {
                "azdata_cell_guid": "620446fe-4169-4114-b6e2-60c34f74372a"
            },
            "attachments": {}
        },
        {
            "cell_type": "code",
            "source": [
                "SELECT \r\n",
                "    salary\r\n",
                "FROM\r\n",
                "    employees\r\n",
                "ORDER BY salary DESC;"
            ],
            "metadata": {
                "azdata_cell_guid": "376dd397-3fe3-4e6c-9a86-df2e8d4bef55",
                "language": "sql"
            },
            "outputs": [],
            "execution_count": 2
        },
        {
            "cell_type": "code",
            "source": [
                "SELECT \r\n",
                "    DISTINCT salary\r\n",
                "FROM\r\n",
                "    employees\r\n",
                "ORDER BY salary DESC;"
            ],
            "metadata": {
                "language": "sql",
                "azdata_cell_guid": "a9d57e13-401a-40a4-a463-cab0bc132ce7"
            },
            "outputs": [],
            "execution_count": 3
        },
        {
            "cell_type": "code",
            "source": [
                "SELECT\r\n",
                "\tjob_id,\r\n",
                "\tsalary\r\n",
                "FROM\r\n",
                "\temployees\r\n",
                "ORDER BY\r\n",
                "\tjob_id,\r\n",
                "\tsalary DESC;"
            ],
            "metadata": {
                "language": "sql",
                "azdata_cell_guid": "942cb521-b436-4b3d-ac35-e3541e01fd72"
            },
            "outputs": [],
            "execution_count": 4
        },
        {
            "cell_type": "code",
            "source": [
                "SELECT DISTINCT\r\n",
                "\tjob_id,\r\n",
                "\tsalary\r\n",
                "FROM\r\n",
                "\temployees\r\n",
                "ORDER BY\r\n",
                "\tjob_id,\r\n",
                "\tsalary DESC;"
            ],
            "metadata": {
                "language": "sql",
                "azdata_cell_guid": "430a21ec-a4af-43d3-8684-a3f82b42bf6a"
            },
            "outputs": [],
            "execution_count": 5
        },
        {
            "cell_type": "markdown",
            "source": [
                "# DISTINCT RETURNS NULL"
            ],
            "metadata": {
                "language": "sql",
                "azdata_cell_guid": "28fc974f-7419-440d-82e7-a79abe216d74"
            },
            "attachments": {}
        },
        {
            "cell_type": "code",
            "source": [
                "SELECT DISTINCT phone_number\r\n",
                "FROM employees\r\n",
                "ORDER BY phone_number;"
            ],
            "metadata": {
                "language": "sql",
                "azdata_cell_guid": "b0100304-2d33-4854-91d4-f1c1fe372d14"
            },
            "outputs": [],
            "execution_count": 6
        },
        {
            "cell_type": "markdown",
            "source": [
                "## LIMIT"
            ],
            "metadata": {
                "azdata_cell_guid": "13c358b9-e010-4895-a3e0-813ef985aff9"
            },
            "attachments": {}
        },
        {
            "cell_type": "markdown",
            "source": [
                "not works on sql-server:\n",
                "\n",
                "LIMIT - how many return\n",
                "\n",
                "OFFSET - how many skip"
            ],
            "metadata": {
                "azdata_cell_guid": "82f40388-924f-4e99-a36b-a285b79f0141"
            },
            "attachments": {}
        },
        {
            "cell_type": "code",
            "source": [
                "SELECT \r\n",
                "    employee_id, \r\n",
                "    first_name, \r\n",
                "    last_name\r\n",
                "FROM\r\n",
                "    employees\r\n",
                "ORDER BY \r\n",
                "\tfirst_name\r\n",
                "LIMIT 5 "
            ],
            "metadata": {
                "azdata_cell_guid": "74968973-97ed-425b-ab43-0b9f0e8b925b",
                "language": "sql"
            },
            "outputs": [],
            "execution_count": 9
        },
        {
            "cell_type": "code",
            "source": [
                "SELECT TOP 10\r\n",
                "    employee_id, \r\n",
                "    first_name, \r\n",
                "    last_name\r\n",
                "FROM\r\n",
                "    employees\r\n",
                "ORDER BY \r\n",
                "\tfirst_name"
            ],
            "metadata": {
                "language": "sql",
                "azdata_cell_guid": "6486de1f-ca1b-432d-adbd-93de97e132c7"
            },
            "outputs": [],
            "execution_count": 17
        },
        {
            "cell_type": "code",
            "source": [
                "SELECT employee_id, \r\n",
                "    first_name, \r\n",
                "    last_name\r\n",
                "FROM\r\n",
                "    employees\r\n",
                "ORDER BY \r\n",
                "\tfirst_name\r\n",
                "OFFSET 5 ROWS\r\n",
                "FETCH NEXT 5 ROWS ONLY"
            ],
            "metadata": {
                "language": "sql",
                "azdata_cell_guid": "f837f2cf-b5bb-4604-902d-1744bb56e13a"
            },
            "outputs": [],
            "execution_count": 19
        },
        {
            "cell_type": "markdown",
            "source": [
                "Витягнемо інформацію про працівника з найвищою зарплатою"
            ],
            "metadata": {
                "language": "sql",
                "azdata_cell_guid": "869c2596-f13c-45db-8756-01f7dc21313b"
            },
            "attachments": {}
        },
        {
            "cell_type": "code",
            "source": [
                "SELECT TOP 10\r\n",
                "            salary\r\n",
                "        FROM\r\n",
                "            employees\r\n",
                "        ORDER BY salary DESC"
            ],
            "metadata": {
                "language": "sql",
                "azdata_cell_guid": "22fc7e2f-e03b-407e-a2a8-29bec8db3e6b"
            },
            "outputs": [],
            "execution_count": 22
        },
        {
            "cell_type": "code",
            "source": [
                "SELECT \r\n",
                "    employee_id, first_name, last_name, salary\r\n",
                "FROM\r\n",
                "    employees\r\n",
                "WHERE\r\n",
                "    salary = (SELECT TOP 1\r\n",
                "            salary\r\n",
                "        FROM\r\n",
                "            employees\r\n",
                "        ORDER BY salary DESC\r\n",
                "        );"
            ],
            "metadata": {
                "language": "sql",
                "azdata_cell_guid": "3ccdedf6-17b3-42fb-a20a-f7d9db686ec7"
            },
            "outputs": [],
            "execution_count": 23
        },
        {
            "cell_type": "code",
            "source": [
                "SELECT \r\n",
                "    employee_id, \r\n",
                "    first_name, \r\n",
                "    last_name, \r\n",
                "    salary\r\n",
                "FROM employees\r\n",
                "ORDER BY \r\n",
                "    salary DESC\r\n",
                "OFFSET 0 ROWS\r\n",
                "FETCH NEXT 1 ROWS ONLY;"
            ],
            "metadata": {
                "language": "sql",
                "azdata_cell_guid": "c5b3db85-e07f-4a9f-9774-ea251ac067dd"
            },
            "outputs": [],
            "execution_count": 24
        }
    ]
}