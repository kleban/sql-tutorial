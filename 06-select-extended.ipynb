{
    "metadata": {
        "kernelspec": {
            "name": "SQL",
            "display_name": "SQL",
            "language": "sql"
        },
        "language_info": {
            "name": "sql",
            "version": ""
        }
    },
    "nbformat_minor": 2,
    "nbformat": 4,
    "cells": [
        {
            "cell_type": "markdown",
            "source": [
                "# SELECT +"
            ],
            "metadata": {
                "azdata_cell_guid": "5e53f735-8164-4b15-8566-cec464ced1a9"
            },
            "attachments": {}
        },
        {
            "cell_type": "code",
            "source": [
                "use hr_db"
            ],
            "metadata": {
                "azdata_cell_guid": "f58e05c7-bde1-4785-abd9-8575e74736c1",
                "language": "sql"
            },
            "outputs": [
                {
                    "output_type": "display_data",
                    "data": {
                        "text/html": "Commands completed successfully."
                    },
                    "metadata": {}
                },
                {
                    "output_type": "display_data",
                    "data": {
                        "text/html": "Total execution time: 00:00:00"
                    },
                    "metadata": {}
                }
            ],
            "execution_count": 1
        },
        {
            "cell_type": "markdown",
            "source": [
                "## DISTINCT"
            ],
            "metadata": {
                "azdata_cell_guid": "620446fe-4169-4114-b6e2-60c34f74372a"
            },
            "attachments": {}
        },
        {
            "cell_type": "code",
            "source": [
                "SELECT \r\n",
                "    salary\r\n",
                "FROM\r\n",
                "    employees\r\n",
                "ORDER BY salary DESC;"
            ],
            "metadata": {
                "azdata_cell_guid": "376dd397-3fe3-4e6c-9a86-df2e8d4bef55",
                "language": "sql"
            },
            "outputs": [
                {
                    "output_type": "display_data",
                    "data": {
                        "text/html": "(40 rows affected)"
                    },
                    "metadata": {}
                },
                {
                    "output_type": "display_data",
                    "data": {
                        "text/html": "Total execution time: 00:00:00.032"
                    },
                    "metadata": {}
                },
                {
                    "output_type": "execute_result",
                    "metadata": {},
                    "execution_count": 2,
                    "data": {
                        "application/vnd.dataresource+json": {
                            "schema": {
                                "fields": [
                                    {
                                        "name": "salary"
                                    }
                                ]
                            },
                            "data": [
                                {
                                    "0": "24000.00"
                                },
                                {
                                    "0": "17000.00"
                                },
                                {
                                    "0": "17000.00"
                                },
                                {
                                    "0": "14000.00"
                                },
                                {
                                    "0": "13500.00"
                                },
                                {
                                    "0": "13000.00"
                                },
                                {
                                    "0": "12000.00"
                                },
                                {
                                    "0": "12000.00"
                                },
                                {
                                    "0": "11000.00"
                                },
                                {
                                    "0": "10000.00"
                                },
                                {
                                    "0": "9000.00"
                                },
                                {
                                    "0": "9000.00"
                                },
                                {
                                    "0": "8600.00"
                                },
                                {
                                    "0": "8400.00"
                                },
                                {
                                    "0": "8300.00"
                                },
                                {
                                    "0": "8200.00"
                                },
                                {
                                    "0": "8200.00"
                                },
                                {
                                    "0": "8000.00"
                                },
                                {
                                    "0": "7900.00"
                                },
                                {
                                    "0": "7800.00"
                                },
                                {
                                    "0": "7700.00"
                                },
                                {
                                    "0": "7000.00"
                                },
                                {
                                    "0": "6900.00"
                                },
                                {
                                    "0": "6500.00"
                                },
                                {
                                    "0": "6500.00"
                                },
                                {
                                    "0": "6200.00"
                                },
                                {
                                    "0": "6000.00"
                                },
                                {
                                    "0": "6000.00"
                                },
                                {
                                    "0": "4800.00"
                                },
                                {
                                    "0": "4800.00"
                                },
                                {
                                    "0": "4400.00"
                                },
                                {
                                    "0": "4200.00"
                                },
                                {
                                    "0": "4000.00"
                                },
                                {
                                    "0": "3900.00"
                                },
                                {
                                    "0": "3100.00"
                                },
                                {
                                    "0": "2900.00"
                                },
                                {
                                    "0": "2800.00"
                                },
                                {
                                    "0": "2700.00"
                                },
                                {
                                    "0": "2600.00"
                                },
                                {
                                    "0": "2500.00"
                                }
                            ]
                        },
                        "text/html": [
                            "<table>",
                            "<tr><th>salary</th></tr>",
                            "<tr><td>24000.00</td></tr>",
                            "<tr><td>17000.00</td></tr>",
                            "<tr><td>17000.00</td></tr>",
                            "<tr><td>14000.00</td></tr>",
                            "<tr><td>13500.00</td></tr>",
                            "<tr><td>13000.00</td></tr>",
                            "<tr><td>12000.00</td></tr>",
                            "<tr><td>12000.00</td></tr>",
                            "<tr><td>11000.00</td></tr>",
                            "<tr><td>10000.00</td></tr>",
                            "<tr><td>9000.00</td></tr>",
                            "<tr><td>9000.00</td></tr>",
                            "<tr><td>8600.00</td></tr>",
                            "<tr><td>8400.00</td></tr>",
                            "<tr><td>8300.00</td></tr>",
                            "<tr><td>8200.00</td></tr>",
                            "<tr><td>8200.00</td></tr>",
                            "<tr><td>8000.00</td></tr>",
                            "<tr><td>7900.00</td></tr>",
                            "<tr><td>7800.00</td></tr>",
                            "<tr><td>7700.00</td></tr>",
                            "<tr><td>7000.00</td></tr>",
                            "<tr><td>6900.00</td></tr>",
                            "<tr><td>6500.00</td></tr>",
                            "<tr><td>6500.00</td></tr>",
                            "<tr><td>6200.00</td></tr>",
                            "<tr><td>6000.00</td></tr>",
                            "<tr><td>6000.00</td></tr>",
                            "<tr><td>4800.00</td></tr>",
                            "<tr><td>4800.00</td></tr>",
                            "<tr><td>4400.00</td></tr>",
                            "<tr><td>4200.00</td></tr>",
                            "<tr><td>4000.00</td></tr>",
                            "<tr><td>3900.00</td></tr>",
                            "<tr><td>3100.00</td></tr>",
                            "<tr><td>2900.00</td></tr>",
                            "<tr><td>2800.00</td></tr>",
                            "<tr><td>2700.00</td></tr>",
                            "<tr><td>2600.00</td></tr>",
                            "<tr><td>2500.00</td></tr>",
                            "</table>"
                        ]
                    }
                }
            ],
            "execution_count": 2
        },
        {
            "cell_type": "code",
            "source": [
                "SELECT \r\n",
                "    DISTINCT salary\r\n",
                "FROM\r\n",
                "    employees\r\n",
                "ORDER BY salary DESC;"
            ],
            "metadata": {
                "language": "sql",
                "azdata_cell_guid": "a9d57e13-401a-40a4-a463-cab0bc132ce7"
            },
            "outputs": [
                {
                    "output_type": "display_data",
                    "data": {
                        "text/html": "(33 rows affected)"
                    },
                    "metadata": {}
                },
                {
                    "output_type": "display_data",
                    "data": {
                        "text/html": "Total execution time: 00:00:00.014"
                    },
                    "metadata": {}
                },
                {
                    "output_type": "execute_result",
                    "metadata": {},
                    "execution_count": 3,
                    "data": {
                        "application/vnd.dataresource+json": {
                            "schema": {
                                "fields": [
                                    {
                                        "name": "salary"
                                    }
                                ]
                            },
                            "data": [
                                {
                                    "0": "24000.00"
                                },
                                {
                                    "0": "17000.00"
                                },
                                {
                                    "0": "14000.00"
                                },
                                {
                                    "0": "13500.00"
                                },
                                {
                                    "0": "13000.00"
                                },
                                {
                                    "0": "12000.00"
                                },
                                {
                                    "0": "11000.00"
                                },
                                {
                                    "0": "10000.00"
                                },
                                {
                                    "0": "9000.00"
                                },
                                {
                                    "0": "8600.00"
                                },
                                {
                                    "0": "8400.00"
                                },
                                {
                                    "0": "8300.00"
                                },
                                {
                                    "0": "8200.00"
                                },
                                {
                                    "0": "8000.00"
                                },
                                {
                                    "0": "7900.00"
                                },
                                {
                                    "0": "7800.00"
                                },
                                {
                                    "0": "7700.00"
                                },
                                {
                                    "0": "7000.00"
                                },
                                {
                                    "0": "6900.00"
                                },
                                {
                                    "0": "6500.00"
                                },
                                {
                                    "0": "6200.00"
                                },
                                {
                                    "0": "6000.00"
                                },
                                {
                                    "0": "4800.00"
                                },
                                {
                                    "0": "4400.00"
                                },
                                {
                                    "0": "4200.00"
                                },
                                {
                                    "0": "4000.00"
                                },
                                {
                                    "0": "3900.00"
                                },
                                {
                                    "0": "3100.00"
                                },
                                {
                                    "0": "2900.00"
                                },
                                {
                                    "0": "2800.00"
                                },
                                {
                                    "0": "2700.00"
                                },
                                {
                                    "0": "2600.00"
                                },
                                {
                                    "0": "2500.00"
                                }
                            ]
                        },
                        "text/html": [
                            "<table>",
                            "<tr><th>salary</th></tr>",
                            "<tr><td>24000.00</td></tr>",
                            "<tr><td>17000.00</td></tr>",
                            "<tr><td>14000.00</td></tr>",
                            "<tr><td>13500.00</td></tr>",
                            "<tr><td>13000.00</td></tr>",
                            "<tr><td>12000.00</td></tr>",
                            "<tr><td>11000.00</td></tr>",
                            "<tr><td>10000.00</td></tr>",
                            "<tr><td>9000.00</td></tr>",
                            "<tr><td>8600.00</td></tr>",
                            "<tr><td>8400.00</td></tr>",
                            "<tr><td>8300.00</td></tr>",
                            "<tr><td>8200.00</td></tr>",
                            "<tr><td>8000.00</td></tr>",
                            "<tr><td>7900.00</td></tr>",
                            "<tr><td>7800.00</td></tr>",
                            "<tr><td>7700.00</td></tr>",
                            "<tr><td>7000.00</td></tr>",
                            "<tr><td>6900.00</td></tr>",
                            "<tr><td>6500.00</td></tr>",
                            "<tr><td>6200.00</td></tr>",
                            "<tr><td>6000.00</td></tr>",
                            "<tr><td>4800.00</td></tr>",
                            "<tr><td>4400.00</td></tr>",
                            "<tr><td>4200.00</td></tr>",
                            "<tr><td>4000.00</td></tr>",
                            "<tr><td>3900.00</td></tr>",
                            "<tr><td>3100.00</td></tr>",
                            "<tr><td>2900.00</td></tr>",
                            "<tr><td>2800.00</td></tr>",
                            "<tr><td>2700.00</td></tr>",
                            "<tr><td>2600.00</td></tr>",
                            "<tr><td>2500.00</td></tr>",
                            "</table>"
                        ]
                    }
                }
            ],
            "execution_count": 3
        },
        {
            "cell_type": "code",
            "source": [
                "SELECT\r\n",
                "\tjob_id,\r\n",
                "\tsalary\r\n",
                "FROM\r\n",
                "\temployees\r\n",
                "ORDER BY\r\n",
                "\tjob_id,\r\n",
                "\tsalary DESC;"
            ],
            "metadata": {
                "language": "sql",
                "azdata_cell_guid": "942cb521-b436-4b3d-ac35-e3541e01fd72"
            },
            "outputs": [
                {
                    "output_type": "display_data",
                    "data": {
                        "text/html": "(40 rows affected)"
                    },
                    "metadata": {}
                },
                {
                    "output_type": "display_data",
                    "data": {
                        "text/html": "Total execution time: 00:00:00.009"
                    },
                    "metadata": {}
                },
                {
                    "output_type": "execute_result",
                    "metadata": {},
                    "execution_count": 4,
                    "data": {
                        "application/vnd.dataresource+json": {
                            "schema": {
                                "fields": [
                                    {
                                        "name": "job_id"
                                    },
                                    {
                                        "name": "salary"
                                    }
                                ]
                            },
                            "data": [
                                {
                                    "0": "1",
                                    "1": "8300.00"
                                },
                                {
                                    "0": "2",
                                    "1": "12000.00"
                                },
                                {
                                    "0": "3",
                                    "1": "4400.00"
                                },
                                {
                                    "0": "4",
                                    "1": "24000.00"
                                },
                                {
                                    "0": "5",
                                    "1": "17000.00"
                                },
                                {
                                    "0": "5",
                                    "1": "17000.00"
                                },
                                {
                                    "0": "6",
                                    "1": "9000.00"
                                },
                                {
                                    "0": "6",
                                    "1": "8200.00"
                                },
                                {
                                    "0": "6",
                                    "1": "7800.00"
                                },
                                {
                                    "0": "6",
                                    "1": "7700.00"
                                },
                                {
                                    "0": "6",
                                    "1": "6900.00"
                                },
                                {
                                    "0": "7",
                                    "1": "12000.00"
                                },
                                {
                                    "0": "8",
                                    "1": "6500.00"
                                },
                                {
                                    "0": "9",
                                    "1": "9000.00"
                                },
                                {
                                    "0": "9",
                                    "1": "6000.00"
                                },
                                {
                                    "0": "9",
                                    "1": "4800.00"
                                },
                                {
                                    "0": "9",
                                    "1": "4800.00"
                                },
                                {
                                    "0": "9",
                                    "1": "4200.00"
                                },
                                {
                                    "0": "10",
                                    "1": "13000.00"
                                },
                                {
                                    "0": "11",
                                    "1": "6000.00"
                                },
                                {
                                    "0": "12",
                                    "1": "10000.00"
                                },
                                {
                                    "0": "13",
                                    "1": "3100.00"
                                },
                                {
                                    "0": "13",
                                    "1": "2900.00"
                                },
                                {
                                    "0": "13",
                                    "1": "2800.00"
                                },
                                {
                                    "0": "13",
                                    "1": "2600.00"
                                },
                                {
                                    "0": "13",
                                    "1": "2500.00"
                                },
                                {
                                    "0": "14",
                                    "1": "11000.00"
                                },
                                {
                                    "0": "15",
                                    "1": "14000.00"
                                },
                                {
                                    "0": "15",
                                    "1": "13500.00"
                                },
                                {
                                    "0": "16",
                                    "1": "8600.00"
                                },
                                {
                                    "0": "16",
                                    "1": "8400.00"
                                },
                                {
                                    "0": "16",
                                    "1": "7000.00"
                                },
                                {
                                    "0": "16",
                                    "1": "6200.00"
                                },
                                {
                                    "0": "17",
                                    "1": "4000.00"
                                },
                                {
                                    "0": "17",
                                    "1": "3900.00"
                                },
                                {
                                    "0": "18",
                                    "1": "2700.00"
                                },
                                {
                                    "0": "19",
                                    "1": "8200.00"
                                },
                                {
                                    "0": "19",
                                    "1": "8000.00"
                                },
                                {
                                    "0": "19",
                                    "1": "7900.00"
                                },
                                {
                                    "0": "19",
                                    "1": "6500.00"
                                }
                            ]
                        },
                        "text/html": [
                            "<table>",
                            "<tr><th>job_id</th><th>salary</th></tr>",
                            "<tr><td>1</td><td>8300.00</td></tr>",
                            "<tr><td>2</td><td>12000.00</td></tr>",
                            "<tr><td>3</td><td>4400.00</td></tr>",
                            "<tr><td>4</td><td>24000.00</td></tr>",
                            "<tr><td>5</td><td>17000.00</td></tr>",
                            "<tr><td>5</td><td>17000.00</td></tr>",
                            "<tr><td>6</td><td>9000.00</td></tr>",
                            "<tr><td>6</td><td>8200.00</td></tr>",
                            "<tr><td>6</td><td>7800.00</td></tr>",
                            "<tr><td>6</td><td>7700.00</td></tr>",
                            "<tr><td>6</td><td>6900.00</td></tr>",
                            "<tr><td>7</td><td>12000.00</td></tr>",
                            "<tr><td>8</td><td>6500.00</td></tr>",
                            "<tr><td>9</td><td>9000.00</td></tr>",
                            "<tr><td>9</td><td>6000.00</td></tr>",
                            "<tr><td>9</td><td>4800.00</td></tr>",
                            "<tr><td>9</td><td>4800.00</td></tr>",
                            "<tr><td>9</td><td>4200.00</td></tr>",
                            "<tr><td>10</td><td>13000.00</td></tr>",
                            "<tr><td>11</td><td>6000.00</td></tr>",
                            "<tr><td>12</td><td>10000.00</td></tr>",
                            "<tr><td>13</td><td>3100.00</td></tr>",
                            "<tr><td>13</td><td>2900.00</td></tr>",
                            "<tr><td>13</td><td>2800.00</td></tr>",
                            "<tr><td>13</td><td>2600.00</td></tr>",
                            "<tr><td>13</td><td>2500.00</td></tr>",
                            "<tr><td>14</td><td>11000.00</td></tr>",
                            "<tr><td>15</td><td>14000.00</td></tr>",
                            "<tr><td>15</td><td>13500.00</td></tr>",
                            "<tr><td>16</td><td>8600.00</td></tr>",
                            "<tr><td>16</td><td>8400.00</td></tr>",
                            "<tr><td>16</td><td>7000.00</td></tr>",
                            "<tr><td>16</td><td>6200.00</td></tr>",
                            "<tr><td>17</td><td>4000.00</td></tr>",
                            "<tr><td>17</td><td>3900.00</td></tr>",
                            "<tr><td>18</td><td>2700.00</td></tr>",
                            "<tr><td>19</td><td>8200.00</td></tr>",
                            "<tr><td>19</td><td>8000.00</td></tr>",
                            "<tr><td>19</td><td>7900.00</td></tr>",
                            "<tr><td>19</td><td>6500.00</td></tr>",
                            "</table>"
                        ]
                    }
                }
            ],
            "execution_count": 4
        },
        {
            "cell_type": "code",
            "source": [
                "SELECT DISTINCT\r\n",
                "\tjob_id,\r\n",
                "\tsalary\r\n",
                "FROM\r\n",
                "\temployees\r\n",
                "ORDER BY\r\n",
                "\tjob_id,\r\n",
                "\tsalary DESC;"
            ],
            "metadata": {
                "language": "sql",
                "azdata_cell_guid": "430a21ec-a4af-43d3-8684-a3f82b42bf6a"
            },
            "outputs": [
                {
                    "output_type": "display_data",
                    "data": {
                        "text/html": "(38 rows affected)"
                    },
                    "metadata": {}
                },
                {
                    "output_type": "display_data",
                    "data": {
                        "text/html": "Total execution time: 00:00:00.019"
                    },
                    "metadata": {}
                },
                {
                    "output_type": "execute_result",
                    "metadata": {},
                    "execution_count": 5,
                    "data": {
                        "application/vnd.dataresource+json": {
                            "schema": {
                                "fields": [
                                    {
                                        "name": "job_id"
                                    },
                                    {
                                        "name": "salary"
                                    }
                                ]
                            },
                            "data": [
                                {
                                    "0": "1",
                                    "1": "8300.00"
                                },
                                {
                                    "0": "2",
                                    "1": "12000.00"
                                },
                                {
                                    "0": "3",
                                    "1": "4400.00"
                                },
                                {
                                    "0": "4",
                                    "1": "24000.00"
                                },
                                {
                                    "0": "5",
                                    "1": "17000.00"
                                },
                                {
                                    "0": "6",
                                    "1": "9000.00"
                                },
                                {
                                    "0": "6",
                                    "1": "8200.00"
                                },
                                {
                                    "0": "6",
                                    "1": "7800.00"
                                },
                                {
                                    "0": "6",
                                    "1": "7700.00"
                                },
                                {
                                    "0": "6",
                                    "1": "6900.00"
                                },
                                {
                                    "0": "7",
                                    "1": "12000.00"
                                },
                                {
                                    "0": "8",
                                    "1": "6500.00"
                                },
                                {
                                    "0": "9",
                                    "1": "9000.00"
                                },
                                {
                                    "0": "9",
                                    "1": "6000.00"
                                },
                                {
                                    "0": "9",
                                    "1": "4800.00"
                                },
                                {
                                    "0": "9",
                                    "1": "4200.00"
                                },
                                {
                                    "0": "10",
                                    "1": "13000.00"
                                },
                                {
                                    "0": "11",
                                    "1": "6000.00"
                                },
                                {
                                    "0": "12",
                                    "1": "10000.00"
                                },
                                {
                                    "0": "13",
                                    "1": "3100.00"
                                },
                                {
                                    "0": "13",
                                    "1": "2900.00"
                                },
                                {
                                    "0": "13",
                                    "1": "2800.00"
                                },
                                {
                                    "0": "13",
                                    "1": "2600.00"
                                },
                                {
                                    "0": "13",
                                    "1": "2500.00"
                                },
                                {
                                    "0": "14",
                                    "1": "11000.00"
                                },
                                {
                                    "0": "15",
                                    "1": "14000.00"
                                },
                                {
                                    "0": "15",
                                    "1": "13500.00"
                                },
                                {
                                    "0": "16",
                                    "1": "8600.00"
                                },
                                {
                                    "0": "16",
                                    "1": "8400.00"
                                },
                                {
                                    "0": "16",
                                    "1": "7000.00"
                                },
                                {
                                    "0": "16",
                                    "1": "6200.00"
                                },
                                {
                                    "0": "17",
                                    "1": "4000.00"
                                },
                                {
                                    "0": "17",
                                    "1": "3900.00"
                                },
                                {
                                    "0": "18",
                                    "1": "2700.00"
                                },
                                {
                                    "0": "19",
                                    "1": "8200.00"
                                },
                                {
                                    "0": "19",
                                    "1": "8000.00"
                                },
                                {
                                    "0": "19",
                                    "1": "7900.00"
                                },
                                {
                                    "0": "19",
                                    "1": "6500.00"
                                }
                            ]
                        },
                        "text/html": [
                            "<table>",
                            "<tr><th>job_id</th><th>salary</th></tr>",
                            "<tr><td>1</td><td>8300.00</td></tr>",
                            "<tr><td>2</td><td>12000.00</td></tr>",
                            "<tr><td>3</td><td>4400.00</td></tr>",
                            "<tr><td>4</td><td>24000.00</td></tr>",
                            "<tr><td>5</td><td>17000.00</td></tr>",
                            "<tr><td>6</td><td>9000.00</td></tr>",
                            "<tr><td>6</td><td>8200.00</td></tr>",
                            "<tr><td>6</td><td>7800.00</td></tr>",
                            "<tr><td>6</td><td>7700.00</td></tr>",
                            "<tr><td>6</td><td>6900.00</td></tr>",
                            "<tr><td>7</td><td>12000.00</td></tr>",
                            "<tr><td>8</td><td>6500.00</td></tr>",
                            "<tr><td>9</td><td>9000.00</td></tr>",
                            "<tr><td>9</td><td>6000.00</td></tr>",
                            "<tr><td>9</td><td>4800.00</td></tr>",
                            "<tr><td>9</td><td>4200.00</td></tr>",
                            "<tr><td>10</td><td>13000.00</td></tr>",
                            "<tr><td>11</td><td>6000.00</td></tr>",
                            "<tr><td>12</td><td>10000.00</td></tr>",
                            "<tr><td>13</td><td>3100.00</td></tr>",
                            "<tr><td>13</td><td>2900.00</td></tr>",
                            "<tr><td>13</td><td>2800.00</td></tr>",
                            "<tr><td>13</td><td>2600.00</td></tr>",
                            "<tr><td>13</td><td>2500.00</td></tr>",
                            "<tr><td>14</td><td>11000.00</td></tr>",
                            "<tr><td>15</td><td>14000.00</td></tr>",
                            "<tr><td>15</td><td>13500.00</td></tr>",
                            "<tr><td>16</td><td>8600.00</td></tr>",
                            "<tr><td>16</td><td>8400.00</td></tr>",
                            "<tr><td>16</td><td>7000.00</td></tr>",
                            "<tr><td>16</td><td>6200.00</td></tr>",
                            "<tr><td>17</td><td>4000.00</td></tr>",
                            "<tr><td>17</td><td>3900.00</td></tr>",
                            "<tr><td>18</td><td>2700.00</td></tr>",
                            "<tr><td>19</td><td>8200.00</td></tr>",
                            "<tr><td>19</td><td>8000.00</td></tr>",
                            "<tr><td>19</td><td>7900.00</td></tr>",
                            "<tr><td>19</td><td>6500.00</td></tr>",
                            "</table>"
                        ]
                    }
                }
            ],
            "execution_count": 5
        },
        {
            "cell_type": "markdown",
            "source": [
                "# DISTINCT RETURNS NULL"
            ],
            "metadata": {
                "language": "sql",
                "azdata_cell_guid": "28fc974f-7419-440d-82e7-a79abe216d74"
            },
            "attachments": {}
        },
        {
            "cell_type": "code",
            "source": [
                "SELECT DISTINCT phone_number\r\n",
                "FROM employees\r\n",
                "ORDER BY phone_number;"
            ],
            "metadata": {
                "language": "sql",
                "azdata_cell_guid": "b0100304-2d33-4854-91d4-f1c1fe372d14"
            },
            "outputs": [
                {
                    "output_type": "display_data",
                    "data": {
                        "text/html": "(35 rows affected)"
                    },
                    "metadata": {}
                },
                {
                    "output_type": "display_data",
                    "data": {
                        "text/html": "Total execution time: 00:00:00.011"
                    },
                    "metadata": {}
                },
                {
                    "output_type": "execute_result",
                    "metadata": {},
                    "execution_count": 6,
                    "data": {
                        "application/vnd.dataresource+json": {
                            "schema": {
                                "fields": [
                                    {
                                        "name": "phone_number"
                                    }
                                ]
                            },
                            "data": [
                                {
                                    "0": "NULL"
                                },
                                {
                                    "0": "515.123.4444"
                                },
                                {
                                    "0": "515.123.4567"
                                },
                                {
                                    "0": "515.123.4568"
                                },
                                {
                                    "0": "515.123.4569"
                                },
                                {
                                    "0": "515.123.5555"
                                },
                                {
                                    "0": "515.123.7777"
                                },
                                {
                                    "0": "515.123.8080"
                                },
                                {
                                    "0": "515.123.8181"
                                },
                                {
                                    "0": "515.123.8888"
                                },
                                {
                                    "0": "515.124.4169"
                                },
                                {
                                    "0": "515.124.4269"
                                },
                                {
                                    "0": "515.124.4369"
                                },
                                {
                                    "0": "515.124.4469"
                                },
                                {
                                    "0": "515.124.4567"
                                },
                                {
                                    "0": "515.124.4569"
                                },
                                {
                                    "0": "515.127.4561"
                                },
                                {
                                    "0": "515.127.4562"
                                },
                                {
                                    "0": "515.127.4563"
                                },
                                {
                                    "0": "515.127.4564"
                                },
                                {
                                    "0": "515.127.4565"
                                },
                                {
                                    "0": "515.127.4566"
                                },
                                {
                                    "0": "590.423.4560"
                                },
                                {
                                    "0": "590.423.4567"
                                },
                                {
                                    "0": "590.423.4568"
                                },
                                {
                                    "0": "590.423.4569"
                                },
                                {
                                    "0": "590.423.5567"
                                },
                                {
                                    "0": "603.123.6666"
                                },
                                {
                                    "0": "650.123.1234"
                                },
                                {
                                    "0": "650.123.2234"
                                },
                                {
                                    "0": "650.123.3234"
                                },
                                {
                                    "0": "650.123.4234"
                                },
                                {
                                    "0": "650.124.1224"
                                },
                                {
                                    "0": "650.501.1876"
                                },
                                {
                                    "0": "650.501.2876"
                                }
                            ]
                        },
                        "text/html": [
                            "<table>",
                            "<tr><th>phone_number</th></tr>",
                            "<tr><td>NULL</td></tr>",
                            "<tr><td>515.123.4444</td></tr>",
                            "<tr><td>515.123.4567</td></tr>",
                            "<tr><td>515.123.4568</td></tr>",
                            "<tr><td>515.123.4569</td></tr>",
                            "<tr><td>515.123.5555</td></tr>",
                            "<tr><td>515.123.7777</td></tr>",
                            "<tr><td>515.123.8080</td></tr>",
                            "<tr><td>515.123.8181</td></tr>",
                            "<tr><td>515.123.8888</td></tr>",
                            "<tr><td>515.124.4169</td></tr>",
                            "<tr><td>515.124.4269</td></tr>",
                            "<tr><td>515.124.4369</td></tr>",
                            "<tr><td>515.124.4469</td></tr>",
                            "<tr><td>515.124.4567</td></tr>",
                            "<tr><td>515.124.4569</td></tr>",
                            "<tr><td>515.127.4561</td></tr>",
                            "<tr><td>515.127.4562</td></tr>",
                            "<tr><td>515.127.4563</td></tr>",
                            "<tr><td>515.127.4564</td></tr>",
                            "<tr><td>515.127.4565</td></tr>",
                            "<tr><td>515.127.4566</td></tr>",
                            "<tr><td>590.423.4560</td></tr>",
                            "<tr><td>590.423.4567</td></tr>",
                            "<tr><td>590.423.4568</td></tr>",
                            "<tr><td>590.423.4569</td></tr>",
                            "<tr><td>590.423.5567</td></tr>",
                            "<tr><td>603.123.6666</td></tr>",
                            "<tr><td>650.123.1234</td></tr>",
                            "<tr><td>650.123.2234</td></tr>",
                            "<tr><td>650.123.3234</td></tr>",
                            "<tr><td>650.123.4234</td></tr>",
                            "<tr><td>650.124.1224</td></tr>",
                            "<tr><td>650.501.1876</td></tr>",
                            "<tr><td>650.501.2876</td></tr>",
                            "</table>"
                        ]
                    }
                }
            ],
            "execution_count": 6
        },
        {
            "cell_type": "markdown",
            "source": [
                "## LIMIT"
            ],
            "metadata": {
                "azdata_cell_guid": "13c358b9-e010-4895-a3e0-813ef985aff9"
            },
            "attachments": {}
        },
        {
            "cell_type": "markdown",
            "source": [
                "not works on sql-server:\n",
                "\n",
                "LIMIT - how many return\n",
                "\n",
                "OFFSET - how many skip"
            ],
            "metadata": {
                "azdata_cell_guid": "82f40388-924f-4e99-a36b-a285b79f0141"
            },
            "attachments": {}
        },
        {
            "cell_type": "code",
            "source": [
                "SELECT \r\n",
                "    employee_id, \r\n",
                "    first_name, \r\n",
                "    last_name\r\n",
                "FROM\r\n",
                "    employees\r\n",
                "ORDER BY \r\n",
                "\tfirst_name\r\n",
                "LIMIT 5 "
            ],
            "metadata": {
                "azdata_cell_guid": "74968973-97ed-425b-ab43-0b9f0e8b925b",
                "language": "sql"
            },
            "outputs": [
                {
                    "output_type": "error",
                    "evalue": "Msg 102, Level 15, State 1, Line 9\r\nIncorrect syntax near 'LIMIT'.",
                    "ename": "",
                    "traceback": []
                },
                {
                    "output_type": "display_data",
                    "data": {
                        "text/html": "Total execution time: 00:00:00"
                    },
                    "metadata": {}
                }
            ],
            "execution_count": 9
        },
        {
            "cell_type": "code",
            "source": [
                "SELECT TOP 10\r\n",
                "    employee_id, \r\n",
                "    first_name, \r\n",
                "    last_name\r\n",
                "FROM\r\n",
                "    employees\r\n",
                "ORDER BY \r\n",
                "\tfirst_name"
            ],
            "metadata": {
                "language": "sql",
                "azdata_cell_guid": "6486de1f-ca1b-432d-adbd-93de97e132c7"
            },
            "outputs": [
                {
                    "output_type": "display_data",
                    "data": {
                        "text/html": "(10 rows affected)"
                    },
                    "metadata": {}
                },
                {
                    "output_type": "display_data",
                    "data": {
                        "text/html": "Total execution time: 00:00:00.005"
                    },
                    "metadata": {}
                },
                {
                    "output_type": "execute_result",
                    "metadata": {},
                    "execution_count": 17,
                    "data": {
                        "application/vnd.dataresource+json": {
                            "schema": {
                                "fields": [
                                    {
                                        "name": "employee_id"
                                    },
                                    {
                                        "name": "first_name"
                                    },
                                    {
                                        "name": "last_name"
                                    }
                                ]
                            },
                            "data": [
                                {
                                    "0": "121",
                                    "1": "Adam",
                                    "2": "Fripp"
                                },
                                {
                                    "0": "103",
                                    "1": "Alexander",
                                    "2": "Hunold"
                                },
                                {
                                    "0": "115",
                                    "1": "Alexander",
                                    "2": "Khoo"
                                },
                                {
                                    "0": "193",
                                    "1": "Britney",
                                    "2": "Everett"
                                },
                                {
                                    "0": "104",
                                    "1": "Bruce",
                                    "2": "Ernst"
                                },
                                {
                                    "0": "179",
                                    "1": "Charles",
                                    "2": "Johnson"
                                },
                                {
                                    "0": "109",
                                    "1": "Daniel",
                                    "2": "Faviet"
                                },
                                {
                                    "0": "105",
                                    "1": "David",
                                    "2": "Austin"
                                },
                                {
                                    "0": "114",
                                    "1": "Den",
                                    "2": "Raphaely"
                                },
                                {
                                    "0": "107",
                                    "1": "Diana",
                                    "2": "Lorentz"
                                }
                            ]
                        },
                        "text/html": [
                            "<table>",
                            "<tr><th>employee_id</th><th>first_name</th><th>last_name</th></tr>",
                            "<tr><td>121</td><td>Adam</td><td>Fripp</td></tr>",
                            "<tr><td>103</td><td>Alexander</td><td>Hunold</td></tr>",
                            "<tr><td>115</td><td>Alexander</td><td>Khoo</td></tr>",
                            "<tr><td>193</td><td>Britney</td><td>Everett</td></tr>",
                            "<tr><td>104</td><td>Bruce</td><td>Ernst</td></tr>",
                            "<tr><td>179</td><td>Charles</td><td>Johnson</td></tr>",
                            "<tr><td>109</td><td>Daniel</td><td>Faviet</td></tr>",
                            "<tr><td>105</td><td>David</td><td>Austin</td></tr>",
                            "<tr><td>114</td><td>Den</td><td>Raphaely</td></tr>",
                            "<tr><td>107</td><td>Diana</td><td>Lorentz</td></tr>",
                            "</table>"
                        ]
                    }
                }
            ],
            "execution_count": 17
        },
        {
            "cell_type": "code",
            "source": [
                "SELECT employee_id, \r\n",
                "    first_name, \r\n",
                "    last_name\r\n",
                "FROM\r\n",
                "    employees\r\n",
                "ORDER BY \r\n",
                "\tfirst_name\r\n",
                "OFFSET 5 ROWS\r\n",
                "FETCH NEXT 5 ROWS ONLY"
            ],
            "metadata": {
                "language": "sql",
                "azdata_cell_guid": "f837f2cf-b5bb-4604-902d-1744bb56e13a"
            },
            "outputs": [
                {
                    "output_type": "display_data",
                    "data": {
                        "text/html": "(5 rows affected)"
                    },
                    "metadata": {}
                },
                {
                    "output_type": "display_data",
                    "data": {
                        "text/html": "Total execution time: 00:00:00.009"
                    },
                    "metadata": {}
                },
                {
                    "output_type": "execute_result",
                    "metadata": {},
                    "execution_count": 19,
                    "data": {
                        "application/vnd.dataresource+json": {
                            "schema": {
                                "fields": [
                                    {
                                        "name": "employee_id"
                                    },
                                    {
                                        "name": "first_name"
                                    },
                                    {
                                        "name": "last_name"
                                    }
                                ]
                            },
                            "data": [
                                {
                                    "0": "179",
                                    "1": "Charles",
                                    "2": "Johnson"
                                },
                                {
                                    "0": "109",
                                    "1": "Daniel",
                                    "2": "Faviet"
                                },
                                {
                                    "0": "105",
                                    "1": "David",
                                    "2": "Austin"
                                },
                                {
                                    "0": "114",
                                    "1": "Den",
                                    "2": "Raphaely"
                                },
                                {
                                    "0": "107",
                                    "1": "Diana",
                                    "2": "Lorentz"
                                }
                            ]
                        },
                        "text/html": [
                            "<table>",
                            "<tr><th>employee_id</th><th>first_name</th><th>last_name</th></tr>",
                            "<tr><td>179</td><td>Charles</td><td>Johnson</td></tr>",
                            "<tr><td>109</td><td>Daniel</td><td>Faviet</td></tr>",
                            "<tr><td>105</td><td>David</td><td>Austin</td></tr>",
                            "<tr><td>114</td><td>Den</td><td>Raphaely</td></tr>",
                            "<tr><td>107</td><td>Diana</td><td>Lorentz</td></tr>",
                            "</table>"
                        ]
                    }
                }
            ],
            "execution_count": 19
        },
        {
            "cell_type": "markdown",
            "source": [
                "Витягнемо інформацію про працівника з найвищою зарплатою"
            ],
            "metadata": {
                "language": "sql",
                "azdata_cell_guid": "869c2596-f13c-45db-8756-01f7dc21313b"
            },
            "attachments": {}
        },
        {
            "cell_type": "code",
            "source": [
                "SELECT TOP 10\r\n",
                "            salary\r\n",
                "        FROM\r\n",
                "            employees\r\n",
                "        ORDER BY salary DESC"
            ],
            "metadata": {
                "language": "sql",
                "azdata_cell_guid": "22fc7e2f-e03b-407e-a2a8-29bec8db3e6b"
            },
            "outputs": [
                {
                    "output_type": "display_data",
                    "data": {
                        "text/html": "(10 rows affected)"
                    },
                    "metadata": {}
                },
                {
                    "output_type": "display_data",
                    "data": {
                        "text/html": "Total execution time: 00:00:00.012"
                    },
                    "metadata": {}
                },
                {
                    "output_type": "execute_result",
                    "metadata": {},
                    "execution_count": 22,
                    "data": {
                        "application/vnd.dataresource+json": {
                            "schema": {
                                "fields": [
                                    {
                                        "name": "salary"
                                    }
                                ]
                            },
                            "data": [
                                {
                                    "0": "24000.00"
                                },
                                {
                                    "0": "17000.00"
                                },
                                {
                                    "0": "17000.00"
                                },
                                {
                                    "0": "14000.00"
                                },
                                {
                                    "0": "13500.00"
                                },
                                {
                                    "0": "13000.00"
                                },
                                {
                                    "0": "12000.00"
                                },
                                {
                                    "0": "12000.00"
                                },
                                {
                                    "0": "11000.00"
                                },
                                {
                                    "0": "10000.00"
                                }
                            ]
                        },
                        "text/html": [
                            "<table>",
                            "<tr><th>salary</th></tr>",
                            "<tr><td>24000.00</td></tr>",
                            "<tr><td>17000.00</td></tr>",
                            "<tr><td>17000.00</td></tr>",
                            "<tr><td>14000.00</td></tr>",
                            "<tr><td>13500.00</td></tr>",
                            "<tr><td>13000.00</td></tr>",
                            "<tr><td>12000.00</td></tr>",
                            "<tr><td>12000.00</td></tr>",
                            "<tr><td>11000.00</td></tr>",
                            "<tr><td>10000.00</td></tr>",
                            "</table>"
                        ]
                    }
                }
            ],
            "execution_count": 22
        },
        {
            "cell_type": "code",
            "source": [
                "SELECT \r\n",
                "    employee_id, first_name, last_name, salary\r\n",
                "FROM\r\n",
                "    employees\r\n",
                "WHERE\r\n",
                "    salary = (SELECT TOP 1\r\n",
                "            salary\r\n",
                "        FROM\r\n",
                "            employees\r\n",
                "        ORDER BY salary DESC\r\n",
                "        );"
            ],
            "metadata": {
                "language": "sql",
                "azdata_cell_guid": "3ccdedf6-17b3-42fb-a20a-f7d9db686ec7"
            },
            "outputs": [
                {
                    "output_type": "display_data",
                    "data": {
                        "text/html": "(1 row affected)"
                    },
                    "metadata": {}
                },
                {
                    "output_type": "display_data",
                    "data": {
                        "text/html": "Total execution time: 00:00:00.016"
                    },
                    "metadata": {}
                },
                {
                    "output_type": "execute_result",
                    "metadata": {},
                    "execution_count": 23,
                    "data": {
                        "application/vnd.dataresource+json": {
                            "schema": {
                                "fields": [
                                    {
                                        "name": "employee_id"
                                    },
                                    {
                                        "name": "first_name"
                                    },
                                    {
                                        "name": "last_name"
                                    },
                                    {
                                        "name": "salary"
                                    }
                                ]
                            },
                            "data": [
                                {
                                    "0": "100",
                                    "1": "Steven",
                                    "2": "King",
                                    "3": "24000.00"
                                }
                            ]
                        },
                        "text/html": [
                            "<table>",
                            "<tr><th>employee_id</th><th>first_name</th><th>last_name</th><th>salary</th></tr>",
                            "<tr><td>100</td><td>Steven</td><td>King</td><td>24000.00</td></tr>",
                            "</table>"
                        ]
                    }
                }
            ],
            "execution_count": 23
        },
        {
            "cell_type": "code",
            "source": [
                "SELECT \r\n",
                "    employee_id, \r\n",
                "    first_name, \r\n",
                "    last_name, \r\n",
                "    salary\r\n",
                "FROM employees\r\n",
                "ORDER BY \r\n",
                "    salary DESC\r\n",
                "OFFSET 0 ROWS\r\n",
                "FETCH NEXT 1 ROWS ONLY;"
            ],
            "metadata": {
                "language": "sql",
                "azdata_cell_guid": "c5b3db85-e07f-4a9f-9774-ea251ac067dd"
            },
            "outputs": [
                {
                    "output_type": "display_data",
                    "data": {
                        "text/html": "(1 row affected)"
                    },
                    "metadata": {}
                },
                {
                    "output_type": "display_data",
                    "data": {
                        "text/html": "Total execution time: 00:00:00.003"
                    },
                    "metadata": {}
                },
                {
                    "output_type": "execute_result",
                    "metadata": {},
                    "execution_count": 24,
                    "data": {
                        "application/vnd.dataresource+json": {
                            "schema": {
                                "fields": [
                                    {
                                        "name": "employee_id"
                                    },
                                    {
                                        "name": "first_name"
                                    },
                                    {
                                        "name": "last_name"
                                    },
                                    {
                                        "name": "salary"
                                    }
                                ]
                            },
                            "data": [
                                {
                                    "0": "100",
                                    "1": "Steven",
                                    "2": "King",
                                    "3": "24000.00"
                                }
                            ]
                        },
                        "text/html": [
                            "<table>",
                            "<tr><th>employee_id</th><th>first_name</th><th>last_name</th><th>salary</th></tr>",
                            "<tr><td>100</td><td>Steven</td><td>King</td><td>24000.00</td></tr>",
                            "</table>"
                        ]
                    }
                }
            ],
            "execution_count": 24
        }
    ]
}