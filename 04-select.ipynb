{
    "metadata": {
        "kernelspec": {
            "name": "SQL",
            "display_name": "SQL",
            "language": "sql"
        },
        "language_info": {
            "name": "sql",
            "version": ""
        }
    },
    "nbformat_minor": 2,
    "nbformat": 4,
    "cells": [
        {
            "cell_type": "markdown",
            "source": [
                "# SELECT"
            ],
            "metadata": {
                "azdata_cell_guid": "c1f47570-c619-4c72-bb07-aae35300b33f"
            },
            "attachments": {}
        },
        {
            "cell_type": "code",
            "source": [
                "SELECT \r\n",
                "    select_list\r\n",
                "FROM\r\n",
                "    table_name;"
            ],
            "metadata": {
                "azdata_cell_guid": "d26fd1f7-1cb3-4fc9-8563-4fcd5d9e4b2d",
                "language": "sql"
            },
            "outputs": [],
            "execution_count": null
        },
        {
            "cell_type": "code",
            "source": [
                "SELECT * FROM table_name;"
            ],
            "metadata": {
                "language": "sql",
                "azdata_cell_guid": "931293e2-5808-4d79-ae4f-fc0c3b6a257d"
            },
            "outputs": [],
            "execution_count": null
        },
        {
            "cell_type": "code",
            "source": [
                "use hr_db"
            ],
            "metadata": {
                "language": "sql",
                "azdata_cell_guid": "04e5a035-425b-4fa4-b75e-0dd2c04ec035"
            },
            "outputs": [],
            "execution_count": 1
        },
        {
            "cell_type": "code",
            "source": [
                "SELECT * FROM employees;"
            ],
            "metadata": {
                "language": "sql",
                "azdata_cell_guid": "5cf8f250-b008-46c9-9d16-928ff17d4823"
            },
            "outputs": [],
            "execution_count": 2
        },
        {
            "cell_type": "markdown",
            "source": [
                "## Дані можуть вибиратися не повністю"
            ],
            "metadata": {
                "azdata_cell_guid": "587f02e2-d61a-4739-b8b4-cf1df9da7900"
            },
            "attachments": {}
        },
        {
            "cell_type": "code",
            "source": [
                "SELECT \r\n",
                "    employee_id, \r\n",
                "    first_name, \r\n",
                "    last_name, \r\n",
                "    hire_date\r\n",
                "FROM\r\n",
                "    employees;"
            ],
            "metadata": {
                "language": "sql",
                "azdata_cell_guid": "d539d0d6-7e94-480d-a8cf-1d4524bbe36b"
            },
            "outputs": [],
            "execution_count": 3
        },
        {
            "cell_type": "markdown",
            "source": [
                "## Витягування даних з обчисленнями"
            ],
            "metadata": {
                "language": "sql",
                "azdata_cell_guid": "0148cee7-f438-48ed-b679-425a82e7105a"
            },
            "attachments": {}
        },
        {
            "cell_type": "code",
            "source": [
                "SELECT \r\n",
                "    first_name, \r\n",
                "    last_name, \r\n",
                "    salary, \r\n",
                "    salary * 1.05\r\n",
                "FROM\r\n",
                "    employees;"
            ],
            "metadata": {
                "language": "sql",
                "azdata_cell_guid": "eab495e0-fafc-436b-acfc-892537a1d49d"
            },
            "outputs": [],
            "execution_count": 4
        },
        {
            "cell_type": "markdown",
            "source": [
                "Витягування даних з іменуванням стовпців"
            ],
            "metadata": {
                "language": "sql",
                "azdata_cell_guid": "f203ec85-3c68-412b-a15c-9d282fe2aa67"
            },
            "attachments": {}
        },
        {
            "cell_type": "code",
            "source": [
                "SELECT \r\n",
                "    first_name, \r\n",
                "    last_name, \r\n",
                "    salary, \r\n",
                "    salary * 1.05 AS new_salary\r\n",
                "FROM\r\n",
                "    employees;"
            ],
            "metadata": {
                "language": "sql",
                "azdata_cell_guid": "ebdb2752-9878-4623-9b93-22ce946202a2"
            },
            "outputs": [],
            "execution_count": 5
        }
    ]
}