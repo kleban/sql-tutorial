{
    "metadata": {
        "kernelspec": {
            "name": "SQL",
            "display_name": "SQL",
            "language": "sql"
        },
        "language_info": {
            "name": "sql",
            "version": ""
        }
    },
    "nbformat_minor": 2,
    "nbformat": 4,
    "cells": [
        {
            "cell_type": "markdown",
            "source": [
                "# SELECT"
            ],
            "metadata": {
                "azdata_cell_guid": "c1f47570-c619-4c72-bb07-aae35300b33f"
            },
            "attachments": {}
        },
        {
            "cell_type": "code",
            "source": [
                "SELECT \r\n",
                "    select_list\r\n",
                "FROM\r\n",
                "    table_name;"
            ],
            "metadata": {
                "azdata_cell_guid": "d26fd1f7-1cb3-4fc9-8563-4fcd5d9e4b2d",
                "language": "sql"
            },
            "outputs": [],
            "execution_count": null
        },
        {
            "cell_type": "code",
            "source": [
                "SELECT * FROM table_name;"
            ],
            "metadata": {
                "language": "sql",
                "azdata_cell_guid": "931293e2-5808-4d79-ae4f-fc0c3b6a257d"
            },
            "outputs": [],
            "execution_count": null
        },
        {
            "cell_type": "code",
            "source": [
                "use hr_db"
            ],
            "metadata": {
                "language": "sql",
                "azdata_cell_guid": "04e5a035-425b-4fa4-b75e-0dd2c04ec035"
            },
            "outputs": [
                {
                    "output_type": "display_data",
                    "data": {
                        "text/html": "Commands completed successfully."
                    },
                    "metadata": {}
                },
                {
                    "output_type": "display_data",
                    "data": {
                        "text/html": "Total execution time: 00:00:00.001"
                    },
                    "metadata": {}
                }
            ],
            "execution_count": 1
        },
        {
            "cell_type": "code",
            "source": [
                "SELECT * FROM employees;"
            ],
            "metadata": {
                "language": "sql",
                "azdata_cell_guid": "5cf8f250-b008-46c9-9d16-928ff17d4823"
            },
            "outputs": [
                {
                    "output_type": "display_data",
                    "data": {
                        "text/html": "(40 rows affected)"
                    },
                    "metadata": {}
                },
                {
                    "output_type": "display_data",
                    "data": {
                        "text/html": "Total execution time: 00:00:00.017"
                    },
                    "metadata": {}
                },
                {
                    "output_type": "execute_result",
                    "metadata": {},
                    "execution_count": 2,
                    "data": {
                        "application/vnd.dataresource+json": {
                            "schema": {
                                "fields": [
                                    {
                                        "name": "employee_id"
                                    },
                                    {
                                        "name": "first_name"
                                    },
                                    {
                                        "name": "last_name"
                                    },
                                    {
                                        "name": "email"
                                    },
                                    {
                                        "name": "phone_number"
                                    },
                                    {
                                        "name": "hire_date"
                                    },
                                    {
                                        "name": "job_id"
                                    },
                                    {
                                        "name": "salary"
                                    },
                                    {
                                        "name": "manager_id"
                                    },
                                    {
                                        "name": "department_id"
                                    }
                                ]
                            },
                            "data": [
                                {
                                    "0": "100",
                                    "1": "Steven",
                                    "2": "King",
                                    "3": "steven.king@sqltutorial.org",
                                    "4": "515.123.4567",
                                    "5": "1987-06-17",
                                    "6": "4",
                                    "7": "24000.00",
                                    "8": "NULL",
                                    "9": "9"
                                },
                                {
                                    "0": "101",
                                    "1": "Neena",
                                    "2": "Kochhar",
                                    "3": "neena.kochhar@sqltutorial.org",
                                    "4": "515.123.4568",
                                    "5": "1989-09-21",
                                    "6": "5",
                                    "7": "17000.00",
                                    "8": "100",
                                    "9": "9"
                                },
                                {
                                    "0": "102",
                                    "1": "Lex",
                                    "2": "De Haan",
                                    "3": "lex.de haan@sqltutorial.org",
                                    "4": "515.123.4569",
                                    "5": "1993-01-13",
                                    "6": "5",
                                    "7": "17000.00",
                                    "8": "100",
                                    "9": "9"
                                },
                                {
                                    "0": "103",
                                    "1": "Alexander",
                                    "2": "Hunold",
                                    "3": "alexander.hunold@sqltutorial.org",
                                    "4": "590.423.4567",
                                    "5": "1990-01-03",
                                    "6": "9",
                                    "7": "9000.00",
                                    "8": "102",
                                    "9": "6"
                                },
                                {
                                    "0": "104",
                                    "1": "Bruce",
                                    "2": "Ernst",
                                    "3": "bruce.ernst@sqltutorial.org",
                                    "4": "590.423.4568",
                                    "5": "1991-05-21",
                                    "6": "9",
                                    "7": "6000.00",
                                    "8": "103",
                                    "9": "6"
                                },
                                {
                                    "0": "105",
                                    "1": "David",
                                    "2": "Austin",
                                    "3": "david.austin@sqltutorial.org",
                                    "4": "590.423.4569",
                                    "5": "1997-06-25",
                                    "6": "9",
                                    "7": "4800.00",
                                    "8": "103",
                                    "9": "6"
                                },
                                {
                                    "0": "106",
                                    "1": "Valli",
                                    "2": "Pataballa",
                                    "3": "valli.pataballa@sqltutorial.org",
                                    "4": "590.423.4560",
                                    "5": "1998-02-05",
                                    "6": "9",
                                    "7": "4800.00",
                                    "8": "103",
                                    "9": "6"
                                },
                                {
                                    "0": "107",
                                    "1": "Diana",
                                    "2": "Lorentz",
                                    "3": "diana.lorentz@sqltutorial.org",
                                    "4": "590.423.5567",
                                    "5": "1999-02-07",
                                    "6": "9",
                                    "7": "4200.00",
                                    "8": "103",
                                    "9": "6"
                                },
                                {
                                    "0": "108",
                                    "1": "Nancy",
                                    "2": "Greenberg",
                                    "3": "nancy.greenberg@sqltutorial.org",
                                    "4": "515.124.4569",
                                    "5": "1994-08-17",
                                    "6": "7",
                                    "7": "12000.00",
                                    "8": "101",
                                    "9": "10"
                                },
                                {
                                    "0": "109",
                                    "1": "Daniel",
                                    "2": "Faviet",
                                    "3": "daniel.faviet@sqltutorial.org",
                                    "4": "515.124.4169",
                                    "5": "1994-08-16",
                                    "6": "6",
                                    "7": "9000.00",
                                    "8": "108",
                                    "9": "10"
                                },
                                {
                                    "0": "110",
                                    "1": "John",
                                    "2": "Chen",
                                    "3": "john.chen@sqltutorial.org",
                                    "4": "515.124.4269",
                                    "5": "1997-09-28",
                                    "6": "6",
                                    "7": "8200.00",
                                    "8": "108",
                                    "9": "10"
                                },
                                {
                                    "0": "111",
                                    "1": "Ismael",
                                    "2": "Sciarra",
                                    "3": "ismael.sciarra@sqltutorial.org",
                                    "4": "515.124.4369",
                                    "5": "1997-09-30",
                                    "6": "6",
                                    "7": "7700.00",
                                    "8": "108",
                                    "9": "10"
                                },
                                {
                                    "0": "112",
                                    "1": "Jose Manuel",
                                    "2": "Urman",
                                    "3": "jose manuel.urman@sqltutorial.org",
                                    "4": "515.124.4469",
                                    "5": "1998-03-07",
                                    "6": "6",
                                    "7": "7800.00",
                                    "8": "108",
                                    "9": "10"
                                },
                                {
                                    "0": "113",
                                    "1": "Luis",
                                    "2": "Popp",
                                    "3": "luis.popp@sqltutorial.org",
                                    "4": "515.124.4567",
                                    "5": "1999-12-07",
                                    "6": "6",
                                    "7": "6900.00",
                                    "8": "108",
                                    "9": "10"
                                },
                                {
                                    "0": "114",
                                    "1": "Den",
                                    "2": "Raphaely",
                                    "3": "den.raphaely@sqltutorial.org",
                                    "4": "515.127.4561",
                                    "5": "1994-12-07",
                                    "6": "14",
                                    "7": "11000.00",
                                    "8": "100",
                                    "9": "3"
                                },
                                {
                                    "0": "115",
                                    "1": "Alexander",
                                    "2": "Khoo",
                                    "3": "alexander.khoo@sqltutorial.org",
                                    "4": "515.127.4562",
                                    "5": "1995-05-18",
                                    "6": "13",
                                    "7": "3100.00",
                                    "8": "114",
                                    "9": "3"
                                },
                                {
                                    "0": "116",
                                    "1": "Shelli",
                                    "2": "Baida",
                                    "3": "shelli.baida@sqltutorial.org",
                                    "4": "515.127.4563",
                                    "5": "1997-12-24",
                                    "6": "13",
                                    "7": "2900.00",
                                    "8": "114",
                                    "9": "3"
                                },
                                {
                                    "0": "117",
                                    "1": "Sigal",
                                    "2": "Tobias",
                                    "3": "sigal.tobias@sqltutorial.org",
                                    "4": "515.127.4564",
                                    "5": "1997-07-24",
                                    "6": "13",
                                    "7": "2800.00",
                                    "8": "114",
                                    "9": "3"
                                },
                                {
                                    "0": "118",
                                    "1": "Guy",
                                    "2": "Himuro",
                                    "3": "guy.himuro@sqltutorial.org",
                                    "4": "515.127.4565",
                                    "5": "1998-11-15",
                                    "6": "13",
                                    "7": "2600.00",
                                    "8": "114",
                                    "9": "3"
                                },
                                {
                                    "0": "119",
                                    "1": "Karen",
                                    "2": "Colmenares",
                                    "3": "karen.colmenares@sqltutorial.org",
                                    "4": "515.127.4566",
                                    "5": "1999-08-10",
                                    "6": "13",
                                    "7": "2500.00",
                                    "8": "114",
                                    "9": "3"
                                },
                                {
                                    "0": "120",
                                    "1": "Matthew",
                                    "2": "Weiss",
                                    "3": "matthew.weiss@sqltutorial.org",
                                    "4": "650.123.1234",
                                    "5": "1996-07-18",
                                    "6": "19",
                                    "7": "8000.00",
                                    "8": "100",
                                    "9": "5"
                                },
                                {
                                    "0": "121",
                                    "1": "Adam",
                                    "2": "Fripp",
                                    "3": "adam.fripp@sqltutorial.org",
                                    "4": "650.123.2234",
                                    "5": "1997-04-10",
                                    "6": "19",
                                    "7": "8200.00",
                                    "8": "100",
                                    "9": "5"
                                },
                                {
                                    "0": "122",
                                    "1": "Payam",
                                    "2": "Kaufling",
                                    "3": "payam.kaufling@sqltutorial.org",
                                    "4": "650.123.3234",
                                    "5": "1995-05-01",
                                    "6": "19",
                                    "7": "7900.00",
                                    "8": "100",
                                    "9": "5"
                                },
                                {
                                    "0": "123",
                                    "1": "Shanta",
                                    "2": "Vollman",
                                    "3": "shanta.vollman@sqltutorial.org",
                                    "4": "650.123.4234",
                                    "5": "1997-10-10",
                                    "6": "19",
                                    "7": "6500.00",
                                    "8": "100",
                                    "9": "5"
                                },
                                {
                                    "0": "126",
                                    "1": "Irene",
                                    "2": "Mikkilineni",
                                    "3": "irene.mikkilineni@sqltutorial.org",
                                    "4": "650.124.1224",
                                    "5": "1998-09-28",
                                    "6": "18",
                                    "7": "2700.00",
                                    "8": "120",
                                    "9": "5"
                                },
                                {
                                    "0": "145",
                                    "1": "John",
                                    "2": "Russell",
                                    "3": "john.russell@sqltutorial.org",
                                    "4": "NULL",
                                    "5": "1996-10-01",
                                    "6": "15",
                                    "7": "14000.00",
                                    "8": "100",
                                    "9": "8"
                                },
                                {
                                    "0": "146",
                                    "1": "Karen",
                                    "2": "Partners",
                                    "3": "karen.partners@sqltutorial.org",
                                    "4": "NULL",
                                    "5": "1997-01-05",
                                    "6": "15",
                                    "7": "13500.00",
                                    "8": "100",
                                    "9": "8"
                                },
                                {
                                    "0": "176",
                                    "1": "Jonathon",
                                    "2": "Taylor",
                                    "3": "jonathon.taylor@sqltutorial.org",
                                    "4": "NULL",
                                    "5": "1998-03-24",
                                    "6": "16",
                                    "7": "8600.00",
                                    "8": "100",
                                    "9": "8"
                                },
                                {
                                    "0": "177",
                                    "1": "Jack",
                                    "2": "Livingston",
                                    "3": "jack.livingston@sqltutorial.org",
                                    "4": "NULL",
                                    "5": "1998-04-23",
                                    "6": "16",
                                    "7": "8400.00",
                                    "8": "100",
                                    "9": "8"
                                },
                                {
                                    "0": "178",
                                    "1": "Kimberely",
                                    "2": "Grant",
                                    "3": "kimberely.grant@sqltutorial.org",
                                    "4": "NULL",
                                    "5": "1999-05-24",
                                    "6": "16",
                                    "7": "7000.00",
                                    "8": "100",
                                    "9": "8"
                                },
                                {
                                    "0": "179",
                                    "1": "Charles",
                                    "2": "Johnson",
                                    "3": "charles.johnson@sqltutorial.org",
                                    "4": "NULL",
                                    "5": "2000-01-04",
                                    "6": "16",
                                    "7": "6200.00",
                                    "8": "100",
                                    "9": "8"
                                },
                                {
                                    "0": "192",
                                    "1": "Sarah",
                                    "2": "Bell",
                                    "3": "sarah.bell@sqltutorial.org",
                                    "4": "650.501.1876",
                                    "5": "1996-02-04",
                                    "6": "17",
                                    "7": "4000.00",
                                    "8": "123",
                                    "9": "5"
                                },
                                {
                                    "0": "193",
                                    "1": "Britney",
                                    "2": "Everett",
                                    "3": "britney.everett@sqltutorial.org",
                                    "4": "650.501.2876",
                                    "5": "1997-03-03",
                                    "6": "17",
                                    "7": "3900.00",
                                    "8": "123",
                                    "9": "5"
                                },
                                {
                                    "0": "200",
                                    "1": "Jennifer",
                                    "2": "Whalen",
                                    "3": "jennifer.whalen@sqltutorial.org",
                                    "4": "515.123.4444",
                                    "5": "1987-09-17",
                                    "6": "3",
                                    "7": "4400.00",
                                    "8": "101",
                                    "9": "1"
                                },
                                {
                                    "0": "201",
                                    "1": "Michael",
                                    "2": "Hartstein",
                                    "3": "michael.hartstein@sqltutorial.org",
                                    "4": "515.123.5555",
                                    "5": "1996-02-17",
                                    "6": "10",
                                    "7": "13000.00",
                                    "8": "100",
                                    "9": "2"
                                },
                                {
                                    "0": "202",
                                    "1": "Pat",
                                    "2": "Fay",
                                    "3": "pat.fay@sqltutorial.org",
                                    "4": "603.123.6666",
                                    "5": "1997-08-17",
                                    "6": "11",
                                    "7": "6000.00",
                                    "8": "201",
                                    "9": "2"
                                },
                                {
                                    "0": "203",
                                    "1": "Susan",
                                    "2": "Mavris",
                                    "3": "susan.mavris@sqltutorial.org",
                                    "4": "515.123.7777",
                                    "5": "1994-06-07",
                                    "6": "8",
                                    "7": "6500.00",
                                    "8": "101",
                                    "9": "4"
                                },
                                {
                                    "0": "204",
                                    "1": "Hermann",
                                    "2": "Baer",
                                    "3": "hermann.baer@sqltutorial.org",
                                    "4": "515.123.8888",
                                    "5": "1994-06-07",
                                    "6": "12",
                                    "7": "10000.00",
                                    "8": "101",
                                    "9": "7"
                                },
                                {
                                    "0": "205",
                                    "1": "Shelley",
                                    "2": "Higgins",
                                    "3": "shelley.higgins@sqltutorial.org",
                                    "4": "515.123.8080",
                                    "5": "1994-06-07",
                                    "6": "2",
                                    "7": "12000.00",
                                    "8": "101",
                                    "9": "11"
                                },
                                {
                                    "0": "206",
                                    "1": "William",
                                    "2": "Gietz",
                                    "3": "william.gietz@sqltutorial.org",
                                    "4": "515.123.8181",
                                    "5": "1994-06-07",
                                    "6": "1",
                                    "7": "8300.00",
                                    "8": "205",
                                    "9": "11"
                                }
                            ]
                        },
                        "text/html": [
                            "<table>",
                            "<tr><th>employee_id</th><th>first_name</th><th>last_name</th><th>email</th><th>phone_number</th><th>hire_date</th><th>job_id</th><th>salary</th><th>manager_id</th><th>department_id</th></tr>",
                            "<tr><td>100</td><td>Steven</td><td>King</td><td>steven.king@sqltutorial.org</td><td>515.123.4567</td><td>1987-06-17</td><td>4</td><td>24000.00</td><td>NULL</td><td>9</td></tr>",
                            "<tr><td>101</td><td>Neena</td><td>Kochhar</td><td>neena.kochhar@sqltutorial.org</td><td>515.123.4568</td><td>1989-09-21</td><td>5</td><td>17000.00</td><td>100</td><td>9</td></tr>",
                            "<tr><td>102</td><td>Lex</td><td>De Haan</td><td>lex.de haan@sqltutorial.org</td><td>515.123.4569</td><td>1993-01-13</td><td>5</td><td>17000.00</td><td>100</td><td>9</td></tr>",
                            "<tr><td>103</td><td>Alexander</td><td>Hunold</td><td>alexander.hunold@sqltutorial.org</td><td>590.423.4567</td><td>1990-01-03</td><td>9</td><td>9000.00</td><td>102</td><td>6</td></tr>",
                            "<tr><td>104</td><td>Bruce</td><td>Ernst</td><td>bruce.ernst@sqltutorial.org</td><td>590.423.4568</td><td>1991-05-21</td><td>9</td><td>6000.00</td><td>103</td><td>6</td></tr>",
                            "<tr><td>105</td><td>David</td><td>Austin</td><td>david.austin@sqltutorial.org</td><td>590.423.4569</td><td>1997-06-25</td><td>9</td><td>4800.00</td><td>103</td><td>6</td></tr>",
                            "<tr><td>106</td><td>Valli</td><td>Pataballa</td><td>valli.pataballa@sqltutorial.org</td><td>590.423.4560</td><td>1998-02-05</td><td>9</td><td>4800.00</td><td>103</td><td>6</td></tr>",
                            "<tr><td>107</td><td>Diana</td><td>Lorentz</td><td>diana.lorentz@sqltutorial.org</td><td>590.423.5567</td><td>1999-02-07</td><td>9</td><td>4200.00</td><td>103</td><td>6</td></tr>",
                            "<tr><td>108</td><td>Nancy</td><td>Greenberg</td><td>nancy.greenberg@sqltutorial.org</td><td>515.124.4569</td><td>1994-08-17</td><td>7</td><td>12000.00</td><td>101</td><td>10</td></tr>",
                            "<tr><td>109</td><td>Daniel</td><td>Faviet</td><td>daniel.faviet@sqltutorial.org</td><td>515.124.4169</td><td>1994-08-16</td><td>6</td><td>9000.00</td><td>108</td><td>10</td></tr>",
                            "<tr><td>110</td><td>John</td><td>Chen</td><td>john.chen@sqltutorial.org</td><td>515.124.4269</td><td>1997-09-28</td><td>6</td><td>8200.00</td><td>108</td><td>10</td></tr>",
                            "<tr><td>111</td><td>Ismael</td><td>Sciarra</td><td>ismael.sciarra@sqltutorial.org</td><td>515.124.4369</td><td>1997-09-30</td><td>6</td><td>7700.00</td><td>108</td><td>10</td></tr>",
                            "<tr><td>112</td><td>Jose Manuel</td><td>Urman</td><td>jose manuel.urman@sqltutorial.org</td><td>515.124.4469</td><td>1998-03-07</td><td>6</td><td>7800.00</td><td>108</td><td>10</td></tr>",
                            "<tr><td>113</td><td>Luis</td><td>Popp</td><td>luis.popp@sqltutorial.org</td><td>515.124.4567</td><td>1999-12-07</td><td>6</td><td>6900.00</td><td>108</td><td>10</td></tr>",
                            "<tr><td>114</td><td>Den</td><td>Raphaely</td><td>den.raphaely@sqltutorial.org</td><td>515.127.4561</td><td>1994-12-07</td><td>14</td><td>11000.00</td><td>100</td><td>3</td></tr>",
                            "<tr><td>115</td><td>Alexander</td><td>Khoo</td><td>alexander.khoo@sqltutorial.org</td><td>515.127.4562</td><td>1995-05-18</td><td>13</td><td>3100.00</td><td>114</td><td>3</td></tr>",
                            "<tr><td>116</td><td>Shelli</td><td>Baida</td><td>shelli.baida@sqltutorial.org</td><td>515.127.4563</td><td>1997-12-24</td><td>13</td><td>2900.00</td><td>114</td><td>3</td></tr>",
                            "<tr><td>117</td><td>Sigal</td><td>Tobias</td><td>sigal.tobias@sqltutorial.org</td><td>515.127.4564</td><td>1997-07-24</td><td>13</td><td>2800.00</td><td>114</td><td>3</td></tr>",
                            "<tr><td>118</td><td>Guy</td><td>Himuro</td><td>guy.himuro@sqltutorial.org</td><td>515.127.4565</td><td>1998-11-15</td><td>13</td><td>2600.00</td><td>114</td><td>3</td></tr>",
                            "<tr><td>119</td><td>Karen</td><td>Colmenares</td><td>karen.colmenares@sqltutorial.org</td><td>515.127.4566</td><td>1999-08-10</td><td>13</td><td>2500.00</td><td>114</td><td>3</td></tr>",
                            "<tr><td>120</td><td>Matthew</td><td>Weiss</td><td>matthew.weiss@sqltutorial.org</td><td>650.123.1234</td><td>1996-07-18</td><td>19</td><td>8000.00</td><td>100</td><td>5</td></tr>",
                            "<tr><td>121</td><td>Adam</td><td>Fripp</td><td>adam.fripp@sqltutorial.org</td><td>650.123.2234</td><td>1997-04-10</td><td>19</td><td>8200.00</td><td>100</td><td>5</td></tr>",
                            "<tr><td>122</td><td>Payam</td><td>Kaufling</td><td>payam.kaufling@sqltutorial.org</td><td>650.123.3234</td><td>1995-05-01</td><td>19</td><td>7900.00</td><td>100</td><td>5</td></tr>",
                            "<tr><td>123</td><td>Shanta</td><td>Vollman</td><td>shanta.vollman@sqltutorial.org</td><td>650.123.4234</td><td>1997-10-10</td><td>19</td><td>6500.00</td><td>100</td><td>5</td></tr>",
                            "<tr><td>126</td><td>Irene</td><td>Mikkilineni</td><td>irene.mikkilineni@sqltutorial.org</td><td>650.124.1224</td><td>1998-09-28</td><td>18</td><td>2700.00</td><td>120</td><td>5</td></tr>",
                            "<tr><td>145</td><td>John</td><td>Russell</td><td>john.russell@sqltutorial.org</td><td>NULL</td><td>1996-10-01</td><td>15</td><td>14000.00</td><td>100</td><td>8</td></tr>",
                            "<tr><td>146</td><td>Karen</td><td>Partners</td><td>karen.partners@sqltutorial.org</td><td>NULL</td><td>1997-01-05</td><td>15</td><td>13500.00</td><td>100</td><td>8</td></tr>",
                            "<tr><td>176</td><td>Jonathon</td><td>Taylor</td><td>jonathon.taylor@sqltutorial.org</td><td>NULL</td><td>1998-03-24</td><td>16</td><td>8600.00</td><td>100</td><td>8</td></tr>",
                            "<tr><td>177</td><td>Jack</td><td>Livingston</td><td>jack.livingston@sqltutorial.org</td><td>NULL</td><td>1998-04-23</td><td>16</td><td>8400.00</td><td>100</td><td>8</td></tr>",
                            "<tr><td>178</td><td>Kimberely</td><td>Grant</td><td>kimberely.grant@sqltutorial.org</td><td>NULL</td><td>1999-05-24</td><td>16</td><td>7000.00</td><td>100</td><td>8</td></tr>",
                            "<tr><td>179</td><td>Charles</td><td>Johnson</td><td>charles.johnson@sqltutorial.org</td><td>NULL</td><td>2000-01-04</td><td>16</td><td>6200.00</td><td>100</td><td>8</td></tr>",
                            "<tr><td>192</td><td>Sarah</td><td>Bell</td><td>sarah.bell@sqltutorial.org</td><td>650.501.1876</td><td>1996-02-04</td><td>17</td><td>4000.00</td><td>123</td><td>5</td></tr>",
                            "<tr><td>193</td><td>Britney</td><td>Everett</td><td>britney.everett@sqltutorial.org</td><td>650.501.2876</td><td>1997-03-03</td><td>17</td><td>3900.00</td><td>123</td><td>5</td></tr>",
                            "<tr><td>200</td><td>Jennifer</td><td>Whalen</td><td>jennifer.whalen@sqltutorial.org</td><td>515.123.4444</td><td>1987-09-17</td><td>3</td><td>4400.00</td><td>101</td><td>1</td></tr>",
                            "<tr><td>201</td><td>Michael</td><td>Hartstein</td><td>michael.hartstein@sqltutorial.org</td><td>515.123.5555</td><td>1996-02-17</td><td>10</td><td>13000.00</td><td>100</td><td>2</td></tr>",
                            "<tr><td>202</td><td>Pat</td><td>Fay</td><td>pat.fay@sqltutorial.org</td><td>603.123.6666</td><td>1997-08-17</td><td>11</td><td>6000.00</td><td>201</td><td>2</td></tr>",
                            "<tr><td>203</td><td>Susan</td><td>Mavris</td><td>susan.mavris@sqltutorial.org</td><td>515.123.7777</td><td>1994-06-07</td><td>8</td><td>6500.00</td><td>101</td><td>4</td></tr>",
                            "<tr><td>204</td><td>Hermann</td><td>Baer</td><td>hermann.baer@sqltutorial.org</td><td>515.123.8888</td><td>1994-06-07</td><td>12</td><td>10000.00</td><td>101</td><td>7</td></tr>",
                            "<tr><td>205</td><td>Shelley</td><td>Higgins</td><td>shelley.higgins@sqltutorial.org</td><td>515.123.8080</td><td>1994-06-07</td><td>2</td><td>12000.00</td><td>101</td><td>11</td></tr>",
                            "<tr><td>206</td><td>William</td><td>Gietz</td><td>william.gietz@sqltutorial.org</td><td>515.123.8181</td><td>1994-06-07</td><td>1</td><td>8300.00</td><td>205</td><td>11</td></tr>",
                            "</table>"
                        ]
                    }
                }
            ],
            "execution_count": 2
        },
        {
            "cell_type": "markdown",
            "source": [
                "## Дані можуть вибиратися не повністю"
            ],
            "metadata": {
                "azdata_cell_guid": "587f02e2-d61a-4739-b8b4-cf1df9da7900"
            },
            "attachments": {}
        },
        {
            "cell_type": "code",
            "source": [
                "SELECT \r\n",
                "    employee_id, \r\n",
                "    first_name, \r\n",
                "    last_name, \r\n",
                "    hire_date\r\n",
                "FROM\r\n",
                "    employees;"
            ],
            "metadata": {
                "language": "sql",
                "azdata_cell_guid": "d539d0d6-7e94-480d-a8cf-1d4524bbe36b"
            },
            "outputs": [
                {
                    "output_type": "display_data",
                    "data": {
                        "text/html": "(40 rows affected)"
                    },
                    "metadata": {}
                },
                {
                    "output_type": "display_data",
                    "data": {
                        "text/html": "Total execution time: 00:00:00.013"
                    },
                    "metadata": {}
                },
                {
                    "output_type": "execute_result",
                    "metadata": {},
                    "execution_count": 3,
                    "data": {
                        "application/vnd.dataresource+json": {
                            "schema": {
                                "fields": [
                                    {
                                        "name": "employee_id"
                                    },
                                    {
                                        "name": "first_name"
                                    },
                                    {
                                        "name": "last_name"
                                    },
                                    {
                                        "name": "hire_date"
                                    }
                                ]
                            },
                            "data": [
                                {
                                    "0": "100",
                                    "1": "Steven",
                                    "2": "King",
                                    "3": "1987-06-17"
                                },
                                {
                                    "0": "101",
                                    "1": "Neena",
                                    "2": "Kochhar",
                                    "3": "1989-09-21"
                                },
                                {
                                    "0": "102",
                                    "1": "Lex",
                                    "2": "De Haan",
                                    "3": "1993-01-13"
                                },
                                {
                                    "0": "103",
                                    "1": "Alexander",
                                    "2": "Hunold",
                                    "3": "1990-01-03"
                                },
                                {
                                    "0": "104",
                                    "1": "Bruce",
                                    "2": "Ernst",
                                    "3": "1991-05-21"
                                },
                                {
                                    "0": "105",
                                    "1": "David",
                                    "2": "Austin",
                                    "3": "1997-06-25"
                                },
                                {
                                    "0": "106",
                                    "1": "Valli",
                                    "2": "Pataballa",
                                    "3": "1998-02-05"
                                },
                                {
                                    "0": "107",
                                    "1": "Diana",
                                    "2": "Lorentz",
                                    "3": "1999-02-07"
                                },
                                {
                                    "0": "108",
                                    "1": "Nancy",
                                    "2": "Greenberg",
                                    "3": "1994-08-17"
                                },
                                {
                                    "0": "109",
                                    "1": "Daniel",
                                    "2": "Faviet",
                                    "3": "1994-08-16"
                                },
                                {
                                    "0": "110",
                                    "1": "John",
                                    "2": "Chen",
                                    "3": "1997-09-28"
                                },
                                {
                                    "0": "111",
                                    "1": "Ismael",
                                    "2": "Sciarra",
                                    "3": "1997-09-30"
                                },
                                {
                                    "0": "112",
                                    "1": "Jose Manuel",
                                    "2": "Urman",
                                    "3": "1998-03-07"
                                },
                                {
                                    "0": "113",
                                    "1": "Luis",
                                    "2": "Popp",
                                    "3": "1999-12-07"
                                },
                                {
                                    "0": "114",
                                    "1": "Den",
                                    "2": "Raphaely",
                                    "3": "1994-12-07"
                                },
                                {
                                    "0": "115",
                                    "1": "Alexander",
                                    "2": "Khoo",
                                    "3": "1995-05-18"
                                },
                                {
                                    "0": "116",
                                    "1": "Shelli",
                                    "2": "Baida",
                                    "3": "1997-12-24"
                                },
                                {
                                    "0": "117",
                                    "1": "Sigal",
                                    "2": "Tobias",
                                    "3": "1997-07-24"
                                },
                                {
                                    "0": "118",
                                    "1": "Guy",
                                    "2": "Himuro",
                                    "3": "1998-11-15"
                                },
                                {
                                    "0": "119",
                                    "1": "Karen",
                                    "2": "Colmenares",
                                    "3": "1999-08-10"
                                },
                                {
                                    "0": "120",
                                    "1": "Matthew",
                                    "2": "Weiss",
                                    "3": "1996-07-18"
                                },
                                {
                                    "0": "121",
                                    "1": "Adam",
                                    "2": "Fripp",
                                    "3": "1997-04-10"
                                },
                                {
                                    "0": "122",
                                    "1": "Payam",
                                    "2": "Kaufling",
                                    "3": "1995-05-01"
                                },
                                {
                                    "0": "123",
                                    "1": "Shanta",
                                    "2": "Vollman",
                                    "3": "1997-10-10"
                                },
                                {
                                    "0": "126",
                                    "1": "Irene",
                                    "2": "Mikkilineni",
                                    "3": "1998-09-28"
                                },
                                {
                                    "0": "145",
                                    "1": "John",
                                    "2": "Russell",
                                    "3": "1996-10-01"
                                },
                                {
                                    "0": "146",
                                    "1": "Karen",
                                    "2": "Partners",
                                    "3": "1997-01-05"
                                },
                                {
                                    "0": "176",
                                    "1": "Jonathon",
                                    "2": "Taylor",
                                    "3": "1998-03-24"
                                },
                                {
                                    "0": "177",
                                    "1": "Jack",
                                    "2": "Livingston",
                                    "3": "1998-04-23"
                                },
                                {
                                    "0": "178",
                                    "1": "Kimberely",
                                    "2": "Grant",
                                    "3": "1999-05-24"
                                },
                                {
                                    "0": "179",
                                    "1": "Charles",
                                    "2": "Johnson",
                                    "3": "2000-01-04"
                                },
                                {
                                    "0": "192",
                                    "1": "Sarah",
                                    "2": "Bell",
                                    "3": "1996-02-04"
                                },
                                {
                                    "0": "193",
                                    "1": "Britney",
                                    "2": "Everett",
                                    "3": "1997-03-03"
                                },
                                {
                                    "0": "200",
                                    "1": "Jennifer",
                                    "2": "Whalen",
                                    "3": "1987-09-17"
                                },
                                {
                                    "0": "201",
                                    "1": "Michael",
                                    "2": "Hartstein",
                                    "3": "1996-02-17"
                                },
                                {
                                    "0": "202",
                                    "1": "Pat",
                                    "2": "Fay",
                                    "3": "1997-08-17"
                                },
                                {
                                    "0": "203",
                                    "1": "Susan",
                                    "2": "Mavris",
                                    "3": "1994-06-07"
                                },
                                {
                                    "0": "204",
                                    "1": "Hermann",
                                    "2": "Baer",
                                    "3": "1994-06-07"
                                },
                                {
                                    "0": "205",
                                    "1": "Shelley",
                                    "2": "Higgins",
                                    "3": "1994-06-07"
                                },
                                {
                                    "0": "206",
                                    "1": "William",
                                    "2": "Gietz",
                                    "3": "1994-06-07"
                                }
                            ]
                        },
                        "text/html": [
                            "<table>",
                            "<tr><th>employee_id</th><th>first_name</th><th>last_name</th><th>hire_date</th></tr>",
                            "<tr><td>100</td><td>Steven</td><td>King</td><td>1987-06-17</td></tr>",
                            "<tr><td>101</td><td>Neena</td><td>Kochhar</td><td>1989-09-21</td></tr>",
                            "<tr><td>102</td><td>Lex</td><td>De Haan</td><td>1993-01-13</td></tr>",
                            "<tr><td>103</td><td>Alexander</td><td>Hunold</td><td>1990-01-03</td></tr>",
                            "<tr><td>104</td><td>Bruce</td><td>Ernst</td><td>1991-05-21</td></tr>",
                            "<tr><td>105</td><td>David</td><td>Austin</td><td>1997-06-25</td></tr>",
                            "<tr><td>106</td><td>Valli</td><td>Pataballa</td><td>1998-02-05</td></tr>",
                            "<tr><td>107</td><td>Diana</td><td>Lorentz</td><td>1999-02-07</td></tr>",
                            "<tr><td>108</td><td>Nancy</td><td>Greenberg</td><td>1994-08-17</td></tr>",
                            "<tr><td>109</td><td>Daniel</td><td>Faviet</td><td>1994-08-16</td></tr>",
                            "<tr><td>110</td><td>John</td><td>Chen</td><td>1997-09-28</td></tr>",
                            "<tr><td>111</td><td>Ismael</td><td>Sciarra</td><td>1997-09-30</td></tr>",
                            "<tr><td>112</td><td>Jose Manuel</td><td>Urman</td><td>1998-03-07</td></tr>",
                            "<tr><td>113</td><td>Luis</td><td>Popp</td><td>1999-12-07</td></tr>",
                            "<tr><td>114</td><td>Den</td><td>Raphaely</td><td>1994-12-07</td></tr>",
                            "<tr><td>115</td><td>Alexander</td><td>Khoo</td><td>1995-05-18</td></tr>",
                            "<tr><td>116</td><td>Shelli</td><td>Baida</td><td>1997-12-24</td></tr>",
                            "<tr><td>117</td><td>Sigal</td><td>Tobias</td><td>1997-07-24</td></tr>",
                            "<tr><td>118</td><td>Guy</td><td>Himuro</td><td>1998-11-15</td></tr>",
                            "<tr><td>119</td><td>Karen</td><td>Colmenares</td><td>1999-08-10</td></tr>",
                            "<tr><td>120</td><td>Matthew</td><td>Weiss</td><td>1996-07-18</td></tr>",
                            "<tr><td>121</td><td>Adam</td><td>Fripp</td><td>1997-04-10</td></tr>",
                            "<tr><td>122</td><td>Payam</td><td>Kaufling</td><td>1995-05-01</td></tr>",
                            "<tr><td>123</td><td>Shanta</td><td>Vollman</td><td>1997-10-10</td></tr>",
                            "<tr><td>126</td><td>Irene</td><td>Mikkilineni</td><td>1998-09-28</td></tr>",
                            "<tr><td>145</td><td>John</td><td>Russell</td><td>1996-10-01</td></tr>",
                            "<tr><td>146</td><td>Karen</td><td>Partners</td><td>1997-01-05</td></tr>",
                            "<tr><td>176</td><td>Jonathon</td><td>Taylor</td><td>1998-03-24</td></tr>",
                            "<tr><td>177</td><td>Jack</td><td>Livingston</td><td>1998-04-23</td></tr>",
                            "<tr><td>178</td><td>Kimberely</td><td>Grant</td><td>1999-05-24</td></tr>",
                            "<tr><td>179</td><td>Charles</td><td>Johnson</td><td>2000-01-04</td></tr>",
                            "<tr><td>192</td><td>Sarah</td><td>Bell</td><td>1996-02-04</td></tr>",
                            "<tr><td>193</td><td>Britney</td><td>Everett</td><td>1997-03-03</td></tr>",
                            "<tr><td>200</td><td>Jennifer</td><td>Whalen</td><td>1987-09-17</td></tr>",
                            "<tr><td>201</td><td>Michael</td><td>Hartstein</td><td>1996-02-17</td></tr>",
                            "<tr><td>202</td><td>Pat</td><td>Fay</td><td>1997-08-17</td></tr>",
                            "<tr><td>203</td><td>Susan</td><td>Mavris</td><td>1994-06-07</td></tr>",
                            "<tr><td>204</td><td>Hermann</td><td>Baer</td><td>1994-06-07</td></tr>",
                            "<tr><td>205</td><td>Shelley</td><td>Higgins</td><td>1994-06-07</td></tr>",
                            "<tr><td>206</td><td>William</td><td>Gietz</td><td>1994-06-07</td></tr>",
                            "</table>"
                        ]
                    }
                }
            ],
            "execution_count": 3
        },
        {
            "cell_type": "markdown",
            "source": [
                "## Витягування даних з обчисленнями"
            ],
            "metadata": {
                "language": "sql",
                "azdata_cell_guid": "0148cee7-f438-48ed-b679-425a82e7105a"
            },
            "attachments": {}
        },
        {
            "cell_type": "code",
            "source": [
                "SELECT \r\n",
                "    first_name, \r\n",
                "    last_name, \r\n",
                "    salary, \r\n",
                "    salary * 1.05\r\n",
                "FROM\r\n",
                "    employees;"
            ],
            "metadata": {
                "language": "sql",
                "azdata_cell_guid": "eab495e0-fafc-436b-acfc-892537a1d49d"
            },
            "outputs": [
                {
                    "output_type": "display_data",
                    "data": {
                        "text/html": "(40 rows affected)"
                    },
                    "metadata": {}
                },
                {
                    "output_type": "display_data",
                    "data": {
                        "text/html": "Total execution time: 00:00:00.009"
                    },
                    "metadata": {}
                },
                {
                    "output_type": "execute_result",
                    "metadata": {},
                    "execution_count": 4,
                    "data": {
                        "application/vnd.dataresource+json": {
                            "schema": {
                                "fields": [
                                    {
                                        "name": "first_name"
                                    },
                                    {
                                        "name": "last_name"
                                    },
                                    {
                                        "name": "salary"
                                    },
                                    {
                                        "name": "(No column name)"
                                    }
                                ]
                            },
                            "data": [
                                {
                                    "0": "Steven",
                                    "1": "King",
                                    "2": "24000.00",
                                    "3": "25200.0000"
                                },
                                {
                                    "0": "Neena",
                                    "1": "Kochhar",
                                    "2": "17000.00",
                                    "3": "17850.0000"
                                },
                                {
                                    "0": "Lex",
                                    "1": "De Haan",
                                    "2": "17000.00",
                                    "3": "17850.0000"
                                },
                                {
                                    "0": "Alexander",
                                    "1": "Hunold",
                                    "2": "9000.00",
                                    "3": "9450.0000"
                                },
                                {
                                    "0": "Bruce",
                                    "1": "Ernst",
                                    "2": "6000.00",
                                    "3": "6300.0000"
                                },
                                {
                                    "0": "David",
                                    "1": "Austin",
                                    "2": "4800.00",
                                    "3": "5040.0000"
                                },
                                {
                                    "0": "Valli",
                                    "1": "Pataballa",
                                    "2": "4800.00",
                                    "3": "5040.0000"
                                },
                                {
                                    "0": "Diana",
                                    "1": "Lorentz",
                                    "2": "4200.00",
                                    "3": "4410.0000"
                                },
                                {
                                    "0": "Nancy",
                                    "1": "Greenberg",
                                    "2": "12000.00",
                                    "3": "12600.0000"
                                },
                                {
                                    "0": "Daniel",
                                    "1": "Faviet",
                                    "2": "9000.00",
                                    "3": "9450.0000"
                                },
                                {
                                    "0": "John",
                                    "1": "Chen",
                                    "2": "8200.00",
                                    "3": "8610.0000"
                                },
                                {
                                    "0": "Ismael",
                                    "1": "Sciarra",
                                    "2": "7700.00",
                                    "3": "8085.0000"
                                },
                                {
                                    "0": "Jose Manuel",
                                    "1": "Urman",
                                    "2": "7800.00",
                                    "3": "8190.0000"
                                },
                                {
                                    "0": "Luis",
                                    "1": "Popp",
                                    "2": "6900.00",
                                    "3": "7245.0000"
                                },
                                {
                                    "0": "Den",
                                    "1": "Raphaely",
                                    "2": "11000.00",
                                    "3": "11550.0000"
                                },
                                {
                                    "0": "Alexander",
                                    "1": "Khoo",
                                    "2": "3100.00",
                                    "3": "3255.0000"
                                },
                                {
                                    "0": "Shelli",
                                    "1": "Baida",
                                    "2": "2900.00",
                                    "3": "3045.0000"
                                },
                                {
                                    "0": "Sigal",
                                    "1": "Tobias",
                                    "2": "2800.00",
                                    "3": "2940.0000"
                                },
                                {
                                    "0": "Guy",
                                    "1": "Himuro",
                                    "2": "2600.00",
                                    "3": "2730.0000"
                                },
                                {
                                    "0": "Karen",
                                    "1": "Colmenares",
                                    "2": "2500.00",
                                    "3": "2625.0000"
                                },
                                {
                                    "0": "Matthew",
                                    "1": "Weiss",
                                    "2": "8000.00",
                                    "3": "8400.0000"
                                },
                                {
                                    "0": "Adam",
                                    "1": "Fripp",
                                    "2": "8200.00",
                                    "3": "8610.0000"
                                },
                                {
                                    "0": "Payam",
                                    "1": "Kaufling",
                                    "2": "7900.00",
                                    "3": "8295.0000"
                                },
                                {
                                    "0": "Shanta",
                                    "1": "Vollman",
                                    "2": "6500.00",
                                    "3": "6825.0000"
                                },
                                {
                                    "0": "Irene",
                                    "1": "Mikkilineni",
                                    "2": "2700.00",
                                    "3": "2835.0000"
                                },
                                {
                                    "0": "John",
                                    "1": "Russell",
                                    "2": "14000.00",
                                    "3": "14700.0000"
                                },
                                {
                                    "0": "Karen",
                                    "1": "Partners",
                                    "2": "13500.00",
                                    "3": "14175.0000"
                                },
                                {
                                    "0": "Jonathon",
                                    "1": "Taylor",
                                    "2": "8600.00",
                                    "3": "9030.0000"
                                },
                                {
                                    "0": "Jack",
                                    "1": "Livingston",
                                    "2": "8400.00",
                                    "3": "8820.0000"
                                },
                                {
                                    "0": "Kimberely",
                                    "1": "Grant",
                                    "2": "7000.00",
                                    "3": "7350.0000"
                                },
                                {
                                    "0": "Charles",
                                    "1": "Johnson",
                                    "2": "6200.00",
                                    "3": "6510.0000"
                                },
                                {
                                    "0": "Sarah",
                                    "1": "Bell",
                                    "2": "4000.00",
                                    "3": "4200.0000"
                                },
                                {
                                    "0": "Britney",
                                    "1": "Everett",
                                    "2": "3900.00",
                                    "3": "4095.0000"
                                },
                                {
                                    "0": "Jennifer",
                                    "1": "Whalen",
                                    "2": "4400.00",
                                    "3": "4620.0000"
                                },
                                {
                                    "0": "Michael",
                                    "1": "Hartstein",
                                    "2": "13000.00",
                                    "3": "13650.0000"
                                },
                                {
                                    "0": "Pat",
                                    "1": "Fay",
                                    "2": "6000.00",
                                    "3": "6300.0000"
                                },
                                {
                                    "0": "Susan",
                                    "1": "Mavris",
                                    "2": "6500.00",
                                    "3": "6825.0000"
                                },
                                {
                                    "0": "Hermann",
                                    "1": "Baer",
                                    "2": "10000.00",
                                    "3": "10500.0000"
                                },
                                {
                                    "0": "Shelley",
                                    "1": "Higgins",
                                    "2": "12000.00",
                                    "3": "12600.0000"
                                },
                                {
                                    "0": "William",
                                    "1": "Gietz",
                                    "2": "8300.00",
                                    "3": "8715.0000"
                                }
                            ]
                        },
                        "text/html": [
                            "<table>",
                            "<tr><th>first_name</th><th>last_name</th><th>salary</th><th>(No column name)</th></tr>",
                            "<tr><td>Steven</td><td>King</td><td>24000.00</td><td>25200.0000</td></tr>",
                            "<tr><td>Neena</td><td>Kochhar</td><td>17000.00</td><td>17850.0000</td></tr>",
                            "<tr><td>Lex</td><td>De Haan</td><td>17000.00</td><td>17850.0000</td></tr>",
                            "<tr><td>Alexander</td><td>Hunold</td><td>9000.00</td><td>9450.0000</td></tr>",
                            "<tr><td>Bruce</td><td>Ernst</td><td>6000.00</td><td>6300.0000</td></tr>",
                            "<tr><td>David</td><td>Austin</td><td>4800.00</td><td>5040.0000</td></tr>",
                            "<tr><td>Valli</td><td>Pataballa</td><td>4800.00</td><td>5040.0000</td></tr>",
                            "<tr><td>Diana</td><td>Lorentz</td><td>4200.00</td><td>4410.0000</td></tr>",
                            "<tr><td>Nancy</td><td>Greenberg</td><td>12000.00</td><td>12600.0000</td></tr>",
                            "<tr><td>Daniel</td><td>Faviet</td><td>9000.00</td><td>9450.0000</td></tr>",
                            "<tr><td>John</td><td>Chen</td><td>8200.00</td><td>8610.0000</td></tr>",
                            "<tr><td>Ismael</td><td>Sciarra</td><td>7700.00</td><td>8085.0000</td></tr>",
                            "<tr><td>Jose Manuel</td><td>Urman</td><td>7800.00</td><td>8190.0000</td></tr>",
                            "<tr><td>Luis</td><td>Popp</td><td>6900.00</td><td>7245.0000</td></tr>",
                            "<tr><td>Den</td><td>Raphaely</td><td>11000.00</td><td>11550.0000</td></tr>",
                            "<tr><td>Alexander</td><td>Khoo</td><td>3100.00</td><td>3255.0000</td></tr>",
                            "<tr><td>Shelli</td><td>Baida</td><td>2900.00</td><td>3045.0000</td></tr>",
                            "<tr><td>Sigal</td><td>Tobias</td><td>2800.00</td><td>2940.0000</td></tr>",
                            "<tr><td>Guy</td><td>Himuro</td><td>2600.00</td><td>2730.0000</td></tr>",
                            "<tr><td>Karen</td><td>Colmenares</td><td>2500.00</td><td>2625.0000</td></tr>",
                            "<tr><td>Matthew</td><td>Weiss</td><td>8000.00</td><td>8400.0000</td></tr>",
                            "<tr><td>Adam</td><td>Fripp</td><td>8200.00</td><td>8610.0000</td></tr>",
                            "<tr><td>Payam</td><td>Kaufling</td><td>7900.00</td><td>8295.0000</td></tr>",
                            "<tr><td>Shanta</td><td>Vollman</td><td>6500.00</td><td>6825.0000</td></tr>",
                            "<tr><td>Irene</td><td>Mikkilineni</td><td>2700.00</td><td>2835.0000</td></tr>",
                            "<tr><td>John</td><td>Russell</td><td>14000.00</td><td>14700.0000</td></tr>",
                            "<tr><td>Karen</td><td>Partners</td><td>13500.00</td><td>14175.0000</td></tr>",
                            "<tr><td>Jonathon</td><td>Taylor</td><td>8600.00</td><td>9030.0000</td></tr>",
                            "<tr><td>Jack</td><td>Livingston</td><td>8400.00</td><td>8820.0000</td></tr>",
                            "<tr><td>Kimberely</td><td>Grant</td><td>7000.00</td><td>7350.0000</td></tr>",
                            "<tr><td>Charles</td><td>Johnson</td><td>6200.00</td><td>6510.0000</td></tr>",
                            "<tr><td>Sarah</td><td>Bell</td><td>4000.00</td><td>4200.0000</td></tr>",
                            "<tr><td>Britney</td><td>Everett</td><td>3900.00</td><td>4095.0000</td></tr>",
                            "<tr><td>Jennifer</td><td>Whalen</td><td>4400.00</td><td>4620.0000</td></tr>",
                            "<tr><td>Michael</td><td>Hartstein</td><td>13000.00</td><td>13650.0000</td></tr>",
                            "<tr><td>Pat</td><td>Fay</td><td>6000.00</td><td>6300.0000</td></tr>",
                            "<tr><td>Susan</td><td>Mavris</td><td>6500.00</td><td>6825.0000</td></tr>",
                            "<tr><td>Hermann</td><td>Baer</td><td>10000.00</td><td>10500.0000</td></tr>",
                            "<tr><td>Shelley</td><td>Higgins</td><td>12000.00</td><td>12600.0000</td></tr>",
                            "<tr><td>William</td><td>Gietz</td><td>8300.00</td><td>8715.0000</td></tr>",
                            "</table>"
                        ]
                    }
                }
            ],
            "execution_count": 4
        },
        {
            "cell_type": "markdown",
            "source": [
                "Витягування даних з іменуванням стовпців"
            ],
            "metadata": {
                "language": "sql",
                "azdata_cell_guid": "f203ec85-3c68-412b-a15c-9d282fe2aa67"
            },
            "attachments": {}
        },
        {
            "cell_type": "code",
            "source": [
                "SELECT \r\n",
                "    first_name, \r\n",
                "    last_name, \r\n",
                "    salary, \r\n",
                "    salary * 1.05 AS new_salary\r\n",
                "FROM\r\n",
                "    employees;"
            ],
            "metadata": {
                "language": "sql",
                "azdata_cell_guid": "ebdb2752-9878-4623-9b93-22ce946202a2"
            },
            "outputs": [
                {
                    "output_type": "display_data",
                    "data": {
                        "text/html": "(40 rows affected)"
                    },
                    "metadata": {}
                },
                {
                    "output_type": "display_data",
                    "data": {
                        "text/html": "Total execution time: 00:00:00.006"
                    },
                    "metadata": {}
                },
                {
                    "output_type": "execute_result",
                    "metadata": {},
                    "execution_count": 5,
                    "data": {
                        "application/vnd.dataresource+json": {
                            "schema": {
                                "fields": [
                                    {
                                        "name": "first_name"
                                    },
                                    {
                                        "name": "last_name"
                                    },
                                    {
                                        "name": "salary"
                                    },
                                    {
                                        "name": "new_salary"
                                    }
                                ]
                            },
                            "data": [
                                {
                                    "0": "Steven",
                                    "1": "King",
                                    "2": "24000.00",
                                    "3": "25200.0000"
                                },
                                {
                                    "0": "Neena",
                                    "1": "Kochhar",
                                    "2": "17000.00",
                                    "3": "17850.0000"
                                },
                                {
                                    "0": "Lex",
                                    "1": "De Haan",
                                    "2": "17000.00",
                                    "3": "17850.0000"
                                },
                                {
                                    "0": "Alexander",
                                    "1": "Hunold",
                                    "2": "9000.00",
                                    "3": "9450.0000"
                                },
                                {
                                    "0": "Bruce",
                                    "1": "Ernst",
                                    "2": "6000.00",
                                    "3": "6300.0000"
                                },
                                {
                                    "0": "David",
                                    "1": "Austin",
                                    "2": "4800.00",
                                    "3": "5040.0000"
                                },
                                {
                                    "0": "Valli",
                                    "1": "Pataballa",
                                    "2": "4800.00",
                                    "3": "5040.0000"
                                },
                                {
                                    "0": "Diana",
                                    "1": "Lorentz",
                                    "2": "4200.00",
                                    "3": "4410.0000"
                                },
                                {
                                    "0": "Nancy",
                                    "1": "Greenberg",
                                    "2": "12000.00",
                                    "3": "12600.0000"
                                },
                                {
                                    "0": "Daniel",
                                    "1": "Faviet",
                                    "2": "9000.00",
                                    "3": "9450.0000"
                                },
                                {
                                    "0": "John",
                                    "1": "Chen",
                                    "2": "8200.00",
                                    "3": "8610.0000"
                                },
                                {
                                    "0": "Ismael",
                                    "1": "Sciarra",
                                    "2": "7700.00",
                                    "3": "8085.0000"
                                },
                                {
                                    "0": "Jose Manuel",
                                    "1": "Urman",
                                    "2": "7800.00",
                                    "3": "8190.0000"
                                },
                                {
                                    "0": "Luis",
                                    "1": "Popp",
                                    "2": "6900.00",
                                    "3": "7245.0000"
                                },
                                {
                                    "0": "Den",
                                    "1": "Raphaely",
                                    "2": "11000.00",
                                    "3": "11550.0000"
                                },
                                {
                                    "0": "Alexander",
                                    "1": "Khoo",
                                    "2": "3100.00",
                                    "3": "3255.0000"
                                },
                                {
                                    "0": "Shelli",
                                    "1": "Baida",
                                    "2": "2900.00",
                                    "3": "3045.0000"
                                },
                                {
                                    "0": "Sigal",
                                    "1": "Tobias",
                                    "2": "2800.00",
                                    "3": "2940.0000"
                                },
                                {
                                    "0": "Guy",
                                    "1": "Himuro",
                                    "2": "2600.00",
                                    "3": "2730.0000"
                                },
                                {
                                    "0": "Karen",
                                    "1": "Colmenares",
                                    "2": "2500.00",
                                    "3": "2625.0000"
                                },
                                {
                                    "0": "Matthew",
                                    "1": "Weiss",
                                    "2": "8000.00",
                                    "3": "8400.0000"
                                },
                                {
                                    "0": "Adam",
                                    "1": "Fripp",
                                    "2": "8200.00",
                                    "3": "8610.0000"
                                },
                                {
                                    "0": "Payam",
                                    "1": "Kaufling",
                                    "2": "7900.00",
                                    "3": "8295.0000"
                                },
                                {
                                    "0": "Shanta",
                                    "1": "Vollman",
                                    "2": "6500.00",
                                    "3": "6825.0000"
                                },
                                {
                                    "0": "Irene",
                                    "1": "Mikkilineni",
                                    "2": "2700.00",
                                    "3": "2835.0000"
                                },
                                {
                                    "0": "John",
                                    "1": "Russell",
                                    "2": "14000.00",
                                    "3": "14700.0000"
                                },
                                {
                                    "0": "Karen",
                                    "1": "Partners",
                                    "2": "13500.00",
                                    "3": "14175.0000"
                                },
                                {
                                    "0": "Jonathon",
                                    "1": "Taylor",
                                    "2": "8600.00",
                                    "3": "9030.0000"
                                },
                                {
                                    "0": "Jack",
                                    "1": "Livingston",
                                    "2": "8400.00",
                                    "3": "8820.0000"
                                },
                                {
                                    "0": "Kimberely",
                                    "1": "Grant",
                                    "2": "7000.00",
                                    "3": "7350.0000"
                                },
                                {
                                    "0": "Charles",
                                    "1": "Johnson",
                                    "2": "6200.00",
                                    "3": "6510.0000"
                                },
                                {
                                    "0": "Sarah",
                                    "1": "Bell",
                                    "2": "4000.00",
                                    "3": "4200.0000"
                                },
                                {
                                    "0": "Britney",
                                    "1": "Everett",
                                    "2": "3900.00",
                                    "3": "4095.0000"
                                },
                                {
                                    "0": "Jennifer",
                                    "1": "Whalen",
                                    "2": "4400.00",
                                    "3": "4620.0000"
                                },
                                {
                                    "0": "Michael",
                                    "1": "Hartstein",
                                    "2": "13000.00",
                                    "3": "13650.0000"
                                },
                                {
                                    "0": "Pat",
                                    "1": "Fay",
                                    "2": "6000.00",
                                    "3": "6300.0000"
                                },
                                {
                                    "0": "Susan",
                                    "1": "Mavris",
                                    "2": "6500.00",
                                    "3": "6825.0000"
                                },
                                {
                                    "0": "Hermann",
                                    "1": "Baer",
                                    "2": "10000.00",
                                    "3": "10500.0000"
                                },
                                {
                                    "0": "Shelley",
                                    "1": "Higgins",
                                    "2": "12000.00",
                                    "3": "12600.0000"
                                },
                                {
                                    "0": "William",
                                    "1": "Gietz",
                                    "2": "8300.00",
                                    "3": "8715.0000"
                                }
                            ]
                        },
                        "text/html": [
                            "<table>",
                            "<tr><th>first_name</th><th>last_name</th><th>salary</th><th>new_salary</th></tr>",
                            "<tr><td>Steven</td><td>King</td><td>24000.00</td><td>25200.0000</td></tr>",
                            "<tr><td>Neena</td><td>Kochhar</td><td>17000.00</td><td>17850.0000</td></tr>",
                            "<tr><td>Lex</td><td>De Haan</td><td>17000.00</td><td>17850.0000</td></tr>",
                            "<tr><td>Alexander</td><td>Hunold</td><td>9000.00</td><td>9450.0000</td></tr>",
                            "<tr><td>Bruce</td><td>Ernst</td><td>6000.00</td><td>6300.0000</td></tr>",
                            "<tr><td>David</td><td>Austin</td><td>4800.00</td><td>5040.0000</td></tr>",
                            "<tr><td>Valli</td><td>Pataballa</td><td>4800.00</td><td>5040.0000</td></tr>",
                            "<tr><td>Diana</td><td>Lorentz</td><td>4200.00</td><td>4410.0000</td></tr>",
                            "<tr><td>Nancy</td><td>Greenberg</td><td>12000.00</td><td>12600.0000</td></tr>",
                            "<tr><td>Daniel</td><td>Faviet</td><td>9000.00</td><td>9450.0000</td></tr>",
                            "<tr><td>John</td><td>Chen</td><td>8200.00</td><td>8610.0000</td></tr>",
                            "<tr><td>Ismael</td><td>Sciarra</td><td>7700.00</td><td>8085.0000</td></tr>",
                            "<tr><td>Jose Manuel</td><td>Urman</td><td>7800.00</td><td>8190.0000</td></tr>",
                            "<tr><td>Luis</td><td>Popp</td><td>6900.00</td><td>7245.0000</td></tr>",
                            "<tr><td>Den</td><td>Raphaely</td><td>11000.00</td><td>11550.0000</td></tr>",
                            "<tr><td>Alexander</td><td>Khoo</td><td>3100.00</td><td>3255.0000</td></tr>",
                            "<tr><td>Shelli</td><td>Baida</td><td>2900.00</td><td>3045.0000</td></tr>",
                            "<tr><td>Sigal</td><td>Tobias</td><td>2800.00</td><td>2940.0000</td></tr>",
                            "<tr><td>Guy</td><td>Himuro</td><td>2600.00</td><td>2730.0000</td></tr>",
                            "<tr><td>Karen</td><td>Colmenares</td><td>2500.00</td><td>2625.0000</td></tr>",
                            "<tr><td>Matthew</td><td>Weiss</td><td>8000.00</td><td>8400.0000</td></tr>",
                            "<tr><td>Adam</td><td>Fripp</td><td>8200.00</td><td>8610.0000</td></tr>",
                            "<tr><td>Payam</td><td>Kaufling</td><td>7900.00</td><td>8295.0000</td></tr>",
                            "<tr><td>Shanta</td><td>Vollman</td><td>6500.00</td><td>6825.0000</td></tr>",
                            "<tr><td>Irene</td><td>Mikkilineni</td><td>2700.00</td><td>2835.0000</td></tr>",
                            "<tr><td>John</td><td>Russell</td><td>14000.00</td><td>14700.0000</td></tr>",
                            "<tr><td>Karen</td><td>Partners</td><td>13500.00</td><td>14175.0000</td></tr>",
                            "<tr><td>Jonathon</td><td>Taylor</td><td>8600.00</td><td>9030.0000</td></tr>",
                            "<tr><td>Jack</td><td>Livingston</td><td>8400.00</td><td>8820.0000</td></tr>",
                            "<tr><td>Kimberely</td><td>Grant</td><td>7000.00</td><td>7350.0000</td></tr>",
                            "<tr><td>Charles</td><td>Johnson</td><td>6200.00</td><td>6510.0000</td></tr>",
                            "<tr><td>Sarah</td><td>Bell</td><td>4000.00</td><td>4200.0000</td></tr>",
                            "<tr><td>Britney</td><td>Everett</td><td>3900.00</td><td>4095.0000</td></tr>",
                            "<tr><td>Jennifer</td><td>Whalen</td><td>4400.00</td><td>4620.0000</td></tr>",
                            "<tr><td>Michael</td><td>Hartstein</td><td>13000.00</td><td>13650.0000</td></tr>",
                            "<tr><td>Pat</td><td>Fay</td><td>6000.00</td><td>6300.0000</td></tr>",
                            "<tr><td>Susan</td><td>Mavris</td><td>6500.00</td><td>6825.0000</td></tr>",
                            "<tr><td>Hermann</td><td>Baer</td><td>10000.00</td><td>10500.0000</td></tr>",
                            "<tr><td>Shelley</td><td>Higgins</td><td>12000.00</td><td>12600.0000</td></tr>",
                            "<tr><td>William</td><td>Gietz</td><td>8300.00</td><td>8715.0000</td></tr>",
                            "</table>"
                        ]
                    }
                }
            ],
            "execution_count": 5
        }
    ]
}