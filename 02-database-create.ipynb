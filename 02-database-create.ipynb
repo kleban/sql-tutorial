{
    "metadata": {
        "kernelspec": {
            "name": "SQL",
            "display_name": "SQL",
            "language": "sql"
        },
        "language_info": {
            "name": "sql",
            "version": ""
        }
    },
    "nbformat_minor": 2,
    "nbformat": 4,
    "cells": [
        {
            "cell_type": "markdown",
            "source": [
                "# 2\\. Створення бази даних та наповнення таблиць"
            ],
            "metadata": {
                "azdata_cell_guid": "6a022be1-e665-44dc-991b-af94521e754e"
            },
            "attachments": {}
        },
        {
            "cell_type": "markdown",
            "source": [
                "## 2.1. Створення бази даних"
            ],
            "metadata": {
                "azdata_cell_guid": "f9de41eb-08be-4074-b5e6-96da4d0d70d5"
            },
            "attachments": {}
        },
        {
            "cell_type": "markdown",
            "source": [
                "Для початку потрібно підключитися до сервера бази даних та перемикнутися на роботу з базою ***`master`***."
            ],
            "metadata": {
                "azdata_cell_guid": "145bac34-a225-41f4-8c38-6c46844461c9"
            },
            "attachments": {}
        },
        {
            "cell_type": "code",
            "source": [
                "USE master\r\n",
                "GO"
            ],
            "metadata": {
                "language": "sql",
                "azdata_cell_guid": "d0af888f-5dd3-40a1-94f8-a797b5ad9e41"
            },
            "outputs": [
                {
                    "output_type": "display_data",
                    "data": {
                        "text/html": "Commands completed successfully."
                    },
                    "metadata": {}
                },
                {
                    "output_type": "display_data",
                    "data": {
                        "text/html": "Total execution time: 00:00:00"
                    },
                    "metadata": {}
                }
            ],
            "execution_count": 2
        },
        {
            "cell_type": "markdown",
            "source": [
                "Перевіримо, які бази даних присутні на сервері"
            ],
            "metadata": {
                "azdata_cell_guid": "c664bced-5bf4-4707-ba87-37fdd38a8d2e"
            },
            "attachments": {}
        },
        {
            "cell_type": "code",
            "source": [
                "SELECT name, database_id, create_date  \r\n",
                "FROM sys.databases;  \r\n",
                "GO  "
            ],
            "metadata": {
                "azdata_cell_guid": "d72a5fe2-3461-44b6-81bb-1449d517d389",
                "language": "sql"
            },
            "outputs": [
                {
                    "output_type": "display_data",
                    "data": {
                        "text/html": "(25 rows affected)"
                    },
                    "metadata": {}
                },
                {
                    "output_type": "display_data",
                    "data": {
                        "text/html": "Total execution time: 00:00:00.039"
                    },
                    "metadata": {}
                },
                {
                    "output_type": "execute_result",
                    "execution_count": 5,
                    "data": {
                        "application/vnd.dataresource+json": {
                            "schema": {
                                "fields": [
                                    {
                                        "name": "name"
                                    },
                                    {
                                        "name": "database_id"
                                    },
                                    {
                                        "name": "create_date"
                                    }
                                ]
                            },
                            "data": [
                                {
                                    "0": "master",
                                    "1": "1",
                                    "2": "2003-04-08 09:13:36.390"
                                },
                                {
                                    "0": "tempdb",
                                    "1": "2",
                                    "2": "2023-04-02 18:06:42.367"
                                },
                                {
                                    "0": "model",
                                    "1": "3",
                                    "2": "2003-04-08 09:13:36.390"
                                },
                                {
                                    "0": "msdb",
                                    "1": "4",
                                    "2": "2019-09-24 14:21:42.270"
                                },
                                {
                                    "0": "FantoDb",
                                    "1": "5",
                                    "2": "2022-03-21 09:12:54.397"
                                },
                                {
                                    "0": "churn_new",
                                    "1": "6",
                                    "2": "2021-04-14 15:28:40.240"
                                },
                                {
                                    "0": "demoDb",
                                    "1": "7",
                                    "2": "2022-03-31 13:30:45.310"
                                },
                                {
                                    "0": "XappPrev",
                                    "1": "8",
                                    "2": "2022-04-09 10:12:10.143"
                                },
                                {
                                    "0": "FantoAppPre",
                                    "1": "9",
                                    "2": "2022-04-12 10:33:27.510"
                                },
                                {
                                    "0": "ClerkDb",
                                    "1": "10",
                                    "2": "2022-04-19 11:21:14.160"
                                },
                                {
                                    "0": "XProjectDb",
                                    "1": "11",
                                    "2": "2022-05-03 13:10:21.063"
                                },
                                {
                                    "0": "UniDb",
                                    "1": "12",
                                    "2": "2022-04-29 13:26:43.417"
                                },
                                {
                                    "0": "UniApp_Db",
                                    "1": "13",
                                    "2": "2022-05-05 15:11:06.033"
                                },
                                {
                                    "0": "XProjectDb_v2",
                                    "1": "14",
                                    "2": "2022-05-10 17:30:49.943"
                                },
                                {
                                    "0": "ForbesRankDb",
                                    "1": "15",
                                    "2": "2022-05-11 16:13:33.380"
                                },
                                {
                                    "0": "UniversityDb",
                                    "1": "16",
                                    "2": "2022-05-27 15:02:27.310"
                                },
                                {
                                    "0": "JetClassDb",
                                    "1": "17",
                                    "2": "2022-07-13 13:02:21.703"
                                },
                                {
                                    "0": "DbSocialLogins",
                                    "1": "18",
                                    "2": "2022-06-26 17:42:08.147"
                                },
                                {
                                    "0": "XStatsDb",
                                    "1": "19",
                                    "2": "2022-10-03 11:36:26.997"
                                },
                                {
                                    "0": "PowerOffDb",
                                    "1": "20",
                                    "2": "2022-10-28 09:46:02.790"
                                },
                                {
                                    "0": "misto_db",
                                    "1": "21",
                                    "2": "2022-11-07 09:40:07.180"
                                },
                                {
                                    "0": "JetClassDb1",
                                    "1": "22",
                                    "2": "2023-01-16 13:36:13.797"
                                },
                                {
                                    "0": "EduTrack_Db",
                                    "1": "23",
                                    "2": "2023-02-23 13:00:55.233"
                                },
                                {
                                    "0": "database_name",
                                    "1": "24",
                                    "2": "2023-04-04 13:58:21.093"
                                },
                                {
                                    "0": "hr_db",
                                    "1": "25",
                                    "2": "2023-04-04 13:59:10.313"
                                }
                            ]
                        },
                        "text/html": "<table><tr><th>name</th><th>database_id</th><th>create_date</th></tr><tr><td>master</td><td>1</td><td>2003-04-08 09:13:36.390</td></tr><tr><td>tempdb</td><td>2</td><td>2023-04-02 18:06:42.367</td></tr><tr><td>model</td><td>3</td><td>2003-04-08 09:13:36.390</td></tr><tr><td>msdb</td><td>4</td><td>2019-09-24 14:21:42.270</td></tr><tr><td>FantoDb</td><td>5</td><td>2022-03-21 09:12:54.397</td></tr><tr><td>churn_new</td><td>6</td><td>2021-04-14 15:28:40.240</td></tr><tr><td>demoDb</td><td>7</td><td>2022-03-31 13:30:45.310</td></tr><tr><td>XappPrev</td><td>8</td><td>2022-04-09 10:12:10.143</td></tr><tr><td>FantoAppPre</td><td>9</td><td>2022-04-12 10:33:27.510</td></tr><tr><td>ClerkDb</td><td>10</td><td>2022-04-19 11:21:14.160</td></tr><tr><td>XProjectDb</td><td>11</td><td>2022-05-03 13:10:21.063</td></tr><tr><td>UniDb</td><td>12</td><td>2022-04-29 13:26:43.417</td></tr><tr><td>UniApp_Db</td><td>13</td><td>2022-05-05 15:11:06.033</td></tr><tr><td>XProjectDb_v2</td><td>14</td><td>2022-05-10 17:30:49.943</td></tr><tr><td>ForbesRankDb</td><td>15</td><td>2022-05-11 16:13:33.380</td></tr><tr><td>UniversityDb</td><td>16</td><td>2022-05-27 15:02:27.310</td></tr><tr><td>JetClassDb</td><td>17</td><td>2022-07-13 13:02:21.703</td></tr><tr><td>DbSocialLogins</td><td>18</td><td>2022-06-26 17:42:08.147</td></tr><tr><td>XStatsDb</td><td>19</td><td>2022-10-03 11:36:26.997</td></tr><tr><td>PowerOffDb</td><td>20</td><td>2022-10-28 09:46:02.790</td></tr><tr><td>misto_db</td><td>21</td><td>2022-11-07 09:40:07.180</td></tr><tr><td>JetClassDb1</td><td>22</td><td>2023-01-16 13:36:13.797</td></tr><tr><td>EduTrack_Db</td><td>23</td><td>2023-02-23 13:00:55.233</td></tr><tr><td>database_name</td><td>24</td><td>2023-04-04 13:58:21.093</td></tr><tr><td>hr_db</td><td>25</td><td>2023-04-04 13:59:10.313</td></tr></table>"
                    },
                    "metadata": {}
                }
            ],
            "execution_count": 5
        },
        {
            "cell_type": "code",
            "source": [
                "use churn_new\n",
                "\r\n",
                "select count(*) from clientChurn_FUll\r\n",
                ""
            ],
            "metadata": {
                "azdata_cell_guid": "86925e80-d60f-4312-933c-aa59a25bcd7b",
                "language": "sql"
            },
            "outputs": [
{
    "output_type": "display_data",
    "data": {
        "text/html": "(1 row affected)"
    },
    "metadata": {}
}, {
    "output_type": "display_data",
    "data": {
        "text/html": "Total execution time: 00:00:43.157"
    },
    "metadata": {}
}, {
    "output_type": "execute_result",
    "metadata": {},
    "execution_count": 2,
    "data": {
        "application/vnd.dataresource+json": {
            "schema": {
                "fields": [
                    {
                        "name": "(No column name)"
                    }
                ]
            },
            "data": [
                {
                    "0": "187970088"
                }
            ]
        },
        "text/html": [
            "<table>",
            "<tr><th>(No column name)</th></tr>",
            "<tr><td>187970088</td></tr>",
            "</table>"
        ]
    }
}
],
            "execution_count": 2
        },
        {
            "cell_type": "markdown",
            "source": [
                "Створимо базу даних ***`hr_db`***:"
            ],
            "metadata": {
                "azdata_cell_guid": "c638f0e9-41b3-4675-bb77-7ca5d4803baf"
            },
            "attachments": {}
        },
        {
            "cell_type": "code",
            "source": [
                "CREATE DATABASE hr_db "
            ],
            "metadata": {
                "language": "sql",
                "azdata_cell_guid": "905145a5-5df4-4cdb-91c0-7d67d4d66bf6"
            },
            "outputs": [],
            "execution_count": null
        },
        {
            "cell_type": "markdown",
            "source": [
                "## 2.2. Створення таблиць БД"
            ],
            "metadata": {
                "language": "sql",
                "azdata_cell_guid": "520de5f5-8634-468d-822b-1e3cc2f095d3"
            },
            "attachments": {}
        },
        {
            "cell_type": "markdown",
            "source": [
                "Перед створенням таблиць важливо розуміти ієрархію залежностей/зв'язки у базі\n",
                "\n",
                "Перейдемо до роботи з новоствореною базою даних"
            ],
            "metadata": {
                "language": "sql",
                "azdata_cell_guid": "2e9c5588-da35-4eba-8a48-a9209cb0da59"
            },
            "attachments": {}
        },
        {
            "cell_type": "code",
            "source": [
                "USE hr_db"
            ],
            "metadata": {
                "language": "sql",
                "azdata_cell_guid": "81f6e0e6-0fad-41bf-b803-11cb539d6e9e"
            },
            "outputs": [
                {
                    "output_type": "display_data",
                    "data": {
                        "text/html": "Commands completed successfully."
                    },
                    "metadata": {}
                },
                {
                    "output_type": "display_data",
                    "data": {
                        "text/html": "Total execution time: 00:00:00"
                    },
                    "metadata": {}
                }
            ],
            "execution_count": 10
        },
        {
            "cell_type": "markdown",
            "source": [
                "Створення таблиці **`Regions`**"
            ],
            "metadata": {
                "azdata_cell_guid": "8b8c5462-6cae-45be-9a6b-98256639443d"
            },
            "attachments": {}
        },
        {
            "cell_type": "code",
            "source": [
                "CREATE TABLE regions (\r\n",
                "\tregion_id INT IDENTITY(1,1) PRIMARY KEY,\r\n",
                "\tregion_name VARCHAR (25) DEFAULT NULL\r\n",
                ");"
            ],
            "metadata": {
                "azdata_cell_guid": "f31210c1-3489-4c70-83cf-5fdcd95249ec",
                "language": "sql"
            },
            "outputs": [
                {
                    "output_type": "display_data",
                    "data": {
                        "text/html": "Commands completed successfully."
                    },
                    "metadata": {}
                },
                {
                    "output_type": "display_data",
                    "data": {
                        "text/html": "Total execution time: 00:00:00.009"
                    },
                    "metadata": {}
                }
            ],
            "execution_count": 11
        },
        {
            "cell_type": "markdown",
            "source": [
                "Створення таблиці <span style=\"font-size: 12px;\"><b>Countries</b></span>"
            ],
            "metadata": {
                "language": "sql",
                "azdata_cell_guid": "3b4edf22-f9a7-45b0-8310-e4d606a90242"
            },
            "attachments": {}
        },
        {
            "cell_type": "code",
            "source": [
                "CREATE TABLE countries (\r\n",
                "\tcountry_id CHAR (2) PRIMARY KEY,\r\n",
                "\tcountry_name VARCHAR (40) DEFAULT NULL,\r\n",
                "\tregion_id INT NOT NULL,\r\n",
                "\tFOREIGN KEY (region_id) REFERENCES regions (region_id) ON DELETE CASCADE ON UPDATE CASCADE\r\n",
                ");"
            ],
            "metadata": {
                "azdata_cell_guid": "fd427619-7e6e-4140-bdac-e2814bfa82c4",
                "language": "sql"
            },
            "outputs": [
                {
                    "output_type": "display_data",
                    "data": {
                        "text/html": "Commands completed successfully."
                    },
                    "metadata": {}
                },
                {
                    "output_type": "display_data",
                    "data": {
                        "text/html": "Total execution time: 00:00:00.005"
                    },
                    "metadata": {}
                }
            ],
            "execution_count": 12
        },
        {
            "cell_type": "markdown",
            "source": [
                "Створюємо усі інші таблиці"
            ],
            "metadata": {
                "language": "sql",
                "azdata_cell_guid": "06295cd2-b08a-4ec3-9409-0c19c46c78ee"
            },
            "attachments": {}
        },
        {
            "cell_type": "code",
            "source": [
                "CREATE TABLE locations (\r\n",
                "\tlocation_id INT IDENTITY(1,1) PRIMARY KEY,\r\n",
                "\tstreet_address VARCHAR (40) DEFAULT NULL,\r\n",
                "\tpostal_code VARCHAR (12) DEFAULT NULL,\r\n",
                "\tcity VARCHAR (30) NOT NULL,\r\n",
                "\tstate_province VARCHAR (25) DEFAULT NULL,\r\n",
                "\tcountry_id CHAR (2) NOT NULL,\r\n",
                "\tFOREIGN KEY (country_id) REFERENCES countries (country_id) ON DELETE CASCADE ON UPDATE CASCADE\r\n",
                ");\r\n",
                "\r\n",
                "CREATE TABLE jobs (\r\n",
                "\tjob_id INT IDENTITY(1,1) PRIMARY KEY,\r\n",
                "\tjob_title VARCHAR (35) NOT NULL,\r\n",
                "\tmin_salary DECIMAL (8, 2) DEFAULT NULL,\r\n",
                "\tmax_salary DECIMAL (8, 2) DEFAULT NULL\r\n",
                ");\r\n",
                "\r\n",
                "CREATE TABLE departments (\r\n",
                "\tdepartment_id INT IDENTITY(1,1) PRIMARY KEY,\r\n",
                "\tdepartment_name VARCHAR (30) NOT NULL,\r\n",
                "\tlocation_id INT DEFAULT NULL,\r\n",
                "\tFOREIGN KEY (location_id) REFERENCES locations (location_id) ON DELETE CASCADE ON UPDATE CASCADE\r\n",
                ");\r\n",
                "\r\n",
                "CREATE TABLE employees (\r\n",
                "\temployee_id INT IDENTITY(1,1) PRIMARY KEY,\r\n",
                "\tfirst_name VARCHAR (20) DEFAULT NULL,\r\n",
                "\tlast_name VARCHAR (25) NOT NULL,\r\n",
                "\temail VARCHAR (100) NOT NULL,\r\n",
                "\tphone_number VARCHAR (20) DEFAULT NULL,\r\n",
                "\thire_date DATE NOT NULL,\r\n",
                "\tjob_id INT NOT NULL,\r\n",
                "\tsalary DECIMAL (8, 2) NOT NULL,\r\n",
                "\tmanager_id INT DEFAULT NULL,\r\n",
                "\tdepartment_id INT DEFAULT NULL,\r\n",
                "\tFOREIGN KEY (job_id) REFERENCES jobs (job_id) ON DELETE CASCADE ON UPDATE CASCADE,\r\n",
                "\tFOREIGN KEY (department_id) REFERENCES departments (department_id) ON DELETE CASCADE ON UPDATE CASCADE,\r\n",
                "\tFOREIGN KEY (manager_id) REFERENCES employees (employee_id)\r\n",
                ");\r\n",
                "\r\n",
                "CREATE TABLE dependents (\r\n",
                "\tdependent_id INT IDENTITY(1,1) PRIMARY KEY,\r\n",
                "\tfirst_name VARCHAR (50) NOT NULL,\r\n",
                "\tlast_name VARCHAR (50) NOT NULL,\r\n",
                "\trelationship VARCHAR (25) NOT NULL,\r\n",
                "\temployee_id INT NOT NULL,\r\n",
                "\tFOREIGN KEY (employee_id) REFERENCES employees (employee_id) ON DELETE CASCADE ON UPDATE CASCADE\r\n",
                ");"
            ],
            "metadata": {
                "language": "sql",
                "azdata_cell_guid": "ac126f1b-99ae-4411-973a-27fab936df47"
            },
            "outputs": [
                {
                    "output_type": "display_data",
                    "data": {
                        "text/html": "Commands completed successfully."
                    },
                    "metadata": {}
                },
                {
                    "output_type": "display_data",
                    "data": {
                        "text/html": "Total execution time: 00:00:00.015"
                    },
                    "metadata": {}
                }
            ],
            "execution_count": 13
        }
    ]
}