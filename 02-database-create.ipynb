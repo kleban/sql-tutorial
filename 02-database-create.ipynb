{
 "cells": [
  {
   "cell_type": "markdown",
   "metadata": {
    "azdata_cell_guid": "6a022be1-e665-44dc-991b-af94521e754e"
   },
   "source": [
    "# 2\\. Створення бази даних та наповнення таблиць"
   ]
  },
  {
   "cell_type": "markdown",
   "metadata": {
    "azdata_cell_guid": "f9de41eb-08be-4074-b5e6-96da4d0d70d5"
   },
   "source": [
    "## 2.1. Створення бази даних"
   ]
  },
  {
   "cell_type": "markdown",
   "metadata": {
    "azdata_cell_guid": "145bac34-a225-41f4-8c38-6c46844461c9"
   },
   "source": [
    "Для початку потрібно підключитися до сервера бази даних та перемикнутися на роботу з базою ***`master`***."
   ]
  },
  {
   "cell_type": "code",
   "execution_count": 2,
   "metadata": {
    "azdata_cell_guid": "d0af888f-5dd3-40a1-94f8-a797b5ad9e41",
    "language": "sql"
   },
   "outputs": [],
   "source": [
    "USE master\n",
    "GO"
   ]
  },
  {
   "cell_type": "markdown",
   "metadata": {
    "azdata_cell_guid": "c664bced-5bf4-4707-ba87-37fdd38a8d2e"
   },
   "source": [
    "Перевіримо, які бази даних присутні на сервері"
   ]
  },
  {
   "cell_type": "code",
   "execution_count": 3,
   "metadata": {
    "azdata_cell_guid": "d72a5fe2-3461-44b6-81bb-1449d517d389",
    "language": "sql"
   },
   "outputs": [],
   "source": [
    "SELECT name, database_id, create_date  \n",
    "FROM sys.databases;  \n",
    "GO  "
   ]
  },
  {
   "cell_type": "code",
   "execution_count": 4,
   "metadata": {
    "azdata_cell_guid": "86925e80-d60f-4312-933c-aa59a25bcd7b",
    "language": "sql"
   },
   "outputs": [],
   "source": [
    "use churn_new\n",
    "select count(*) from clientChurn_FUll"
   ]
  },
  {
   "cell_type": "markdown",
   "metadata": {
    "azdata_cell_guid": "c638f0e9-41b3-4675-bb77-7ca5d4803baf"
   },
   "source": [
    "Створимо базу даних ***`hr_db`***:"
   ]
  },
  {
   "cell_type": "code",
   "execution_count": 5,
   "metadata": {
    "azdata_cell_guid": "905145a5-5df4-4cdb-91c0-7d67d4d66bf6",
    "language": "sql"
   },
   "outputs": [],
   "source": [
    "CREATE DATABASE hr_db "
   ]
  },
  {
   "cell_type": "markdown",
   "metadata": {
    "azdata_cell_guid": "520de5f5-8634-468d-822b-1e3cc2f095d3",
    "language": "sql"
   },
   "source": [
    "## 2.2. Створення таблиць БД"
   ]
  },
  {
   "cell_type": "markdown",
   "metadata": {
    "azdata_cell_guid": "2e9c5588-da35-4eba-8a48-a9209cb0da59",
    "language": "sql"
   },
   "source": [
    "Перед створенням таблиць важливо розуміти ієрархію залежностей/зв'язки у базі\n",
    "\n",
    "Перейдемо до роботи з новоствореною базою даних"
   ]
  },
  {
   "cell_type": "code",
   "execution_count": 6,
   "metadata": {
    "azdata_cell_guid": "81f6e0e6-0fad-41bf-b803-11cb539d6e9e",
    "language": "sql"
   },
   "outputs": [],
   "source": [
    "USE hr_db"
   ]
  },
  {
   "cell_type": "markdown",
   "metadata": {
    "azdata_cell_guid": "8b8c5462-6cae-45be-9a6b-98256639443d"
   },
   "source": [
    "Створення таблиці **`Regions`**"
   ]
  },
  {
   "cell_type": "code",
   "execution_count": 7,
   "metadata": {
    "azdata_cell_guid": "f31210c1-3489-4c70-83cf-5fdcd95249ec",
    "language": "sql"
   },
   "outputs": [],
   "source": [
    "CREATE TABLE regions (\n",
    "\tregion_id INT IDENTITY(1,1) PRIMARY KEY,\n",
    "\tregion_name VARCHAR (25) DEFAULT NULL\n",
    ");"
   ]
  },
  {
   "cell_type": "markdown",
   "metadata": {
    "azdata_cell_guid": "3b4edf22-f9a7-45b0-8310-e4d606a90242",
    "language": "sql"
   },
   "source": [
    "Створення таблиці <span style=\"font-size: 12px;\"><b>Countries</b></span>"
   ]
  },
  {
   "cell_type": "code",
   "execution_count": 8,
   "metadata": {
    "azdata_cell_guid": "fd427619-7e6e-4140-bdac-e2814bfa82c4",
    "language": "sql"
   },
   "outputs": [],
   "source": [
    "CREATE TABLE countries (\n",
    "\tcountry_id CHAR (2) PRIMARY KEY,\n",
    "\tcountry_name VARCHAR (40) DEFAULT NULL,\n",
    "\tregion_id INT NOT NULL,\n",
    "\tFOREIGN KEY (region_id) REFERENCES regions (region_id) ON DELETE CASCADE ON UPDATE CASCADE\n",
    ");"
   ]
  },
  {
   "cell_type": "markdown",
   "metadata": {
    "azdata_cell_guid": "06295cd2-b08a-4ec3-9409-0c19c46c78ee",
    "language": "sql"
   },
   "source": [
    "Створюємо усі інші таблиці"
   ]
  },
  {
   "cell_type": "code",
   "execution_count": 9,
   "metadata": {
    "azdata_cell_guid": "ac126f1b-99ae-4411-973a-27fab936df47",
    "language": "sql"
   },
   "outputs": [],
   "source": [
    "CREATE TABLE locations (\n",
    "\tlocation_id INT IDENTITY(1,1) PRIMARY KEY,\n",
    "\tstreet_address VARCHAR (40) DEFAULT NULL,\n",
    "\tpostal_code VARCHAR (12) DEFAULT NULL,\n",
    "\tcity VARCHAR (30) NOT NULL,\n",
    "\tstate_province VARCHAR (25) DEFAULT NULL,\n",
    "\tcountry_id CHAR (2) NOT NULL,\n",
    "\tFOREIGN KEY (country_id) REFERENCES countries (country_id) ON DELETE CASCADE ON UPDATE CASCADE\n",
    ");\n",
    "\n",
    "CREATE TABLE jobs (\n",
    "\tjob_id INT IDENTITY(1,1) PRIMARY KEY,\n",
    "\tjob_title VARCHAR (35) NOT NULL,\n",
    "\tmin_salary DECIMAL (8, 2) DEFAULT NULL,\n",
    "\tmax_salary DECIMAL (8, 2) DEFAULT NULL\n",
    ");\n",
    "\n",
    "CREATE TABLE departments (\n",
    "\tdepartment_id INT IDENTITY(1,1) PRIMARY KEY,\n",
    "\tdepartment_name VARCHAR (30) NOT NULL,\n",
    "\tlocation_id INT DEFAULT NULL,\n",
    "\tFOREIGN KEY (location_id) REFERENCES locations (location_id) ON DELETE CASCADE ON UPDATE CASCADE\n",
    ");\n",
    "\n",
    "CREATE TABLE employees (\n",
    "\temployee_id INT IDENTITY(1,1) PRIMARY KEY,\n",
    "\tfirst_name VARCHAR (20) DEFAULT NULL,\n",
    "\tlast_name VARCHAR (25) NOT NULL,\n",
    "\temail VARCHAR (100) NOT NULL,\n",
    "\tphone_number VARCHAR (20) DEFAULT NULL,\n",
    "\thire_date DATE NOT NULL,\n",
    "\tjob_id INT NOT NULL,\n",
    "\tsalary DECIMAL (8, 2) NOT NULL,\n",
    "\tmanager_id INT DEFAULT NULL,\n",
    "\tdepartment_id INT DEFAULT NULL,\n",
    "\tFOREIGN KEY (job_id) REFERENCES jobs (job_id) ON DELETE CASCADE ON UPDATE CASCADE,\n",
    "\tFOREIGN KEY (department_id) REFERENCES departments (department_id) ON DELETE CASCADE ON UPDATE CASCADE,\n",
    "\tFOREIGN KEY (manager_id) REFERENCES employees (employee_id)\n",
    ");"
   ]
  },
  {
   "cell_type": "code",
   "execution_count": 18,
   "metadata": {
    "azdata_cell_guid": "97ca3af3-4dc2-4313-a7ee-45af012a7aae",
    "language": "sql"
   },
   "outputs": [],
   "source": [
    "CREATE TABLE dependents (\n",
    "\tdependent_id INT IDENTITY(1,1) PRIMARY KEY,\n",
    "\tfirst_name VARCHAR (50) NOT NULL,\n",
    "\tlast_name VARCHAR (50) NOT NULL,\n",
    "\trelationship VARCHAR (25) NOT NULL,\n",
    "\temployee_id INT NOT NULL,\n",
    "\tFOREIGN KEY (employee_id) REFERENCES employees (employee_id) ON DELETE CASCADE ON UPDATE CASCADE\n",
    ");"
   ]
  },
  {
   "cell_type": "markdown",
   "metadata": {
    "azdata_cell_guid": "0496ab2e-c399-4cfc-b0c3-f53555e38b19"
   },
   "source": [
    "## 2.3. Вставка даних"
   ]
  },
  {
   "cell_type": "code",
   "execution_count": 10,
   "metadata": {
    "azdata_cell_guid": "0968c8c2-9492-4528-b8db-70d673a88f98",
    "language": "sql"
   },
   "outputs": [],
   "source": [
    "SET IDENTITY_INSERT regions ON;\n",
    "  \n",
    "INSERT INTO regions(region_id,region_name) VALUES (1,'Europe');\n",
    "INSERT INTO regions(region_id,region_name) VALUES (2,'Americas');\n",
    "INSERT INTO regions(region_id,region_name) VALUES (3,'Asia');\n",
    "INSERT INTO regions(region_id,region_name) VALUES (4,'Middle East and Africa');\n",
    "\n",
    "SET IDENTITY_INSERT regions OFF;  "
   ]
  },
  {
   "cell_type": "code",
   "execution_count": 11,
   "metadata": {
    "azdata_cell_guid": "eef3a75e-2105-478a-be01-e04b5db2e2d2",
    "language": "sql"
   },
   "outputs": [],
   "source": [
    "INSERT INTO countries(country_id,country_name,region_id) VALUES ('AR','Argentina',2);\n",
    "INSERT INTO countries(country_id,country_name,region_id) VALUES ('AU','Australia',3);\n",
    "INSERT INTO countries(country_id,country_name,region_id) VALUES ('BE','Belgium',1);\n",
    "INSERT INTO countries(country_id,country_name,region_id) VALUES ('BR','Brazil',2);\n",
    "INSERT INTO countries(country_id,country_name,region_id) VALUES ('CA','Canada',2);\n",
    "INSERT INTO countries(country_id,country_name,region_id) VALUES ('CH','Switzerland',1);\n",
    "INSERT INTO countries(country_id,country_name,region_id) VALUES ('CN','China',3);\n",
    "INSERT INTO countries(country_id,country_name,region_id) VALUES ('DE','Germany',1);\n",
    "INSERT INTO countries(country_id,country_name,region_id) VALUES ('DK','Denmark',1);\n",
    "INSERT INTO countries(country_id,country_name,region_id) VALUES ('EG','Egypt',4);\n",
    "INSERT INTO countries(country_id,country_name,region_id) VALUES ('FR','France',1);\n",
    "INSERT INTO countries(country_id,country_name,region_id) VALUES ('HK','HongKong',3);\n",
    "INSERT INTO countries(country_id,country_name,region_id) VALUES ('IL','Israel',4);\n",
    "INSERT INTO countries(country_id,country_name,region_id) VALUES ('IN','India',3);\n",
    "INSERT INTO countries(country_id,country_name,region_id) VALUES ('IT','Italy',1);\n",
    "INSERT INTO countries(country_id,country_name,region_id) VALUES ('JP','Japan',3);\n",
    "INSERT INTO countries(country_id,country_name,region_id) VALUES ('KW','Kuwait',4);\n",
    "INSERT INTO countries(country_id,country_name,region_id) VALUES ('MX','Mexico',2);\n",
    "INSERT INTO countries(country_id,country_name,region_id) VALUES ('NG','Nigeria',4);\n",
    "INSERT INTO countries(country_id,country_name,region_id) VALUES ('NL','Netherlands',1);\n",
    "INSERT INTO countries(country_id,country_name,region_id) VALUES ('SG','Singapore',3);\n",
    "INSERT INTO countries(country_id,country_name,region_id) VALUES ('UK','United Kingdom',1);\n",
    "INSERT INTO countries(country_id,country_name,region_id) VALUES ('US','United States of America',2);\n",
    "INSERT INTO countries(country_id,country_name,region_id) VALUES ('ZM','Zambia',4);\n",
    "INSERT INTO countries(country_id,country_name,region_id) VALUES ('ZW','Zimbabwe',4);"
   ]
  },
  {
   "cell_type": "code",
   "execution_count": 12,
   "metadata": {
    "azdata_cell_guid": "110e1a58-4ee5-402d-80d3-79b921276ac6",
    "language": "sql"
   },
   "outputs": [],
   "source": [
    "SET IDENTITY_INSERT locations ON;\n",
    "INSERT INTO locations(location_id,street_address,postal_code,city,state_province,country_id) VALUES (1400,'2014 Jabberwocky Rd','26192','Southlake','Texas','US');\n",
    "INSERT INTO locations(location_id,street_address,postal_code,city,state_province,country_id) VALUES (1500,'2011 Interiors Blvd','99236','South San Francisco','California','US');\n",
    "INSERT INTO locations(location_id,street_address,postal_code,city,state_province,country_id) VALUES (1700,'2004 Charade Rd','98199','Seattle','Washington','US');\n",
    "INSERT INTO locations(location_id,street_address,postal_code,city,state_province,country_id) VALUES (1800,'147 Spadina Ave','M5V 2L7','Toronto','Ontario','CA');\n",
    "INSERT INTO locations(location_id,street_address,postal_code,city,state_province,country_id) VALUES (2400,'8204 Arthur St',NULL,'London',NULL,'UK');\n",
    "INSERT INTO locations(location_id,street_address,postal_code,city,state_province,country_id) VALUES (2500,'Magdalen Centre, The Oxford Science Park','OX9 9ZB','Oxford','Oxford','UK');\n",
    "INSERT INTO locations(location_id,street_address,postal_code,city,state_province,country_id) VALUES (2700,'Schwanthalerstr. 7031','80925','Munich','Bavaria','DE');\n",
    "SET IDENTITY_INSERT locations OFF;"
   ]
  },
  {
   "cell_type": "code",
   "execution_count": 13,
   "metadata": {
    "azdata_cell_guid": "d2ec8f9a-cd4c-47bf-9afd-e0fbaa756edb",
    "language": "sql"
   },
   "outputs": [],
   "source": [
    "SET IDENTITY_INSERT jobs ON;\n",
    "INSERT INTO jobs(job_id,job_title,min_salary,max_salary) VALUES (1,'Public Accountant',4200.00,9000.00);\n",
    "INSERT INTO jobs(job_id,job_title,min_salary,max_salary) VALUES (2,'Accounting Manager',8200.00,16000.00);\n",
    "INSERT INTO jobs(job_id,job_title,min_salary,max_salary) VALUES (3,'Administration Assistant',3000.00,6000.00);\n",
    "INSERT INTO jobs(job_id,job_title,min_salary,max_salary) VALUES (4,'President',20000.00,40000.00);\n",
    "INSERT INTO jobs(job_id,job_title,min_salary,max_salary) VALUES (5,'Administration Vice President',15000.00,30000.00);\n",
    "INSERT INTO jobs(job_id,job_title,min_salary,max_salary) VALUES (6,'Accountant',4200.00,9000.00);\n",
    "INSERT INTO jobs(job_id,job_title,min_salary,max_salary) VALUES (7,'Finance Manager',8200.00,16000.00);\n",
    "INSERT INTO jobs(job_id,job_title,min_salary,max_salary) VALUES (8,'Human Resources Representative',4000.00,9000.00);\n",
    "INSERT INTO jobs(job_id,job_title,min_salary,max_salary) VALUES (9,'Programmer',4000.00,10000.00);\n",
    "INSERT INTO jobs(job_id,job_title,min_salary,max_salary) VALUES (10,'Marketing Manager',9000.00,15000.00);\n",
    "INSERT INTO jobs(job_id,job_title,min_salary,max_salary) VALUES (11,'Marketing Representative',4000.00,9000.00);\n",
    "INSERT INTO jobs(job_id,job_title,min_salary,max_salary) VALUES (12,'Public Relations Representative',4500.00,10500.00);\n",
    "INSERT INTO jobs(job_id,job_title,min_salary,max_salary) VALUES (13,'Purchasing Clerk',2500.00,5500.00);\n",
    "INSERT INTO jobs(job_id,job_title,min_salary,max_salary) VALUES (14,'Purchasing Manager',8000.00,15000.00);\n",
    "INSERT INTO jobs(job_id,job_title,min_salary,max_salary) VALUES (15,'Sales Manager',10000.00,20000.00);\n",
    "INSERT INTO jobs(job_id,job_title,min_salary,max_salary) VALUES (16,'Sales Representative',6000.00,12000.00);\n",
    "INSERT INTO jobs(job_id,job_title,min_salary,max_salary) VALUES (17,'Shipping Clerk',2500.00,5500.00);\n",
    "INSERT INTO jobs(job_id,job_title,min_salary,max_salary) VALUES (18,'Stock Clerk',2000.00,5000.00);\n",
    "INSERT INTO jobs(job_id,job_title,min_salary,max_salary) VALUES (19,'Stock Manager',5500.00,8500.00);\n",
    "SET IDENTITY_INSERT jobs OFF;"
   ]
  },
  {
   "cell_type": "code",
   "execution_count": 14,
   "metadata": {
    "azdata_cell_guid": "fe56a238-3e40-459a-8e99-42c3e42acaea",
    "language": "sql"
   },
   "outputs": [],
   "source": [
    "SET IDENTITY_INSERT departments ON;\n",
    "INSERT INTO departments(department_id,department_name,location_id) VALUES (1,'Administration',1700);\n",
    "INSERT INTO departments(department_id,department_name,location_id) VALUES (2,'Marketing',1800);\n",
    "INSERT INTO departments(department_id,department_name,location_id) VALUES (3,'Purchasing',1700);\n",
    "INSERT INTO departments(department_id,department_name,location_id) VALUES (4,'Human Resources',2400);\n",
    "INSERT INTO departments(department_id,department_name,location_id) VALUES (5,'Shipping',1500);\n",
    "INSERT INTO departments(department_id,department_name,location_id) VALUES (6,'IT',1400);\n",
    "INSERT INTO departments(department_id,department_name,location_id) VALUES (7,'Public Relations',2700);\n",
    "INSERT INTO departments(department_id,department_name,location_id) VALUES (8,'Sales',2500);\n",
    "INSERT INTO departments(department_id,department_name,location_id) VALUES (9,'Executive',1700);\n",
    "INSERT INTO departments(department_id,department_name,location_id) VALUES (10,'Finance',1700);\n",
    "INSERT INTO departments(department_id,department_name,location_id) VALUES (11,'Accounting',1700);\n",
    "SET IDENTITY_INSERT departments OFF;"
   ]
  },
  {
   "cell_type": "code",
   "execution_count": 17,
   "metadata": {
    "azdata_cell_guid": "31d57a9f-59b9-4005-8a1b-3101230005b4",
    "language": "sql"
   },
   "outputs": [],
   "source": [
    "SET IDENTITY_INSERT employees ON;\n",
    "INSERT INTO employees(employee_id,first_name,last_name,email,phone_number,hire_date,job_id,salary,manager_id,department_id) VALUES (100,'Steven','King','steven.king@demomail.com','515.123.4567','1987-06-17',4,24000.00,NULL,9);\n",
    "INSERT INTO employees(employee_id,first_name,last_name,email,phone_number,hire_date,job_id,salary,manager_id,department_id) VALUES (101,'Neena','Kochhar','neena.kochhar@demomail.com','515.123.4568','1989-09-21',5,17000.00,100,9);\n",
    "INSERT INTO employees(employee_id,first_name,last_name,email,phone_number,hire_date,job_id,salary,manager_id,department_id) VALUES (102,'Lex','De Haan','lex.de haan@demomail.com','515.123.4569','1993-01-13',5,17000.00,100,9);\n",
    "INSERT INTO employees(employee_id,first_name,last_name,email,phone_number,hire_date,job_id,salary,manager_id,department_id) VALUES (103,'Alexander','Hunold','alexander.hunold@demomail.com','590.423.4567','1990-01-03',9,9000.00,102,6);\n",
    "INSERT INTO employees(employee_id,first_name,last_name,email,phone_number,hire_date,job_id,salary,manager_id,department_id) VALUES (104,'Bruce','Ernst','bruce.ernst@demomail.com','590.423.4568','1991-05-21',9,6000.00,103,6);\n",
    "INSERT INTO employees(employee_id,first_name,last_name,email,phone_number,hire_date,job_id,salary,manager_id,department_id) VALUES (105,'David','Austin','david.austin@demomail.com','590.423.4569','1997-06-25',9,4800.00,103,6);\n",
    "INSERT INTO employees(employee_id,first_name,last_name,email,phone_number,hire_date,job_id,salary,manager_id,department_id) VALUES (106,'Valli','Pataballa','valli.pataballa@demomail.com','590.423.4560','1998-02-05',9,4800.00,103,6);\n",
    "INSERT INTO employees(employee_id,first_name,last_name,email,phone_number,hire_date,job_id,salary,manager_id,department_id) VALUES (107,'Diana','Lorentz','diana.lorentz@demomail.com','590.423.5567','1999-02-07',9,4200.00,103,6);\n",
    "INSERT INTO employees(employee_id,first_name,last_name,email,phone_number,hire_date,job_id,salary,manager_id,department_id) VALUES (108,'Nancy','Greenberg','nancy.greenberg@demomail.com','515.124.4569','1994-08-17',7,12000.00,101,10);\n",
    "INSERT INTO employees(employee_id,first_name,last_name,email,phone_number,hire_date,job_id,salary,manager_id,department_id) VALUES (109,'Daniel','Faviet','daniel.faviet@demomail.com','515.124.4169','1994-08-16',6,9000.00,108,10);\n",
    "INSERT INTO employees(employee_id,first_name,last_name,email,phone_number,hire_date,job_id,salary,manager_id,department_id) VALUES (110,'John','Chen','john.chen@demomail.com','515.124.4269','1997-09-28',6,8200.00,108,10);\n",
    "INSERT INTO employees(employee_id,first_name,last_name,email,phone_number,hire_date,job_id,salary,manager_id,department_id) VALUES (111,'Ismael','Sciarra','ismael.sciarra@demomail.com','515.124.4369','1997-09-30',6,7700.00,108,10);\n",
    "INSERT INTO employees(employee_id,first_name,last_name,email,phone_number,hire_date,job_id,salary,manager_id,department_id) VALUES (112,'Jose Manuel','Urman','jose manuel.urman@demomail.com','515.124.4469','1998-03-07',6,7800.00,108,10);\n",
    "INSERT INTO employees(employee_id,first_name,last_name,email,phone_number,hire_date,job_id,salary,manager_id,department_id) VALUES (113,'Luis','Popp','luis.popp@demomail.com','515.124.4567','1999-12-07',6,6900.00,108,10);\n",
    "INSERT INTO employees(employee_id,first_name,last_name,email,phone_number,hire_date,job_id,salary,manager_id,department_id) VALUES (114,'Den','Raphaely','den.raphaely@demomail.com','515.127.4561','1994-12-07',14,11000.00,100,3);\n",
    "INSERT INTO employees(employee_id,first_name,last_name,email,phone_number,hire_date,job_id,salary,manager_id,department_id) VALUES (115,'Alexander','Khoo','alexander.khoo@demomail.com','515.127.4562','1995-05-18',13,3100.00,114,3);\n",
    "INSERT INTO employees(employee_id,first_name,last_name,email,phone_number,hire_date,job_id,salary,manager_id,department_id) VALUES (116,'Shelli','Baida','shelli.baida@demomail.com','515.127.4563','1997-12-24',13,2900.00,114,3);\n",
    "INSERT INTO employees(employee_id,first_name,last_name,email,phone_number,hire_date,job_id,salary,manager_id,department_id) VALUES (117,'Sigal','Tobias','sigal.tobias@demomail.com','515.127.4564','1997-07-24',13,2800.00,114,3);\n",
    "INSERT INTO employees(employee_id,first_name,last_name,email,phone_number,hire_date,job_id,salary,manager_id,department_id) VALUES (118,'Guy','Himuro','guy.himuro@demomail.com','515.127.4565','1998-11-15',13,2600.00,114,3);\n",
    "INSERT INTO employees(employee_id,first_name,last_name,email,phone_number,hire_date,job_id,salary,manager_id,department_id) VALUES (119,'Karen','Colmenares','karen.colmenares@demomail.com','515.127.4566','1999-08-10',13,2500.00,114,3);\n",
    "INSERT INTO employees(employee_id,first_name,last_name,email,phone_number,hire_date,job_id,salary,manager_id,department_id) VALUES (120,'Matthew','Weiss','matthew.weiss@demomail.com','650.123.1234','1996-07-18',19,8000.00,100,5);\n",
    "INSERT INTO employees(employee_id,first_name,last_name,email,phone_number,hire_date,job_id,salary,manager_id,department_id) VALUES (121,'Adam','Fripp','adam.fripp@demomail.com','650.123.2234','1997-04-10',19,8200.00,100,5);\n",
    "INSERT INTO employees(employee_id,first_name,last_name,email,phone_number,hire_date,job_id,salary,manager_id,department_id) VALUES (122,'Payam','Kaufling','payam.kaufling@demomail.com','650.123.3234','1995-05-01',19,7900.00,100,5);\n",
    "INSERT INTO employees(employee_id,first_name,last_name,email,phone_number,hire_date,job_id,salary,manager_id,department_id) VALUES (123,'Shanta','Vollman','shanta.vollman@demomail.com','650.123.4234','1997-10-10',19,6500.00,100,5);\n",
    "INSERT INTO employees(employee_id,first_name,last_name,email,phone_number,hire_date,job_id,salary,manager_id,department_id) VALUES (126,'Irene','Mikkilineni','irene.mikkilineni@demomail.com','650.124.1224','1998-09-28',18,2700.00,120,5);\n",
    "INSERT INTO employees(employee_id,first_name,last_name,email,phone_number,hire_date,job_id,salary,manager_id,department_id) VALUES (145,'John','Russell','john.russell@demomail.com',NULL,'1996-10-01',15,14000.00,100,8);\n",
    "INSERT INTO employees(employee_id,first_name,last_name,email,phone_number,hire_date,job_id,salary,manager_id,department_id) VALUES (146,'Karen','Partners','karen.partners@demomail.com',NULL,'1997-01-05',15,13500.00,100,8);\n",
    "INSERT INTO employees(employee_id,first_name,last_name,email,phone_number,hire_date,job_id,salary,manager_id,department_id) VALUES (176,'Jonathon','Taylor','jonathon.taylor@demomail.com',NULL,'1998-03-24',16,8600.00,100,8);\n",
    "INSERT INTO employees(employee_id,first_name,last_name,email,phone_number,hire_date,job_id,salary,manager_id,department_id) VALUES (177,'Jack','Livingston','jack.livingston@demomail.com',NULL,'1998-04-23',16,8400.00,100,8);\n",
    "INSERT INTO employees(employee_id,first_name,last_name,email,phone_number,hire_date,job_id,salary,manager_id,department_id) VALUES (178,'Kimberely','Grant','kimberely.grant@demomail.com',NULL,'1999-05-24',16,7000.00,100,8);\n",
    "INSERT INTO employees(employee_id,first_name,last_name,email,phone_number,hire_date,job_id,salary,manager_id,department_id) VALUES (179,'Charles','Johnson','charles.johnson@demomail.com',NULL,'2000-01-04',16,6200.00,100,8);\n",
    "INSERT INTO employees(employee_id,first_name,last_name,email,phone_number,hire_date,job_id,salary,manager_id,department_id) VALUES (192,'Sarah','Bell','sarah.bell@demomail.com','650.501.1876','1996-02-04',17,4000.00,123,5);\n",
    "INSERT INTO employees(employee_id,first_name,last_name,email,phone_number,hire_date,job_id,salary,manager_id,department_id) VALUES (193,'Britney','Everett','britney.everett@demomail.com','650.501.2876','1997-03-03',17,3900.00,123,5);\n",
    "INSERT INTO employees(employee_id,first_name,last_name,email,phone_number,hire_date,job_id,salary,manager_id,department_id) VALUES (200,'Jennifer','Whalen','jennifer.whalen@demomail.com','515.123.4444','1987-09-17',3,4400.00,101,1);\n",
    "INSERT INTO employees(employee_id,first_name,last_name,email,phone_number,hire_date,job_id,salary,manager_id,department_id) VALUES (201,'Michael','Hartstein','michael.hartstein@demomail.com','515.123.5555','1996-02-17',10,13000.00,100,2);\n",
    "INSERT INTO employees(employee_id,first_name,last_name,email,phone_number,hire_date,job_id,salary,manager_id,department_id) VALUES (202,'Pat','Fay','pat.fay@demomail.com','603.123.6666','1997-08-17',11,6000.00,201,2);\n",
    "INSERT INTO employees(employee_id,first_name,last_name,email,phone_number,hire_date,job_id,salary,manager_id,department_id) VALUES (203,'Susan','Mavris','susan.mavris@demomail.com','515.123.7777','1994-06-07',8,6500.00,101,4);\n",
    "INSERT INTO employees(employee_id,first_name,last_name,email,phone_number,hire_date,job_id,salary,manager_id,department_id) VALUES (204,'Hermann','Baer','hermann.baer@demomail.com','515.123.8888','1994-06-07',12,10000.00,101,7);\n",
    "INSERT INTO employees(employee_id,first_name,last_name,email,phone_number,hire_date,job_id,salary,manager_id,department_id) VALUES (205,'Shelley','Higgins','shelley.higgins@demomail.com','515.123.8080','1994-06-07',2,12000.00,101,11);\n",
    "INSERT INTO employees(employee_id,first_name,last_name,email,phone_number,hire_date,job_id,salary,manager_id,department_id) VALUES (206,'William','Gietz','william.gietz@demomail.com','515.123.8181','1994-06-07',1,8300.00,205,11);\n",
    "SET IDENTITY_INSERT employees OFF;"
   ]
  },
  {
   "cell_type": "code",
   "execution_count": 19,
   "metadata": {
    "azdata_cell_guid": "7d377b3c-145d-4f70-9533-f2219da45615",
    "language": "sql"
   },
   "outputs": [],
   "source": [
    "SET IDENTITY_INSERT dependents ON;\n",
    "INSERT INTO dependents(dependent_id,first_name,last_name,relationship,employee_id) VALUES (1,'Penelope','Gietz','Child',206);\n",
    "INSERT INTO dependents(dependent_id,first_name,last_name,relationship,employee_id) VALUES (2,'Nick','Higgins','Child',205);\n",
    "INSERT INTO dependents(dependent_id,first_name,last_name,relationship,employee_id) VALUES (3,'Ed','Whalen','Child',200);\n",
    "INSERT INTO dependents(dependent_id,first_name,last_name,relationship,employee_id) VALUES (4,'Jennifer','King','Child',100);\n",
    "INSERT INTO dependents(dependent_id,first_name,last_name,relationship,employee_id) VALUES (5,'Johnny','Kochhar','Child',101);\n",
    "INSERT INTO dependents(dependent_id,first_name,last_name,relationship,employee_id) VALUES (6,'Bette','De Haan','Child',102);\n",
    "INSERT INTO dependents(dependent_id,first_name,last_name,relationship,employee_id) VALUES (7,'Grace','Faviet','Child',109);\n",
    "INSERT INTO dependents(dependent_id,first_name,last_name,relationship,employee_id) VALUES (8,'Matthew','Chen','Child',110);\n",
    "INSERT INTO dependents(dependent_id,first_name,last_name,relationship,employee_id) VALUES (9,'Joe','Sciarra','Child',111);\n",
    "INSERT INTO dependents(dependent_id,first_name,last_name,relationship,employee_id) VALUES (10,'Christian','Urman','Child',112);\n",
    "INSERT INTO dependents(dependent_id,first_name,last_name,relationship,employee_id) VALUES (11,'Zero','Popp','Child',113);\n",
    "INSERT INTO dependents(dependent_id,first_name,last_name,relationship,employee_id) VALUES (12,'Karl','Greenberg','Child',108);\n",
    "INSERT INTO dependents(dependent_id,first_name,last_name,relationship,employee_id) VALUES (13,'Uma','Mavris','Child',203);\n",
    "INSERT INTO dependents(dependent_id,first_name,last_name,relationship,employee_id) VALUES (14,'Vivien','Hunold','Child',103);\n",
    "INSERT INTO dependents(dependent_id,first_name,last_name,relationship,employee_id) VALUES (15,'Cuba','Ernst','Child',104);\n",
    "INSERT INTO dependents(dependent_id,first_name,last_name,relationship,employee_id) VALUES (16,'Fred','Austin','Child',105);\n",
    "INSERT INTO dependents(dependent_id,first_name,last_name,relationship,employee_id) VALUES (17,'Helen','Pataballa','Child',106);\n",
    "INSERT INTO dependents(dependent_id,first_name,last_name,relationship,employee_id) VALUES (18,'Dan','Lorentz','Child',107);\n",
    "INSERT INTO dependents(dependent_id,first_name,last_name,relationship,employee_id) VALUES (19,'Bob','Hartstein','Child',201);\n",
    "INSERT INTO dependents(dependent_id,first_name,last_name,relationship,employee_id) VALUES (20,'Lucille','Fay','Child',202);\n",
    "INSERT INTO dependents(dependent_id,first_name,last_name,relationship,employee_id) VALUES (21,'Kirsten','Baer','Child',204);\n",
    "INSERT INTO dependents(dependent_id,first_name,last_name,relationship,employee_id) VALUES (22,'Elvis','Khoo','Child',115);\n",
    "INSERT INTO dependents(dependent_id,first_name,last_name,relationship,employee_id) VALUES (23,'Sandra','Baida','Child',116);\n",
    "INSERT INTO dependents(dependent_id,first_name,last_name,relationship,employee_id) VALUES (24,'Cameron','Tobias','Child',117);\n",
    "INSERT INTO dependents(dependent_id,first_name,last_name,relationship,employee_id) VALUES (25,'Kevin','Himuro','Child',118);\n",
    "INSERT INTO dependents(dependent_id,first_name,last_name,relationship,employee_id) VALUES (26,'Rip','Colmenares','Child',119);\n",
    "INSERT INTO dependents(dependent_id,first_name,last_name,relationship,employee_id) VALUES (27,'Julia','Raphaely','Child',114);\n",
    "INSERT INTO dependents(dependent_id,first_name,last_name,relationship,employee_id) VALUES (28,'Woody','Russell','Child',145);\n",
    "INSERT INTO dependents(dependent_id,first_name,last_name,relationship,employee_id) VALUES (29,'Alec','Partners','Child',146);\n",
    "INSERT INTO dependents(dependent_id,first_name,last_name,relationship,employee_id) VALUES (30,'Sandra','Taylor','Child',176);\n",
    "SET IDENTITY_INSERT dependents OFF;"
   ]
  }
 ],
 "metadata": {
  "kernelspec": {
   "display_name": "SQL",
   "language": "sql",
   "name": "SQL"
  },
  "language_info": {
   "name": "sql",
   "version": ""
  }
 },
 "nbformat": 4,
 "nbformat_minor": 2
}
