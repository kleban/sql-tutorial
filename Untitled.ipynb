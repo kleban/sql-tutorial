{
    "metadata": {
        "kernelspec": {
            "name": "SQL",
            "display_name": "SQL",
            "language": "sql"
        },
        "language_info": {
            "name": "sql",
            "version": ""
        }
    },
    "nbformat_minor": 2,
    "nbformat": 4,
    "cells": [
        {
            "cell_type": "code",
            "source": [
                "library(jsonlite)\n",
                "library(dplyr)\n",
                "library(lubridate)"
            ],
            "metadata": {
                "azdata_cell_guid": "bceb9c57-ba5d-485f-ba94-c26476021884",
                "language": "sql"
            },
            "outputs": [],
            "execution_count": 73
        },
        {
            "cell_type": "code",
            "source": [
                "market = 'ETHUSDT'\n",
                "interval = '1m'\n",
                "limit = 5\n",
                "times = 2\n",
                "\n",
                "startTime = round(as.numeric(Sys.time()))\n",
                "endTime = round(as.numeric(ymd_hms(Sys.time()) - minutes(limit)))\n",
                "\n",
                "ymd_hms(as.POSIXct(startTime, origin = '1970-01-01'))\n",
                "ymd_hms(as.POSIXct(endTime, origin = '1970-01-01'))"
            ],
            "metadata": {
                "azdata_cell_guid": "d47825d3-3594-46b5-a294-db472ed96f48",
                "language": "sql"
            },
            "outputs": [
{
    "output_type": "display_data",
    "data": {
        "text/plain": "[1] \"2023-04-04 16:31:14 UTC\""
    },
    "metadata": {}
}, {
    "output_type": "display_data",
    "data": {
        "text/plain": "[1] \"2023-04-04 19:26:14 UTC\""
    },
    "metadata": {}
}
],
            "execution_count": 82
        },
        {
            "cell_type": "code",
            "source": [
                "\n",
                "\n",
                "readData <- function() {\n",
                "    dt <- NULL\n",
                "    url <- paste0(url = \"https://api.binance.com/api/v3/klines?symbol=\", market ,\"&interval=\", interval,\"&limit=\", limit, \"&startTime=\", startTime, \"&endTime=\", endTime)\n",
                "    \n",
                "    for(i in 1:times) {\n",
                "        \n",
                "        data <- fromJSON(url)[, 1:7]\n",
                "        data <- as.data.frame(sapply(as.data.frame(data), as.numeric))\n",
                "        colnames(data) <- c(\"Open_time\", \"Open\", \"High\", \"Low\", \"Close\", \"Volume\", \"Close_time\")\n",
                "        data <- data |>\n",
                "            mutate(Open_time = ymd_hms(as.POSIXct(Open_time/1e3, origin = '1970-01-01')),\n",
                "                   Close_time = ymd_hms(as.POSIXct(Close_time/1e3, origin = '1970-01-01'))) \n",
                "                        \n",
                "        if(is.null(dt))\n",
                "            dt <- data\n",
                "        else {\n",
                "            dt <- dt |> bind_rows(data)\n",
                "        }\n",
                "        \n",
                "        startTime = max(data$Close_time) + seconds(1)\n",
                "        \n",
                "        print(nrow(dt))\n",
                "    }\n",
                "    \n",
                "    dt\n",
                "    \n",
                "}"
            ],
            "metadata": {
                "azdata_cell_guid": "f907eab5-3081-47a2-a1ad-326b45b6c9cf",
                "language": "sql"
            },
            "outputs": [],
            "execution_count": 68
        },
        {
            "cell_type": "code",
            "source": [
                "data = readData()\n",
                "head(data)"
            ],
            "metadata": {
                "azdata_cell_guid": "3c646879-4e3b-4d80-92aa-6e1213886127",
                "language": "sql"
            },
            "outputs": [
                {
                    "output_type": "stream",
                    "name": "stdout",
                    "text": "[1] 1000\n[1] 2000\n"
                },
                {
                    "output_type": "display_data",
                    "data": {
                        "text/html": "<table class=\"dataframe\">\n<caption>A data.frame: 6 × 7</caption>\n<thead>\n\t<tr><th></th><th scope=col>Open_time</th><th scope=col>Open</th><th scope=col>High</th><th scope=col>Low</th><th scope=col>Close</th><th scope=col>Volume</th><th scope=col>Close_time</th></tr>\n\t<tr><th></th><th scope=col>&lt;dttm&gt;</th><th scope=col>&lt;dbl&gt;</th><th scope=col>&lt;dbl&gt;</th><th scope=col>&lt;dbl&gt;</th><th scope=col>&lt;dbl&gt;</th><th scope=col>&lt;dbl&gt;</th><th scope=col>&lt;dttm&gt;</th></tr>\n</thead>\n<tbody>\n\t<tr><th scope=row>1</th><td>2017-08-17 07:00:00</td><td>301.13</td><td>301.13</td><td>301.13</td><td>301.13</td><td>0.42643</td><td>2017-08-17 07:00:59</td></tr>\n\t<tr><th scope=row>2</th><td>2017-08-17 07:01:00</td><td>301.13</td><td>301.13</td><td>301.13</td><td>301.13</td><td>2.75787</td><td>2017-08-17 07:01:59</td></tr>\n\t<tr><th scope=row>3</th><td>2017-08-17 07:02:00</td><td>300.00</td><td>300.00</td><td>300.00</td><td>300.00</td><td>0.09930</td><td>2017-08-17 07:02:59</td></tr>\n\t<tr><th scope=row>4</th><td>2017-08-17 07:03:00</td><td>300.00</td><td>300.00</td><td>300.00</td><td>300.00</td><td>0.31389</td><td>2017-08-17 07:03:59</td></tr>\n\t<tr><th scope=row>5</th><td>2017-08-17 07:04:00</td><td>301.13</td><td>301.13</td><td>301.13</td><td>301.13</td><td>0.23202</td><td>2017-08-17 07:04:59</td></tr>\n\t<tr><th scope=row>6</th><td>2017-08-17 07:05:00</td><td>300.00</td><td>301.13</td><td>300.00</td><td>301.13</td><td>0.75705</td><td>2017-08-17 07:05:59</td></tr>\n</tbody>\n</table>\n",
                        "text/latex": "A data.frame: 6 × 7\n\\begin{tabular}{r|lllllll}\n  & Open\\_time & Open & High & Low & Close & Volume & Close\\_time\\\\\n  & <dttm> & <dbl> & <dbl> & <dbl> & <dbl> & <dbl> & <dttm>\\\\\n\\hline\n\t1 & 2017-08-17 07:00:00 & 301.13 & 301.13 & 301.13 & 301.13 & 0.42643 & 2017-08-17 07:00:59\\\\\n\t2 & 2017-08-17 07:01:00 & 301.13 & 301.13 & 301.13 & 301.13 & 2.75787 & 2017-08-17 07:01:59\\\\\n\t3 & 2017-08-17 07:02:00 & 300.00 & 300.00 & 300.00 & 300.00 & 0.09930 & 2017-08-17 07:02:59\\\\\n\t4 & 2017-08-17 07:03:00 & 300.00 & 300.00 & 300.00 & 300.00 & 0.31389 & 2017-08-17 07:03:59\\\\\n\t5 & 2017-08-17 07:04:00 & 301.13 & 301.13 & 301.13 & 301.13 & 0.23202 & 2017-08-17 07:04:59\\\\\n\t6 & 2017-08-17 07:05:00 & 300.00 & 301.13 & 300.00 & 301.13 & 0.75705 & 2017-08-17 07:05:59\\\\\n\\end{tabular}\n",
                        "text/markdown": "\nA data.frame: 6 × 7\n\n| <!--/--> | Open_time &lt;dttm&gt; | Open &lt;dbl&gt; | High &lt;dbl&gt; | Low &lt;dbl&gt; | Close &lt;dbl&gt; | Volume &lt;dbl&gt; | Close_time &lt;dttm&gt; |\n|---|---|---|---|---|---|---|---|\n| 1 | 2017-08-17 07:00:00 | 301.13 | 301.13 | 301.13 | 301.13 | 0.42643 | 2017-08-17 07:00:59 |\n| 2 | 2017-08-17 07:01:00 | 301.13 | 301.13 | 301.13 | 301.13 | 2.75787 | 2017-08-17 07:01:59 |\n| 3 | 2017-08-17 07:02:00 | 300.00 | 300.00 | 300.00 | 300.00 | 0.09930 | 2017-08-17 07:02:59 |\n| 4 | 2017-08-17 07:03:00 | 300.00 | 300.00 | 300.00 | 300.00 | 0.31389 | 2017-08-17 07:03:59 |\n| 5 | 2017-08-17 07:04:00 | 301.13 | 301.13 | 301.13 | 301.13 | 0.23202 | 2017-08-17 07:04:59 |\n| 6 | 2017-08-17 07:05:00 | 300.00 | 301.13 | 300.00 | 301.13 | 0.75705 | 2017-08-17 07:05:59 |\n\n",
                        "text/plain": "  Open_time           Open   High   Low    Close  Volume  Close_time         \n1 2017-08-17 07:00:00 301.13 301.13 301.13 301.13 0.42643 2017-08-17 07:00:59\n2 2017-08-17 07:01:00 301.13 301.13 301.13 301.13 2.75787 2017-08-17 07:01:59\n3 2017-08-17 07:02:00 300.00 300.00 300.00 300.00 0.09930 2017-08-17 07:02:59\n4 2017-08-17 07:03:00 300.00 300.00 300.00 300.00 0.31389 2017-08-17 07:03:59\n5 2017-08-17 07:04:00 301.13 301.13 301.13 301.13 0.23202 2017-08-17 07:04:59\n6 2017-08-17 07:05:00 300.00 301.13 300.00 301.13 0.75705 2017-08-17 07:05:59"
                    },
                    "metadata": {}
                }
            ],
            "execution_count": 69
        },
        {
            "cell_type": "code",
            "source": [
                "tail(data)"
            ],
            "metadata": {
                "azdata_cell_guid": "b1bbe169-7035-4283-83ea-f667fcf89668",
                "language": "sql"
            },
            "outputs": [
                {
                    "output_type": "display_data",
                    "data": {
                        "text/html": "<table class=\"dataframe\">\n<caption>A data.frame: 6 × 7</caption>\n<thead>\n\t<tr><th></th><th scope=col>Open_time</th><th scope=col>Open</th><th scope=col>High</th><th scope=col>Low</th><th scope=col>Close</th><th scope=col>Volume</th><th scope=col>Close_time</th></tr>\n\t<tr><th></th><th scope=col>&lt;dttm&gt;</th><th scope=col>&lt;dbl&gt;</th><th scope=col>&lt;dbl&gt;</th><th scope=col>&lt;dbl&gt;</th><th scope=col>&lt;dbl&gt;</th><th scope=col>&lt;dbl&gt;</th><th scope=col>&lt;dttm&gt;</th></tr>\n</thead>\n<tbody>\n\t<tr><th scope=row>1995</th><td>2017-08-17 23:34:00</td><td>301.42</td><td>301.42</td><td>301.42</td><td>301.42</td><td>4.52269</td><td>2017-08-17 23:34:59</td></tr>\n\t<tr><th scope=row>1996</th><td>2017-08-17 23:35:00</td><td>301.42</td><td>301.42</td><td>299.01</td><td>299.01</td><td>1.03945</td><td>2017-08-17 23:35:59</td></tr>\n\t<tr><th scope=row>1997</th><td>2017-08-17 23:36:00</td><td>301.44</td><td>301.44</td><td>301.44</td><td>301.44</td><td>3.44575</td><td>2017-08-17 23:36:59</td></tr>\n\t<tr><th scope=row>1998</th><td>2017-08-17 23:37:00</td><td>301.44</td><td>301.44</td><td>301.44</td><td>301.44</td><td>2.59190</td><td>2017-08-17 23:37:59</td></tr>\n\t<tr><th scope=row>1999</th><td>2017-08-17 23:38:00</td><td>301.44</td><td>302.00</td><td>301.44</td><td>302.00</td><td>7.51255</td><td>2017-08-17 23:38:59</td></tr>\n\t<tr><th scope=row>2000</th><td>2017-08-17 23:39:00</td><td>302.00</td><td>302.00</td><td>302.00</td><td>302.00</td><td>0.83362</td><td>2017-08-17 23:39:59</td></tr>\n</tbody>\n</table>\n",
                        "text/latex": "A data.frame: 6 × 7\n\\begin{tabular}{r|lllllll}\n  & Open\\_time & Open & High & Low & Close & Volume & Close\\_time\\\\\n  & <dttm> & <dbl> & <dbl> & <dbl> & <dbl> & <dbl> & <dttm>\\\\\n\\hline\n\t1995 & 2017-08-17 23:34:00 & 301.42 & 301.42 & 301.42 & 301.42 & 4.52269 & 2017-08-17 23:34:59\\\\\n\t1996 & 2017-08-17 23:35:00 & 301.42 & 301.42 & 299.01 & 299.01 & 1.03945 & 2017-08-17 23:35:59\\\\\n\t1997 & 2017-08-17 23:36:00 & 301.44 & 301.44 & 301.44 & 301.44 & 3.44575 & 2017-08-17 23:36:59\\\\\n\t1998 & 2017-08-17 23:37:00 & 301.44 & 301.44 & 301.44 & 301.44 & 2.59190 & 2017-08-17 23:37:59\\\\\n\t1999 & 2017-08-17 23:38:00 & 301.44 & 302.00 & 301.44 & 302.00 & 7.51255 & 2017-08-17 23:38:59\\\\\n\t2000 & 2017-08-17 23:39:00 & 302.00 & 302.00 & 302.00 & 302.00 & 0.83362 & 2017-08-17 23:39:59\\\\\n\\end{tabular}\n",
                        "text/markdown": "\nA data.frame: 6 × 7\n\n| <!--/--> | Open_time &lt;dttm&gt; | Open &lt;dbl&gt; | High &lt;dbl&gt; | Low &lt;dbl&gt; | Close &lt;dbl&gt; | Volume &lt;dbl&gt; | Close_time &lt;dttm&gt; |\n|---|---|---|---|---|---|---|---|\n| 1995 | 2017-08-17 23:34:00 | 301.42 | 301.42 | 301.42 | 301.42 | 4.52269 | 2017-08-17 23:34:59 |\n| 1996 | 2017-08-17 23:35:00 | 301.42 | 301.42 | 299.01 | 299.01 | 1.03945 | 2017-08-17 23:35:59 |\n| 1997 | 2017-08-17 23:36:00 | 301.44 | 301.44 | 301.44 | 301.44 | 3.44575 | 2017-08-17 23:36:59 |\n| 1998 | 2017-08-17 23:37:00 | 301.44 | 301.44 | 301.44 | 301.44 | 2.59190 | 2017-08-17 23:37:59 |\n| 1999 | 2017-08-17 23:38:00 | 301.44 | 302.00 | 301.44 | 302.00 | 7.51255 | 2017-08-17 23:38:59 |\n| 2000 | 2017-08-17 23:39:00 | 302.00 | 302.00 | 302.00 | 302.00 | 0.83362 | 2017-08-17 23:39:59 |\n\n",
                        "text/plain": "     Open_time           Open   High   Low    Close  Volume \n1995 2017-08-17 23:34:00 301.42 301.42 301.42 301.42 4.52269\n1996 2017-08-17 23:35:00 301.42 301.42 299.01 299.01 1.03945\n1997 2017-08-17 23:36:00 301.44 301.44 301.44 301.44 3.44575\n1998 2017-08-17 23:37:00 301.44 301.44 301.44 301.44 2.59190\n1999 2017-08-17 23:38:00 301.44 302.00 301.44 302.00 7.51255\n2000 2017-08-17 23:39:00 302.00 302.00 302.00 302.00 0.83362\n     Close_time         \n1995 2017-08-17 23:34:59\n1996 2017-08-17 23:35:59\n1997 2017-08-17 23:36:59\n1998 2017-08-17 23:37:59\n1999 2017-08-17 23:38:59\n2000 2017-08-17 23:39:59"
                    },
                    "metadata": {}
                }
            ],
            "execution_count": 71
        },
        {
            "cell_type": "code",
            "source": [
                "next_close_time = \n",
                "next_close_time"
            ],
            "metadata": {
                "azdata_cell_guid": "99fa70f2-4c33-47f4-ae43-5ee9a7e0d929",
                "language": "sql"
            },
            "outputs": [
                {
                    "output_type": "display_data",
                    "data": {
                        "text/plain": "[1] \"2017-08-17 23:40:00 UTC\""
                    },
                    "metadata": {}
                }
            ],
            "execution_count": 61
        },
        {
            "cell_type": "code",
            "source": [
                "plot(data$Close)"
            ],
            "metadata": {
                "azdata_cell_guid": "903f4091-183c-4910-b412-8d31823c2160",
                "language": "sql"
            },
            "outputs": [
                {
                    "output_type": "display_data",
                    "data": {
                        "image/png": "[encoded data removed]",
                        "text/plain": "plot without title"
                    },
                    "metadata": {
                        "image/png": {
                            "height": 420,
                            "width": 420
                        }
                    }
                }
            ],
            "execution_count": 72
        }
    ]
}