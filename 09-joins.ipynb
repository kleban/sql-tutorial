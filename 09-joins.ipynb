{
    "metadata": {
        "kernelspec": {
            "name": "SQL",
            "display_name": "SQL",
            "language": "sql"
        },
        "language_info": {
            "name": "sql",
            "version": ""
        }
    },
    "nbformat_minor": 2,
    "nbformat": 4,
    "cells": [
        {
            "cell_type": "markdown",
            "source": [
                "# JOINS"
            ],
            "metadata": {
                "azdata_cell_guid": "eb197df8-0bd2-4a4d-8e2e-b562d6c37e8b"
            },
            "attachments": {}
        },
        {
            "cell_type": "markdown",
            "source": [
                "![SQL Joins Cheat Sheet: Types of SQL Joins (Inner, Left, Right, and Full join)](https://www.ml4devs.com/images/illustrations/sql-joins-cheatsheet.webp)  \n",
                "\n",
                "Source: https://www.ml4devs.com/articles/sql-joins-tutorial-inner-join-left-join-right-join-full-join-cross-join/"
            ],
            "metadata": {
                "azdata_cell_guid": "7ce01d55-3b80-4cf6-9298-784ad9e324f1"
            },
            "attachments": {}
        },
        {
            "cell_type": "markdown",
            "source": [
                "## LEFT JOIN"
            ],
            "metadata": {
                "azdata_cell_guid": "61da351b-ba7c-48e4-a836-7d8b1c0078d0"
            },
            "attachments": {}
        },
        {
            "cell_type": "markdown",
            "source": [
                "![SQL LEFT JOIN](https://www.sqltutorial.org/wp-content/uploads/2016/03/SQL-LEFT-JOIN.png)"
            ],
            "metadata": {
                "azdata_cell_guid": "60bd7b94-0189-4752-b966-6f26c167c9d8"
            },
            "attachments": {}
        },
        {
            "cell_type": "markdown",
            "source": [
                "Давайте обєнаємо таблиці Країни та Локації.\n",
                "\n",
                "![countries_locations_tables](https://www.sqltutorial.org/wp-content/uploads/2016/03/countries_locations_tables.png)"
            ],
            "metadata": {
                "azdata_cell_guid": "248f59e1-23f2-4fef-94d2-c332c1b02c14"
            },
            "attachments": {}
        },
        {
            "cell_type": "code",
            "source": [
                "use hr_db"
            ],
            "metadata": {
                "azdata_cell_guid": "bb49dad9-196d-429a-b10f-feb984c4cdc2",
                "language": "sql"
            },
            "outputs": [
                {
                    "output_type": "display_data",
                    "data": {
                        "text/html": "Commands completed successfully."
                    },
                    "metadata": {}
                },
                {
                    "output_type": "display_data",
                    "data": {
                        "text/html": "Total execution time: 00:00:00"
                    },
                    "metadata": {}
                }
            ],
            "execution_count": 3
        },
        {
            "cell_type": "code",
            "source": [
                "SELECT\r\n",
                "\tcountry_id,\r\n",
                "\tcountry_name\r\n",
                "FROM\r\n",
                "\tcountries\r\n",
                "WHERE\r\n",
                "\tcountry_id IN ('US', 'UK', 'CN');"
            ],
            "metadata": {
                "azdata_cell_guid": "1175361f-ad04-4631-ba72-43d548dfc602",
                "language": "sql"
            },
            "outputs": [
                {
                    "output_type": "display_data",
                    "data": {
                        "text/html": "(3 rows affected)"
                    },
                    "metadata": {}
                },
                {
                    "output_type": "display_data",
                    "data": {
                        "text/html": "Total execution time: 00:00:00.014"
                    },
                    "metadata": {}
                },
                {
                    "output_type": "execute_result",
                    "execution_count": 3,
                    "data": {
                        "application/vnd.dataresource+json": {
                            "schema": {
                                "fields": [
                                    {
                                        "name": "country_id"
                                    },
                                    {
                                        "name": "country_name"
                                    }
                                ]
                            },
                            "data": [
                                {
                                    "0": "CN",
                                    "1": "China"
                                },
                                {
                                    "0": "UK",
                                    "1": "United Kingdom"
                                },
                                {
                                    "0": "US",
                                    "1": "United States of America"
                                }
                            ]
                        },
                        "text/html": "<table><tr><th>country_id</th><th>country_name</th></tr><tr><td>CN</td><td>China</td></tr><tr><td>UK</td><td>United Kingdom</td></tr><tr><td>US</td><td>United States of America</td></tr></table>"
                    },
                    "metadata": {}
                }
            ],
            "execution_count": 3
        },
        {
            "cell_type": "code",
            "source": [
                "SELECT\r\n",
                "\tcountry_id,\r\n",
                "\tstreet_address,\r\n",
                "\tcity\r\n",
                "FROM\r\n",
                "\tlocations\r\n",
                "WHERE\r\n",
                "\tcountry_id IN ('US', 'UK', 'CN');"
            ],
            "metadata": {
                "language": "sql",
                "azdata_cell_guid": "0cbf9e96-0b05-40c9-b4ef-fdfd644cd5bd"
            },
            "outputs": [
                {
                    "output_type": "display_data",
                    "data": {
                        "text/html": "(5 rows affected)"
                    },
                    "metadata": {}
                },
                {
                    "output_type": "display_data",
                    "data": {
                        "text/html": "Total execution time: 00:00:00.017"
                    },
                    "metadata": {}
                },
                {
                    "output_type": "execute_result",
                    "execution_count": 4,
                    "data": {
                        "application/vnd.dataresource+json": {
                            "schema": {
                                "fields": [
                                    {
                                        "name": "country_id"
                                    },
                                    {
                                        "name": "street_address"
                                    },
                                    {
                                        "name": "city"
                                    }
                                ]
                            },
                            "data": [
                                {
                                    "0": "US",
                                    "1": "2014 Jabberwocky Rd",
                                    "2": "Southlake"
                                },
                                {
                                    "0": "US",
                                    "1": "2011 Interiors Blvd",
                                    "2": "South San Francisco"
                                },
                                {
                                    "0": "US",
                                    "1": "2004 Charade Rd",
                                    "2": "Seattle"
                                },
                                {
                                    "0": "UK",
                                    "1": "8204 Arthur St",
                                    "2": "London"
                                },
                                {
                                    "0": "UK",
                                    "1": "Magdalen Centre, The Oxford Science Park",
                                    "2": "Oxford"
                                }
                            ]
                        },
                        "text/html": "<table><tr><th>country_id</th><th>street_address</th><th>city</th></tr><tr><td>US</td><td>2014 Jabberwocky Rd</td><td>Southlake</td></tr><tr><td>US</td><td>2011 Interiors Blvd</td><td>South San Francisco</td></tr><tr><td>US</td><td>2004 Charade Rd</td><td>Seattle</td></tr><tr><td>UK</td><td>8204 Arthur St</td><td>London</td></tr><tr><td>UK</td><td>Magdalen Centre, The Oxford Science Park</td><td>Oxford</td></tr></table>"
                    },
                    "metadata": {}
                }
            ],
            "execution_count": 4
        },
        {
            "cell_type": "code",
            "source": [
                "SELECT\r\n",
                "\tc.country_name,\r\n",
                "\tc.country_id,\r\n",
                "\tl.country_id,\r\n",
                "\tl.street_address,\r\n",
                "\tl.city\r\n",
                "FROM\r\n",
                "\tcountries c\r\n",
                "LEFT JOIN locations l ON l.country_id = c.country_id\r\n",
                "WHERE\r\n",
                "\tc.country_id IN ('US', 'UK', 'CN')\r\n",
                "-- check NULLS"
            ],
            "metadata": {
                "language": "sql",
                "azdata_cell_guid": "159e1d25-1462-456e-836a-6fde57257216"
            },
            "outputs": [
                {
                    "output_type": "display_data",
                    "data": {
                        "text/html": "(6 rows affected)"
                    },
                    "metadata": {}
                },
                {
                    "output_type": "display_data",
                    "data": {
                        "text/html": "Total execution time: 00:00:00.017"
                    },
                    "metadata": {}
                },
                {
                    "output_type": "execute_result",
                    "execution_count": 5,
                    "data": {
                        "application/vnd.dataresource+json": {
                            "schema": {
                                "fields": [
                                    {
                                        "name": "country_name"
                                    },
                                    {
                                        "name": "country_id"
                                    },
                                    {
                                        "name": "country_id"
                                    },
                                    {
                                        "name": "street_address"
                                    },
                                    {
                                        "name": "city"
                                    }
                                ]
                            },
                            "data": [
                                {
                                    "0": "China",
                                    "1": "CN",
                                    "2": "NULL",
                                    "3": "NULL",
                                    "4": "NULL"
                                },
                                {
                                    "0": "United Kingdom",
                                    "1": "UK",
                                    "2": "UK",
                                    "3": "8204 Arthur St",
                                    "4": "London"
                                },
                                {
                                    "0": "United Kingdom",
                                    "1": "UK",
                                    "2": "UK",
                                    "3": "Magdalen Centre, The Oxford Science Park",
                                    "4": "Oxford"
                                },
                                {
                                    "0": "United States of America",
                                    "1": "US",
                                    "2": "US",
                                    "3": "2014 Jabberwocky Rd",
                                    "4": "Southlake"
                                },
                                {
                                    "0": "United States of America",
                                    "1": "US",
                                    "2": "US",
                                    "3": "2011 Interiors Blvd",
                                    "4": "South San Francisco"
                                },
                                {
                                    "0": "United States of America",
                                    "1": "US",
                                    "2": "US",
                                    "3": "2004 Charade Rd",
                                    "4": "Seattle"
                                }
                            ]
                        },
                        "text/html": "<table><tr><th>country_name</th><th>country_id</th><th>country_id</th><th>street_address</th><th>city</th></tr><tr><td>China</td><td>CN</td><td>NULL</td><td>NULL</td><td>NULL</td></tr><tr><td>United Kingdom</td><td>UK</td><td>UK</td><td>8204 Arthur St</td><td>London</td></tr><tr><td>United Kingdom</td><td>UK</td><td>UK</td><td>Magdalen Centre, The Oxford Science Park</td><td>Oxford</td></tr><tr><td>United States of America</td><td>US</td><td>US</td><td>2014 Jabberwocky Rd</td><td>Southlake</td></tr><tr><td>United States of America</td><td>US</td><td>US</td><td>2011 Interiors Blvd</td><td>South San Francisco</td></tr><tr><td>United States of America</td><td>US</td><td>US</td><td>2004 Charade Rd</td><td>Seattle</td></tr></table>"
                    },
                    "metadata": {}
                }
            ],
            "execution_count": 5
        },
        {
            "cell_type": "markdown",
            "source": [
                "Додамо ще Регіони\n",
                "\n",
                "![location_tables](https://www.sqltutorial.org/wp-content/uploads/2016/03/location_tables.png)"
            ],
            "metadata": {
                "language": "sql",
                "azdata_cell_guid": "d8301ed7-e923-4dc9-a22e-62267076a4e8"
            },
            "attachments": {}
        },
        {
            "cell_type": "code",
            "source": [
                "SELECT\r\n",
                "\tr.region_name,\r\n",
                "\tc.country_name,\r\n",
                "\tl.street_address,\r\n",
                "\tl.city\r\n",
                "FROM\r\n",
                "\tregions r\r\n",
                "LEFT JOIN countries c ON c.region_id = r.region_id\r\n",
                "LEFT JOIN locations l ON l.country_id = c.country_id\r\n",
                "WHERE\r\n",
                "\tc.country_id IN ('US', 'UK', 'CN');"
            ],
            "metadata": {
                "language": "sql",
                "azdata_cell_guid": "9c2317f1-a209-4bfa-9603-10089bba76ca"
            },
            "outputs": [
                {
                    "output_type": "display_data",
                    "data": {
                        "text/html": "(6 rows affected)"
                    },
                    "metadata": {}
                },
                {
                    "output_type": "display_data",
                    "data": {
                        "text/html": "Total execution time: 00:00:00.016"
                    },
                    "metadata": {}
                },
                {
                    "output_type": "execute_result",
                    "execution_count": 6,
                    "data": {
                        "application/vnd.dataresource+json": {
                            "schema": {
                                "fields": [
                                    {
                                        "name": "region_name"
                                    },
                                    {
                                        "name": "country_name"
                                    },
                                    {
                                        "name": "street_address"
                                    },
                                    {
                                        "name": "city"
                                    }
                                ]
                            },
                            "data": [
                                {
                                    "0": "Asia",
                                    "1": "China",
                                    "2": "NULL",
                                    "3": "NULL"
                                },
                                {
                                    "0": "Europe",
                                    "1": "United Kingdom",
                                    "2": "8204 Arthur St",
                                    "3": "London"
                                },
                                {
                                    "0": "Europe",
                                    "1": "United Kingdom",
                                    "2": "Magdalen Centre, The Oxford Science Park",
                                    "3": "Oxford"
                                },
                                {
                                    "0": "Americas",
                                    "1": "United States of America",
                                    "2": "2014 Jabberwocky Rd",
                                    "3": "Southlake"
                                },
                                {
                                    "0": "Americas",
                                    "1": "United States of America",
                                    "2": "2011 Interiors Blvd",
                                    "3": "South San Francisco"
                                },
                                {
                                    "0": "Americas",
                                    "1": "United States of America",
                                    "2": "2004 Charade Rd",
                                    "3": "Seattle"
                                }
                            ]
                        },
                        "text/html": "<table><tr><th>region_name</th><th>country_name</th><th>street_address</th><th>city</th></tr><tr><td>Asia</td><td>China</td><td>NULL</td><td>NULL</td></tr><tr><td>Europe</td><td>United Kingdom</td><td>8204 Arthur St</td><td>London</td></tr><tr><td>Europe</td><td>United Kingdom</td><td>Magdalen Centre, The Oxford Science Park</td><td>Oxford</td></tr><tr><td>Americas</td><td>United States of America</td><td>2014 Jabberwocky Rd</td><td>Southlake</td></tr><tr><td>Americas</td><td>United States of America</td><td>2011 Interiors Blvd</td><td>South San Francisco</td></tr><tr><td>Americas</td><td>United States of America</td><td>2004 Charade Rd</td><td>Seattle</td></tr></table>"
                    },
                    "metadata": {}
                }
            ],
            "execution_count": 6
        },
        {
            "cell_type": "markdown",
            "source": [
                "---"
            ],
            "metadata": {
                "language": "sql",
                "azdata_cell_guid": "49dd4fb3-9707-4cfe-8428-565fa6dfdf25"
            },
            "attachments": {}
        },
        {
            "cell_type": "markdown",
            "source": [
                "## INNER JOIN"
            ],
            "metadata": {
                "language": "sql",
                "azdata_cell_guid": "60b76c82-2f32-41e0-b162-2720f8120fa8"
            },
            "attachments": {}
        },
        {
            "cell_type": "markdown",
            "source": [
                "![SQL INNER JOIN](https://www.sqltutorial.org/wp-content/uploads/2016/03/SQL-INNER-JOIN.png)"
            ],
            "metadata": {
                "language": "sql",
                "azdata_cell_guid": "b05bc1ff-5431-4dff-9158-771a3bc79007"
            },
            "attachments": {}
        },
        {
            "cell_type": "markdown",
            "source": [
                "![emp_dept_tables](https://www.sqltutorial.org/wp-content/uploads/2016/03/emp_dept_tables.png)"
            ],
            "metadata": {
                "language": "sql",
                "azdata_cell_guid": "6dd93286-71d0-4356-a8f9-2304d2672f11"
            },
            "attachments": {}
        },
        {
            "cell_type": "code",
            "source": [
                "-- departments list\r\n",
                "SELECT\r\n",
                "\tdepartment_id,\r\n",
                "\tdepartment_name\r\n",
                "FROM\r\n",
                "\tdepartments\r\n",
                "WHERE\r\n",
                "\tdepartment_id IN (1, 2, 3);"
            ],
            "metadata": {
                "language": "sql",
                "azdata_cell_guid": "8caff72f-119a-454b-a706-00e842ecb1ab"
            },
            "outputs": [
                {
                    "output_type": "display_data",
                    "data": {
                        "text/html": "(3 rows affected)"
                    },
                    "metadata": {}
                },
                {
                    "output_type": "display_data",
                    "data": {
                        "text/html": "Total execution time: 00:00:00.010"
                    },
                    "metadata": {}
                },
                {
                    "output_type": "execute_result",
                    "metadata": {},
                    "execution_count": 4,
                    "data": {
                        "application/vnd.dataresource+json": {
                            "schema": {
                                "fields": [
                                    {
                                        "name": "department_id"
                                    },
                                    {
                                        "name": "department_name"
                                    }
                                ]
                            },
                            "data": [
                                {
                                    "0": "1",
                                    "1": "Administration"
                                },
                                {
                                    "0": "2",
                                    "1": "Marketing"
                                },
                                {
                                    "0": "3",
                                    "1": "Purchasing"
                                }
                            ]
                        },
                        "text/html": [
                            "<table>",
                            "<tr><th>department_id</th><th>department_name</th></tr>",
                            "<tr><td>1</td><td>Administration</td></tr>",
                            "<tr><td>2</td><td>Marketing</td></tr>",
                            "<tr><td>3</td><td>Purchasing</td></tr>",
                            "</table>"
                        ]
                    }
                }
            ],
            "execution_count": 4
        },
        {
            "cell_type": "code",
            "source": [
                "-- employees for this departments\r\n",
                "SELECT\r\n",
                "\tfirst_name,\r\n",
                "\tlast_name,\r\n",
                "\tdepartment_id\r\n",
                "FROM\r\n",
                "\temployees\r\n",
                "WHERE\r\n",
                "\tdepartment_id IN (1, 2, 3)\r\n",
                "ORDER BY\r\n",
                "\tdepartment_id;"
            ],
            "metadata": {
                "language": "sql",
                "azdata_cell_guid": "ae5cb036-5865-45e9-b80c-c70c6f7d9533"
            },
            "outputs": [
                {
                    "output_type": "display_data",
                    "data": {
                        "text/html": "(9 rows affected)"
                    },
                    "metadata": {}
                },
                {
                    "output_type": "display_data",
                    "data": {
                        "text/html": "Total execution time: 00:00:00.015"
                    },
                    "metadata": {}
                },
                {
                    "output_type": "execute_result",
                    "metadata": {},
                    "execution_count": 5,
                    "data": {
                        "application/vnd.dataresource+json": {
                            "schema": {
                                "fields": [
                                    {
                                        "name": "first_name"
                                    },
                                    {
                                        "name": "last_name"
                                    },
                                    {
                                        "name": "department_id"
                                    }
                                ]
                            },
                            "data": [
                                {
                                    "0": "Jennifer",
                                    "1": "Whalen",
                                    "2": "1"
                                },
                                {
                                    "0": "Michael",
                                    "1": "Hartstein",
                                    "2": "2"
                                },
                                {
                                    "0": "Pat",
                                    "1": "Fay",
                                    "2": "2"
                                },
                                {
                                    "0": "Den",
                                    "1": "Raphaely",
                                    "2": "3"
                                },
                                {
                                    "0": "Alexander",
                                    "1": "Khoo",
                                    "2": "3"
                                },
                                {
                                    "0": "Shelli",
                                    "1": "Baida",
                                    "2": "3"
                                },
                                {
                                    "0": "Sigal",
                                    "1": "Tobias",
                                    "2": "3"
                                },
                                {
                                    "0": "Guy",
                                    "1": "Himuro",
                                    "2": "3"
                                },
                                {
                                    "0": "Karen",
                                    "1": "Colmenares",
                                    "2": "3"
                                }
                            ]
                        },
                        "text/html": [
                            "<table>",
                            "<tr><th>first_name</th><th>last_name</th><th>department_id</th></tr>",
                            "<tr><td>Jennifer</td><td>Whalen</td><td>1</td></tr>",
                            "<tr><td>Michael</td><td>Hartstein</td><td>2</td></tr>",
                            "<tr><td>Pat</td><td>Fay</td><td>2</td></tr>",
                            "<tr><td>Den</td><td>Raphaely</td><td>3</td></tr>",
                            "<tr><td>Alexander</td><td>Khoo</td><td>3</td></tr>",
                            "<tr><td>Shelli</td><td>Baida</td><td>3</td></tr>",
                            "<tr><td>Sigal</td><td>Tobias</td><td>3</td></tr>",
                            "<tr><td>Guy</td><td>Himuro</td><td>3</td></tr>",
                            "<tr><td>Karen</td><td>Colmenares</td><td>3</td></tr>",
                            "</table>"
                        ]
                    }
                }
            ],
            "execution_count": 5
        },
        {
            "cell_type": "code",
            "source": [
                "SELECT \r\n",
                "    first_name,\r\n",
                "    last_name,\r\n",
                "    employees.department_id,\r\n",
                "    departments.department_id,\r\n",
                "    department_name\r\n",
                "FROM\r\n",
                "    employees\r\n",
                "        INNER JOIN\r\n",
                "    departments ON departments.department_id = employees.department_id\r\n",
                "WHERE\r\n",
                "    employees.department_id IN (1 , 2, 3);"
            ],
            "metadata": {
                "language": "sql",
                "azdata_cell_guid": "148b446f-91fa-457c-9bf5-3512221adcaa"
            },
            "outputs": [
                {
                    "output_type": "display_data",
                    "data": {
                        "text/html": "(9 rows affected)"
                    },
                    "metadata": {}
                },
                {
                    "output_type": "display_data",
                    "data": {
                        "text/html": "Total execution time: 00:00:00.006"
                    },
                    "metadata": {}
                },
                {
                    "output_type": "execute_result",
                    "metadata": {},
                    "execution_count": 8,
                    "data": {
                        "application/vnd.dataresource+json": {
                            "schema": {
                                "fields": [
                                    {
                                        "name": "first_name"
                                    },
                                    {
                                        "name": "last_name"
                                    },
                                    {
                                        "name": "department_id"
                                    },
                                    {
                                        "name": "department_id"
                                    },
                                    {
                                        "name": "department_name"
                                    }
                                ]
                            },
                            "data": [
                                {
                                    "0": "Den",
                                    "1": "Raphaely",
                                    "2": "3",
                                    "3": "3",
                                    "4": "Purchasing"
                                },
                                {
                                    "0": "Alexander",
                                    "1": "Khoo",
                                    "2": "3",
                                    "3": "3",
                                    "4": "Purchasing"
                                },
                                {
                                    "0": "Shelli",
                                    "1": "Baida",
                                    "2": "3",
                                    "3": "3",
                                    "4": "Purchasing"
                                },
                                {
                                    "0": "Sigal",
                                    "1": "Tobias",
                                    "2": "3",
                                    "3": "3",
                                    "4": "Purchasing"
                                },
                                {
                                    "0": "Guy",
                                    "1": "Himuro",
                                    "2": "3",
                                    "3": "3",
                                    "4": "Purchasing"
                                },
                                {
                                    "0": "Karen",
                                    "1": "Colmenares",
                                    "2": "3",
                                    "3": "3",
                                    "4": "Purchasing"
                                },
                                {
                                    "0": "Jennifer",
                                    "1": "Whalen",
                                    "2": "1",
                                    "3": "1",
                                    "4": "Administration"
                                },
                                {
                                    "0": "Michael",
                                    "1": "Hartstein",
                                    "2": "2",
                                    "3": "2",
                                    "4": "Marketing"
                                },
                                {
                                    "0": "Pat",
                                    "1": "Fay",
                                    "2": "2",
                                    "3": "2",
                                    "4": "Marketing"
                                }
                            ]
                        },
                        "text/html": [
                            "<table>",
                            "<tr><th>first_name</th><th>last_name</th><th>department_id</th><th>department_id</th><th>department_name</th></tr>",
                            "<tr><td>Den</td><td>Raphaely</td><td>3</td><td>3</td><td>Purchasing</td></tr>",
                            "<tr><td>Alexander</td><td>Khoo</td><td>3</td><td>3</td><td>Purchasing</td></tr>",
                            "<tr><td>Shelli</td><td>Baida</td><td>3</td><td>3</td><td>Purchasing</td></tr>",
                            "<tr><td>Sigal</td><td>Tobias</td><td>3</td><td>3</td><td>Purchasing</td></tr>",
                            "<tr><td>Guy</td><td>Himuro</td><td>3</td><td>3</td><td>Purchasing</td></tr>",
                            "<tr><td>Karen</td><td>Colmenares</td><td>3</td><td>3</td><td>Purchasing</td></tr>",
                            "<tr><td>Jennifer</td><td>Whalen</td><td>1</td><td>1</td><td>Administration</td></tr>",
                            "<tr><td>Michael</td><td>Hartstein</td><td>2</td><td>2</td><td>Marketing</td></tr>",
                            "<tr><td>Pat</td><td>Fay</td><td>2</td><td>2</td><td>Marketing</td></tr>",
                            "</table>"
                        ]
                    }
                }
            ],
            "execution_count": 8
        },
        {
            "cell_type": "markdown",
            "source": [
                "![emp_dept_jobs_tables](https://www.sqltutorial.org/wp-content/uploads/2016/03/emp_dept_jobs_tables.png)"
            ],
            "metadata": {
                "language": "sql",
                "azdata_cell_guid": "88b64d7d-b96b-4ff0-b554-9b175914d527"
            },
            "attachments": {}
        },
        {
            "cell_type": "code",
            "source": [
                "SELECT\r\n",
                "\tfirst_name,\r\n",
                "\tlast_name,\r\n",
                "\tjob_title,\r\n",
                "\tdepartment_name\r\n",
                "FROM\r\n",
                "\temployees e\r\n",
                "INNER JOIN departments d ON d.department_id = e.department_id\r\n",
                "INNER JOIN jobs j ON j.job_id = e.job_id\r\n",
                "WHERE\r\n",
                "\te.department_id IN (1, 2, 3);"
            ],
            "metadata": {
                "language": "sql",
                "azdata_cell_guid": "5730a12a-c62c-4b21-97ce-49bd5104fb9d"
            },
            "outputs": [
                {
                    "output_type": "display_data",
                    "data": {
                        "text/html": "(9 rows affected)"
                    },
                    "metadata": {}
                },
                {
                    "output_type": "display_data",
                    "data": {
                        "text/html": "Total execution time: 00:00:00.013"
                    },
                    "metadata": {}
                },
                {
                    "output_type": "execute_result",
                    "metadata": {},
                    "execution_count": 9,
                    "data": {
                        "application/vnd.dataresource+json": {
                            "schema": {
                                "fields": [
                                    {
                                        "name": "first_name"
                                    },
                                    {
                                        "name": "last_name"
                                    },
                                    {
                                        "name": "job_title"
                                    },
                                    {
                                        "name": "department_name"
                                    }
                                ]
                            },
                            "data": [
                                {
                                    "0": "Den",
                                    "1": "Raphaely",
                                    "2": "Purchasing Manager",
                                    "3": "Purchasing"
                                },
                                {
                                    "0": "Alexander",
                                    "1": "Khoo",
                                    "2": "Purchasing Clerk",
                                    "3": "Purchasing"
                                },
                                {
                                    "0": "Shelli",
                                    "1": "Baida",
                                    "2": "Purchasing Clerk",
                                    "3": "Purchasing"
                                },
                                {
                                    "0": "Sigal",
                                    "1": "Tobias",
                                    "2": "Purchasing Clerk",
                                    "3": "Purchasing"
                                },
                                {
                                    "0": "Guy",
                                    "1": "Himuro",
                                    "2": "Purchasing Clerk",
                                    "3": "Purchasing"
                                },
                                {
                                    "0": "Karen",
                                    "1": "Colmenares",
                                    "2": "Purchasing Clerk",
                                    "3": "Purchasing"
                                },
                                {
                                    "0": "Jennifer",
                                    "1": "Whalen",
                                    "2": "Administration Assistant",
                                    "3": "Administration"
                                },
                                {
                                    "0": "Michael",
                                    "1": "Hartstein",
                                    "2": "Marketing Manager",
                                    "3": "Marketing"
                                },
                                {
                                    "0": "Pat",
                                    "1": "Fay",
                                    "2": "Marketing Representative",
                                    "3": "Marketing"
                                }
                            ]
                        },
                        "text/html": [
                            "<table>",
                            "<tr><th>first_name</th><th>last_name</th><th>job_title</th><th>department_name</th></tr>",
                            "<tr><td>Den</td><td>Raphaely</td><td>Purchasing Manager</td><td>Purchasing</td></tr>",
                            "<tr><td>Alexander</td><td>Khoo</td><td>Purchasing Clerk</td><td>Purchasing</td></tr>",
                            "<tr><td>Shelli</td><td>Baida</td><td>Purchasing Clerk</td><td>Purchasing</td></tr>",
                            "<tr><td>Sigal</td><td>Tobias</td><td>Purchasing Clerk</td><td>Purchasing</td></tr>",
                            "<tr><td>Guy</td><td>Himuro</td><td>Purchasing Clerk</td><td>Purchasing</td></tr>",
                            "<tr><td>Karen</td><td>Colmenares</td><td>Purchasing Clerk</td><td>Purchasing</td></tr>",
                            "<tr><td>Jennifer</td><td>Whalen</td><td>Administration Assistant</td><td>Administration</td></tr>",
                            "<tr><td>Michael</td><td>Hartstein</td><td>Marketing Manager</td><td>Marketing</td></tr>",
                            "<tr><td>Pat</td><td>Fay</td><td>Marketing Representative</td><td>Marketing</td></tr>",
                            "</table>"
                        ]
                    }
                }
            ],
            "execution_count": 9
        },
        {
            "cell_type": "markdown",
            "source": [
                "---"
            ],
            "metadata": {
                "language": "sql",
                "azdata_cell_guid": "a6ac5226-7d93-4657-882a-cd095d59b3a1"
            },
            "attachments": {}
        },
        {
            "cell_type": "markdown",
            "source": [
                "## SELF JOIN"
            ],
            "metadata": {
                "language": "sql",
                "azdata_cell_guid": "3f48eff8-4f88-4b42-96bb-b0631bba6298"
            },
            "attachments": {}
        },
        {
            "cell_type": "markdown",
            "source": [
                "Знайдео керівника для поточного працівника:\n",
                "\n",
                "  \n",
                "\n",
                "![](data:image/png;base64,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)"
            ],
            "metadata": {
                "language": "sql",
                "azdata_cell_guid": "d1c94369-25d9-4ba8-b4d0-1bec9d086c1f"
            },
            "attachments": {}
        },
        {
            "cell_type": "code",
            "source": [
                "SELECT \r\n",
                "    CONCAT(e.first_name, ' ', e.last_name) AS employee, \r\n",
                "    CONCAT(m.first_name, ' ', m.last_name) AS manager\r\n",
                "FROM\r\n",
                "    employees e\r\n",
                "        INNER JOIN\r\n",
                "    employees m ON m.employee_id = e.manager_id\r\n",
                "ORDER BY manager;"
            ],
            "metadata": {
                "language": "sql",
                "azdata_cell_guid": "9f241219-7a84-4d0c-8bbb-b79572fe52d7"
            },
            "outputs": [
                {
                    "output_type": "display_data",
                    "data": {
                        "text/html": "(39 rows affected)"
                    },
                    "metadata": {}
                },
                {
                    "output_type": "display_data",
                    "data": {
                        "text/html": "Total execution time: 00:00:00.076"
                    },
                    "metadata": {}
                },
                {
                    "output_type": "execute_result",
                    "metadata": {},
                    "execution_count": 11,
                    "data": {
                        "application/vnd.dataresource+json": {
                            "schema": {
                                "fields": [
                                    {
                                        "name": "employee"
                                    },
                                    {
                                        "name": "manager"
                                    }
                                ]
                            },
                            "data": [
                                {
                                    "0": "Bruce Ernst",
                                    "1": "Alexander Hunold"
                                },
                                {
                                    "0": "David Austin",
                                    "1": "Alexander Hunold"
                                },
                                {
                                    "0": "Valli Pataballa",
                                    "1": "Alexander Hunold"
                                },
                                {
                                    "0": "Diana Lorentz",
                                    "1": "Alexander Hunold"
                                },
                                {
                                    "0": "Alexander Khoo",
                                    "1": "Den Raphaely"
                                },
                                {
                                    "0": "Shelli Baida",
                                    "1": "Den Raphaely"
                                },
                                {
                                    "0": "Sigal Tobias",
                                    "1": "Den Raphaely"
                                },
                                {
                                    "0": "Guy Himuro",
                                    "1": "Den Raphaely"
                                },
                                {
                                    "0": "Karen Colmenares",
                                    "1": "Den Raphaely"
                                },
                                {
                                    "0": "Alexander Hunold",
                                    "1": "Lex De Haan"
                                },
                                {
                                    "0": "Irene Mikkilineni",
                                    "1": "Matthew Weiss"
                                },
                                {
                                    "0": "Pat Fay",
                                    "1": "Michael Hartstein"
                                },
                                {
                                    "0": "Daniel Faviet",
                                    "1": "Nancy Greenberg"
                                },
                                {
                                    "0": "John Chen",
                                    "1": "Nancy Greenberg"
                                },
                                {
                                    "0": "Ismael Sciarra",
                                    "1": "Nancy Greenberg"
                                },
                                {
                                    "0": "Jose Manuel Urman",
                                    "1": "Nancy Greenberg"
                                },
                                {
                                    "0": "Luis Popp",
                                    "1": "Nancy Greenberg"
                                },
                                {
                                    "0": "Nancy Greenberg",
                                    "1": "Neena Kochhar"
                                },
                                {
                                    "0": "Susan Mavris",
                                    "1": "Neena Kochhar"
                                },
                                {
                                    "0": "Hermann Baer",
                                    "1": "Neena Kochhar"
                                },
                                {
                                    "0": "Shelley Higgins",
                                    "1": "Neena Kochhar"
                                },
                                {
                                    "0": "Jennifer Whalen",
                                    "1": "Neena Kochhar"
                                },
                                {
                                    "0": "Sarah Bell",
                                    "1": "Shanta Vollman"
                                },
                                {
                                    "0": "Britney Everett",
                                    "1": "Shanta Vollman"
                                },
                                {
                                    "0": "William Gietz",
                                    "1": "Shelley Higgins"
                                },
                                {
                                    "0": "Michael Hartstein",
                                    "1": "Steven King"
                                },
                                {
                                    "0": "Neena Kochhar",
                                    "1": "Steven King"
                                },
                                {
                                    "0": "Lex De Haan",
                                    "1": "Steven King"
                                },
                                {
                                    "0": "John Russell",
                                    "1": "Steven King"
                                },
                                {
                                    "0": "Karen Partners",
                                    "1": "Steven King"
                                },
                                {
                                    "0": "Jonathon Taylor",
                                    "1": "Steven King"
                                },
                                {
                                    "0": "Jack Livingston",
                                    "1": "Steven King"
                                },
                                {
                                    "0": "Kimberely Grant",
                                    "1": "Steven King"
                                },
                                {
                                    "0": "Charles Johnson",
                                    "1": "Steven King"
                                },
                                {
                                    "0": "Den Raphaely",
                                    "1": "Steven King"
                                },
                                {
                                    "0": "Matthew Weiss",
                                    "1": "Steven King"
                                },
                                {
                                    "0": "Adam Fripp",
                                    "1": "Steven King"
                                },
                                {
                                    "0": "Payam Kaufling",
                                    "1": "Steven King"
                                },
                                {
                                    "0": "Shanta Vollman",
                                    "1": "Steven King"
                                }
                            ]
                        },
                        "text/html": [
                            "<table>",
                            "<tr><th>employee</th><th>manager</th></tr>",
                            "<tr><td>Bruce Ernst</td><td>Alexander Hunold</td></tr>",
                            "<tr><td>David Austin</td><td>Alexander Hunold</td></tr>",
                            "<tr><td>Valli Pataballa</td><td>Alexander Hunold</td></tr>",
                            "<tr><td>Diana Lorentz</td><td>Alexander Hunold</td></tr>",
                            "<tr><td>Alexander Khoo</td><td>Den Raphaely</td></tr>",
                            "<tr><td>Shelli Baida</td><td>Den Raphaely</td></tr>",
                            "<tr><td>Sigal Tobias</td><td>Den Raphaely</td></tr>",
                            "<tr><td>Guy Himuro</td><td>Den Raphaely</td></tr>",
                            "<tr><td>Karen Colmenares</td><td>Den Raphaely</td></tr>",
                            "<tr><td>Alexander Hunold</td><td>Lex De Haan</td></tr>",
                            "<tr><td>Irene Mikkilineni</td><td>Matthew Weiss</td></tr>",
                            "<tr><td>Pat Fay</td><td>Michael Hartstein</td></tr>",
                            "<tr><td>Daniel Faviet</td><td>Nancy Greenberg</td></tr>",
                            "<tr><td>John Chen</td><td>Nancy Greenberg</td></tr>",
                            "<tr><td>Ismael Sciarra</td><td>Nancy Greenberg</td></tr>",
                            "<tr><td>Jose Manuel Urman</td><td>Nancy Greenberg</td></tr>",
                            "<tr><td>Luis Popp</td><td>Nancy Greenberg</td></tr>",
                            "<tr><td>Nancy Greenberg</td><td>Neena Kochhar</td></tr>",
                            "<tr><td>Susan Mavris</td><td>Neena Kochhar</td></tr>",
                            "<tr><td>Hermann Baer</td><td>Neena Kochhar</td></tr>",
                            "<tr><td>Shelley Higgins</td><td>Neena Kochhar</td></tr>",
                            "<tr><td>Jennifer Whalen</td><td>Neena Kochhar</td></tr>",
                            "<tr><td>Sarah Bell</td><td>Shanta Vollman</td></tr>",
                            "<tr><td>Britney Everett</td><td>Shanta Vollman</td></tr>",
                            "<tr><td>William Gietz</td><td>Shelley Higgins</td></tr>",
                            "<tr><td>Michael Hartstein</td><td>Steven King</td></tr>",
                            "<tr><td>Neena Kochhar</td><td>Steven King</td></tr>",
                            "<tr><td>Lex De Haan</td><td>Steven King</td></tr>",
                            "<tr><td>John Russell</td><td>Steven King</td></tr>",
                            "<tr><td>Karen Partners</td><td>Steven King</td></tr>",
                            "<tr><td>Jonathon Taylor</td><td>Steven King</td></tr>",
                            "<tr><td>Jack Livingston</td><td>Steven King</td></tr>",
                            "<tr><td>Kimberely Grant</td><td>Steven King</td></tr>",
                            "<tr><td>Charles Johnson</td><td>Steven King</td></tr>",
                            "<tr><td>Den Raphaely</td><td>Steven King</td></tr>",
                            "<tr><td>Matthew Weiss</td><td>Steven King</td></tr>",
                            "<tr><td>Adam Fripp</td><td>Steven King</td></tr>",
                            "<tr><td>Payam Kaufling</td><td>Steven King</td></tr>",
                            "<tr><td>Shanta Vollman</td><td>Steven King</td></tr>",
                            "</table>"
                        ]
                    }
                }
            ],
            "execution_count": 11
        },
        {
            "cell_type": "code",
            "source": [
                "SELECT \r\n",
                "    CONCAT(e.first_name, ' ', e.last_name) AS employee, \r\n",
                "    CONCAT(m.first_name, ' ', m.last_name) AS manager\r\n",
                "FROM\r\n",
                "    employees e\r\n",
                "        LEFT JOIN -- NULL is present\r\n",
                "    employees m ON m.employee_id = e.manager_id\r\n",
                "ORDER BY manager;"
            ],
            "metadata": {
                "language": "sql",
                "azdata_cell_guid": "6395c629-5851-4880-9445-8539ae8ada83"
            },
            "outputs": [
                {
                    "output_type": "display_data",
                    "data": {
                        "text/html": "(40 rows affected)"
                    },
                    "metadata": {}
                },
                {
                    "output_type": "display_data",
                    "data": {
                        "text/html": "Total execution time: 00:00:00.012"
                    },
                    "metadata": {}
                },
                {
                    "output_type": "execute_result",
                    "metadata": {},
                    "execution_count": 12,
                    "data": {
                        "application/vnd.dataresource+json": {
                            "schema": {
                                "fields": [
                                    {
                                        "name": "employee"
                                    },
                                    {
                                        "name": "manager"
                                    }
                                ]
                            },
                            "data": [
                                {
                                    "0": "Steven King",
                                    "1": " "
                                },
                                {
                                    "0": "Bruce Ernst",
                                    "1": "Alexander Hunold"
                                },
                                {
                                    "0": "David Austin",
                                    "1": "Alexander Hunold"
                                },
                                {
                                    "0": "Valli Pataballa",
                                    "1": "Alexander Hunold"
                                },
                                {
                                    "0": "Diana Lorentz",
                                    "1": "Alexander Hunold"
                                },
                                {
                                    "0": "Alexander Khoo",
                                    "1": "Den Raphaely"
                                },
                                {
                                    "0": "Shelli Baida",
                                    "1": "Den Raphaely"
                                },
                                {
                                    "0": "Sigal Tobias",
                                    "1": "Den Raphaely"
                                },
                                {
                                    "0": "Guy Himuro",
                                    "1": "Den Raphaely"
                                },
                                {
                                    "0": "Karen Colmenares",
                                    "1": "Den Raphaely"
                                },
                                {
                                    "0": "Alexander Hunold",
                                    "1": "Lex De Haan"
                                },
                                {
                                    "0": "Irene Mikkilineni",
                                    "1": "Matthew Weiss"
                                },
                                {
                                    "0": "Pat Fay",
                                    "1": "Michael Hartstein"
                                },
                                {
                                    "0": "Daniel Faviet",
                                    "1": "Nancy Greenberg"
                                },
                                {
                                    "0": "John Chen",
                                    "1": "Nancy Greenberg"
                                },
                                {
                                    "0": "Ismael Sciarra",
                                    "1": "Nancy Greenberg"
                                },
                                {
                                    "0": "Jose Manuel Urman",
                                    "1": "Nancy Greenberg"
                                },
                                {
                                    "0": "Luis Popp",
                                    "1": "Nancy Greenberg"
                                },
                                {
                                    "0": "Nancy Greenberg",
                                    "1": "Neena Kochhar"
                                },
                                {
                                    "0": "Susan Mavris",
                                    "1": "Neena Kochhar"
                                },
                                {
                                    "0": "Hermann Baer",
                                    "1": "Neena Kochhar"
                                },
                                {
                                    "0": "Shelley Higgins",
                                    "1": "Neena Kochhar"
                                },
                                {
                                    "0": "Jennifer Whalen",
                                    "1": "Neena Kochhar"
                                },
                                {
                                    "0": "Sarah Bell",
                                    "1": "Shanta Vollman"
                                },
                                {
                                    "0": "Britney Everett",
                                    "1": "Shanta Vollman"
                                },
                                {
                                    "0": "William Gietz",
                                    "1": "Shelley Higgins"
                                },
                                {
                                    "0": "Michael Hartstein",
                                    "1": "Steven King"
                                },
                                {
                                    "0": "Neena Kochhar",
                                    "1": "Steven King"
                                },
                                {
                                    "0": "Lex De Haan",
                                    "1": "Steven King"
                                },
                                {
                                    "0": "John Russell",
                                    "1": "Steven King"
                                },
                                {
                                    "0": "Karen Partners",
                                    "1": "Steven King"
                                },
                                {
                                    "0": "Jonathon Taylor",
                                    "1": "Steven King"
                                },
                                {
                                    "0": "Jack Livingston",
                                    "1": "Steven King"
                                },
                                {
                                    "0": "Kimberely Grant",
                                    "1": "Steven King"
                                },
                                {
                                    "0": "Charles Johnson",
                                    "1": "Steven King"
                                },
                                {
                                    "0": "Den Raphaely",
                                    "1": "Steven King"
                                },
                                {
                                    "0": "Matthew Weiss",
                                    "1": "Steven King"
                                },
                                {
                                    "0": "Adam Fripp",
                                    "1": "Steven King"
                                },
                                {
                                    "0": "Payam Kaufling",
                                    "1": "Steven King"
                                },
                                {
                                    "0": "Shanta Vollman",
                                    "1": "Steven King"
                                }
                            ]
                        },
                        "text/html": [
                            "<table>",
                            "<tr><th>employee</th><th>manager</th></tr>",
                            "<tr><td>Steven King</td><td> </td></tr>",
                            "<tr><td>Bruce Ernst</td><td>Alexander Hunold</td></tr>",
                            "<tr><td>David Austin</td><td>Alexander Hunold</td></tr>",
                            "<tr><td>Valli Pataballa</td><td>Alexander Hunold</td></tr>",
                            "<tr><td>Diana Lorentz</td><td>Alexander Hunold</td></tr>",
                            "<tr><td>Alexander Khoo</td><td>Den Raphaely</td></tr>",
                            "<tr><td>Shelli Baida</td><td>Den Raphaely</td></tr>",
                            "<tr><td>Sigal Tobias</td><td>Den Raphaely</td></tr>",
                            "<tr><td>Guy Himuro</td><td>Den Raphaely</td></tr>",
                            "<tr><td>Karen Colmenares</td><td>Den Raphaely</td></tr>",
                            "<tr><td>Alexander Hunold</td><td>Lex De Haan</td></tr>",
                            "<tr><td>Irene Mikkilineni</td><td>Matthew Weiss</td></tr>",
                            "<tr><td>Pat Fay</td><td>Michael Hartstein</td></tr>",
                            "<tr><td>Daniel Faviet</td><td>Nancy Greenberg</td></tr>",
                            "<tr><td>John Chen</td><td>Nancy Greenberg</td></tr>",
                            "<tr><td>Ismael Sciarra</td><td>Nancy Greenberg</td></tr>",
                            "<tr><td>Jose Manuel Urman</td><td>Nancy Greenberg</td></tr>",
                            "<tr><td>Luis Popp</td><td>Nancy Greenberg</td></tr>",
                            "<tr><td>Nancy Greenberg</td><td>Neena Kochhar</td></tr>",
                            "<tr><td>Susan Mavris</td><td>Neena Kochhar</td></tr>",
                            "<tr><td>Hermann Baer</td><td>Neena Kochhar</td></tr>",
                            "<tr><td>Shelley Higgins</td><td>Neena Kochhar</td></tr>",
                            "<tr><td>Jennifer Whalen</td><td>Neena Kochhar</td></tr>",
                            "<tr><td>Sarah Bell</td><td>Shanta Vollman</td></tr>",
                            "<tr><td>Britney Everett</td><td>Shanta Vollman</td></tr>",
                            "<tr><td>William Gietz</td><td>Shelley Higgins</td></tr>",
                            "<tr><td>Michael Hartstein</td><td>Steven King</td></tr>",
                            "<tr><td>Neena Kochhar</td><td>Steven King</td></tr>",
                            "<tr><td>Lex De Haan</td><td>Steven King</td></tr>",
                            "<tr><td>John Russell</td><td>Steven King</td></tr>",
                            "<tr><td>Karen Partners</td><td>Steven King</td></tr>",
                            "<tr><td>Jonathon Taylor</td><td>Steven King</td></tr>",
                            "<tr><td>Jack Livingston</td><td>Steven King</td></tr>",
                            "<tr><td>Kimberely Grant</td><td>Steven King</td></tr>",
                            "<tr><td>Charles Johnson</td><td>Steven King</td></tr>",
                            "<tr><td>Den Raphaely</td><td>Steven King</td></tr>",
                            "<tr><td>Matthew Weiss</td><td>Steven King</td></tr>",
                            "<tr><td>Adam Fripp</td><td>Steven King</td></tr>",
                            "<tr><td>Payam Kaufling</td><td>Steven King</td></tr>",
                            "<tr><td>Shanta Vollman</td><td>Steven King</td></tr>",
                            "</table>"
                        ]
                    }
                }
            ],
            "execution_count": 12
        },
        {
            "cell_type": "markdown",
            "source": [
                "---"
            ],
            "metadata": {
                "language": "sql",
                "azdata_cell_guid": "c3de3b07-3839-4bf7-8d0f-4917e756d039"
            },
            "attachments": {}
        },
        {
            "cell_type": "markdown",
            "source": [
                "## FULL JOIN"
            ],
            "metadata": {
                "language": "sql",
                "azdata_cell_guid": "9ad5d6c4-39bd-4460-a662-a8d4ef570b0c"
            },
            "attachments": {}
        },
        {
            "cell_type": "markdown",
            "source": [
                "![SQL FULL OUTER JOIN](https://www.sqltutorial.org/wp-content/uploads/2016/07/SQL-FULL-OUTER-JOIN.png)"
            ],
            "metadata": {
                "language": "sql",
                "azdata_cell_guid": "a5995649-2bd4-4503-b749-33efc66bdb80"
            },
            "attachments": {}
        },
        {
            "cell_type": "markdown",
            "source": [
                "### EXTEND DB\r\n",
                ""
            ],
            "metadata": {
                "language": "sql",
                "azdata_cell_guid": "e300fe30-7e04-4c75-aa2b-548bbe8f873b"
            },
            "attachments": {}
        },
        {
            "cell_type": "code",
            "source": [
                "CREATE TABLE fruits (\r\n",
                "\tfruit_id INTEGER PRIMARY KEY,\r\n",
                "\tfruit_name VARCHAR (255) NOT NULL,\r\n",
                "\tbasket_id INTEGER\r\n",
                ");"
            ],
            "metadata": {
                "language": "sql",
                "azdata_cell_guid": "44c3a489-9143-4bdf-b4d7-c19388c57d68"
            },
            "outputs": [
                {
                    "output_type": "display_data",
                    "data": {
                        "text/html": "Commands completed successfully."
                    },
                    "metadata": {}
                },
                {
                    "output_type": "display_data",
                    "data": {
                        "text/html": "Total execution time: 00:00:00.006"
                    },
                    "metadata": {}
                }
            ],
            "execution_count": 13
        },
        {
            "cell_type": "code",
            "source": [
                "CREATE TABLE baskets (\r\n",
                "\tbasket_id INTEGER PRIMARY KEY,\r\n",
                "\tbasket_name VARCHAR (255) NOT NULL\r\n",
                ");"
            ],
            "metadata": {
                "language": "sql",
                "azdata_cell_guid": "57de16e4-c276-43db-aeec-037072ed5468"
            },
            "outputs": [
                {
                    "output_type": "display_data",
                    "data": {
                        "text/html": "Commands completed successfully."
                    },
                    "metadata": {}
                },
                {
                    "output_type": "display_data",
                    "data": {
                        "text/html": "Total execution time: 00:00:00.006"
                    },
                    "metadata": {}
                }
            ],
            "execution_count": 14
        },
        {
            "cell_type": "code",
            "source": [
                "INSERT INTO baskets (basket_id, basket_name)\r\n",
                "VALUES\r\n",
                "\t(1, 'A'),\r\n",
                "\t(2, 'B'),\r\n",
                "\t(3, 'C');\r\n",
                "\r\n",
                "INSERT INTO fruits (\r\n",
                "\tfruit_id,\r\n",
                "\tfruit_name,\r\n",
                "\tbasket_id\r\n",
                ")\r\n",
                "VALUES\r\n",
                "\t(1, 'Apple', 1),\r\n",
                "\t(2, 'Orange', 1),\r\n",
                "\t(3, 'Banana', 2),\r\n",
                "\t(4, 'Strawberry', NULL);"
            ],
            "metadata": {
                "language": "sql",
                "azdata_cell_guid": "1fc78268-4048-4f1b-a525-9c1e0a09ec71",
                "tags": []
            },
            "outputs": [
                {
                    "output_type": "display_data",
                    "data": {
                        "text/html": "(3 rows affected)"
                    },
                    "metadata": {}
                },
                {
                    "output_type": "display_data",
                    "data": {
                        "text/html": "(4 rows affected)"
                    },
                    "metadata": {}
                },
                {
                    "output_type": "display_data",
                    "data": {
                        "text/html": "Total execution time: 00:00:00.007"
                    },
                    "metadata": {}
                }
            ],
            "execution_count": 15
        },
        {
            "cell_type": "code",
            "source": [
                "SELECT\r\n",
                "\tbasket_name,\r\n",
                "\tfruit_name\r\n",
                "FROM\r\n",
                "\tfruits\r\n",
                "FULL OUTER JOIN baskets ON baskets.basket_id = fruits.basket_id;"
            ],
            "metadata": {
                "language": "sql",
                "azdata_cell_guid": "d00a1b21-b989-436c-9475-ad17abce8eb3"
            },
            "outputs": [
                {
                    "output_type": "display_data",
                    "data": {
                        "text/html": "(5 rows affected)"
                    },
                    "metadata": {}
                },
                {
                    "output_type": "display_data",
                    "data": {
                        "text/html": "Total execution time: 00:00:00.016"
                    },
                    "metadata": {}
                },
                {
                    "output_type": "execute_result",
                    "metadata": {},
                    "execution_count": 16,
                    "data": {
                        "application/vnd.dataresource+json": {
                            "schema": {
                                "fields": [
                                    {
                                        "name": "basket_name"
                                    },
                                    {
                                        "name": "fruit_name"
                                    }
                                ]
                            },
                            "data": [
                                {
                                    "0": "A",
                                    "1": "Apple"
                                },
                                {
                                    "0": "A",
                                    "1": "Orange"
                                },
                                {
                                    "0": "B",
                                    "1": "Banana"
                                },
                                {
                                    "0": "NULL",
                                    "1": "Strawberry"
                                },
                                {
                                    "0": "C",
                                    "1": "NULL"
                                }
                            ]
                        },
                        "text/html": [
                            "<table>",
                            "<tr><th>basket_name</th><th>fruit_name</th></tr>",
                            "<tr><td>A</td><td>Apple</td></tr>",
                            "<tr><td>A</td><td>Orange</td></tr>",
                            "<tr><td>B</td><td>Banana</td></tr>",
                            "<tr><td>NULL</td><td>Strawberry</td></tr>",
                            "<tr><td>C</td><td>NULL</td></tr>",
                            "</table>"
                        ]
                    }
                }
            ],
            "execution_count": 16
        },
        {
            "cell_type": "code",
            "source": [
                "-- where is no fruits\r\n",
                "SELECT\r\n",
                "\tbasket_name,\r\n",
                "\tfruit_name\r\n",
                "FROM\r\n",
                "\tfruits\r\n",
                "FULL OUTER JOIN baskets ON baskets.basket_id = fruits.basket_id\r\n",
                "WHERE\r\n",
                "\tfruit_name IS NULL;"
            ],
            "metadata": {
                "language": "sql",
                "azdata_cell_guid": "4a3745dd-deb7-45e1-9574-a6b154fd7410"
            },
            "outputs": [
                {
                    "output_type": "display_data",
                    "data": {
                        "text/html": "(1 row affected)"
                    },
                    "metadata": {}
                },
                {
                    "output_type": "display_data",
                    "data": {
                        "text/html": "Total execution time: 00:00:00.014"
                    },
                    "metadata": {}
                },
                {
                    "output_type": "execute_result",
                    "metadata": {},
                    "execution_count": 17,
                    "data": {
                        "application/vnd.dataresource+json": {
                            "schema": {
                                "fields": [
                                    {
                                        "name": "basket_name"
                                    },
                                    {
                                        "name": "fruit_name"
                                    }
                                ]
                            },
                            "data": [
                                {
                                    "0": "C",
                                    "1": "NULL"
                                }
                            ]
                        },
                        "text/html": [
                            "<table>",
                            "<tr><th>basket_name</th><th>fruit_name</th></tr>",
                            "<tr><td>C</td><td>NULL</td></tr>",
                            "</table>"
                        ]
                    }
                }
            ],
            "execution_count": 17
        },
        {
            "cell_type": "code",
            "source": [
                "-- what is out of basket\r\n",
                "SELECT\r\n",
                "\tbasket_name,\r\n",
                "\tfruit_name\r\n",
                "FROM\r\n",
                "\tfruits\r\n",
                "FULL OUTER JOIN baskets ON baskets.basket_id = fruits.basket_id\r\n",
                "WHERE\r\n",
                "\tbasket_name IS NULL;"
            ],
            "metadata": {
                "language": "sql",
                "azdata_cell_guid": "fab20354-5604-4456-9a44-2564a25669b9"
            },
            "outputs": [
                {
                    "output_type": "display_data",
                    "data": {
                        "text/html": "(1 row affected)"
                    },
                    "metadata": {}
                },
                {
                    "output_type": "display_data",
                    "data": {
                        "text/html": "Total execution time: 00:00:00.012"
                    },
                    "metadata": {}
                },
                {
                    "output_type": "execute_result",
                    "metadata": {},
                    "execution_count": 18,
                    "data": {
                        "application/vnd.dataresource+json": {
                            "schema": {
                                "fields": [
                                    {
                                        "name": "basket_name"
                                    },
                                    {
                                        "name": "fruit_name"
                                    }
                                ]
                            },
                            "data": [
                                {
                                    "0": "NULL",
                                    "1": "Strawberry"
                                }
                            ]
                        },
                        "text/html": [
                            "<table>",
                            "<tr><th>basket_name</th><th>fruit_name</th></tr>",
                            "<tr><td>NULL</td><td>Strawberry</td></tr>",
                            "</table>"
                        ]
                    }
                }
            ],
            "execution_count": 18
        },
        {
            "cell_type": "markdown",
            "source": [
                "---"
            ],
            "metadata": {
                "language": "sql",
                "azdata_cell_guid": "cb0a3ea6-51db-48ca-b04d-388f3c8e321f"
            },
            "attachments": {}
        },
        {
            "cell_type": "markdown",
            "source": [
                "## CROSS JOIN\n",
                "\n",
                "Знаходження комбінацій\n",
                "\n",
                "![SQL CROSS JOIN](https://www.sqltutorial.org/wp-content/uploads/2018/01/SQL-CROSS-JOIN.png)"
            ],
            "metadata": {
                "language": "sql",
                "azdata_cell_guid": "7f131dcf-6623-451b-ab58-95a3c8916bce"
            },
            "attachments": {}
        },
        {
            "cell_type": "markdown",
            "source": [
                "## INSERT DATA"
            ],
            "metadata": {
                "language": "sql",
                "azdata_cell_guid": "2004a8b9-b7fa-4ad5-9037-fd233d14d2ea"
            },
            "attachments": {}
        },
        {
            "cell_type": "code",
            "source": [
                "CREATE TABLE sales_organization (\r\n",
                "\tsales_org_id INT PRIMARY KEY,\r\n",
                "\tsales_org VARCHAR (255)\r\n",
                ");"
            ],
            "metadata": {
                "language": "sql",
                "azdata_cell_guid": "10fae55f-9563-4487-9e23-6528dd86bec3"
            },
            "outputs": [
                {
                    "output_type": "display_data",
                    "data": {
                        "text/html": "Commands completed successfully."
                    },
                    "metadata": {}
                },
                {
                    "output_type": "display_data",
                    "data": {
                        "text/html": "Total execution time: 00:00:00.082"
                    },
                    "metadata": {}
                }
            ],
            "execution_count": 19
        },
        {
            "cell_type": "code",
            "source": [
                "CREATE TABLE sales_channel (\r\n",
                "\tchannel_id INT PRIMARY KEY,\r\n",
                "\tchannel VARCHAR (255)\r\n",
                ");"
            ],
            "metadata": {
                "language": "sql",
                "azdata_cell_guid": "23eb0fc2-343c-4a4d-8230-f9e2e63fbb45"
            },
            "outputs": [
                {
                    "output_type": "display_data",
                    "data": {
                        "text/html": "Commands completed successfully."
                    },
                    "metadata": {}
                },
                {
                    "output_type": "display_data",
                    "data": {
                        "text/html": "Total execution time: 00:00:00.004"
                    },
                    "metadata": {}
                }
            ],
            "execution_count": 20
        },
        {
            "cell_type": "code",
            "source": [
                "INSERT INTO sales_organization (sales_org_id, sales_org)\r\n",
                "VALUES\r\n",
                "\t(1, 'Domestic'),\r\n",
                "\t(2, 'Export');\r\n",
                "\r\n",
                "INSERT INTO sales_channel (channel_id, channel)\r\n",
                "VALUES\r\n",
                "\t(1, 'Wholesale'),\r\n",
                "\t(2, 'Retail'),\r\n",
                "\t(3, 'eCommerce'),\r\n",
                "\t(4, 'TV Shopping');"
            ],
            "metadata": {
                "language": "sql",
                "azdata_cell_guid": "27eeea4e-523d-468c-8176-cca393f042cf"
            },
            "outputs": [
                {
                    "output_type": "display_data",
                    "data": {
                        "text/html": "(2 rows affected)"
                    },
                    "metadata": {}
                },
                {
                    "output_type": "display_data",
                    "data": {
                        "text/html": "(4 rows affected)"
                    },
                    "metadata": {}
                },
                {
                    "output_type": "display_data",
                    "data": {
                        "text/html": "Total execution time: 00:00:00.007"
                    },
                    "metadata": {}
                }
            ],
            "execution_count": 21
        },
        {
            "cell_type": "code",
            "source": [
                "SELECT\r\n",
                "\tsales_org,\r\n",
                "\tchannel\r\n",
                "FROM\r\n",
                "\tsales_organization\r\n",
                "CROSS JOIN sales_channel; "
            ],
            "metadata": {
                "language": "sql",
                "azdata_cell_guid": "992fa8e1-df6b-4b3b-bfde-ca69423b245d"
            },
            "outputs": [
                {
                    "output_type": "display_data",
                    "data": {
                        "text/html": "(8 rows affected)"
                    },
                    "metadata": {}
                },
                {
                    "output_type": "display_data",
                    "data": {
                        "text/html": "Total execution time: 00:00:00.009"
                    },
                    "metadata": {}
                },
                {
                    "output_type": "execute_result",
                    "metadata": {},
                    "execution_count": 22,
                    "data": {
                        "application/vnd.dataresource+json": {
                            "schema": {
                                "fields": [
                                    {
                                        "name": "sales_org"
                                    },
                                    {
                                        "name": "channel"
                                    }
                                ]
                            },
                            "data": [
                                {
                                    "0": "Domestic",
                                    "1": "Wholesale"
                                },
                                {
                                    "0": "Domestic",
                                    "1": "Retail"
                                },
                                {
                                    "0": "Domestic",
                                    "1": "eCommerce"
                                },
                                {
                                    "0": "Domestic",
                                    "1": "TV Shopping"
                                },
                                {
                                    "0": "Export",
                                    "1": "Wholesale"
                                },
                                {
                                    "0": "Export",
                                    "1": "Retail"
                                },
                                {
                                    "0": "Export",
                                    "1": "eCommerce"
                                },
                                {
                                    "0": "Export",
                                    "1": "TV Shopping"
                                }
                            ]
                        },
                        "text/html": [
                            "<table>",
                            "<tr><th>sales_org</th><th>channel</th></tr>",
                            "<tr><td>Domestic</td><td>Wholesale</td></tr>",
                            "<tr><td>Domestic</td><td>Retail</td></tr>",
                            "<tr><td>Domestic</td><td>eCommerce</td></tr>",
                            "<tr><td>Domestic</td><td>TV Shopping</td></tr>",
                            "<tr><td>Export</td><td>Wholesale</td></tr>",
                            "<tr><td>Export</td><td>Retail</td></tr>",
                            "<tr><td>Export</td><td>eCommerce</td></tr>",
                            "<tr><td>Export</td><td>TV Shopping</td></tr>",
                            "</table>"
                        ]
                    }
                }
            ],
            "execution_count": 22
        },
        {
            "cell_type": "code",
            "source": [
                "SELECT\r\n",
                "\tsales_org,\r\n",
                "\tchannel\r\n",
                "FROM\r\n",
                "\tsales_organization,\r\n",
                "\tsales_channel;"
            ],
            "metadata": {
                "language": "sql",
                "azdata_cell_guid": "eb512ee1-8e01-4f9d-a399-daf8fb93c342"
            },
            "outputs": [
                {
                    "output_type": "display_data",
                    "data": {
                        "text/html": "(8 rows affected)"
                    },
                    "metadata": {}
                },
                {
                    "output_type": "display_data",
                    "data": {
                        "text/html": "Total execution time: 00:00:00.003"
                    },
                    "metadata": {}
                },
                {
                    "output_type": "execute_result",
                    "metadata": {},
                    "execution_count": 23,
                    "data": {
                        "application/vnd.dataresource+json": {
                            "schema": {
                                "fields": [
                                    {
                                        "name": "sales_org"
                                    },
                                    {
                                        "name": "channel"
                                    }
                                ]
                            },
                            "data": [
                                {
                                    "0": "Domestic",
                                    "1": "Wholesale"
                                },
                                {
                                    "0": "Domestic",
                                    "1": "Retail"
                                },
                                {
                                    "0": "Domestic",
                                    "1": "eCommerce"
                                },
                                {
                                    "0": "Domestic",
                                    "1": "TV Shopping"
                                },
                                {
                                    "0": "Export",
                                    "1": "Wholesale"
                                },
                                {
                                    "0": "Export",
                                    "1": "Retail"
                                },
                                {
                                    "0": "Export",
                                    "1": "eCommerce"
                                },
                                {
                                    "0": "Export",
                                    "1": "TV Shopping"
                                }
                            ]
                        },
                        "text/html": [
                            "<table>",
                            "<tr><th>sales_org</th><th>channel</th></tr>",
                            "<tr><td>Domestic</td><td>Wholesale</td></tr>",
                            "<tr><td>Domestic</td><td>Retail</td></tr>",
                            "<tr><td>Domestic</td><td>eCommerce</td></tr>",
                            "<tr><td>Domestic</td><td>TV Shopping</td></tr>",
                            "<tr><td>Export</td><td>Wholesale</td></tr>",
                            "<tr><td>Export</td><td>Retail</td></tr>",
                            "<tr><td>Export</td><td>eCommerce</td></tr>",
                            "<tr><td>Export</td><td>TV Shopping</td></tr>",
                            "</table>"
                        ]
                    }
                }
            ],
            "execution_count": 23
        },
        {
            "cell_type": "code",
            "source": [
                "SELECT\r\n",
                "\tsales_org,\r\n",
                "\tchannel\r\n",
                "FROM\r\n",
                "\tsales_organization\r\n",
                "INNER JOIN sales_channel ON 1 = 1;"
            ],
            "metadata": {
                "language": "sql",
                "azdata_cell_guid": "79337341-aa5c-40c1-9b25-5643611124a1",
                "tags": []
            },
            "outputs": [
                {
                    "output_type": "display_data",
                    "data": {
                        "text/html": "(8 rows affected)"
                    },
                    "metadata": {}
                },
                {
                    "output_type": "display_data",
                    "data": {
                        "text/html": "Total execution time: 00:00:00.003"
                    },
                    "metadata": {}
                },
                {
                    "output_type": "execute_result",
                    "metadata": {},
                    "execution_count": 26,
                    "data": {
                        "application/vnd.dataresource+json": {
                            "schema": {
                                "fields": [
                                    {
                                        "name": "sales_org"
                                    },
                                    {
                                        "name": "channel"
                                    }
                                ]
                            },
                            "data": [
                                {
                                    "0": "Domestic",
                                    "1": "Wholesale"
                                },
                                {
                                    "0": "Domestic",
                                    "1": "Retail"
                                },
                                {
                                    "0": "Domestic",
                                    "1": "eCommerce"
                                },
                                {
                                    "0": "Domestic",
                                    "1": "TV Shopping"
                                },
                                {
                                    "0": "Export",
                                    "1": "Wholesale"
                                },
                                {
                                    "0": "Export",
                                    "1": "Retail"
                                },
                                {
                                    "0": "Export",
                                    "1": "eCommerce"
                                },
                                {
                                    "0": "Export",
                                    "1": "TV Shopping"
                                }
                            ]
                        },
                        "text/html": [
                            "<table>",
                            "<tr><th>sales_org</th><th>channel</th></tr>",
                            "<tr><td>Domestic</td><td>Wholesale</td></tr>",
                            "<tr><td>Domestic</td><td>Retail</td></tr>",
                            "<tr><td>Domestic</td><td>eCommerce</td></tr>",
                            "<tr><td>Domestic</td><td>TV Shopping</td></tr>",
                            "<tr><td>Export</td><td>Wholesale</td></tr>",
                            "<tr><td>Export</td><td>Retail</td></tr>",
                            "<tr><td>Export</td><td>eCommerce</td></tr>",
                            "<tr><td>Export</td><td>TV Shopping</td></tr>",
                            "</table>"
                        ]
                    }
                }
            ],
            "execution_count": 26
        }
    ]
}