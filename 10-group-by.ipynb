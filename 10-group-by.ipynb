{
    "metadata": {
        "kernelspec": {
            "name": "SQL",
            "display_name": "SQL",
            "language": "sql"
        },
        "language_info": {
            "name": "sql",
            "version": ""
        }
    },
    "nbformat_minor": 2,
    "nbformat": 4,
    "cells": [
        {
            "cell_type": "markdown",
            "source": [
                "# GROUP BY"
            ],
            "metadata": {
                "azdata_cell_guid": "312b1e03-a2f3-463e-ad55-e3297fd6144f"
            },
            "attachments": {}
        },
        {
            "cell_type": "markdown",
            "source": [
                "Синтаксис запису\n",
                "\n",
                "```\n",
                "SELECT\n",
                "    column1,\n",
                "    column2,\n",
                "    aggregate_function(column3)\n",
                "FROM\n",
                "    table_name\n",
                "GROUP BY\n",
                "    column1,\n",
                "    column2;\n",
                "\n",
                "```\n",
                "\n",
                "```\n",
                "SELECT \n",
                "    fruit\n",
                "FROM \n",
                "    sample_table\n",
                "GROUP BY \n",
                "    fruit;\n",
                "```\n",
                "\n",
                "![](data:image/png;base64,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)  \n",
                "\n",
                "```\n",
                "SELECT \n",
                "   fruit, COUNT(id) \n",
                "FROM\n",
                "   sample_table\n",
                "GROUP BY \n",
                "   fruit;\n",
                "```\n",
                "\n",
                "![](data:image/png;base64,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)"
            ],
            "metadata": {
                "azdata_cell_guid": "7355b286-c117-4a33-8f5d-c9b48b7d75a3"
            },
            "attachments": {}
        },
        {
            "cell_type": "markdown",
            "source": [
                "Порахуємо кількість працівників у віддалх компанії\n",
                "\n",
                "![emp_dept_tables](https://www.sqltutorial.org/wp-content/uploads/2016/03/emp_dept_tables.png)"
            ],
            "metadata": {
                "azdata_cell_guid": "d22a6ddf-383d-4e5a-a1e8-bcebfe31b7b1"
            },
            "attachments": {}
        },
        {
            "cell_type": "code",
            "source": [
                "use hr_db"
            ],
            "metadata": {
                "azdata_cell_guid": "abfe2280-5be5-4cd8-89f8-7e968e2620a4",
                "language": "sql"
            },
            "outputs": [
                {
                    "output_type": "display_data",
                    "data": {
                        "text/html": "Commands completed successfully."
                    },
                    "metadata": {}
                },
                {
                    "output_type": "display_data",
                    "data": {
                        "text/html": "Total execution time: 00:00:00"
                    },
                    "metadata": {}
                }
            ],
            "execution_count": 1
        },
        {
            "cell_type": "code",
            "source": [
                "SELECT\r\n",
                "\tdepartment_id,\r\n",
                "\tCOUNT(employee_id) headcount\r\n",
                "FROM\r\n",
                "\temployees\r\n",
                "GROUP BY\r\n",
                "\tdepartment_id;"
            ],
            "metadata": {
                "azdata_cell_guid": "a96aad52-9c2b-4b81-a46b-c92fd4183db1",
                "language": "sql"
            },
            "outputs": [
                {
                    "output_type": "display_data",
                    "data": {
                        "text/html": "(11 rows affected)"
                    },
                    "metadata": {}
                },
                {
                    "output_type": "display_data",
                    "data": {
                        "text/html": "Total execution time: 00:00:00.008"
                    },
                    "metadata": {}
                },
                {
                    "output_type": "execute_result",
                    "metadata": {},
                    "execution_count": 2,
                    "data": {
                        "application/vnd.dataresource+json": {
                            "schema": {
                                "fields": [
                                    {
                                        "name": "department_id"
                                    },
                                    {
                                        "name": "headcount"
                                    }
                                ]
                            },
                            "data": [
                                {
                                    "0": "1",
                                    "1": "1"
                                },
                                {
                                    "0": "2",
                                    "1": "2"
                                },
                                {
                                    "0": "3",
                                    "1": "6"
                                },
                                {
                                    "0": "4",
                                    "1": "1"
                                },
                                {
                                    "0": "5",
                                    "1": "7"
                                },
                                {
                                    "0": "6",
                                    "1": "5"
                                },
                                {
                                    "0": "7",
                                    "1": "1"
                                },
                                {
                                    "0": "8",
                                    "1": "6"
                                },
                                {
                                    "0": "9",
                                    "1": "3"
                                },
                                {
                                    "0": "10",
                                    "1": "6"
                                },
                                {
                                    "0": "11",
                                    "1": "2"
                                }
                            ]
                        },
                        "text/html": [
                            "<table>",
                            "<tr><th>department_id</th><th>headcount</th></tr>",
                            "<tr><td>1</td><td>1</td></tr>",
                            "<tr><td>2</td><td>2</td></tr>",
                            "<tr><td>3</td><td>6</td></tr>",
                            "<tr><td>4</td><td>1</td></tr>",
                            "<tr><td>5</td><td>7</td></tr>",
                            "<tr><td>6</td><td>5</td></tr>",
                            "<tr><td>7</td><td>1</td></tr>",
                            "<tr><td>8</td><td>6</td></tr>",
                            "<tr><td>9</td><td>3</td></tr>",
                            "<tr><td>10</td><td>6</td></tr>",
                            "<tr><td>11</td><td>2</td></tr>",
                            "</table>"
                        ]
                    }
                }
            ],
            "execution_count": 2
        },
        {
            "cell_type": "code",
            "source": [
                "-- with inner join\r\n",
                "SELECT\r\n",
                "\tdepartment_name,\r\n",
                "\tCOUNT(employee_id) headcount\r\n",
                "FROM\r\n",
                "\temployees e\r\n",
                "INNER JOIN departments d ON d.department_id = e.department_id\r\n",
                "GROUP BY\r\n",
                "        department_name;"
            ],
            "metadata": {
                "language": "sql",
                "azdata_cell_guid": "83fe8e8a-0165-4682-a84c-9f913ad965a9"
            },
            "outputs": [
                {
                    "output_type": "display_data",
                    "data": {
                        "text/html": "(11 rows affected)"
                    },
                    "metadata": {}
                },
                {
                    "output_type": "display_data",
                    "data": {
                        "text/html": "Total execution time: 00:00:00.016"
                    },
                    "metadata": {}
                },
                {
                    "output_type": "execute_result",
                    "metadata": {},
                    "execution_count": 3,
                    "data": {
                        "application/vnd.dataresource+json": {
                            "schema": {
                                "fields": [
                                    {
                                        "name": "department_name"
                                    },
                                    {
                                        "name": "headcount"
                                    }
                                ]
                            },
                            "data": [
                                {
                                    "0": "Accounting",
                                    "1": "2"
                                },
                                {
                                    "0": "Administration",
                                    "1": "1"
                                },
                                {
                                    "0": "Executive",
                                    "1": "3"
                                },
                                {
                                    "0": "Finance",
                                    "1": "6"
                                },
                                {
                                    "0": "Human Resources",
                                    "1": "1"
                                },
                                {
                                    "0": "IT",
                                    "1": "5"
                                },
                                {
                                    "0": "Marketing",
                                    "1": "2"
                                },
                                {
                                    "0": "Public Relations",
                                    "1": "1"
                                },
                                {
                                    "0": "Purchasing",
                                    "1": "6"
                                },
                                {
                                    "0": "Sales",
                                    "1": "6"
                                },
                                {
                                    "0": "Shipping",
                                    "1": "7"
                                }
                            ]
                        },
                        "text/html": [
                            "<table>",
                            "<tr><th>department_name</th><th>headcount</th></tr>",
                            "<tr><td>Accounting</td><td>2</td></tr>",
                            "<tr><td>Administration</td><td>1</td></tr>",
                            "<tr><td>Executive</td><td>3</td></tr>",
                            "<tr><td>Finance</td><td>6</td></tr>",
                            "<tr><td>Human Resources</td><td>1</td></tr>",
                            "<tr><td>IT</td><td>5</td></tr>",
                            "<tr><td>Marketing</td><td>2</td></tr>",
                            "<tr><td>Public Relations</td><td>1</td></tr>",
                            "<tr><td>Purchasing</td><td>6</td></tr>",
                            "<tr><td>Sales</td><td>6</td></tr>",
                            "<tr><td>Shipping</td><td>7</td></tr>",
                            "</table>"
                        ]
                    }
                }
            ],
            "execution_count": 3
        },
        {
            "cell_type": "code",
            "source": [
                "-- with ORDER BY\r\n",
                "SELECT \r\n",
                "    department_name,\r\n",
                "    COUNT(employee_id) headcount\r\n",
                "FROM\r\n",
                "    employees e\r\n",
                "        INNER JOIN\r\n",
                "    departments d ON d.department_id = e.department_id\r\n",
                "GROUP BY department_name\r\n",
                "ORDER BY headcount DESC;"
            ],
            "metadata": {
                "language": "sql",
                "azdata_cell_guid": "b04f7fd1-a083-4417-9e91-ae614d123324"
            },
            "outputs": [
                {
                    "output_type": "display_data",
                    "data": {
                        "text/html": "(11 rows affected)"
                    },
                    "metadata": {}
                },
                {
                    "output_type": "display_data",
                    "data": {
                        "text/html": "Total execution time: 00:00:00.012"
                    },
                    "metadata": {}
                },
                {
                    "output_type": "execute_result",
                    "metadata": {},
                    "execution_count": 4,
                    "data": {
                        "application/vnd.dataresource+json": {
                            "schema": {
                                "fields": [
                                    {
                                        "name": "department_name"
                                    },
                                    {
                                        "name": "headcount"
                                    }
                                ]
                            },
                            "data": [
                                {
                                    "0": "Shipping",
                                    "1": "7"
                                },
                                {
                                    "0": "Finance",
                                    "1": "6"
                                },
                                {
                                    "0": "Purchasing",
                                    "1": "6"
                                },
                                {
                                    "0": "Sales",
                                    "1": "6"
                                },
                                {
                                    "0": "IT",
                                    "1": "5"
                                },
                                {
                                    "0": "Executive",
                                    "1": "3"
                                },
                                {
                                    "0": "Marketing",
                                    "1": "2"
                                },
                                {
                                    "0": "Accounting",
                                    "1": "2"
                                },
                                {
                                    "0": "Administration",
                                    "1": "1"
                                },
                                {
                                    "0": "Human Resources",
                                    "1": "1"
                                },
                                {
                                    "0": "Public Relations",
                                    "1": "1"
                                }
                            ]
                        },
                        "text/html": [
                            "<table>",
                            "<tr><th>department_name</th><th>headcount</th></tr>",
                            "<tr><td>Shipping</td><td>7</td></tr>",
                            "<tr><td>Finance</td><td>6</td></tr>",
                            "<tr><td>Purchasing</td><td>6</td></tr>",
                            "<tr><td>Sales</td><td>6</td></tr>",
                            "<tr><td>IT</td><td>5</td></tr>",
                            "<tr><td>Executive</td><td>3</td></tr>",
                            "<tr><td>Marketing</td><td>2</td></tr>",
                            "<tr><td>Accounting</td><td>2</td></tr>",
                            "<tr><td>Administration</td><td>1</td></tr>",
                            "<tr><td>Human Resources</td><td>1</td></tr>",
                            "<tr><td>Public Relations</td><td>1</td></tr>",
                            "</table>"
                        ]
                    }
                }
            ],
            "execution_count": 4
        },
        {
            "cell_type": "code",
            "source": [
                "-- only 5+ eploees\r\n",
                "SELECT \r\n",
                "    department_name,\r\n",
                "    COUNT(employee_id) as 'headcount'\r\n",
                "FROM\r\n",
                "    employees e\r\n",
                "        INNER JOIN\r\n",
                "    departments d ON d.department_id = e.department_id\r\n",
                "GROUP BY department_name\r\n",
                "HAVING COUNT(employee_id) > 5\r\n",
                "ORDER BY headcount DESC\r\n",
                ""
            ],
            "metadata": {
                "language": "sql",
                "azdata_cell_guid": "23bb8298-8413-4828-bfc3-8cd61718dfcd"
            },
            "outputs": [
                {
                    "output_type": "display_data",
                    "data": {
                        "text/html": "(4 rows affected)"
                    },
                    "metadata": {}
                },
                {
                    "output_type": "display_data",
                    "data": {
                        "text/html": "Total execution time: 00:00:00.015"
                    },
                    "metadata": {}
                },
                {
                    "output_type": "execute_result",
                    "metadata": {},
                    "execution_count": 8,
                    "data": {
                        "application/vnd.dataresource+json": {
                            "schema": {
                                "fields": [
                                    {
                                        "name": "department_name"
                                    },
                                    {
                                        "name": "headcount"
                                    }
                                ]
                            },
                            "data": [
                                {
                                    "0": "Shipping",
                                    "1": "7"
                                },
                                {
                                    "0": "Finance",
                                    "1": "6"
                                },
                                {
                                    "0": "Purchasing",
                                    "1": "6"
                                },
                                {
                                    "0": "Sales",
                                    "1": "6"
                                }
                            ]
                        },
                        "text/html": [
                            "<table>",
                            "<tr><th>department_name</th><th>headcount</th></tr>",
                            "<tr><td>Shipping</td><td>7</td></tr>",
                            "<tr><td>Finance</td><td>6</td></tr>",
                            "<tr><td>Purchasing</td><td>6</td></tr>",
                            "<tr><td>Sales</td><td>6</td></tr>",
                            "</table>"
                        ]
                    }
                }
            ],
            "execution_count": 8
        },
        {
            "cell_type": "code",
            "source": [
                "-- min, max and average salary per department\r\n",
                "SELECT \r\n",
                "    department_name,\r\n",
                "    MIN(salary) min_salary,\r\n",
                "    MAX(salary) max_salary,\r\n",
                "    ROUND(AVG(salary), 2) average_salary\r\n",
                "FROM\r\n",
                "    employees e\r\n",
                "        INNER JOIN\r\n",
                "    departments d ON d.department_id = e.department_id\r\n",
                "GROUP BY \r\n",
                "    department_name;"
            ],
            "metadata": {
                "language": "sql",
                "azdata_cell_guid": "1416c683-2fd6-4476-a71c-152b46563d2b"
            },
            "outputs": [
{
    "output_type": "display_data",
    "data": {
        "text/html": "(11 rows affected)"
    },
    "metadata": {}
}, {
    "output_type": "display_data",
    "data": {
        "text/html": "Total execution time: 00:00:00.020"
    },
    "metadata": {}
}, {
    "output_type": "execute_result",
    "metadata": {},
    "execution_count": 9,
    "data": {
        "application/vnd.dataresource+json": {
            "schema": {
                "fields": [
                    {
                        "name": "department_name"
                    },
                    {
                        "name": "min_salary"
                    },
                    {
                        "name": "max_salary"
                    },
                    {
                        "name": "average_salary"
                    }
                ]
            },
            "data": [
                {
                    "0": "Accounting",
                    "1": "8300.00",
                    "2": "12000.00",
                    "3": "10150.000000"
                },
                {
                    "0": "Administration",
                    "1": "4400.00",
                    "2": "4400.00",
                    "3": "4400.000000"
                },
                {
                    "0": "Executive",
                    "1": "17000.00",
                    "2": "24000.00",
                    "3": "19333.330000"
                },
                {
                    "0": "Finance",
                    "1": "6900.00",
                    "2": "12000.00",
                    "3": "8600.000000"
                },
                {
                    "0": "Human Resources",
                    "1": "6500.00",
                    "2": "6500.00",
                    "3": "6500.000000"
                },
                {
                    "0": "IT",
                    "1": "4200.00",
                    "2": "9000.00",
                    "3": "5760.000000"
                },
                {
                    "0": "Marketing",
                    "1": "6000.00",
                    "2": "13000.00",
                    "3": "9500.000000"
                },
                {
                    "0": "Public Relations",
                    "1": "10000.00",
                    "2": "10000.00",
                    "3": "10000.000000"
                },
                {
                    "0": "Purchasing",
                    "1": "2500.00",
                    "2": "11000.00",
                    "3": "4150.000000"
                },
                {
                    "0": "Sales",
                    "1": "6200.00",
                    "2": "14000.00",
                    "3": "9616.670000"
                },
                {
                    "0": "Shipping",
                    "1": "2700.00",
                    "2": "8200.00",
                    "3": "5885.710000"
                }
            ]
        },
        "text/html": [
            "<table>",
            "<tr><th>department_name</th><th>min_salary</th><th>max_salary</th><th>average_salary</th></tr>",
            "<tr><td>Accounting</td><td>8300.00</td><td>12000.00</td><td>10150.000000</td></tr>",
            "<tr><td>Administration</td><td>4400.00</td><td>4400.00</td><td>4400.000000</td></tr>",
            "<tr><td>Executive</td><td>17000.00</td><td>24000.00</td><td>19333.330000</td></tr>",
            "<tr><td>Finance</td><td>6900.00</td><td>12000.00</td><td>8600.000000</td></tr>",
            "<tr><td>Human Resources</td><td>6500.00</td><td>6500.00</td><td>6500.000000</td></tr>",
            "<tr><td>IT</td><td>4200.00</td><td>9000.00</td><td>5760.000000</td></tr>",
            "<tr><td>Marketing</td><td>6000.00</td><td>13000.00</td><td>9500.000000</td></tr>",
            "<tr><td>Public Relations</td><td>10000.00</td><td>10000.00</td><td>10000.000000</td></tr>",
            "<tr><td>Purchasing</td><td>2500.00</td><td>11000.00</td><td>4150.000000</td></tr>",
            "<tr><td>Sales</td><td>6200.00</td><td>14000.00</td><td>9616.670000</td></tr>",
            "<tr><td>Shipping</td><td>2700.00</td><td>8200.00</td><td>5885.710000</td></tr>",
            "</table>"
        ]
    }
}
],
            "execution_count": 9
        }
    ]
}