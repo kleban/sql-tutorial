{
    "metadata": {
        "kernelspec": {
            "name": "SQL",
            "display_name": "SQL",
            "language": "sql"
        },
        "language_info": {
            "name": "sql",
            "version": ""
        }
    },
    "nbformat_minor": 2,
    "nbformat": 4,
    "cells": [
        {
            "cell_type": "markdown",
            "source": [
                "# 1\\. Опис бази даних"
            ],
            "metadata": {
                "azdata_cell_guid": "5c7f5aaa-65f8-4c12-987b-dcb7bcc1e8fe"
            },
            "attachments": {}
        },
        {
            "cell_type": "markdown",
            "source": [
                "База даних для прикладів є імітацією інформацію роботи HR-відділу у деякій невеликій компанії.\n",
                "\n",
                "Діграма бази даних має вигляд:\n",
                "\n",
                "![HR Sample Database - Dowload](https://ramkedem.com/wp-content/uploads/2018/10/hr_schema.gif)\n",
                "\n",
                "Джерело тут: [https://ramkedem.com/en/hr-sample-database/](https:\\ramkedem.com\\en\\hr-sample-database\\)"
            ],
            "metadata": {
                "azdata_cell_guid": "ad3e68aa-9b2d-46fd-a3b6-a9763876df1d",
                "language": ""
            },
            "attachments": {}
        },
        {
            "cell_type": "markdown",
            "source": [
                "|Таблиця|Опис|Кількість записів|\n",
                "|---|---|---|\n",
                "|employees|інформація про працівника|40|\n",
                "|dependents|інформація про родичів працівника|30|\n",
                "|departments|інформація про відділи|11|\n",
                "|jobs|інформація про вид роботи та діапазон заробітних плат|11|\n",
                "|locations|місце знаходження відділу|7|\n",
                "|countries|країни, в яких компанія здійснює діяльність|25|\n",
                "|regions|групуюча ознака для країн: Asia, Europe, America, Middle East, Africa|7|"
            ],
            "metadata": {
                "azdata_cell_guid": "903d5195-816b-4345-8835-2806d6e9e3b2"
            },
            "attachments": {}
        }
    ]
}