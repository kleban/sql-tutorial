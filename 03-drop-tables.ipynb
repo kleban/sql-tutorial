{
    "metadata": {
        "kernelspec": {
            "name": "SQL",
            "display_name": "SQL",
            "language": "sql"
        },
        "language_info": {
            "name": "sql",
            "version": ""
        }
    },
    "nbformat_minor": 2,
    "nbformat": 4,
    "cells": [
        {
            "cell_type": "markdown",
            "source": [
                "# Drop tables"
            ],
            "metadata": {
                "language": "sql",
                "azdata_cell_guid": "cc628c26-7db2-446b-a676-4c0b8585a6f2"
            },
            "attachments": {}
        },
        {
            "cell_type": "code",
            "source": [
                "use hr_db"
            ],
            "metadata": {
                "language": "sql",
                "azdata_cell_guid": "42cb3bf2-3c64-4da6-bb0d-e1f98638386d"
            },
            "outputs": [],
            "execution_count": 1
        },
        {
            "cell_type": "code",
            "source": [
                "DROP TABLE employees;\r\n",
                "DROP TABLE dependents;\r\n",
                "DROP TABLE departments;\r\n",
                "DROP TABLE locations;\r\n",
                "DROP TABLE countries;\r\n",
                "DROP TABLE regions;\r\n",
                "DROP TABLE jobs;"
            ],
            "metadata": {
                "azdata_cell_guid": "7163ba32-35f8-4aa8-8ce2-09daea115b60",
                "language": "sql"
            },
            "outputs": [],
            "execution_count": 2
        }
    ]
}