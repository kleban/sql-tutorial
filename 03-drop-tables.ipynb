{
    "metadata": {
        "kernelspec": {
            "name": "SQL",
            "display_name": "SQL",
            "language": "sql"
        },
        "language_info": {
            "name": "sql",
            "version": ""
        }
    },
    "nbformat_minor": 2,
    "nbformat": 4,
    "cells": [
        {
            "cell_type": "markdown",
            "source": [
                "# Drop tables"
            ],
            "metadata": {
                "language": "sql",
                "azdata_cell_guid": "cc628c26-7db2-446b-a676-4c0b8585a6f2"
            },
            "attachments": {}
        },
        {
            "cell_type": "code",
            "source": [
                "use hr_db"
            ],
            "metadata": {
                "language": "sql",
                "azdata_cell_guid": "42cb3bf2-3c64-4da6-bb0d-e1f98638386d"
            },
            "outputs": [
                {
                    "output_type": "display_data",
                    "data": {
                        "text/html": "Commands completed successfully."
                    },
                    "metadata": {}
                },
                {
                    "output_type": "display_data",
                    "data": {
                        "text/html": "Total execution time: 00:00:00"
                    },
                    "metadata": {}
                }
            ],
            "execution_count": 1
        },
        {
            "cell_type": "code",
            "source": [
                "DROP TABLE employees;\r\n",
                "DROP TABLE dependents;\r\n",
                "DROP TABLE departments;\r\n",
                "DROP TABLE locations;\r\n",
                "DROP TABLE countries;\r\n",
                "DROP TABLE regions;\r\n",
                "DROP TABLE jobs;"
            ],
            "metadata": {
                "azdata_cell_guid": "7163ba32-35f8-4aa8-8ce2-09daea115b60",
                "language": "sql"
            },
            "outputs": [
                {
                    "output_type": "error",
                    "ename": "",
                    "evalue": "Msg 3726, Level 16, State 1, Line 1\r\nCould not drop object 'employees' because it is referenced by a FOREIGN KEY constraint.",
                    "traceback": []
                },
                {
                    "output_type": "error",
                    "ename": "",
                    "evalue": "Msg 3726, Level 16, State 1, Line 3\r\nCould not drop object 'departments' because it is referenced by a FOREIGN KEY constraint.",
                    "traceback": []
                },
                {
                    "output_type": "error",
                    "ename": "",
                    "evalue": "Msg 3726, Level 16, State 1, Line 4\r\nCould not drop object 'locations' because it is referenced by a FOREIGN KEY constraint.",
                    "traceback": []
                },
                {
                    "output_type": "error",
                    "ename": "",
                    "evalue": "Msg 3726, Level 16, State 1, Line 5\r\nCould not drop object 'countries' because it is referenced by a FOREIGN KEY constraint.",
                    "traceback": []
                },
                {
                    "output_type": "error",
                    "ename": "",
                    "evalue": "Msg 3726, Level 16, State 1, Line 6\r\nCould not drop object 'regions' because it is referenced by a FOREIGN KEY constraint.",
                    "traceback": []
                },
                {
                    "output_type": "error",
                    "ename": "",
                    "evalue": "Msg 3726, Level 16, State 1, Line 7\r\nCould not drop object 'jobs' because it is referenced by a FOREIGN KEY constraint.",
                    "traceback": []
                },
                {
                    "output_type": "display_data",
                    "data": {
                        "text/html": "Total execution time: 00:00:00.025"
                    },
                    "metadata": {}
                }
            ],
            "execution_count": 2
        }
    ]
}