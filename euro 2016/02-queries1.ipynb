{
    "metadata": {
        "kernelspec": {
            "name": "SQL",
            "display_name": "SQL",
            "language": "sql"
        },
        "language_info": {
            "name": "sql",
            "version": ""
        }
    },
    "nbformat_minor": 2,
    "nbformat": 4,
    "cells": [
        {
            "cell_type": "markdown",
            "source": [
                "# TASK 1. Basic Queries"
            ],
            "metadata": {
                "azdata_cell_guid": "e10bd3f8-f345-47e0-bb38-4bc6c21f2f24"
            },
            "attachments": {}
        },
        {
            "cell_type": "code",
            "source": [
                "use SOCCER_DB"
            ],
            "metadata": {
                "azdata_cell_guid": "e6361889-5e5b-4ac4-8ced-6946961532fc",
                "language": "sql"
            },
            "outputs": [],
            "execution_count": null
        },
        {
            "cell_type": "markdown",
            "source": [
                "1. From the soccer\\_venue table, count the number of venues for EURO cup 2016. Return number of venues."
            ],
            "metadata": {
                "azdata_cell_guid": "bafab0cd-fdf3-47b3-96f1-5157ee1013ba"
            },
            "attachments": {}
        },
        {
            "cell_type": "code",
            "source": [
                ""
            ],
            "metadata": {
                "azdata_cell_guid": "df722ff2-286c-4f1f-8560-d549a8afa491",
                "language": "sql"
            },
            "outputs": [],
            "execution_count": null
        },
        {
            "cell_type": "markdown",
            "source": [
                "2\\. Write a query in SQL to find the number countries participated in the EURO cup 2016. (player\\_mast)"
            ],
            "metadata": {
                "azdata_cell_guid": "1e6caec3-c29e-4e18-a8c1-92848d86198d"
            },
            "attachments": {}
        },
        {
            "cell_type": "code",
            "source": [
                ""
            ],
            "metadata": {
                "azdata_cell_guid": "fdb18b9e-f663-406f-b633-7c6d7d57fe98",
                "language": "sql"
            },
            "outputs": [],
            "execution_count": null
        },
        {
            "cell_type": "markdown",
            "source": [
                "3\\. Write a query in SQL to find the number goals scored in EURO cup 2016 within normal play schedule.(goal\\_details)"
            ],
            "metadata": {
                "azdata_cell_guid": "19276222-ce23-4706-82b4-a06de076a9ee"
            },
            "attachments": {}
        },
        {
            "cell_type": "code",
            "source": [
                ""
            ],
            "metadata": {
                "azdata_cell_guid": "f573782b-6863-4486-a49b-78081e401df2",
                "language": "sql"
            },
            "outputs": [],
            "execution_count": null
        },
        {
            "cell_type": "markdown",
            "source": [
                "4\\. Write a query in SQL to find the number of matches ended with a result. (match\\_mast)"
            ],
            "metadata": {
                "azdata_cell_guid": "fe59a1be-1716-4ab1-83a8-0ca46575791d"
            },
            "attachments": {}
        },
        {
            "cell_type": "code",
            "source": [
                ""
            ],
            "metadata": {
                "azdata_cell_guid": "64a3a150-af94-4387-a647-357db1b7e616",
                "language": "sql"
            },
            "outputs": [],
            "execution_count": null
        },
        {
            "cell_type": "markdown",
            "source": [
                "5\\. Write a query in SQL to find the number of matches ended with draws. (match\\_mast)"
            ],
            "metadata": {
                "azdata_cell_guid": "5ab0b867-ce78-41cd-ba61-150fe216a87a"
            },
            "attachments": {}
        },
        {
            "cell_type": "code",
            "source": [
                ""
            ],
            "metadata": {
                "azdata_cell_guid": "bf605702-ac8b-4569-87a4-952b1b8f728f",
                "language": "sql"
            },
            "outputs": [],
            "execution_count": null
        },
        {
            "cell_type": "markdown",
            "source": [
                "6\\. Write a query in SQL to find the date when did Football EURO cup 2016 begin.(match\\_mast)"
            ],
            "metadata": {
                "language": "sql",
                "azdata_cell_guid": "2203f7d3-9cba-460f-991d-5f73d0530286"
            },
            "attachments": {}
        },
        {
            "cell_type": "code",
            "source": [
                ""
            ],
            "metadata": {
                "language": "sql",
                "azdata_cell_guid": "27fc8bb6-c260-4ea2-85c3-013c225f0653"
            },
            "outputs": [],
            "execution_count": null
        },
        {
            "cell_type": "markdown",
            "source": [
                "7\\. Write a query in SQL to find the number of self-goals scored in EURO cup 2016.( goal\\_details)"
            ],
            "metadata": {
                "language": "sql",
                "azdata_cell_guid": "fce18c77-901a-42a7-9f31-bf082b9e556b"
            },
            "attachments": {}
        },
        {
            "cell_type": "code",
            "source": [
                ""
            ],
            "metadata": {
                "language": "sql",
                "azdata_cell_guid": "59fe5068-7ec8-4d1d-92f0-bf441972e366"
            },
            "outputs": [],
            "execution_count": null
        },
        {
            "cell_type": "markdown",
            "source": [
                "8\\. Write a query in SQL to count the number of matches ended with a results in group stage. (match\\_mast)"
            ],
            "metadata": {
                "language": "sql",
                "azdata_cell_guid": "7e3e6844-8763-403a-a696-9d9b608c3919"
            },
            "attachments": {}
        },
        {
            "cell_type": "code",
            "source": [
                ""
            ],
            "metadata": {
                "language": "sql",
                "azdata_cell_guid": "dcadbfdf-8a81-4751-b8f1-1838e4992c0e"
            },
            "outputs": [],
            "execution_count": null
        },
        {
            "cell_type": "markdown",
            "source": [
                "9\\. Write a query in SQL to find the number of matches got a result by penalty shootout. (penalty\\_shootout)"
            ],
            "metadata": {
                "language": "sql",
                "azdata_cell_guid": "fefcc26e-c438-410e-a3a6-437ee218e5af"
            },
            "attachments": {}
        },
        {
            "cell_type": "code",
            "source": [
                ""
            ],
            "metadata": {
                "language": "sql",
                "azdata_cell_guid": "aff25b61-fe20-4097-9245-61f8323b5e85"
            },
            "outputs": [],
            "execution_count": null
        },
        {
            "cell_type": "markdown",
            "source": [
                "10\\. Write a query in SQL to find the number of matches were decided on penalties in the Round of 16. (match\\_mast)"
            ],
            "metadata": {
                "language": "sql",
                "azdata_cell_guid": "b258aee6-95f9-49cb-b824-04e43f22c404"
            },
            "attachments": {}
        },
        {
            "cell_type": "code",
            "source": [
                ""
            ],
            "metadata": {
                "language": "sql",
                "azdata_cell_guid": "1b2ebd6f-15b4-407d-af85-7aded7838a2f"
            },
            "outputs": [],
            "execution_count": null
        },
        {
            "cell_type": "markdown",
            "source": [
                "11\\. Write a query in SQL to find the number of goal scored in every match within normal play schedule. (goal\\_details)"
            ],
            "metadata": {
                "language": "sql",
                "azdata_cell_guid": "4c36e830-a882-4578-8f5b-abe30c8ff96c"
            },
            "attachments": {}
        },
        {
            "cell_type": "code",
            "source": [
                ""
            ],
            "metadata": {
                "language": "sql",
                "azdata_cell_guid": "90a592c3-c44b-4bc0-a565-7e85c2896060"
            },
            "outputs": [],
            "execution_count": null
        },
        {
            "cell_type": "markdown",
            "source": [
                "12\\. Write a query in SQL to find the match no, date of play, and goal scored for that match in which no stoppage time have been added in 1st half of play. (match\\_mast)"
            ],
            "metadata": {
                "language": "sql",
                "azdata_cell_guid": "6db22dcc-e7e9-479d-b744-5beff7025212"
            },
            "attachments": {}
        },
        {
            "cell_type": "code",
            "source": [
                ""
            ],
            "metadata": {
                "language": "sql",
                "azdata_cell_guid": "d8696f89-5a97-4b67-8bab-6d0e023a2509"
            },
            "outputs": [],
            "execution_count": null
        },
        {
            "cell_type": "markdown",
            "source": [
                "13\\. Write a query in SQL to find the number of matches ending with a goalless draw in group stage of play. (match\\_details)"
            ],
            "metadata": {
                "language": "sql",
                "azdata_cell_guid": "af72d930-431f-4dbe-a72d-6cac599fb684"
            },
            "attachments": {}
        },
        {
            "cell_type": "code",
            "source": [
                ""
            ],
            "metadata": {
                "language": "sql",
                "azdata_cell_guid": "ed1ed7c3-c61e-494b-aa1a-b159efd8ef31"
            },
            "outputs": [],
            "execution_count": null
        },
        {
            "cell_type": "markdown",
            "source": [
                "14\\. Write a query in SQL to find the number of matches ending with only one goal win except those matches which was decided by penalty shootout.(match\\_details)"
            ],
            "metadata": {
                "language": "sql",
                "azdata_cell_guid": "eecadc2e-db81-4421-bd53-b733561428c1"
            },
            "attachments": {}
        },
        {
            "cell_type": "code",
            "source": [
                ""
            ],
            "metadata": {
                "language": "sql",
                "azdata_cell_guid": "b25f90fc-bf0d-4f86-bbd9-f4770addfbfa"
            },
            "outputs": [],
            "execution_count": null
        },
        {
            "cell_type": "markdown",
            "source": [
                "15\\. Write a query in SQL to find the total number of players replaced in the tournament. (player\\_in\\_out)"
            ],
            "metadata": {
                "language": "sql",
                "azdata_cell_guid": "44f5d6d2-c480-4518-93f5-769f0369ed70"
            },
            "attachments": {}
        },
        {
            "cell_type": "code",
            "source": [
                ""
            ],
            "metadata": {
                "language": "sql",
                "azdata_cell_guid": "cb44f7a9-ed57-46e0-9a03-f9eb8aa4f76a"
            },
            "outputs": [],
            "execution_count": null
        },
        {
            "cell_type": "markdown",
            "source": [
                "16\\. Write a query in SQL to find the total number of palyers replaced within normal time of play.(player\\_in\\_out)"
            ],
            "metadata": {
                "language": "sql",
                "azdata_cell_guid": "a07780bc-5cdb-4c2e-ba14-1ff04770d31c"
            },
            "attachments": {}
        },
        {
            "cell_type": "code",
            "source": [
                ""
            ],
            "metadata": {
                "language": "sql",
                "azdata_cell_guid": "fbfaef96-ee04-4865-824c-1f8f644c8ad7"
            },
            "outputs": [],
            "execution_count": null
        },
        {
            "cell_type": "markdown",
            "source": [
                "17\\. Write a query in SQL to find the number of players replaced in the stoppage time. (player\\_in\\_out)"
            ],
            "metadata": {
                "language": "sql",
                "azdata_cell_guid": "42a4dba8-9b94-43c1-ba5a-9240b9d3fd51"
            },
            "attachments": {}
        },
        {
            "cell_type": "code",
            "source": [
                ""
            ],
            "metadata": {
                "language": "sql",
                "azdata_cell_guid": "b2add448-3ad3-4583-9fe1-cf613bfd5f7b"
            },
            "outputs": [],
            "execution_count": null
        },
        {
            "cell_type": "markdown",
            "source": [
                "18\\. Write a query in SQL to find the total number of players replaced in the first half of play. (player\\_in\\_out)"
            ],
            "metadata": {
                "language": "sql",
                "azdata_cell_guid": "e515bc39-22a1-4804-867d-498510ae5c80"
            },
            "attachments": {}
        },
        {
            "cell_type": "code",
            "source": [
                ""
            ],
            "metadata": {
                "language": "sql",
                "azdata_cell_guid": "33f09db8-4fab-4308-91ab-c7c9585c5e70"
            },
            "outputs": [],
            "execution_count": null
        },
        {
            "cell_type": "markdown",
            "source": [
                "19\\. Write a query in SQL to find the total number of goalless draws have there in the entire tournament. (match\\_details)"
            ],
            "metadata": {
                "language": "sql",
                "azdata_cell_guid": "59ebe565-1de3-464a-9351-45f39b6b5682"
            },
            "attachments": {}
        },
        {
            "cell_type": "code",
            "source": [
                ""
            ],
            "metadata": {
                "language": "sql",
                "azdata_cell_guid": "331a6ecf-04c2-42e4-b991-8fcaea5785e3"
            },
            "outputs": [],
            "execution_count": null
        },
        {
            "cell_type": "markdown",
            "source": [
                "20\\. Write a query in SQL to fine the total number of players replaced in the extra time of play. (player\\_in\\_out)"
            ],
            "metadata": {
                "language": "sql",
                "azdata_cell_guid": "7eda2fe2-c571-4bc6-ad12-d1fc097332e7"
            },
            "attachments": {}
        },
        {
            "cell_type": "code",
            "source": [
                ""
            ],
            "metadata": {
                "language": "sql",
                "azdata_cell_guid": "2318f733-bebc-4f84-a295-6df3f7d504b9"
            },
            "outputs": [],
            "execution_count": null
        },
        {
            "cell_type": "markdown",
            "source": [
                "21\\. Write a query in SQL to compute a list to show the number of substitute happened in various stage of play for the entire tournament. (player\\_in\\_out)"
            ],
            "metadata": {
                "language": "sql",
                "azdata_cell_guid": "a8faa3b8-bf70-4c3e-b816-96876aa8d566"
            },
            "attachments": {}
        },
        {
            "cell_type": "code",
            "source": [
                ""
            ],
            "metadata": {
                "language": "sql",
                "azdata_cell_guid": "fc072e63-7827-40f4-93d6-bfac8f7bfe6b"
            },
            "outputs": [],
            "execution_count": null
        },
        {
            "cell_type": "markdown",
            "source": [
                "22\\. Write a query in SQL to find the number of shots taken in penalty shootout matches.(penalty\\_shootout)"
            ],
            "metadata": {
                "language": "sql",
                "azdata_cell_guid": "14467e94-4156-4b2a-a73a-7e4ce376cfbb"
            },
            "attachments": {}
        },
        {
            "cell_type": "code",
            "source": [
                ""
            ],
            "metadata": {
                "language": "sql",
                "azdata_cell_guid": "fb4ff435-4f91-48c7-93c5-a74641d0368d"
            },
            "outputs": [],
            "execution_count": null
        },
        {
            "cell_type": "markdown",
            "source": [
                "23\\. Write a query in SQL to find the number of shots socred goal in penalty shootout matches. (penalty\\_shootout)"
            ],
            "metadata": {
                "language": "sql",
                "azdata_cell_guid": "73c33d10-9a77-40d1-8abb-bac0c146cf6c"
            },
            "attachments": {}
        },
        {
            "cell_type": "code",
            "source": [
                ""
            ],
            "metadata": {
                "language": "sql",
                "azdata_cell_guid": "e299758e-479c-4021-99c5-d53af8a5fb3b"
            },
            "outputs": [],
            "execution_count": null
        },
        {
            "cell_type": "markdown",
            "source": [
                "24\\. Write a query in SQL to find the number of shots missed or saved in penalty shootout matches. (penalty\\_shootout)"
            ],
            "metadata": {
                "language": "sql",
                "azdata_cell_guid": "3a4a83dd-f90b-42e7-8f38-c9e0f09cca7e"
            },
            "attachments": {}
        },
        {
            "cell_type": "code",
            "source": [
                ""
            ],
            "metadata": {
                "language": "sql",
                "azdata_cell_guid": "80db5ab1-b343-4bdf-850a-0777e4e3e6be"
            },
            "outputs": [],
            "execution_count": null
        },
        {
            "cell_type": "markdown",
            "source": [
                "25\\. Write a query in SQL to prepare a list of players with number of shots they taken in penalty shootout matches. \n",
                "\n",
                "(Sample table: soccer\\_country, penalty\\_shootout, player\\_mast)"
            ],
            "metadata": {
                "language": "sql",
                "azdata_cell_guid": "b798518a-97c8-4827-92ce-bc20f187a463"
            },
            "attachments": {}
        },
        {
            "cell_type": "code",
            "source": [
                ""
            ],
            "metadata": {
                "language": "sql",
                "azdata_cell_guid": "83c58dfa-bf3c-4903-8cc8-8dfbb9d48c69"
            },
            "outputs": [],
            "execution_count": null
        },
        {
            "cell_type": "markdown",
            "source": [
                "26\\. Write a query in SQL to find the number of penalty shots taken by the teams. (soccer\\_country, penalty\\_shootout)"
            ],
            "metadata": {
                "azdata_cell_guid": "5989031e-6ac9-45bc-87c7-1fcf2a76709a"
            },
            "attachments": {}
        },
        {
            "cell_type": "code",
            "source": [
                ""
            ],
            "metadata": {
                "azdata_cell_guid": "cff54b62-e077-45d1-9edb-a64e3620b643",
                "language": "sql"
            },
            "outputs": [],
            "execution_count": null
        },
        {
            "cell_type": "markdown",
            "source": [
                "27\\. Write a query in SQL to find the number of booking happened in each half of play within normal play schedule. (player\\_booked)"
            ],
            "metadata": {
                "language": "sql",
                "azdata_cell_guid": "361f7623-632b-4145-b62a-d79e9cce1c21"
            },
            "attachments": {}
        },
        {
            "cell_type": "code",
            "source": [
                ""
            ],
            "metadata": {
                "language": "sql",
                "azdata_cell_guid": "6279243d-3a1f-4f91-b800-74a8b29f736e"
            },
            "outputs": [],
            "execution_count": null
        },
        {
            "cell_type": "markdown",
            "source": [
                "28\\. Write a query in SQL to find the number of booking happened in stoppage time. (player\\_booked)"
            ],
            "metadata": {
                "language": "sql",
                "azdata_cell_guid": "e37480f5-3566-4aa2-9511-b93937ed72ad"
            },
            "attachments": {}
        },
        {
            "cell_type": "code",
            "source": [
                ""
            ],
            "metadata": {
                "language": "sql",
                "azdata_cell_guid": "fef2d190-bac5-4be3-ad62-903cebb60645"
            },
            "outputs": [],
            "execution_count": null
        },
        {
            "cell_type": "markdown",
            "source": [
                "29\\. Write a query in SQL to find the number of booking happened in extra time. (player\\_booked)"
            ],
            "metadata": {
                "azdata_cell_guid": "15ff71fc-c344-4549-9784-a54abf974848"
            },
            "attachments": {}
        },
        {
            "cell_type": "code",
            "source": [
                ""
            ],
            "metadata": {
                "language": "sql",
                "azdata_cell_guid": "68b27c1b-72df-49b4-a17f-f001c75503e2"
            },
            "outputs": [],
            "execution_count": null
        }
    ]
}