{
    "metadata": {
        "kernelspec": {
            "name": "SQL",
            "display_name": "SQL",
            "language": "sql"
        },
        "language_info": {
            "name": "sql",
            "version": ""
        }
    },
    "nbformat_minor": 2,
    "nbformat": 4,
    "cells": [
        {
            "cell_type": "markdown",
            "source": [
                "# RESTORE DATABASE"
            ],
            "metadata": {
                "azdata_cell_guid": "de418d5f-a6d6-406e-a4d6-d37ed1a1f7d8"
            },
            "attachments": {}
        },
        {
            "cell_type": "code",
            "source": [
                "use master"
            ],
            "metadata": {
                "azdata_cell_guid": "7754545f-76a3-4204-a5ee-e3f94c3b0fb4",
                "language": "sql"
            },
            "outputs": [],
            "execution_count": null
        },
        {
            "cell_type": "code",
            "source": [
                "create database SOCCER_DB"
            ],
            "metadata": {
                "language": "sql",
                "azdata_cell_guid": "e144d39f-7e13-418c-8a6b-8c89592d4868"
            },
            "outputs": [],
            "execution_count": null
        },
        {
            "cell_type": "markdown",
            "source": [
                "На наступному етапі Ви можете або зробити `restore` бази даних з файлу `.bak` або виконати файл `00-restore-database.sql`."
            ],
            "metadata": {
                "language": "",
                "azdata_cell_guid": "dc7e2c21-ea1e-449d-9629-7768259d36c3"
            },
            "attachments": {}
        }
    ]
}