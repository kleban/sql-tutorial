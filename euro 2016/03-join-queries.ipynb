{
    "metadata": {
        "kernelspec": {
            "name": "SQL",
            "display_name": "SQL",
            "language": "sql"
        },
        "language_info": {
            "name": "sql",
            "version": ""
        }
    },
    "nbformat_minor": 2,
    "nbformat": 4,
    "cells": [
        {
            "cell_type": "markdown",
            "source": [
                "# JOIN PRACTICE"
            ],
            "metadata": {
                "azdata_cell_guid": "ba1816bb-f118-48ec-8f66-8052db1614e6"
            },
            "attachments": {}
        },
        {
            "cell_type": "markdown",
            "source": [
                "1. Write a query in SQL to find the name of the venue with city where the EURO cup 2016 final match was played. (soccer_venue, soccer_city, match_mast)\r\n",
                "2. Write a query in SQL to find the number of goal scored by each team in every match within normal play schedule.  (match_details, soccer_country)\r\n",
                "3. Write a query in SQL to find the total number of goals scored by each player within normal play schedule and arrange the result set according to the heighest to lowest scorer.  (goal_details, player_mast, soccer_country)\r\n",
                "4. Write a query in SQL to find the highest individual scorer in EURO cup 2016.  (goal_details, player_mast, soccer_country)5. Write a query in SQL to find the scorer of only goal along with his country and jersey number in the final of EURO cup 2016.  (goal_details,, player_mast, soccer_country)\r\n",
                "6. Write a query in SQL to find the country where Football EURO cup 2016 held.  (soccer_country, soccer_city, soccer_venue)\r\n",
                "7. Write a query in SQL to find the player who socred first goal of EURO cup 2016.  (soccer_country, player_mast, goal_details)\r\n",
                "8. Write a query in SQL to find the name and country of the referee who managed the opening match.  (soccer_country, match_mast, referee_mast)\r\n",
                "9. Write a query in SQL to find the name and country of the referee who managed the final match.  (soccer_country, match_mast, referee_mast)\r\n",
                "10. Write a query in SQL to find the name and country of the referee who assisted the referee in the opening match.  (asst_referee_mast, soccer_country, match_details)\r\n",
                "11. Write a query in SQL to find the name and country of the referee who assisted the referee in the final match.  (asst_referee_mast, soccer_country, match_details)\r\n",
                "12. Write a query in SQL to find the city where the opening match of EURO cup 2016 played.  (soccer_venue, soccer_city, match_mast)\r\n",
                "13. Write a query in SQL to find the stadium hosted the final match of EURO cup 2016 along with the capacity, and audance for that match.  (soccer_venue, soccer_city, match_mast)\r\n",
                "14. Write a query in SQL to compute a report that contain the number of matches played in each venue along with their city.  (soccer_venue, soccer_city, match_mast)\r\n",
                "15. Write a query in SQL to find the player who was the first player to be sent off at the tournament EURO cup 2016.  ( player_booked, player_mast, soccer_country)\r\n",
                "16. Write a query in SQL to find the teams that scored only one goal to the torunament.  (soccer_team, soccer_country)\r\n",
                "17. Write a query in SQL to find the yellow cards received by each country. (soccer_country, player_booked)\r\n",
                "18. Write a query in SQL to find the venue with number of goals that has seen. (soccer_country, goal_details, match_mast, soccer_venue)\r\n",
                "19. Write a query in SQL to find the match where no stoppage time added in 1st half of play. (match_details, match_mast, soccer_country)\r\n",
                "20. Write a query in SQL to find the team(s) who conceded the most goals in EURO cup 2016. (soccer_team, soccer_country)\r\n",
                "21. Write a query in SQL to find the match where highest stoppege time added in 2nd half of play. (match_details, match_mast, soccer_country)\r\n",
                "22. Write a query in SQL to find the matchs ending with a goalless draw in group stage of play. (match_details, soccer_country)\r\n",
                "23. Write a query in SQL to find the match no. and the teams played in that match where the 2nd highest stoppage time had been added in the 2nd half of play. (match_mast, match_details, soccer_country)\r\n",
                "24. Write a query in SQL to find the player and his team and how many matches he kept goal for his team.  (player_mast, match_details, soccer_country)\r\n",
                "25. Write a query in SQL to find the venue that has seen the most goals.  (goal_details, soccer_country, match_mast, soccer_venue)\r\n",
                "26. Write a query in SQL to find the oldest player to have appeared in a EURO cup 2016 match.  (player_mast, soccer_country)\r\n",
                "27. Write a query in SQL to find those two teams which scored three goals in a single game at this tournament.  (match_details, soccer_country)\r\n",
                "28. Write a query in SQL to find the teams with other information that finished bottom of their respective groups after conceding four times in three games.  (soccer_team, soccer_country)\r\n",
                "29. Write a query in SQL to find those three players with other information, who contracted to Lyon participated in the EURO cup 2016 Finals.  (player_mast, soccer_country, match_details)\r\n",
                "30. Write a query in SQL to find the final four teams in the tournament.  (soccer_country, match_details)\r\n",
                "31. Write a query in SQL to find the captains for the top four teams with other information which participated in the semifinals (match 48 and 49) in the tournament. (soccer_country, match_captain, player_mast)\r\n",
                "32. Write a query in SQL to find the captains with other information for all the matches in the tournament.  (soccer_country, match_captain, player_mast)\r\n",
                "33. Write a query in SQL to find the captain and goal keeper with other information for all the matches for all the team.  (soccer_country, match_captain, match_details, player_mast)\r\n",
                "34. Write a query in SQL to find the player who was selected for the Man of the Match Award in the finals of EURO cup 2016.  (soccer_country, match_mast, player_mast)\r\n",
                "35. Write a query in SQL to find the substitute players who came into the field in the first half of play within normal play schedule.  (player_in_out, player_mast, soccer_country)\r\n",
                "36. Write a query in SQL to prepare a list for the player of the match against each match.  (match_mast, player_mast, soccer_country)\r\n",
                "37. Write a query in SQL to find the player along with his country who taken the penalty shot number 26.  (penalty_shootout, player_mast, soccer_country)\r\n",
                "38. Write a query in SQL to find the team against which the penalty shot number 26 had been taken. (penalty_shootout, soccer_country)\r\n",
                "39. Write a query in SQL to find the captain who was also the goalkeeper. (match_captain, soccer_country, player_mast)\r\n",
                "40. Write a query in SQL to find the number of captains who was also the goalkeeper.  (match_captain, player_mast, soccer_country)\r\n",
                "41. Write a query in SQL to find the players along with their team booked number of times in the tournament. Show the result according to the team and number of times booked in descending order.  ( soccer_country, player_booked, player_mast)\r\n",
                "42. Write a query in SQL to find the players who booked most number of times.  (soccer_country, player_booked, player_mast)\r\n",
                "43. Write a query in SQL to find the number of players booked for each team.  (soccer_country, player_booked)\r\n",
                "44. Write a query in SQL to find the most number of cards shown in the matches.  (soccer_country, player_booked, player_mast)\r\n",
                "45. Write a query in SQL to list the name of assistant referees with their countries for each matches.  (match_details, asst_referee_mast, soccer_country)\r\n",
                "46. Write a query in SQL to find the assistant referees of each countries assists the number of matches. (match_details, asst_referee_mast, soccer_country)\r\n",
                "47. Write a query in SQL to find the countries from where the assistant referees assist most of the matches. (match_details, asst_referee_mast, soccer_country)\r\n",
                "48. Write a query in SQL to list the name of referees with their countries for each match.  (match_mast, referee_mast, soccer_country)\r\n",
                "49. Write a query in SQL to find the referees of each country managed number of matches. (match_mast, referee_mast, soccer_country)\r\n",
                "50. Write a query in SQL to find the countries from where the referees managed most of the matches.  (match_mast, referee_mast, soccer_country)\r\n",
                "51. Write a query in SQL to find the referees managed the number of matches. (match_mast, referee_mast, soccer_country)\r\n",
                "52. Write a query in SQL to find those referees who managed most of the match.  ( match_mast, referee_mast, soccer_country)\r\n",
                "53. Write a query in SQL to find the referees managed the number of matches in each venue.  (match_mast, referee_mast, soccer_country, soccer_venue)\r\n",
                "54. Write a query in SQL to find the referees and number of booked he made. (player_booked, match_mast, referee_mast)\r\n",
                "55. Write a query in SQL to find the referees who booked most number of players.  (player_booked, match_mast, referee_mast)\r\n",
                "56. Write a query in SQL to find the player of each team who wear jersey number 10.  (player_mast, soccer_country)\r\n",
                "57. Write a query in SQL to find the defender who scored goal for his team.  (goal_details, player_mast, soccer_country)\r\n",
                "58. Write a query in SQL to find the position of a player to play who scored own goal.  (goal_details, player_mast, soccer_country)\r\n",
                "59. Write a query in SQL to find the results of penalty shootout matches. (match_details, soccer_country)\r\n",
                "60. Write a query in SQL to find the goal scored by the players according to their playing position.  (goal_details, player_mast, soccer_country)\r\n",
                "61. Write a query in SQL to find those players who came into the field in the most last time of play.  (player_in_out, player_mast, soccer_country)"
            ],
            "metadata": {
                "azdata_cell_guid": "dc333582-95fb-4a8e-a03a-c3ad1085e228"
            },
            "attachments": {}
        }
    ]
}