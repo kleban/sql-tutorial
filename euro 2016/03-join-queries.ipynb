{
    "metadata": {
        "kernelspec": {
            "name": "SQL",
            "display_name": "SQL",
            "language": "sql"
        },
        "language_info": {
            "name": "sql",
            "version": ""
        }
    },
    "nbformat_minor": 2,
    "nbformat": 4,
    "cells": [
        {
            "cell_type": "markdown",
            "source": [
                "# JOIN PRACTICE"
            ],
            "metadata": {
                "azdata_cell_guid": "ba1816bb-f118-48ec-8f66-8052db1614e6"
            },
            "attachments": {}
        }
    ]
}