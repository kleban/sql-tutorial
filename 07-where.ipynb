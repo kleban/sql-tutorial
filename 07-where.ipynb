{
    "metadata": {
        "kernelspec": {
            "name": "SQL",
            "display_name": "SQL",
            "language": "sql"
        },
        "language_info": {
            "name": "sql",
            "version": ""
        }
    },
    "nbformat_minor": 2,
    "nbformat": 4,
    "cells": [
        {
            "cell_type": "markdown",
            "source": [
                "# WHERE"
            ],
            "metadata": {
                "azdata_cell_guid": "43a5e2ee-4754-4289-898c-dec796b191d5"
            },
            "attachments": {}
        },
        {
            "cell_type": "code",
            "source": [
                "SELECT \r\n",
                "    column1, column2, ...\r\n",
                "FROM\r\n",
                "    table_name\r\n",
                "WHERE\r\n",
                "    condition;"
            ],
            "metadata": {
                "azdata_cell_guid": "f802c78a-173b-45c1-966e-d3feee233b49",
                "language": "sql"
            },
            "outputs": [],
            "execution_count": null
        },
        {
            "cell_type": "markdown",
            "source": [
                "---"
            ],
            "metadata": {
                "language": "sql",
                "azdata_cell_guid": "d911f1ca-22ba-4310-b41d-0f5380b6a6cc"
            },
            "attachments": {}
        },
        {
            "cell_type": "code",
            "source": [
                "use hr_db"
            ],
            "metadata": {
                "azdata_cell_guid": "1805509e-3461-462e-83a7-c41a3800b227",
                "language": "sql"
            },
            "outputs": [],
            "execution_count": 2
        },
        {
            "cell_type": "code",
            "source": [
                "SELECT\r\n",
                "\temployee_id,\r\n",
                "\tfirst_name,\r\n",
                "\tlast_name,\r\n",
                "\tsalary\r\n",
                "FROM\r\n",
                "\temployees\r\n",
                "WHERE\r\n",
                "\tsalary > 14000\r\n",
                "ORDER BY\r\n",
                "\tsalary DESC;"
            ],
            "metadata": {
                "language": "sql",
                "azdata_cell_guid": "7132f4f2-459f-45b3-9964-258f857b88f3"
            },
            "outputs": [],
            "execution_count": 3
        },
        {
            "cell_type": "code",
            "source": [
                "SELECT\r\n",
                "\temployee_id,\r\n",
                "\tfirst_name,\r\n",
                "\tlast_name,\r\n",
                "\tdepartment_id\r\n",
                "FROM\r\n",
                "\temployees\r\n",
                "WHERE\r\n",
                "\tdepartment_id = 5\r\n",
                "ORDER BY\r\n",
                "\tfirst_name;"
            ],
            "metadata": {
                "language": "sql",
                "azdata_cell_guid": "7eb105e0-8c1c-45e2-a602-98a6c1739968"
            },
            "outputs": [],
            "execution_count": 4
        },
        {
            "cell_type": "code",
            "source": [
                "SELECT\r\n",
                "\temployee_id,\r\n",
                "\tfirst_name,\r\n",
                "\tlast_name\r\n",
                "FROM\r\n",
                "\temployees\r\n",
                "WHERE\r\n",
                "\tlast_name = 'Chen';"
            ],
            "metadata": {
                "language": "sql",
                "azdata_cell_guid": "2a34f9f8-d39b-4ad9-aa09-6561563e34fd"
            },
            "outputs": [],
            "execution_count": 5
        },
        {
            "cell_type": "code",
            "source": [
                "SELECT\r\n",
                "\temployee_id,\r\n",
                "\tfirst_name,\r\n",
                "\tlast_name,\r\n",
                "\thire_date\r\n",
                "FROM\r\n",
                "\temployees\r\n",
                "WHERE\r\n",
                "\thire_date >= '1999-01-01'\r\n",
                "ORDER BY\r\n",
                "\thire_date DESC;"
            ],
            "metadata": {
                "language": "sql",
                "azdata_cell_guid": "615fb761-336b-494c-b536-b8b2ffbfcd29"
            },
            "outputs": [],
            "execution_count": 6
        },
        {
            "cell_type": "code",
            "source": [
                "SELECT\r\n",
                "\temployee_id,\r\n",
                "\tfirst_name,\r\n",
                "\tlast_name,\r\n",
                "\thire_date\r\n",
                "FROM\r\n",
                "\temployees\r\n",
                "WHERE\r\n",
                "\tYEAR (hire_date) = 1999\r\n",
                "ORDER BY\r\n",
                "\thire_date DESC;"
            ],
            "metadata": {
                "language": "sql",
                "azdata_cell_guid": "12b22362-e5fd-416d-9fb4-ee297487174a"
            },
            "outputs": [],
            "execution_count": 7
        },
        {
            "cell_type": "code",
            "source": [
                "SELECT\r\n",
                "\temployee_id,\r\n",
                "\tfirst_name,\r\n",
                "\tlast_name,\r\n",
                "\thire_date\r\n",
                "FROM\r\n",
                "\temployees\r\n",
                "WHERE\r\n",
                "\tMONTH (hire_date) = 9\r\n",
                "ORDER BY\r\n",
                "\thire_date DESC;"
            ],
            "metadata": {
                "language": "sql",
                "azdata_cell_guid": "f71e5889-93f6-4ae7-bb84-d03483a8f864"
            },
            "outputs": [],
            "execution_count": 8
        },
        {
            "cell_type": "code",
            "source": [
                "SELECT \r\n",
                "    employee_id, first_name, last_name, phone_number\r\n",
                "FROM\r\n",
                "    employees\r\n",
                "WHERE\r\n",
                "    phone_number = NULL; -- not working"
            ],
            "metadata": {
                "language": "sql",
                "azdata_cell_guid": "8bf03364-d151-4d36-a201-7a6e705417b4"
            },
            "outputs": [],
            "execution_count": 13
        },
        {
            "cell_type": "code",
            "source": [
                "SELECT \r\n",
                "    employee_id, first_name, last_name, phone_number\r\n",
                "FROM\r\n",
                "    employees\r\n",
                "WHERE\r\n",
                "    phone_number IS NULL;"
            ],
            "metadata": {
                "language": "sql",
                "azdata_cell_guid": "7b269874-6cf4-45d8-b772-634080e5cfbe"
            },
            "outputs": [],
            "execution_count": 14
        },
        {
            "cell_type": "code",
            "source": [
                "SELECT \r\n",
                "    employee_id, first_name, last_name, department_id\r\n",
                "FROM\r\n",
                "    employees\r\n",
                "WHERE\r\n",
                "    department_id <> 8\r\n",
                "ORDER BY first_name , last_name;"
            ],
            "metadata": {
                "language": "sql",
                "azdata_cell_guid": "8983a510-74f0-4971-996f-e7c4ecc429e5"
            },
            "outputs": [],
            "execution_count": 15
        },
        {
            "cell_type": "code",
            "source": [
                "SELECT \r\n",
                "    employee_id, first_name, last_name, department_id\r\n",
                "FROM\r\n",
                "    employees\r\n",
                "WHERE\r\n",
                "    department_id <> 8\r\n",
                "        AND department_id <> 10\r\n",
                "ORDER BY first_name , last_name; "
            ],
            "metadata": {
                "language": "sql",
                "azdata_cell_guid": "da2b868a-80ac-4c41-b2ca-517967e3b7ad"
            },
            "outputs": [],
            "execution_count": 16
        },
        {
            "cell_type": "markdown",
            "source": [
                "## AND"
            ],
            "metadata": {
                "language": "sql",
                "azdata_cell_guid": "2178a94b-de20-4528-915a-306821c23521"
            },
            "attachments": {}
        },
        {
            "cell_type": "code",
            "source": [
                "SELECT \r\n",
                "    first_name, last_name, salary\r\n",
                "FROM\r\n",
                "    employees\r\n",
                "WHERE\r\n",
                "    salary > 5000 AND salary < 7000\r\n",
                "ORDER BY salary;"
            ],
            "metadata": {
                "language": "sql",
                "azdata_cell_guid": "82eaa9bf-02b1-4d94-97fa-90ec69a89ac4"
            },
            "outputs": [],
            "execution_count": 17
        },
        {
            "cell_type": "markdown",
            "source": [
                "## OR"
            ],
            "metadata": {
                "language": "sql",
                "azdata_cell_guid": "9d6e28cb-be3e-42d3-92f2-30df5018c654"
            },
            "attachments": {}
        },
        {
            "cell_type": "code",
            "source": [
                "SELECT \r\n",
                "    first_name, last_name, salary\r\n",
                "FROM\r\n",
                "    employees\r\n",
                "WHERE\r\n",
                "    salary = 7000 OR salary = 8000\r\n",
                "ORDER BY salary;"
            ],
            "metadata": {
                "language": "sql",
                "azdata_cell_guid": "3729ade4-7024-4fcc-8897-bcb9cb87bd73"
            },
            "outputs": [],
            "execution_count": 18
        },
        {
            "cell_type": "markdown",
            "source": [
                "## BETWEEN"
            ],
            "metadata": {
                "language": "sql",
                "azdata_cell_guid": "43e679be-51d3-4fe4-a856-e981601620b9"
            },
            "attachments": {}
        },
        {
            "cell_type": "code",
            "source": [
                "SELECT \r\n",
                "    first_name, last_name, salary\r\n",
                "FROM\r\n",
                "    employees\r\n",
                "WHERE\r\n",
                "    salary BETWEEN 9000 AND 12000\r\n",
                "ORDER BY salary;  "
            ],
            "metadata": {
                "language": "sql",
                "azdata_cell_guid": "0780f3a1-bb34-4062-b811-cbdf8b442386"
            },
            "outputs": [],
            "execution_count": 19
        },
        {
            "cell_type": "markdown",
            "source": [
                "## IN"
            ],
            "metadata": {
                "language": "sql",
                "azdata_cell_guid": "6572c506-e964-4038-bfc8-f1af6cf1778a"
            },
            "attachments": {}
        },
        {
            "cell_type": "code",
            "source": [
                "SELECT \r\n",
                "    first_name, last_name, department_id\r\n",
                "FROM\r\n",
                "    employees\r\n",
                "WHERE\r\n",
                "    department_id IN (8, 9)\r\n",
                "ORDER BY department_id;"
            ],
            "metadata": {
                "language": "sql",
                "azdata_cell_guid": "d411829d-b884-468d-9442-06971effc1d1"
            },
            "outputs": [],
            "execution_count": 20
        },
        {
            "cell_type": "code",
            "source": [
                "SELECT\r\n",
                "\tfirst_name,\r\n",
                "\tlast_name,\r\n",
                "\thire_date\r\n",
                "FROM\r\n",
                "\temployees\r\n",
                "WHERE\r\n",
                "\tYEAR (hire_date) IN (1990, 1999, 2000)\r\n",
                "ORDER BY\r\n",
                "\thire_date;"
            ],
            "metadata": {
                "language": "sql",
                "azdata_cell_guid": "559ef259-b2a1-43c6-b7d2-92cfe138efe9"
            },
            "outputs": [],
            "execution_count": 29
        },
        {
            "cell_type": "markdown",
            "source": [
                "## LIKE"
            ],
            "metadata": {
                "language": "sql",
                "azdata_cell_guid": "8ef60c6d-8979-4b44-b533-749e521ac643"
            },
            "attachments": {}
        },
        {
            "cell_type": "code",
            "source": [
                "SELECT \r\n",
                "    employee_id, first_name, last_name\r\n",
                "FROM\r\n",
                "    employees\r\n",
                "WHERE\r\n",
                "    first_name LIKE 'jo%' -- % - many symbols, _ - one symbol\r\n",
                "ORDER BY first_name;"
            ],
            "metadata": {
                "language": "sql",
                "azdata_cell_guid": "174242ea-3e25-471e-ba76-150c3fa83d71"
            },
            "outputs": [],
            "execution_count": 21
        },
        {
            "cell_type": "code",
            "source": [
                "SELECT \r\n",
                "    employee_id, first_name, last_name\r\n",
                "FROM\r\n",
                "    employees\r\n",
                "WHERE\r\n",
                "    first_name LIKE '_h%'\r\n",
                "ORDER BY first_name;"
            ],
            "metadata": {
                "language": "sql",
                "azdata_cell_guid": "fdfdce94-b123-4d4a-bd37-daeee15e9964"
            },
            "outputs": [],
            "execution_count": 22
        },
        {
            "cell_type": "markdown",
            "source": [
                "## ALL"
            ],
            "metadata": {
                "language": "sql",
                "azdata_cell_guid": "cb887fc4-ffb3-4c3e-83b9-07871e8c2a2d"
            },
            "attachments": {}
        },
        {
            "cell_type": "code",
            "source": [
                "SELECT \r\n",
                "            salary\r\n",
                "        FROM\r\n",
                "            employees\r\n",
                "        WHERE\r\n",
                "            department_id = 8"
            ],
            "metadata": {
                "language": "sql",
                "azdata_cell_guid": "5a43300f-1667-46b4-871d-396b2b36d19d"
            },
            "outputs": [],
            "execution_count": 24
        },
        {
            "cell_type": "code",
            "source": [
                "SELECT \r\n",
                "    first_name, last_name, salary\r\n",
                "FROM\r\n",
                "    employees\r\n",
                "WHERE\r\n",
                "    salary >= ALL (SELECT \r\n",
                "            salary\r\n",
                "        FROM\r\n",
                "            employees\r\n",
                "        WHERE\r\n",
                "            department_id = 8)\r\n",
                "ORDER BY salary DESC;"
            ],
            "metadata": {
                "language": "sql",
                "azdata_cell_guid": "0ba4015c-a0e6-40f4-9ccf-2a6c416c14a5"
            },
            "outputs": [],
            "execution_count": 25
        },
        {
            "cell_type": "markdown",
            "source": [
                "## ANY"
            ],
            "metadata": {
                "language": "sql",
                "azdata_cell_guid": "2222bc74-8291-43fd-a355-4511fc2a8025"
            },
            "attachments": {}
        },
        {
            "cell_type": "code",
            "source": [
                "SELECT \r\n",
                "    first_name, last_name\r\n",
                "FROM\r\n",
                "    employees e\r\n",
                "WHERE\r\n",
                "    EXISTS( SELECT \r\n",
                "            1\r\n",
                "        FROM\r\n",
                "            dependents d\r\n",
                "        WHERE\r\n",
                "            d.employee_id = e.employee_id);"
            ],
            "metadata": {
                "language": "sql",
                "azdata_cell_guid": "02fdfce2-278b-453d-8348-935690712427"
            },
            "outputs": [],
            "execution_count": 28
        },
        {
            "cell_type": "code",
            "source": [
                "SELECT\r\n",
                "\temployee_id,\r\n",
                "\tfirst_name,\r\n",
                "\tlast_name\r\n",
                "FROM\r\n",
                "\temployees e\r\n",
                "WHERE\r\n",
                "\tNOT EXISTS (\r\n",
                "\t\tSELECT\r\n",
                "\t\t\temployee_id\r\n",
                "\t\tFROM\r\n",
                "\t\t\tdependents d\r\n",
                "\t\tWHERE\r\n",
                "\t\t\td.employee_id = e.employee_id\r\n",
                "\t);"
            ],
            "metadata": {
                "language": "sql",
                "azdata_cell_guid": "086038a4-eb01-4df6-91ea-9fcd0536f467"
            },
            "outputs": [],
            "execution_count": 30
        }
    ]
}